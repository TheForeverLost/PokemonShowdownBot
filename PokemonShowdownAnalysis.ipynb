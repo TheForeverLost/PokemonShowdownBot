{
  "nbformat": 4,
  "nbformat_minor": 0,
  "metadata": {
    "colab": {
      "name": "PokemonShowdownAnalysis.ipynb",
      "provenance": [],
      "collapsed_sections": [],
      "authorship_tag": "ABX9TyPev7KX2dA0bnU6BAfP0NP+",
      "include_colab_link": true
    },
    "kernelspec": {
      "name": "python3",
      "display_name": "Python 3"
    }
  },
  "cells": [
    {
      "cell_type": "markdown",
      "metadata": {
        "id": "view-in-github",
        "colab_type": "text"
      },
      "source": [
        "<a href=\"https://colab.research.google.com/github/TheForeverLost/PokemonShowdownBot/blob/master/PokemonShowdownAnalysis.ipynb\" target=\"_parent\"><img src=\"https://colab.research.google.com/assets/colab-badge.svg\" alt=\"Open In Colab\"/></a>"
      ]
    },
    {
      "cell_type": "code",
      "metadata": {
        "colab_type": "code",
        "id": "2vkO-k2O09pp",
        "colab": {}
      },
      "source": [
        ""
      ],
      "execution_count": 0,
      "outputs": []
    },
    {
      "cell_type": "code",
      "metadata": {
        "id": "Sr0tQFmc584M",
        "colab_type": "code",
        "colab": {}
      },
      "source": [
        "\n",
        "import urllib.request\n",
        "import re\n",
        "import time\n",
        "import pandas as pd\n",
        "import numpy as np\n",
        "import user_agent\n",
        "\n",
        "\n",
        "from bs4 import BeautifulSoup\n",
        "from user_agent import generate_user_agent, generate_navigator\n",
        "from urllib.request import Request, urlopen\n",
        "from random import randint,shuffle\n",
        "from time import sleep"
      ],
      "execution_count": 0,
      "outputs": []
    },
    {
      "cell_type": "code",
      "metadata": {
        "id": "ASyqsrBB6W5D",
        "colab_type": "code",
        "outputId": "8ca1481f-ed48-43c6-8813-1fbf4c6fb627",
        "colab": {
          "base_uri": "https://localhost:8080/",
          "height": 243
        }
      },
      "source": [
        "url = \"https://dex.pokemonshowdown.com/pokemon/bulbasaur\"\n",
        "headers = {'User-Agent': generate_user_agent()}\n",
        "request = Request(url,headers=headers)\n",
        "page = urllib.request.urlopen(request)\n",
        "soup = BeautifulSoup(page, 'html.parser')\n",
        "regex = re.compile(\"pokemon\")\n",
        "[x[\"src\"] for x in soup.find_all(\"script\",attrs={\"src\":regex})]"
      ],
      "execution_count": 0,
      "outputs": [
        {
          "output_type": "execute_result",
          "data": {
            "text/plain": [
              "['//play.pokemonshowdown.com/js/battledata.js?7cc676ef',\n",
              " '//play.pokemonshowdown.com/data/search-index.js?1f5ebb13',\n",
              " '//play.pokemonshowdown.com/data/pokedex.js?00ade8a0',\n",
              " '//play.pokemonshowdown.com/data/teambuilder-tables.js?c6aa1159',\n",
              " '//play.pokemonshowdown.com/data/learnsets-g6.js?6481b487',\n",
              " '//play.pokemonshowdown.com/data/moves.js?af4b9162',\n",
              " '//play.pokemonshowdown.com/data/abilities.js?ad849e13',\n",
              " '//play.pokemonshowdown.com/data/items.js?ffbc6b75',\n",
              " '//play.pokemonshowdown.com/data/formats-data.js?292f193a',\n",
              " '//play.pokemonshowdown.com/data/typechart.js?72ddddb8',\n",
              " '//play.pokemonshowdown.com/data/aliases.js?a976f6e3',\n",
              " '//play.pokemonshowdown.com/js/search.js?5a9683af',\n",
              " '/js/pokedex-pokemon.js?32f1fb3c']"
            ]
          },
          "metadata": {
            "tags": []
          },
          "execution_count": 2
        }
      ]
    },
    {
      "cell_type": "code",
      "metadata": {
        "id": "nrvt81-D7U3Q",
        "colab_type": "code",
        "colab": {}
      },
      "source": [
        "import json"
      ],
      "execution_count": 0,
      "outputs": []
    },
    {
      "cell_type": "code",
      "metadata": {
        "id": "5pECAxEHCAjX",
        "colab_type": "code",
        "colab": {}
      },
      "source": [
        "with open('db.json') as f:\n",
        "  data = json.load(f)\n",
        "data"
      ],
      "execution_count": 0,
      "outputs": []
    },
    {
      "cell_type": "code",
      "metadata": {
        "id": "QhW30kbIKZYt",
        "colab_type": "code",
        "colab": {}
      },
      "source": [
        "df = []\n",
        "pokelist = list(dict.keys(data))\n",
        "for x in pokelist:\n",
        "  df.append(data[x])"
      ],
      "execution_count": 0,
      "outputs": []
    },
    {
      "cell_type": "code",
      "metadata": {
        "id": "3bHDKoqmKdhX",
        "colab_type": "code",
        "colab": {}
      },
      "source": [
        "def flatten_dict(dd, separator ='_', prefix =''): \n",
        "    return { prefix + separator + k if prefix else k : v \n",
        "             for kk, vv in dd.items() \n",
        "             for k, v in flatten_dict(vv, separator, kk).items() \n",
        "             } if isinstance(dd, dict) else { prefix : dd } \n",
        "          "
      ],
      "execution_count": 0,
      "outputs": []
    },
    {
      "cell_type": "code",
      "metadata": {
        "id": "67E-4KTWLsfR",
        "colab_type": "code",
        "colab": {}
      },
      "source": [
        "pokedata = pd.DataFrame()\n",
        "for x in df:\n",
        "  pokedata = pokedata.append(flatten_dict(x) , ignore_index=True)"
      ],
      "execution_count": 0,
      "outputs": []
    },
    {
      "cell_type": "code",
      "metadata": {
        "id": "z36XVqQKN6II",
        "colab_type": "code",
        "outputId": "be11584c-cf84-405e-f92f-3b8253fb16a5",
        "colab": {
          "base_uri": "https://localhost:8080/",
          "height": 424
        }
      },
      "source": [
        "pokedata[[\"species\" , \"types\" , \"evos\" , \"tier\"]]"
      ],
      "execution_count": 0,
      "outputs": [
        {
          "output_type": "execute_result",
          "data": {
            "text/plain": [
              "                  species                types          evos     tier\n",
              "0               Bulbasaur      [Grass, Poison]     [ivysaur]       LC\n",
              "1                 Ivysaur      [Grass, Poison]    [venusaur]      NFE\n",
              "2                Venusaur      [Grass, Poison]           NaN       UU\n",
              "3           Venusaur-Mega      [Grass, Poison]           NaN  Illegal\n",
              "4              Charmander               [Fire]  [charmeleon]       LC\n",
              "...                   ...                  ...           ...      ...\n",
              "1197      Pokestar Spirit        [Dark, Ghost]           NaN  Illegal\n",
              "1198  Pokestar Black Door              [Grass]           NaN  Illegal\n",
              "1199  Pokestar White Door               [Fire]           NaN  Illegal\n",
              "1200  Pokestar Black Belt           [Fighting]           NaN  Illegal\n",
              "1201  Pokestar UFO-PropU2  [Psychic, Electric]           NaN  Illegal\n",
              "\n",
              "[1202 rows x 4 columns]"
            ],
            "text/html": [
              "<div>\n",
              "<style scoped>\n",
              "    .dataframe tbody tr th:only-of-type {\n",
              "        vertical-align: middle;\n",
              "    }\n",
              "\n",
              "    .dataframe tbody tr th {\n",
              "        vertical-align: top;\n",
              "    }\n",
              "\n",
              "    .dataframe thead th {\n",
              "        text-align: right;\n",
              "    }\n",
              "</style>\n",
              "<table border=\"1\" class=\"dataframe\">\n",
              "  <thead>\n",
              "    <tr style=\"text-align: right;\">\n",
              "      <th></th>\n",
              "      <th>species</th>\n",
              "      <th>types</th>\n",
              "      <th>evos</th>\n",
              "      <th>tier</th>\n",
              "    </tr>\n",
              "  </thead>\n",
              "  <tbody>\n",
              "    <tr>\n",
              "      <th>0</th>\n",
              "      <td>Bulbasaur</td>\n",
              "      <td>[Grass, Poison]</td>\n",
              "      <td>[ivysaur]</td>\n",
              "      <td>LC</td>\n",
              "    </tr>\n",
              "    <tr>\n",
              "      <th>1</th>\n",
              "      <td>Ivysaur</td>\n",
              "      <td>[Grass, Poison]</td>\n",
              "      <td>[venusaur]</td>\n",
              "      <td>NFE</td>\n",
              "    </tr>\n",
              "    <tr>\n",
              "      <th>2</th>\n",
              "      <td>Venusaur</td>\n",
              "      <td>[Grass, Poison]</td>\n",
              "      <td>NaN</td>\n",
              "      <td>UU</td>\n",
              "    </tr>\n",
              "    <tr>\n",
              "      <th>3</th>\n",
              "      <td>Venusaur-Mega</td>\n",
              "      <td>[Grass, Poison]</td>\n",
              "      <td>NaN</td>\n",
              "      <td>Illegal</td>\n",
              "    </tr>\n",
              "    <tr>\n",
              "      <th>4</th>\n",
              "      <td>Charmander</td>\n",
              "      <td>[Fire]</td>\n",
              "      <td>[charmeleon]</td>\n",
              "      <td>LC</td>\n",
              "    </tr>\n",
              "    <tr>\n",
              "      <th>...</th>\n",
              "      <td>...</td>\n",
              "      <td>...</td>\n",
              "      <td>...</td>\n",
              "      <td>...</td>\n",
              "    </tr>\n",
              "    <tr>\n",
              "      <th>1197</th>\n",
              "      <td>Pokestar Spirit</td>\n",
              "      <td>[Dark, Ghost]</td>\n",
              "      <td>NaN</td>\n",
              "      <td>Illegal</td>\n",
              "    </tr>\n",
              "    <tr>\n",
              "      <th>1198</th>\n",
              "      <td>Pokestar Black Door</td>\n",
              "      <td>[Grass]</td>\n",
              "      <td>NaN</td>\n",
              "      <td>Illegal</td>\n",
              "    </tr>\n",
              "    <tr>\n",
              "      <th>1199</th>\n",
              "      <td>Pokestar White Door</td>\n",
              "      <td>[Fire]</td>\n",
              "      <td>NaN</td>\n",
              "      <td>Illegal</td>\n",
              "    </tr>\n",
              "    <tr>\n",
              "      <th>1200</th>\n",
              "      <td>Pokestar Black Belt</td>\n",
              "      <td>[Fighting]</td>\n",
              "      <td>NaN</td>\n",
              "      <td>Illegal</td>\n",
              "    </tr>\n",
              "    <tr>\n",
              "      <th>1201</th>\n",
              "      <td>Pokestar UFO-PropU2</td>\n",
              "      <td>[Psychic, Electric]</td>\n",
              "      <td>NaN</td>\n",
              "      <td>Illegal</td>\n",
              "    </tr>\n",
              "  </tbody>\n",
              "</table>\n",
              "<p>1202 rows × 4 columns</p>\n",
              "</div>"
            ]
          },
          "metadata": {
            "tags": []
          },
          "execution_count": 9
        }
      ]
    },
    {
      "cell_type": "code",
      "metadata": {
        "id": "PiIOW2D-Puo1",
        "colab_type": "code",
        "outputId": "22cfbf82-73cb-4ea5-d449-fc53ff23de87",
        "colab": {
          "base_uri": "https://localhost:8080/",
          "height": 382
        }
      },
      "source": [
        "!pip install selenium\n",
        "!apt-get update # to update ubuntu to correctly run apt install\n",
        "!apt install chromium-chromedriver\n",
        "!cp /usr/lib/chromium-browser/chromedriver /usr/bin\n",
        "import sys\n",
        "sys.path.insert(0,'/usr/lib/chromium-browser/chromedriver')\n",
        "from selenium import webdriver\n",
        "chrome_options = webdriver.ChromeOptions()\n",
        "chrome_options.add_argument('--headless')\n",
        "chrome_options.add_argument('--no-sandbox')\n",
        "chrome_options.add_argument('--disable-dev-shm-usage')\n"
      ],
      "execution_count": 0,
      "outputs": [
        {
          "output_type": "stream",
          "text": [
            "Requirement already satisfied: selenium in /usr/local/lib/python3.6/dist-packages (3.141.0)\n",
            "Requirement already satisfied: urllib3 in /usr/local/lib/python3.6/dist-packages (from selenium) (1.24.3)\n",
            "Ign:1 https://developer.download.nvidia.com/compute/cuda/repos/ubuntu1804/x86_64  InRelease\n",
            "Get:2 http://security.ubuntu.com/ubuntu bionic-security InRelease [88.7 kB]\n",
            "Hit:3 https://cloud.r-project.org/bin/linux/ubuntu bionic-cran35/ InRelease\n",
            "Ign:4 https://developer.download.nvidia.com/compute/machine-learning/repos/ubuntu1804/x86_64  InRelease\n",
            "Hit:5 https://developer.download.nvidia.com/compute/cuda/repos/ubuntu1804/x86_64  Release\n",
            "Hit:6 https://developer.download.nvidia.com/compute/machine-learning/repos/ubuntu1804/x86_64  Release\n",
            "Hit:7 http://archive.ubuntu.com/ubuntu bionic InRelease\n",
            "Get:9 http://archive.ubuntu.com/ubuntu bionic-updates InRelease [88.7 kB]\n",
            "Hit:11 http://ppa.launchpad.net/graphics-drivers/ppa/ubuntu bionic InRelease\n",
            "Hit:12 http://ppa.launchpad.net/marutter/c2d4u3.5/ubuntu bionic InRelease\n",
            "Get:13 http://archive.ubuntu.com/ubuntu bionic-backports InRelease [74.6 kB]\n",
            "Fetched 252 kB in 2s (111 kB/s)\n",
            "Reading package lists... Done\n",
            "Reading package lists... Done\n",
            "Building dependency tree       \n",
            "Reading state information... Done\n",
            "chromium-chromedriver is already the newest version (80.0.3987.149-0ubuntu0.18.04.1).\n",
            "0 upgraded, 0 newly installed, 0 to remove and 31 not upgraded.\n",
            "cp: '/usr/lib/chromium-browser/chromedriver' and '/usr/bin/chromedriver' are the same file\n"
          ],
          "name": "stdout"
        }
      ]
    },
    {
      "cell_type": "code",
      "metadata": {
        "id": "IhujHW22OXnC",
        "colab_type": "code",
        "colab": {}
      },
      "source": [
        "from selenium import webdriver\n",
        "from selenium.webdriver.common.keys import Keys\n",
        "import time"
      ],
      "execution_count": 0,
      "outputs": []
    },
    {
      "cell_type": "code",
      "metadata": {
        "id": "w8HWqHGfztUY",
        "colab_type": "code",
        "colab": {}
      },
      "source": [
        "browser = webdriver.Chrome('/home/alan/Documents/nb/pokemon/chromedriver')\n",
        "browser.get(\"https://dex.pokemonshowdown.com/pokemon/\")\n",
        "browser.execute_script(\"window.scrollTo(0,2000)\")\n",
        "time.sleep(3)"
      ],
      "execution_count": 0,
      "outputs": []
    },
    {
      "cell_type": "code",
      "metadata": {
        "id": "yrh2qGN_rori",
        "colab_type": "code",
        "colab": {}
      },
      "source": [
        "names = browser.find_elements_by_xpath(\"/html/body/div[2]/div/div/ul/li/a/span[3]\")\n",
        "dex = []\n",
        "for name in names[:-74]:\n",
        "  dex.append(name.text.lower().replace(\" \", \"\").replace(\"-\", \"\").replace(\".\", \"\"))"
      ],
      "execution_count": 0,
      "outputs": []
    },
    {
      "cell_type": "code",
      "metadata": {
        "id": "AAyM5WeSEKvg",
        "colab_type": "code",
        "outputId": "8c9ca954-8262-4d86-9389-dfd959d2cab1",
        "colab": {
          "base_uri": "https://localhost:8080/",
          "height": 34
        }
      },
      "source": [
        "len(dex)"
      ],
      "execution_count": 0,
      "outputs": [
        {
          "output_type": "execute_result",
          "data": {
            "text/plain": [
              "1127"
            ]
          },
          "metadata": {
            "tags": []
          },
          "execution_count": 4
        }
      ]
    },
    {
      "cell_type": "code",
      "metadata": {
        "id": "CLmzq30Tt94N",
        "colab_type": "code",
        "colab": {}
      },
      "source": [
        "with open(\"dex.txt\",\"w\") as f:\n",
        "  for x in dex:\n",
        "    f.write(\"%s \" % x)"
      ],
      "execution_count": 0,
      "outputs": []
    },
    {
      "cell_type": "code",
      "metadata": {
        "id": "ObRnfeJ7uxxc",
        "colab_type": "code",
        "outputId": "baa46442-d8a2-47f2-c1c0-3cd9398fd05e",
        "colab": {
          "base_uri": "https://localhost:8080/",
          "height": 52
        }
      },
      "source": [
        "with  open(\"dex.txt\",\"r\") as f:\n",
        "  dex = f.read().split()\n",
        "print(len(dex))\n",
        "print(dex[-1])\n"
      ],
      "execution_count": 0,
      "outputs": [
        {
          "output_type": "stream",
          "text": [
            "1127\n",
            "eternatus\n"
          ],
          "name": "stdout"
        }
      ]
    },
    {
      "cell_type": "code",
      "metadata": {
        "id": "d8YMkHhewctc",
        "colab_type": "code",
        "colab": {}
      },
      "source": [
        "from random import shuffle\n",
        "shuffle(dex)\n",
        "from time import sleep"
      ],
      "execution_count": 0,
      "outputs": []
    },
    {
      "cell_type": "code",
      "metadata": {
        "id": "NvxRlThJ50C6",
        "colab_type": "code",
        "colab": {}
      },
      "source": [
        "data = []"
      ],
      "execution_count": 0,
      "outputs": []
    },
    {
      "cell_type": "code",
      "metadata": {
        "id": "qghGUpiiDjFE",
        "colab_type": "code",
        "outputId": "061b8de4-e8d9-468b-e4b9-15833da44a76",
        "colab": {
          "base_uri": "https://localhost:8080/",
          "height": 1000
        }
      },
      "source": [
        "from tqdm import tqdm\n",
        "browser = webdriver.Chrome('chromedriver',chrome_options=chrome_options)\n",
        "for a in tqdm(dex):\n",
        "  browser.get(\"https://dex.pokemonshowdown.com/pokemon/\"+str(a))\n",
        "  print(a)\n",
        "  browser.find_element_by_xpath(\"/html/body/div[2]/div/ul[1]/li[2]/button\").click()\n",
        "  try:\n",
        "    type1 = browser.find_element_by_xpath(\"/html/body/div[2]/div/dl[1]/dd/a[1]\").text \n",
        "  except:\n",
        "    type1 = \"\"\n",
        "  try:\n",
        "    type2 = browser.find_element_by_xpath(\"/html/body/div[2]/div/dl[1]/dd/a[2]\").text \n",
        "  except:\n",
        "    type2 = \"\"\n",
        "\n",
        "  try:\n",
        "    ability1 = browser.find_element_by_xpath(\"/html/body/div[2]/div/dl[3]/dd/a[1]\").text \n",
        "  except:\n",
        "    ability1 = \"\"\n",
        "\n",
        "  try:\n",
        "    ability2 = browser.find_element_by_xpath(\"/html/body/div[2]/div/dl[3]/dd/a[2]\").text \n",
        "  except:\n",
        "    ability2 = \"\"\n",
        "\n",
        "  try:\n",
        "    ability3 = browser.find_element_by_xpath(\"/html/body/div[2]/div/dl[3]/dd/a[3]\").text \n",
        "  except:\n",
        "    ability3 = \"\"\n",
        "\n",
        "  try:\n",
        "    egg_group = browser.find_element_by_xpath(\"/html/body/div[2]/div/dl[5]/dd/a\").text \n",
        "  except:\n",
        "    egg_group = \"\"\n",
        "\n",
        "  try:\n",
        "    tier = browser.find_element_by_xpath(\"/html/body/div[2]/div/a[2]\").text \n",
        "  except:\n",
        "    tier = \"\"  \n",
        "  \n",
        "  try:\n",
        "    stat_table = browser.find_element_by_xpath(\"/html/body/div[2]/div/dl[4]/dd[1]/table/tbody\").text \n",
        "  except:\n",
        "    stat_table = \"\"\n",
        "  \n",
        "  try:\n",
        "    image = browser.find_element_by_xpath(\"/html/body/div[2]/div/ul[2]/li[4]/table[1]/tbody/tr/td[1]/img\").get_attribute(\"src\") \n",
        "  except:\n",
        "    image = \"\"\n",
        "  \n",
        "  try:\n",
        "    weight = browser.find_element_by_xpath(\"/html/body/div[2]/div/dl[2]/dd\").text \n",
        "  except:\n",
        "    weight = \"\"  \n",
        "  data.append({\n",
        "      \"name\" : a,\n",
        "      \"type1\" : type1,\n",
        "      \"type2\" : type2,\n",
        "      \"ability1\" : ability1,\n",
        "      \"ability2\" : ability2,\n",
        "      \"ability3\" : ability3,\n",
        "      \"egg_group\" : egg_group,\n",
        "      \"tier\" : tier,\n",
        "      \"stat_table\" : stat_table,\n",
        "      \"image\" : image,\n",
        "      \"weight\" : weight\n",
        "  })"
      ],
      "execution_count": 0,
      "outputs": [
        {
          "output_type": "stream",
          "text": [
            "/usr/local/lib/python3.6/dist-packages/ipykernel_launcher.py:2: DeprecationWarning: use options instead of chrome_options\n",
            "  \n",
            "\n",
            "\n",
            "  0%|          | 0/1127 [00:00<?, ?it/s]\u001b[A\u001b[A"
          ],
          "name": "stderr"
        },
        {
          "output_type": "stream",
          "text": [
            "azumarill\n"
          ],
          "name": "stdout"
        },
        {
          "output_type": "stream",
          "text": [
            "\n",
            "\n",
            "  0%|          | 1/1127 [00:02<37:36,  2.00s/it]\u001b[A\u001b[A"
          ],
          "name": "stderr"
        },
        {
          "output_type": "stream",
          "text": [
            "breloom\n"
          ],
          "name": "stdout"
        },
        {
          "output_type": "stream",
          "text": [
            "\n",
            "\n",
            "  0%|          | 2/1127 [00:03<32:46,  1.75s/it]\u001b[A\u001b[A"
          ],
          "name": "stderr"
        },
        {
          "output_type": "stream",
          "text": [
            "kadabra\n"
          ],
          "name": "stdout"
        },
        {
          "output_type": "stream",
          "text": [
            "\n",
            "\n",
            "  0%|          | 3/1127 [00:04<29:09,  1.56s/it]\u001b[A\u001b[A"
          ],
          "name": "stderr"
        },
        {
          "output_type": "stream",
          "text": [
            "azelf\n"
          ],
          "name": "stdout"
        },
        {
          "output_type": "stream",
          "text": [
            "\n",
            "\n",
            "  0%|          | 4/1127 [00:05<27:00,  1.44s/it]\u001b[A\u001b[A"
          ],
          "name": "stderr"
        },
        {
          "output_type": "stream",
          "text": [
            "hypno\n"
          ],
          "name": "stdout"
        },
        {
          "output_type": "stream",
          "text": [
            "\n",
            "\n",
            "  0%|          | 5/1127 [00:06<26:31,  1.42s/it]\u001b[A\u001b[A"
          ],
          "name": "stderr"
        },
        {
          "output_type": "stream",
          "text": [
            "arceusgrass\n"
          ],
          "name": "stdout"
        },
        {
          "output_type": "stream",
          "text": [
            "\n",
            "\n",
            "  1%|          | 6/1127 [00:08<25:41,  1.38s/it]\u001b[A\u001b[A"
          ],
          "name": "stderr"
        },
        {
          "output_type": "stream",
          "text": [
            "pikachu\n"
          ],
          "name": "stdout"
        },
        {
          "output_type": "stream",
          "text": [
            "\n",
            "\n",
            "  1%|          | 7/1127 [00:09<24:33,  1.32s/it]\u001b[A\u001b[A"
          ],
          "name": "stderr"
        },
        {
          "output_type": "stream",
          "text": [
            "palossand\n"
          ],
          "name": "stdout"
        },
        {
          "output_type": "stream",
          "text": [
            "\n",
            "\n",
            "  1%|          | 8/1127 [00:10<22:52,  1.23s/it]\u001b[A\u001b[A"
          ],
          "name": "stderr"
        },
        {
          "output_type": "stream",
          "text": [
            "nidoranm\n"
          ],
          "name": "stdout"
        },
        {
          "output_type": "stream",
          "text": [
            "\n",
            "\n",
            "  1%|          | 9/1127 [00:11<22:55,  1.23s/it]\u001b[A\u001b[A"
          ],
          "name": "stderr"
        },
        {
          "output_type": "stream",
          "text": [
            "snorunt\n"
          ],
          "name": "stdout"
        },
        {
          "output_type": "stream",
          "text": [
            "\n",
            "\n",
            "  1%|          | 10/1127 [00:12<21:48,  1.17s/it]\u001b[A\u001b[A"
          ],
          "name": "stderr"
        },
        {
          "output_type": "stream",
          "text": [
            "silvallyice\n"
          ],
          "name": "stdout"
        },
        {
          "output_type": "stream",
          "text": [
            "\n",
            "\n",
            "  1%|          | 11/1127 [00:13<22:18,  1.20s/it]\u001b[A\u001b[A"
          ],
          "name": "stderr"
        },
        {
          "output_type": "stream",
          "text": [
            "necrozma\n"
          ],
          "name": "stdout"
        },
        {
          "output_type": "stream",
          "text": [
            "\n",
            "\n",
            "  1%|          | 12/1127 [00:14<21:20,  1.15s/it]\u001b[A\u001b[A"
          ],
          "name": "stderr"
        },
        {
          "output_type": "stream",
          "text": [
            "samurott\n"
          ],
          "name": "stdout"
        },
        {
          "output_type": "stream",
          "text": [
            "\n",
            "\n",
            "  1%|          | 13/1127 [00:16<22:31,  1.21s/it]\u001b[A\u001b[A"
          ],
          "name": "stderr"
        },
        {
          "output_type": "stream",
          "text": [
            "crabominable\n"
          ],
          "name": "stdout"
        },
        {
          "output_type": "stream",
          "text": [
            "\n",
            "\n",
            "  1%|          | 14/1127 [00:17<21:46,  1.17s/it]\u001b[A\u001b[A"
          ],
          "name": "stderr"
        },
        {
          "output_type": "stream",
          "text": [
            "salamence\n"
          ],
          "name": "stdout"
        },
        {
          "output_type": "stream",
          "text": [
            "\n",
            "\n",
            "  1%|▏         | 15/1127 [00:18<22:55,  1.24s/it]\u001b[A\u001b[A"
          ],
          "name": "stderr"
        },
        {
          "output_type": "stream",
          "text": [
            "graveleralola\n"
          ],
          "name": "stdout"
        },
        {
          "output_type": "stream",
          "text": [
            "\n",
            "\n",
            "  1%|▏         | 16/1127 [00:19<22:39,  1.22s/it]\u001b[A\u001b[A"
          ],
          "name": "stderr"
        },
        {
          "output_type": "stream",
          "text": [
            "shelgon\n"
          ],
          "name": "stdout"
        },
        {
          "output_type": "stream",
          "text": [
            "\n",
            "\n",
            "  2%|▏         | 17/1127 [00:21<27:33,  1.49s/it]\u001b[A\u001b[A"
          ],
          "name": "stderr"
        },
        {
          "output_type": "stream",
          "text": [
            "slowbromega\n"
          ],
          "name": "stdout"
        },
        {
          "output_type": "stream",
          "text": [
            "\n",
            "\n",
            "  2%|▏         | 18/1127 [00:23<27:06,  1.47s/it]\u001b[A\u001b[A"
          ],
          "name": "stderr"
        },
        {
          "output_type": "stream",
          "text": [
            "genesect\n"
          ],
          "name": "stdout"
        },
        {
          "output_type": "stream",
          "text": [
            "\n",
            "\n",
            "  2%|▏         | 19/1127 [00:24<24:33,  1.33s/it]\u001b[A\u001b[A"
          ],
          "name": "stderr"
        },
        {
          "output_type": "stream",
          "text": [
            "bergmite\n"
          ],
          "name": "stdout"
        },
        {
          "output_type": "stream",
          "text": [
            "\n",
            "\n",
            "  2%|▏         | 20/1127 [00:25<25:20,  1.37s/it]\u001b[A\u001b[A"
          ],
          "name": "stderr"
        },
        {
          "output_type": "stream",
          "text": [
            "eternatus\n"
          ],
          "name": "stdout"
        },
        {
          "output_type": "stream",
          "text": [
            "\n",
            "\n",
            "  2%|▏         | 21/1127 [00:26<23:11,  1.26s/it]\u001b[A\u001b[A"
          ],
          "name": "stderr"
        },
        {
          "output_type": "stream",
          "text": [
            "weezinggalar\n"
          ],
          "name": "stdout"
        },
        {
          "output_type": "stream",
          "text": [
            "\n",
            "\n",
            "  2%|▏         | 22/1127 [00:28<24:20,  1.32s/it]\u001b[A\u001b[A"
          ],
          "name": "stderr"
        },
        {
          "output_type": "stream",
          "text": [
            "shayminsky\n"
          ],
          "name": "stdout"
        },
        {
          "output_type": "stream",
          "text": [
            "\n",
            "\n",
            "  2%|▏         | 23/1127 [00:29<24:52,  1.35s/it]\u001b[A\u001b[A"
          ],
          "name": "stderr"
        },
        {
          "output_type": "stream",
          "text": [
            "oricoriosensu\n"
          ],
          "name": "stdout"
        },
        {
          "output_type": "stream",
          "text": [
            "\n",
            "\n",
            "  2%|▏         | 24/1127 [00:31<25:41,  1.40s/it]\u001b[A\u001b[A"
          ],
          "name": "stderr"
        },
        {
          "output_type": "stream",
          "text": [
            "trevenant\n"
          ],
          "name": "stdout"
        },
        {
          "output_type": "stream",
          "text": [
            "\n",
            "\n",
            "  2%|▏         | 25/1127 [00:32<26:40,  1.45s/it]\u001b[A\u001b[A"
          ],
          "name": "stderr"
        },
        {
          "output_type": "stream",
          "text": [
            "buneary\n"
          ],
          "name": "stdout"
        },
        {
          "output_type": "stream",
          "text": [
            "\n",
            "\n",
            "  2%|▏         | 26/1127 [00:33<24:44,  1.35s/it]\u001b[A\u001b[A"
          ],
          "name": "stderr"
        },
        {
          "output_type": "stream",
          "text": [
            "sandygast\n"
          ],
          "name": "stdout"
        },
        {
          "output_type": "stream",
          "text": [
            "\n",
            "\n",
            "  2%|▏         | 27/1127 [00:35<25:37,  1.40s/it]\u001b[A\u001b[A"
          ],
          "name": "stderr"
        },
        {
          "output_type": "stream",
          "text": [
            "pyroar\n"
          ],
          "name": "stdout"
        },
        {
          "output_type": "stream",
          "text": [
            "\n",
            "\n",
            "  2%|▏         | 28/1127 [00:37<26:38,  1.45s/it]\u001b[A\u001b[A"
          ],
          "name": "stderr"
        },
        {
          "output_type": "stream",
          "text": [
            "eevee\n"
          ],
          "name": "stdout"
        },
        {
          "output_type": "stream",
          "text": [
            "\n",
            "\n",
            "  3%|▎         | 29/1127 [00:38<27:34,  1.51s/it]\u001b[A\u001b[A"
          ],
          "name": "stderr"
        },
        {
          "output_type": "stream",
          "text": [
            "melmetal\n"
          ],
          "name": "stdout"
        },
        {
          "output_type": "stream",
          "text": [
            "\n",
            "\n",
            "  3%|▎         | 30/1127 [00:40<27:45,  1.52s/it]\u001b[A\u001b[A"
          ],
          "name": "stderr"
        },
        {
          "output_type": "stream",
          "text": [
            "burmy\n"
          ],
          "name": "stdout"
        },
        {
          "output_type": "stream",
          "text": [
            "\n",
            "\n",
            "  3%|▎         | 31/1127 [00:41<28:03,  1.54s/it]\u001b[A\u001b[A"
          ],
          "name": "stderr"
        },
        {
          "output_type": "stream",
          "text": [
            "ekans\n"
          ],
          "name": "stdout"
        },
        {
          "output_type": "stream",
          "text": [
            "\n",
            "\n",
            "  3%|▎         | 32/1127 [00:43<28:23,  1.56s/it]\u001b[A\u001b[A"
          ],
          "name": "stderr"
        },
        {
          "output_type": "stream",
          "text": [
            "fraxure\n"
          ],
          "name": "stdout"
        },
        {
          "output_type": "stream",
          "text": [
            "\n",
            "\n",
            "  3%|▎         | 33/1127 [00:45<28:51,  1.58s/it]\u001b[A\u001b[A"
          ],
          "name": "stderr"
        },
        {
          "output_type": "stream",
          "text": [
            "mrmimegalar\n"
          ],
          "name": "stdout"
        },
        {
          "output_type": "stream",
          "text": [
            "\n",
            "\n",
            "  3%|▎         | 34/1127 [00:46<29:05,  1.60s/it]\u001b[A\u001b[A"
          ],
          "name": "stderr"
        },
        {
          "output_type": "stream",
          "text": [
            "beartic\n"
          ],
          "name": "stdout"
        },
        {
          "output_type": "stream",
          "text": [
            "\n",
            "\n",
            "  3%|▎         | 35/1127 [00:48<29:16,  1.61s/it]\u001b[A\u001b[A"
          ],
          "name": "stderr"
        },
        {
          "output_type": "stream",
          "text": [
            "ducklett\n"
          ],
          "name": "stdout"
        },
        {
          "output_type": "stream",
          "text": [
            "\n",
            "\n",
            "  3%|▎         | 36/1127 [00:49<29:15,  1.61s/it]\u001b[A\u001b[A"
          ],
          "name": "stderr"
        },
        {
          "output_type": "stream",
          "text": [
            "arctozolt\n"
          ],
          "name": "stdout"
        },
        {
          "output_type": "stream",
          "text": [
            "\n",
            "\n",
            "  3%|▎         | 37/1127 [00:51<28:15,  1.56s/it]\u001b[A\u001b[A"
          ],
          "name": "stderr"
        },
        {
          "output_type": "stream",
          "text": [
            "geodudealola\n"
          ],
          "name": "stdout"
        },
        {
          "output_type": "stream",
          "text": [
            "\n",
            "\n",
            "  3%|▎         | 38/1127 [00:52<28:19,  1.56s/it]\u001b[A\u001b[A"
          ],
          "name": "stderr"
        },
        {
          "output_type": "stream",
          "text": [
            "bunnelby\n"
          ],
          "name": "stdout"
        },
        {
          "output_type": "stream",
          "text": [
            "\n",
            "\n",
            "  3%|▎         | 39/1127 [00:54<28:29,  1.57s/it]\u001b[A\u001b[A"
          ],
          "name": "stderr"
        },
        {
          "output_type": "stream",
          "text": [
            "onix\n"
          ],
          "name": "stdout"
        },
        {
          "output_type": "stream",
          "text": [
            "\n",
            "\n",
            "  4%|▎         | 40/1127 [00:56<29:29,  1.63s/it]\u001b[A\u001b[A"
          ],
          "name": "stderr"
        },
        {
          "output_type": "stream",
          "text": [
            "heliolisk\n"
          ],
          "name": "stdout"
        },
        {
          "output_type": "stream",
          "text": [
            "\n",
            "\n",
            "  4%|▎         | 41/1127 [00:57<29:09,  1.61s/it]\u001b[A\u001b[A"
          ],
          "name": "stderr"
        },
        {
          "output_type": "stream",
          "text": [
            "lycanrocdusk\n"
          ],
          "name": "stdout"
        },
        {
          "output_type": "stream",
          "text": [
            "\n",
            "\n",
            "  4%|▎         | 42/1127 [00:59<29:15,  1.62s/it]\u001b[A\u001b[A"
          ],
          "name": "stderr"
        },
        {
          "output_type": "stream",
          "text": [
            "marshtomp\n"
          ],
          "name": "stdout"
        },
        {
          "output_type": "stream",
          "text": [
            "\n",
            "\n",
            "  4%|▍         | 43/1127 [01:01<29:26,  1.63s/it]\u001b[A\u001b[A"
          ],
          "name": "stderr"
        },
        {
          "output_type": "stream",
          "text": [
            "registeel\n"
          ],
          "name": "stdout"
        },
        {
          "output_type": "stream",
          "text": [
            "\n",
            "\n",
            "  4%|▍         | 44/1127 [01:02<29:45,  1.65s/it]\u001b[A\u001b[A"
          ],
          "name": "stderr"
        },
        {
          "output_type": "stream",
          "text": [
            "beldum\n"
          ],
          "name": "stdout"
        },
        {
          "output_type": "stream",
          "text": [
            "\n",
            "\n",
            "  4%|▍         | 45/1127 [01:04<29:34,  1.64s/it]\u001b[A\u001b[A"
          ],
          "name": "stderr"
        },
        {
          "output_type": "stream",
          "text": [
            "tyrantrum\n"
          ],
          "name": "stdout"
        },
        {
          "output_type": "stream",
          "text": [
            "\n",
            "\n",
            "  4%|▍         | 46/1127 [01:06<29:56,  1.66s/it]\u001b[A\u001b[A"
          ],
          "name": "stderr"
        },
        {
          "output_type": "stream",
          "text": [
            "clamperl\n"
          ],
          "name": "stdout"
        },
        {
          "output_type": "stream",
          "text": [
            "\n",
            "\n",
            "  4%|▍         | 47/1127 [01:07<29:10,  1.62s/it]\u001b[A\u001b[A"
          ],
          "name": "stderr"
        },
        {
          "output_type": "stream",
          "text": [
            "pawniard\n"
          ],
          "name": "stdout"
        },
        {
          "output_type": "stream",
          "text": [
            "\n",
            "\n",
            "  4%|▍         | 48/1127 [01:09<29:50,  1.66s/it]\u001b[A\u001b[A"
          ],
          "name": "stderr"
        },
        {
          "output_type": "stream",
          "text": [
            "electrode\n"
          ],
          "name": "stdout"
        },
        {
          "output_type": "stream",
          "text": [
            "\n",
            "\n",
            "  4%|▍         | 49/1127 [01:11<30:01,  1.67s/it]\u001b[A\u001b[A"
          ],
          "name": "stderr"
        },
        {
          "output_type": "stream",
          "text": [
            "plusle\n"
          ],
          "name": "stdout"
        },
        {
          "output_type": "stream",
          "text": [
            "\n",
            "\n",
            "  4%|▍         | 50/1127 [01:12<30:07,  1.68s/it]\u001b[A\u001b[A"
          ],
          "name": "stderr"
        },
        {
          "output_type": "stream",
          "text": [
            "clefable\n"
          ],
          "name": "stdout"
        },
        {
          "output_type": "stream",
          "text": [
            "\n",
            "\n",
            "  5%|▍         | 51/1127 [01:14<31:18,  1.75s/it]\u001b[A\u001b[A"
          ],
          "name": "stderr"
        },
        {
          "output_type": "stream",
          "text": [
            "phione\n"
          ],
          "name": "stdout"
        },
        {
          "output_type": "stream",
          "text": [
            "\n",
            "\n",
            "  5%|▍         | 52/1127 [01:16<31:07,  1.74s/it]\u001b[A\u001b[A"
          ],
          "name": "stderr"
        },
        {
          "output_type": "stream",
          "text": [
            "pineco\n"
          ],
          "name": "stdout"
        },
        {
          "output_type": "stream",
          "text": [
            "\n",
            "\n",
            "  5%|▍         | 53/1127 [01:18<31:11,  1.74s/it]\u001b[A\u001b[A"
          ],
          "name": "stderr"
        },
        {
          "output_type": "stream",
          "text": [
            "gothorita\n"
          ],
          "name": "stdout"
        },
        {
          "output_type": "stream",
          "text": [
            "\n",
            "\n",
            "  5%|▍         | 54/1127 [01:19<30:59,  1.73s/it]\u001b[A\u001b[A"
          ],
          "name": "stderr"
        },
        {
          "output_type": "stream",
          "text": [
            "wurmple\n"
          ],
          "name": "stdout"
        },
        {
          "output_type": "stream",
          "text": [
            "\n",
            "\n",
            "  5%|▍         | 55/1127 [01:21<30:32,  1.71s/it]\u001b[A\u001b[A"
          ],
          "name": "stderr"
        },
        {
          "output_type": "stream",
          "text": [
            "roggenrola\n"
          ],
          "name": "stdout"
        },
        {
          "output_type": "stream",
          "text": [
            "\n",
            "\n",
            "  5%|▍         | 56/1127 [01:23<30:42,  1.72s/it]\u001b[A\u001b[A"
          ],
          "name": "stderr"
        },
        {
          "output_type": "stream",
          "text": [
            "electivire\n"
          ],
          "name": "stdout"
        },
        {
          "output_type": "stream",
          "text": [
            "\n",
            "\n",
            "  5%|▌         | 57/1127 [01:25<31:27,  1.76s/it]\u001b[A\u001b[A"
          ],
          "name": "stderr"
        },
        {
          "output_type": "stream",
          "text": [
            "kangaskhanmega\n"
          ],
          "name": "stdout"
        },
        {
          "output_type": "stream",
          "text": [
            "\n",
            "\n",
            "  5%|▌         | 58/1127 [01:26<30:45,  1.73s/it]\u001b[A\u001b[A"
          ],
          "name": "stderr"
        },
        {
          "output_type": "stream",
          "text": [
            "rhyhorn\n"
          ],
          "name": "stdout"
        },
        {
          "output_type": "stream",
          "text": [
            "\n",
            "\n",
            "  5%|▌         | 59/1127 [01:28<30:24,  1.71s/it]\u001b[A\u001b[A"
          ],
          "name": "stderr"
        },
        {
          "output_type": "stream",
          "text": [
            "magikarp\n"
          ],
          "name": "stdout"
        },
        {
          "output_type": "stream",
          "text": [
            "\n",
            "\n",
            "  5%|▌         | 60/1127 [01:30<30:24,  1.71s/it]\u001b[A\u001b[A"
          ],
          "name": "stderr"
        },
        {
          "output_type": "stream",
          "text": [
            "gengarmega\n"
          ],
          "name": "stdout"
        },
        {
          "output_type": "stream",
          "text": [
            "\n",
            "\n",
            "  5%|▌         | 61/1127 [01:32<31:30,  1.77s/it]\u001b[A\u001b[A"
          ],
          "name": "stderr"
        },
        {
          "output_type": "stream",
          "text": [
            "misdreavus\n"
          ],
          "name": "stdout"
        },
        {
          "output_type": "stream",
          "text": [
            "\n",
            "\n",
            "  6%|▌         | 62/1127 [01:33<29:54,  1.68s/it]\u001b[A\u001b[A"
          ],
          "name": "stderr"
        },
        {
          "output_type": "stream",
          "text": [
            "salamencemega\n"
          ],
          "name": "stdout"
        },
        {
          "output_type": "stream",
          "text": [
            "\n",
            "\n",
            "  6%|▌         | 63/1127 [01:34<27:31,  1.55s/it]\u001b[A\u001b[A"
          ],
          "name": "stderr"
        },
        {
          "output_type": "stream",
          "text": [
            "dusknoir\n"
          ],
          "name": "stdout"
        },
        {
          "output_type": "stream",
          "text": [
            "\n",
            "\n",
            "  6%|▌         | 64/1127 [01:36<28:44,  1.62s/it]\u001b[A\u001b[A"
          ],
          "name": "stderr"
        },
        {
          "output_type": "stream",
          "text": [
            "basculin\n"
          ],
          "name": "stdout"
        },
        {
          "output_type": "stream",
          "text": [
            "\n",
            "\n",
            "  6%|▌         | 65/1127 [01:38<28:58,  1.64s/it]\u001b[A\u001b[A"
          ],
          "name": "stderr"
        },
        {
          "output_type": "stream",
          "text": [
            "ledyba\n"
          ],
          "name": "stdout"
        },
        {
          "output_type": "stream",
          "text": [
            "\n",
            "\n",
            "  6%|▌         | 66/1127 [01:40<31:19,  1.77s/it]\u001b[A\u001b[A"
          ],
          "name": "stderr"
        },
        {
          "output_type": "stream",
          "text": [
            "froslass\n"
          ],
          "name": "stdout"
        },
        {
          "output_type": "stream",
          "text": [
            "\n",
            "\n",
            "  6%|▌         | 67/1127 [01:42<31:12,  1.77s/it]\u001b[A\u001b[A"
          ],
          "name": "stderr"
        },
        {
          "output_type": "stream",
          "text": [
            "crobat\n"
          ],
          "name": "stdout"
        },
        {
          "output_type": "stream",
          "text": [
            "\n",
            "\n",
            "  6%|▌         | 68/1127 [01:44<31:52,  1.81s/it]\u001b[A\u001b[A"
          ],
          "name": "stderr"
        },
        {
          "output_type": "stream",
          "text": [
            "teddiursa\n"
          ],
          "name": "stdout"
        },
        {
          "output_type": "stream",
          "text": [
            "\n",
            "\n",
            "  6%|▌         | 69/1127 [01:46<32:58,  1.87s/it]\u001b[A\u001b[A"
          ],
          "name": "stderr"
        },
        {
          "output_type": "stream",
          "text": [
            "venomoth\n"
          ],
          "name": "stdout"
        },
        {
          "output_type": "stream",
          "text": [
            "\n",
            "\n",
            "  6%|▌         | 70/1127 [01:47<33:07,  1.88s/it]\u001b[A\u001b[A"
          ],
          "name": "stderr"
        },
        {
          "output_type": "stream",
          "text": [
            "tapubulu\n"
          ],
          "name": "stdout"
        },
        {
          "output_type": "stream",
          "text": [
            "\n",
            "\n",
            "  6%|▋         | 71/1127 [01:49<33:36,  1.91s/it]\u001b[A\u001b[A"
          ],
          "name": "stderr"
        },
        {
          "output_type": "stream",
          "text": [
            "staryu\n"
          ],
          "name": "stdout"
        },
        {
          "output_type": "stream",
          "text": [
            "\n",
            "\n",
            "  6%|▋         | 72/1127 [01:51<33:59,  1.93s/it]\u001b[A\u001b[A"
          ],
          "name": "stderr"
        },
        {
          "output_type": "stream",
          "text": [
            "vileplume\n"
          ],
          "name": "stdout"
        },
        {
          "output_type": "stream",
          "text": [
            "\n",
            "\n",
            "  6%|▋         | 73/1127 [01:54<36:03,  2.05s/it]\u001b[A\u001b[A"
          ],
          "name": "stderr"
        },
        {
          "output_type": "stream",
          "text": [
            "suicune\n"
          ],
          "name": "stdout"
        },
        {
          "output_type": "stream",
          "text": [
            "\n",
            "\n",
            "  7%|▋         | 74/1127 [01:56<35:02,  2.00s/it]\u001b[A\u001b[A"
          ],
          "name": "stderr"
        },
        {
          "output_type": "stream",
          "text": [
            "magneton\n"
          ],
          "name": "stdout"
        },
        {
          "output_type": "stream",
          "text": [
            "\n",
            "\n",
            "  7%|▋         | 75/1127 [01:57<31:42,  1.81s/it]\u001b[A\u001b[A"
          ],
          "name": "stderr"
        },
        {
          "output_type": "stream",
          "text": [
            "paras\n"
          ],
          "name": "stdout"
        },
        {
          "output_type": "stream",
          "text": [
            "\n",
            "\n",
            "  7%|▋         | 76/1127 [01:59<32:33,  1.86s/it]\u001b[A\u001b[A"
          ],
          "name": "stderr"
        },
        {
          "output_type": "stream",
          "text": [
            "morpekohangry\n"
          ],
          "name": "stdout"
        },
        {
          "output_type": "stream",
          "text": [
            "\n",
            "\n",
            "  7%|▋         | 77/1127 [02:01<31:59,  1.83s/it]\u001b[A\u001b[A"
          ],
          "name": "stderr"
        },
        {
          "output_type": "stream",
          "text": [
            "zubat\n"
          ],
          "name": "stdout"
        },
        {
          "output_type": "stream",
          "text": [
            "\n",
            "\n",
            "  7%|▋         | 78/1127 [02:02<30:13,  1.73s/it]\u001b[A\u001b[A"
          ],
          "name": "stderr"
        },
        {
          "output_type": "stream",
          "text": [
            "swanna\n"
          ],
          "name": "stdout"
        },
        {
          "output_type": "stream",
          "text": [
            "\n",
            "\n",
            "  7%|▋         | 79/1127 [02:04<30:39,  1.76s/it]\u001b[A\u001b[A"
          ],
          "name": "stderr"
        },
        {
          "output_type": "stream",
          "text": [
            "exploud\n"
          ],
          "name": "stdout"
        },
        {
          "output_type": "stream",
          "text": [
            "\n",
            "\n",
            "  7%|▋         | 80/1127 [02:05<28:42,  1.65s/it]\u001b[A\u001b[A"
          ],
          "name": "stderr"
        },
        {
          "output_type": "stream",
          "text": [
            "ariados\n"
          ],
          "name": "stdout"
        },
        {
          "output_type": "stream",
          "text": [
            "\n",
            "\n",
            "  7%|▋         | 81/1127 [02:07<29:56,  1.72s/it]\u001b[A\u001b[A"
          ],
          "name": "stderr"
        },
        {
          "output_type": "stream",
          "text": [
            "seviper\n"
          ],
          "name": "stdout"
        },
        {
          "output_type": "stream",
          "text": [
            "\n",
            "\n",
            "  7%|▋         | 82/1127 [02:09<28:00,  1.61s/it]\u001b[A\u001b[A"
          ],
          "name": "stderr"
        },
        {
          "output_type": "stream",
          "text": [
            "gulpin\n"
          ],
          "name": "stdout"
        },
        {
          "output_type": "stream",
          "text": [
            "\n",
            "\n",
            "  7%|▋         | 83/1127 [02:10<29:06,  1.67s/it]\u001b[A\u001b[A"
          ],
          "name": "stderr"
        },
        {
          "output_type": "stream",
          "text": [
            "dreepy\n"
          ],
          "name": "stdout"
        },
        {
          "output_type": "stream",
          "text": [
            "\n",
            "\n",
            "  7%|▋         | 84/1127 [02:12<27:19,  1.57s/it]\u001b[A\u001b[A"
          ],
          "name": "stderr"
        },
        {
          "output_type": "stream",
          "text": [
            "manaphy\n"
          ],
          "name": "stdout"
        },
        {
          "output_type": "stream",
          "text": [
            "\n",
            "\n",
            "  8%|▊         | 85/1127 [02:14<27:48,  1.60s/it]\u001b[A\u001b[A"
          ],
          "name": "stderr"
        },
        {
          "output_type": "stream",
          "text": [
            "dhelmise\n"
          ],
          "name": "stdout"
        },
        {
          "output_type": "stream",
          "text": [
            "\n",
            "\n",
            "  8%|▊         | 86/1127 [02:15<27:26,  1.58s/it]\u001b[A\u001b[A"
          ],
          "name": "stderr"
        },
        {
          "output_type": "stream",
          "text": [
            "espurr\n"
          ],
          "name": "stdout"
        },
        {
          "output_type": "stream",
          "text": [
            "\n",
            "\n",
            "  8%|▊         | 87/1127 [02:17<28:14,  1.63s/it]\u001b[A\u001b[A"
          ],
          "name": "stderr"
        },
        {
          "output_type": "stream",
          "text": [
            "farfetch'dgalar\n"
          ],
          "name": "stdout"
        },
        {
          "output_type": "stream",
          "text": [
            "\n",
            "\n",
            "  8%|▊         | 88/1127 [02:18<28:02,  1.62s/it]\u001b[A\u001b[A"
          ],
          "name": "stderr"
        },
        {
          "output_type": "stream",
          "text": [
            "pinsirmega\n"
          ],
          "name": "stdout"
        },
        {
          "output_type": "stream",
          "text": [
            "\n",
            "\n",
            "  8%|▊         | 89/1127 [02:20<29:20,  1.70s/it]\u001b[A\u001b[A"
          ],
          "name": "stderr"
        },
        {
          "output_type": "stream",
          "text": [
            "darkrai\n"
          ],
          "name": "stdout"
        },
        {
          "output_type": "stream",
          "text": [
            "\n",
            "\n",
            "  8%|▊         | 90/1127 [02:22<28:13,  1.63s/it]\u001b[A\u001b[A"
          ],
          "name": "stderr"
        },
        {
          "output_type": "stream",
          "text": [
            "lopunnymega\n"
          ],
          "name": "stdout"
        },
        {
          "output_type": "stream",
          "text": [
            "\n",
            "\n",
            "  8%|▊         | 91/1127 [02:24<29:00,  1.68s/it]\u001b[A\u001b[A"
          ],
          "name": "stderr"
        },
        {
          "output_type": "stream",
          "text": [
            "cyndaquil\n"
          ],
          "name": "stdout"
        },
        {
          "output_type": "stream",
          "text": [
            "\n",
            "\n",
            "  8%|▊         | 92/1127 [02:26<30:37,  1.78s/it]\u001b[A\u001b[A"
          ],
          "name": "stderr"
        },
        {
          "output_type": "stream",
          "text": [
            "bruxish\n"
          ],
          "name": "stdout"
        },
        {
          "output_type": "stream",
          "text": [
            "\n",
            "\n",
            "  8%|▊         | 93/1127 [02:28<33:12,  1.93s/it]\u001b[A\u001b[A"
          ],
          "name": "stderr"
        },
        {
          "output_type": "stream",
          "text": [
            "toxtricitygmax\n"
          ],
          "name": "stdout"
        },
        {
          "output_type": "stream",
          "text": [
            "\n",
            "\n",
            "  8%|▊         | 94/1127 [02:30<34:23,  2.00s/it]\u001b[A\u001b[A"
          ],
          "name": "stderr"
        },
        {
          "output_type": "stream",
          "text": [
            "wartortle\n"
          ],
          "name": "stdout"
        },
        {
          "output_type": "stream",
          "text": [
            "\n",
            "\n",
            "  8%|▊         | 95/1127 [02:32<32:33,  1.89s/it]\u001b[A\u001b[A"
          ],
          "name": "stderr"
        },
        {
          "output_type": "stream",
          "text": [
            "regigigas\n"
          ],
          "name": "stdout"
        },
        {
          "output_type": "stream",
          "text": [
            "\n",
            "\n",
            "  9%|▊         | 96/1127 [02:34<34:39,  2.02s/it]\u001b[A\u001b[A"
          ],
          "name": "stderr"
        },
        {
          "output_type": "stream",
          "text": [
            "necrozmadawnwings\n"
          ],
          "name": "stdout"
        },
        {
          "output_type": "stream",
          "text": [
            "\n",
            "\n",
            "  9%|▊         | 97/1127 [02:36<35:12,  2.05s/it]\u001b[A\u001b[A"
          ],
          "name": "stderr"
        },
        {
          "output_type": "stream",
          "text": [
            "machoke\n"
          ],
          "name": "stdout"
        },
        {
          "output_type": "stream",
          "text": [
            "\n",
            "\n",
            "  9%|▊         | 98/1127 [02:38<35:30,  2.07s/it]\u001b[A\u001b[A"
          ],
          "name": "stderr"
        },
        {
          "output_type": "stream",
          "text": [
            "chansey\n"
          ],
          "name": "stdout"
        },
        {
          "output_type": "stream",
          "text": [
            "\n",
            "\n",
            "  9%|▉         | 99/1127 [02:41<40:03,  2.34s/it]\u001b[A\u001b[A"
          ],
          "name": "stderr"
        },
        {
          "output_type": "stream",
          "text": [
            "slugma\n"
          ],
          "name": "stdout"
        },
        {
          "output_type": "stream",
          "text": [
            "\n",
            "\n",
            "  9%|▉         | 100/1127 [02:43<38:27,  2.25s/it]\u001b[A\u001b[A"
          ],
          "name": "stderr"
        },
        {
          "output_type": "stream",
          "text": [
            "kakuna\n"
          ],
          "name": "stdout"
        },
        {
          "output_type": "stream",
          "text": [
            "\n",
            "\n",
            "  9%|▉         | 101/1127 [02:45<37:53,  2.22s/it]\u001b[A\u001b[A"
          ],
          "name": "stderr"
        },
        {
          "output_type": "stream",
          "text": [
            "pikachusinnoh\n"
          ],
          "name": "stdout"
        },
        {
          "output_type": "stream",
          "text": [
            "\n",
            "\n",
            "  9%|▉         | 102/1127 [02:48<38:39,  2.26s/it]\u001b[A\u001b[A"
          ],
          "name": "stderr"
        },
        {
          "output_type": "stream",
          "text": [
            "vaporeon\n"
          ],
          "name": "stdout"
        },
        {
          "output_type": "stream",
          "text": [
            "\n",
            "\n",
            "  9%|▉         | 103/1127 [02:50<38:03,  2.23s/it]\u001b[A\u001b[A"
          ],
          "name": "stderr"
        },
        {
          "output_type": "stream",
          "text": [
            "copperajah\n"
          ],
          "name": "stdout"
        },
        {
          "output_type": "stream",
          "text": [
            "\n",
            "\n",
            "  9%|▉         | 104/1127 [02:52<37:31,  2.20s/it]\u001b[A\u001b[A"
          ],
          "name": "stderr"
        },
        {
          "output_type": "stream",
          "text": [
            "cherubi\n"
          ],
          "name": "stdout"
        },
        {
          "output_type": "stream",
          "text": [
            "\n",
            "\n",
            "  9%|▉         | 105/1127 [02:54<37:12,  2.18s/it]\u001b[A\u001b[A"
          ],
          "name": "stderr"
        },
        {
          "output_type": "stream",
          "text": [
            "linoonegalar\n"
          ],
          "name": "stdout"
        },
        {
          "output_type": "stream",
          "text": [
            "\n",
            "\n",
            "  9%|▉         | 106/1127 [02:56<34:07,  2.00s/it]\u001b[A\u001b[A"
          ],
          "name": "stderr"
        },
        {
          "output_type": "stream",
          "text": [
            "patrat\n"
          ],
          "name": "stdout"
        },
        {
          "output_type": "stream",
          "text": [
            "\n",
            "\n",
            "  9%|▉         | 107/1127 [02:58<33:45,  1.99s/it]\u001b[A\u001b[A"
          ],
          "name": "stderr"
        },
        {
          "output_type": "stream",
          "text": [
            "magmortar\n"
          ],
          "name": "stdout"
        },
        {
          "output_type": "stream",
          "text": [
            "\n",
            "\n",
            " 10%|▉         | 108/1127 [03:00<35:29,  2.09s/it]\u001b[A\u001b[A"
          ],
          "name": "stderr"
        },
        {
          "output_type": "stream",
          "text": [
            "rowlet\n"
          ],
          "name": "stdout"
        },
        {
          "output_type": "stream",
          "text": [
            "\n",
            "\n",
            " 10%|▉         | 109/1127 [03:02<35:47,  2.11s/it]\u001b[A\u001b[A"
          ],
          "name": "stderr"
        },
        {
          "output_type": "stream",
          "text": [
            "toxtricity\n"
          ],
          "name": "stdout"
        },
        {
          "output_type": "stream",
          "text": [
            "\n",
            "\n",
            " 10%|▉         | 110/1127 [03:04<36:56,  2.18s/it]\u001b[A\u001b[A"
          ],
          "name": "stderr"
        },
        {
          "output_type": "stream",
          "text": [
            "weavile\n"
          ],
          "name": "stdout"
        },
        {
          "output_type": "stream",
          "text": [
            "\n",
            "\n",
            " 10%|▉         | 111/1127 [03:07<36:20,  2.15s/it]\u001b[A\u001b[A"
          ],
          "name": "stderr"
        },
        {
          "output_type": "stream",
          "text": [
            "hakamoo\n"
          ],
          "name": "stdout"
        },
        {
          "output_type": "stream",
          "text": [
            "\n",
            "\n",
            " 10%|▉         | 112/1127 [03:09<36:57,  2.18s/it]\u001b[A\u001b[A"
          ],
          "name": "stderr"
        },
        {
          "output_type": "stream",
          "text": [
            "drilbur\n"
          ],
          "name": "stdout"
        },
        {
          "output_type": "stream",
          "text": [
            "\n",
            "\n",
            " 10%|█         | 113/1127 [03:11<37:51,  2.24s/it]\u001b[A\u001b[A"
          ],
          "name": "stderr"
        },
        {
          "output_type": "stream",
          "text": [
            "tangela\n"
          ],
          "name": "stdout"
        },
        {
          "output_type": "stream",
          "text": [
            "\n",
            "\n",
            " 10%|█         | 114/1127 [03:13<37:26,  2.22s/it]\u001b[A\u001b[A"
          ],
          "name": "stderr"
        },
        {
          "output_type": "stream",
          "text": [
            "reshiram\n"
          ],
          "name": "stdout"
        },
        {
          "output_type": "stream",
          "text": [
            "\n",
            "\n",
            " 10%|█         | 115/1127 [03:16<37:29,  2.22s/it]\u001b[A\u001b[A"
          ],
          "name": "stderr"
        },
        {
          "output_type": "stream",
          "text": [
            "murkrow\n"
          ],
          "name": "stdout"
        },
        {
          "output_type": "stream",
          "text": [
            "\n",
            "\n",
            " 10%|█         | 116/1127 [03:18<37:31,  2.23s/it]\u001b[A\u001b[A"
          ],
          "name": "stderr"
        },
        {
          "output_type": "stream",
          "text": [
            "grimeralola\n"
          ],
          "name": "stdout"
        },
        {
          "output_type": "stream",
          "text": [
            "\n",
            "\n",
            " 10%|█         | 117/1127 [03:20<37:12,  2.21s/it]\u001b[A\u001b[A"
          ],
          "name": "stderr"
        },
        {
          "output_type": "stream",
          "text": [
            "aerodactyl\n"
          ],
          "name": "stdout"
        },
        {
          "output_type": "stream",
          "text": [
            "\n",
            "\n",
            " 10%|█         | 118/1127 [03:22<38:15,  2.27s/it]\u001b[A\u001b[A"
          ],
          "name": "stderr"
        },
        {
          "output_type": "stream",
          "text": [
            "luvdisc\n"
          ],
          "name": "stdout"
        },
        {
          "output_type": "stream",
          "text": [
            "\n",
            "\n",
            " 11%|█         | 119/1127 [03:24<35:08,  2.09s/it]\u001b[A\u001b[A"
          ],
          "name": "stderr"
        },
        {
          "output_type": "stream",
          "text": [
            "kabuto\n"
          ],
          "name": "stdout"
        },
        {
          "output_type": "stream",
          "text": [
            "\n",
            "\n",
            " 11%|█         | 120/1127 [03:26<36:37,  2.18s/it]\u001b[A\u001b[A"
          ],
          "name": "stderr"
        },
        {
          "output_type": "stream",
          "text": [
            "poliwhirl\n"
          ],
          "name": "stdout"
        },
        {
          "output_type": "stream",
          "text": [
            "\n",
            "\n",
            " 11%|█         | 121/1127 [03:28<34:32,  2.06s/it]\u001b[A\u001b[A"
          ],
          "name": "stderr"
        },
        {
          "output_type": "stream",
          "text": [
            "glaceon\n"
          ],
          "name": "stdout"
        },
        {
          "output_type": "stream",
          "text": [
            "\n",
            "\n",
            " 11%|█         | 122/1127 [03:30<34:54,  2.08s/it]\u001b[A\u001b[A"
          ],
          "name": "stderr"
        },
        {
          "output_type": "stream",
          "text": [
            "sableye\n"
          ],
          "name": "stdout"
        },
        {
          "output_type": "stream",
          "text": [
            "\n",
            "\n",
            " 11%|█         | 123/1127 [03:33<35:48,  2.14s/it]\u001b[A\u001b[A"
          ],
          "name": "stderr"
        },
        {
          "output_type": "stream",
          "text": [
            "appletungmax\n"
          ],
          "name": "stdout"
        },
        {
          "output_type": "stream",
          "text": [
            "\n",
            "\n",
            " 11%|█         | 124/1127 [03:34<33:26,  2.00s/it]\u001b[A\u001b[A"
          ],
          "name": "stderr"
        },
        {
          "output_type": "stream",
          "text": [
            "marill\n"
          ],
          "name": "stdout"
        },
        {
          "output_type": "stream",
          "text": [
            "\n",
            "\n",
            " 11%|█         | 125/1127 [03:36<33:06,  1.98s/it]\u001b[A\u001b[A"
          ],
          "name": "stderr"
        },
        {
          "output_type": "stream",
          "text": [
            "kingdra\n"
          ],
          "name": "stdout"
        },
        {
          "output_type": "stream",
          "text": [
            "\n",
            "\n",
            " 11%|█         | 126/1127 [03:38<34:09,  2.05s/it]\u001b[A\u001b[A"
          ],
          "name": "stderr"
        },
        {
          "output_type": "stream",
          "text": [
            "sneasel\n"
          ],
          "name": "stdout"
        },
        {
          "output_type": "stream",
          "text": [
            "\n",
            "\n",
            " 11%|█▏        | 127/1127 [03:41<35:32,  2.13s/it]\u001b[A\u001b[A"
          ],
          "name": "stderr"
        },
        {
          "output_type": "stream",
          "text": [
            "umbreon\n"
          ],
          "name": "stdout"
        },
        {
          "output_type": "stream",
          "text": [
            "\n",
            "\n",
            " 11%|█▏        | 128/1127 [03:43<35:55,  2.16s/it]\u001b[A\u001b[A"
          ],
          "name": "stderr"
        },
        {
          "output_type": "stream",
          "text": [
            "hitmonchan\n"
          ],
          "name": "stdout"
        },
        {
          "output_type": "stream",
          "text": [
            "\n",
            "\n",
            " 11%|█▏        | 129/1127 [03:45<36:36,  2.20s/it]\u001b[A\u001b[A"
          ],
          "name": "stderr"
        },
        {
          "output_type": "stream",
          "text": [
            "charizardmegax\n"
          ],
          "name": "stdout"
        },
        {
          "output_type": "stream",
          "text": [
            "\n",
            "\n",
            " 12%|█▏        | 130/1127 [03:48<37:48,  2.27s/it]\u001b[A\u001b[A"
          ],
          "name": "stderr"
        },
        {
          "output_type": "stream",
          "text": [
            "floetteeternal\n"
          ],
          "name": "stdout"
        },
        {
          "output_type": "stream",
          "text": [
            "\n",
            "\n",
            " 12%|█▏        | 131/1127 [03:50<36:39,  2.21s/it]\u001b[A\u001b[A"
          ],
          "name": "stderr"
        },
        {
          "output_type": "stream",
          "text": [
            "raticatealolatotem\n"
          ],
          "name": "stdout"
        },
        {
          "output_type": "stream",
          "text": [
            "\n",
            "\n",
            " 12%|█▏        | 132/1127 [03:52<35:17,  2.13s/it]\u001b[A\u001b[A"
          ],
          "name": "stderr"
        },
        {
          "output_type": "stream",
          "text": [
            "inteleon\n"
          ],
          "name": "stdout"
        },
        {
          "output_type": "stream",
          "text": [
            "\n",
            "\n",
            " 12%|█▏        | 133/1127 [03:54<34:03,  2.06s/it]\u001b[A\u001b[A"
          ],
          "name": "stderr"
        },
        {
          "output_type": "stream",
          "text": [
            "aegislashblade\n"
          ],
          "name": "stdout"
        },
        {
          "output_type": "stream",
          "text": [
            "\n",
            "\n",
            " 12%|█▏        | 134/1127 [03:56<34:23,  2.08s/it]\u001b[A\u001b[A"
          ],
          "name": "stderr"
        },
        {
          "output_type": "stream",
          "text": [
            "tyrogue\n"
          ],
          "name": "stdout"
        },
        {
          "output_type": "stream",
          "text": [
            "\n",
            "\n",
            " 12%|█▏        | 135/1127 [03:58<34:58,  2.12s/it]\u001b[A\u001b[A"
          ],
          "name": "stderr"
        },
        {
          "output_type": "stream",
          "text": [
            "alakazam\n"
          ],
          "name": "stdout"
        },
        {
          "output_type": "stream",
          "text": [
            "\n",
            "\n",
            " 12%|█▏        | 136/1127 [04:00<36:47,  2.23s/it]\u001b[A\u001b[A"
          ],
          "name": "stderr"
        },
        {
          "output_type": "stream",
          "text": [
            "ferroseed\n"
          ],
          "name": "stdout"
        },
        {
          "output_type": "stream",
          "text": [
            "\n",
            "\n",
            " 12%|█▏        | 137/1127 [04:03<36:12,  2.19s/it]\u001b[A\u001b[A"
          ],
          "name": "stderr"
        },
        {
          "output_type": "stream",
          "text": [
            "snorlax\n"
          ],
          "name": "stdout"
        },
        {
          "output_type": "stream",
          "text": [
            "\n",
            "\n",
            " 12%|█▏        | 138/1127 [04:05<36:34,  2.22s/it]\u001b[A\u001b[A"
          ],
          "name": "stderr"
        },
        {
          "output_type": "stream",
          "text": [
            "caterpie\n"
          ],
          "name": "stdout"
        },
        {
          "output_type": "stream",
          "text": [
            "\n",
            "\n",
            " 12%|█▏        | 139/1127 [04:07<34:13,  2.08s/it]\u001b[A\u001b[A"
          ],
          "name": "stderr"
        },
        {
          "output_type": "stream",
          "text": [
            "groudonprimal\n"
          ],
          "name": "stdout"
        },
        {
          "output_type": "stream",
          "text": [
            "\n",
            "\n",
            " 12%|█▏        | 140/1127 [04:09<35:01,  2.13s/it]\u001b[A\u001b[A"
          ],
          "name": "stderr"
        },
        {
          "output_type": "stream",
          "text": [
            "exeggutor\n"
          ],
          "name": "stdout"
        },
        {
          "output_type": "stream",
          "text": [
            "\n",
            "\n",
            " 13%|█▎        | 141/1127 [04:11<33:19,  2.03s/it]\u001b[A\u001b[A"
          ],
          "name": "stderr"
        },
        {
          "output_type": "stream",
          "text": [
            "latiosmega\n"
          ],
          "name": "stdout"
        },
        {
          "output_type": "stream",
          "text": [
            "\n",
            "\n",
            " 13%|█▎        | 142/1127 [04:13<34:48,  2.12s/it]\u001b[A\u001b[A"
          ],
          "name": "stderr"
        },
        {
          "output_type": "stream",
          "text": [
            "stufful\n"
          ],
          "name": "stdout"
        },
        {
          "output_type": "stream",
          "text": [
            "\n",
            "\n",
            " 13%|█▎        | 143/1127 [04:15<35:33,  2.17s/it]\u001b[A\u001b[A"
          ],
          "name": "stderr"
        },
        {
          "output_type": "stream",
          "text": [
            "oddish\n"
          ],
          "name": "stdout"
        },
        {
          "output_type": "stream",
          "text": [
            "\n",
            "\n",
            " 13%|█▎        | 144/1127 [04:17<35:41,  2.18s/it]\u001b[A\u001b[A"
          ],
          "name": "stderr"
        },
        {
          "output_type": "stream",
          "text": [
            "voltorb\n"
          ],
          "name": "stdout"
        },
        {
          "output_type": "stream",
          "text": [
            "\n",
            "\n",
            " 13%|█▎        | 145/1127 [04:20<37:31,  2.29s/it]\u001b[A\u001b[A"
          ],
          "name": "stderr"
        },
        {
          "output_type": "stream",
          "text": [
            "stantler\n"
          ],
          "name": "stdout"
        },
        {
          "output_type": "stream",
          "text": [
            "\n",
            "\n",
            " 13%|█▎        | 146/1127 [04:22<35:40,  2.18s/it]\u001b[A\u001b[A"
          ],
          "name": "stderr"
        },
        {
          "output_type": "stream",
          "text": [
            "klefki\n"
          ],
          "name": "stdout"
        },
        {
          "output_type": "stream",
          "text": [
            "\n",
            "\n",
            " 13%|█▎        | 147/1127 [04:24<33:47,  2.07s/it]\u001b[A\u001b[A"
          ],
          "name": "stderr"
        },
        {
          "output_type": "stream",
          "text": [
            "marowakalola\n"
          ],
          "name": "stdout"
        },
        {
          "output_type": "stream",
          "text": [
            "\n",
            "\n",
            " 13%|█▎        | 148/1127 [04:26<34:54,  2.14s/it]\u001b[A\u001b[A"
          ],
          "name": "stderr"
        },
        {
          "output_type": "stream",
          "text": [
            "arceuselectric\n"
          ],
          "name": "stdout"
        },
        {
          "output_type": "stream",
          "text": [
            "\n",
            "\n",
            " 13%|█▎        | 149/1127 [04:28<35:24,  2.17s/it]\u001b[A\u001b[A"
          ],
          "name": "stderr"
        },
        {
          "output_type": "stream",
          "text": [
            "dewgong\n"
          ],
          "name": "stdout"
        },
        {
          "output_type": "stream",
          "text": [
            "\n",
            "\n",
            " 13%|█▎        | 150/1127 [04:31<38:12,  2.35s/it]\u001b[A\u001b[A"
          ],
          "name": "stderr"
        },
        {
          "output_type": "stream",
          "text": [
            "giratinaorigin\n"
          ],
          "name": "stdout"
        },
        {
          "output_type": "stream",
          "text": [
            "\n",
            "\n",
            " 13%|█▎        | 151/1127 [04:34<38:47,  2.38s/it]\u001b[A\u001b[A"
          ],
          "name": "stderr"
        },
        {
          "output_type": "stream",
          "text": [
            "drifloon\n"
          ],
          "name": "stdout"
        },
        {
          "output_type": "stream",
          "text": [
            "\n",
            "\n",
            " 13%|█▎        | 152/1127 [04:36<37:44,  2.32s/it]\u001b[A\u001b[A"
          ],
          "name": "stderr"
        },
        {
          "output_type": "stream",
          "text": [
            "scatterbug\n"
          ],
          "name": "stdout"
        },
        {
          "output_type": "stream",
          "text": [
            "\n",
            "\n",
            " 14%|█▎        | 153/1127 [04:38<36:44,  2.26s/it]\u001b[A\u001b[A"
          ],
          "name": "stderr"
        },
        {
          "output_type": "stream",
          "text": [
            "clawitzer\n"
          ],
          "name": "stdout"
        },
        {
          "output_type": "stream",
          "text": [
            "\n",
            "\n",
            " 14%|█▎        | 154/1127 [04:39<32:26,  2.00s/it]\u001b[A\u001b[A"
          ],
          "name": "stderr"
        },
        {
          "output_type": "stream",
          "text": [
            "barraskewda\n"
          ],
          "name": "stdout"
        },
        {
          "output_type": "stream",
          "text": [
            "\n",
            "\n",
            " 14%|█▍        | 155/1127 [04:41<32:19,  2.00s/it]\u001b[A\u001b[A"
          ],
          "name": "stderr"
        },
        {
          "output_type": "stream",
          "text": [
            "eeveegmax\n"
          ],
          "name": "stdout"
        },
        {
          "output_type": "stream",
          "text": [
            "\n",
            "\n",
            " 14%|█▍        | 156/1127 [04:43<29:40,  1.83s/it]\u001b[A\u001b[A"
          ],
          "name": "stderr"
        },
        {
          "output_type": "stream",
          "text": [
            "nidorina\n"
          ],
          "name": "stdout"
        },
        {
          "output_type": "stream",
          "text": [
            "\n",
            "\n",
            " 14%|█▍        | 157/1127 [04:45<32:07,  1.99s/it]\u001b[A\u001b[A"
          ],
          "name": "stderr"
        },
        {
          "output_type": "stream",
          "text": [
            "dusclops\n"
          ],
          "name": "stdout"
        },
        {
          "output_type": "stream",
          "text": [
            "\n",
            "\n",
            " 14%|█▍        | 158/1127 [04:47<34:24,  2.13s/it]\u001b[A\u001b[A"
          ],
          "name": "stderr"
        },
        {
          "output_type": "stream",
          "text": [
            "loudred\n"
          ],
          "name": "stdout"
        },
        {
          "output_type": "stream",
          "text": [
            "\n",
            "\n",
            " 14%|█▍        | 159/1127 [04:49<33:25,  2.07s/it]\u001b[A\u001b[A"
          ],
          "name": "stderr"
        },
        {
          "output_type": "stream",
          "text": [
            "garchomp\n"
          ],
          "name": "stdout"
        },
        {
          "output_type": "stream",
          "text": [
            "\n",
            "\n",
            " 14%|█▍        | 160/1127 [04:52<33:34,  2.08s/it]\u001b[A\u001b[A"
          ],
          "name": "stderr"
        },
        {
          "output_type": "stream",
          "text": [
            "pikachubelle\n"
          ],
          "name": "stdout"
        },
        {
          "output_type": "stream",
          "text": [
            "\n",
            "\n",
            " 14%|█▍        | 161/1127 [04:53<32:22,  2.01s/it]\u001b[A\u001b[A"
          ],
          "name": "stderr"
        },
        {
          "output_type": "stream",
          "text": [
            "mukalola\n"
          ],
          "name": "stdout"
        },
        {
          "output_type": "stream",
          "text": [
            "\n",
            "\n",
            " 14%|█▍        | 162/1127 [04:55<31:04,  1.93s/it]\u001b[A\u001b[A"
          ],
          "name": "stderr"
        },
        {
          "output_type": "stream",
          "text": [
            "braixen\n"
          ],
          "name": "stdout"
        },
        {
          "output_type": "stream",
          "text": [
            "\n",
            "\n",
            " 14%|█▍        | 163/1127 [04:57<32:44,  2.04s/it]\u001b[A\u001b[A"
          ],
          "name": "stderr"
        },
        {
          "output_type": "stream",
          "text": [
            "morpeko\n"
          ],
          "name": "stdout"
        },
        {
          "output_type": "stream",
          "text": [
            "\n",
            "\n",
            " 15%|█▍        | 164/1127 [05:00<33:08,  2.06s/it]\u001b[A\u001b[A"
          ],
          "name": "stderr"
        },
        {
          "output_type": "stream",
          "text": [
            "cubchoo\n"
          ],
          "name": "stdout"
        },
        {
          "output_type": "stream",
          "text": [
            "\n",
            "\n",
            " 15%|█▍        | 165/1127 [05:01<31:18,  1.95s/it]\u001b[A\u001b[A"
          ],
          "name": "stderr"
        },
        {
          "output_type": "stream",
          "text": [
            "blazikenmega\n"
          ],
          "name": "stdout"
        },
        {
          "output_type": "stream",
          "text": [
            "\n",
            "\n",
            " 15%|█▍        | 166/1127 [05:03<32:08,  2.01s/it]\u001b[A\u001b[A"
          ],
          "name": "stderr"
        },
        {
          "output_type": "stream",
          "text": [
            "tepig\n"
          ],
          "name": "stdout"
        },
        {
          "output_type": "stream",
          "text": [
            "\n",
            "\n",
            " 15%|█▍        | 167/1127 [05:05<32:16,  2.02s/it]\u001b[A\u001b[A"
          ],
          "name": "stderr"
        },
        {
          "output_type": "stream",
          "text": [
            "whirlipede\n"
          ],
          "name": "stdout"
        },
        {
          "output_type": "stream",
          "text": [
            "\n",
            "\n",
            " 15%|█▍        | 168/1127 [05:08<36:28,  2.28s/it]\u001b[A\u001b[A"
          ],
          "name": "stderr"
        },
        {
          "output_type": "stream",
          "text": [
            "zweilous\n"
          ],
          "name": "stdout"
        },
        {
          "output_type": "stream",
          "text": [
            "\n",
            "\n",
            " 15%|█▍        | 169/1127 [05:10<35:36,  2.23s/it]\u001b[A\u001b[A"
          ],
          "name": "stderr"
        },
        {
          "output_type": "stream",
          "text": [
            "dugtrio\n"
          ],
          "name": "stdout"
        },
        {
          "output_type": "stream",
          "text": [
            "\n",
            "\n",
            " 15%|█▌        | 170/1127 [05:12<33:50,  2.12s/it]\u001b[A\u001b[A"
          ],
          "name": "stderr"
        },
        {
          "output_type": "stream",
          "text": [
            "bayleef\n"
          ],
          "name": "stdout"
        },
        {
          "output_type": "stream",
          "text": [
            "\n",
            "\n",
            " 15%|█▌        | 171/1127 [05:14<34:14,  2.15s/it]\u001b[A\u001b[A"
          ],
          "name": "stderr"
        },
        {
          "output_type": "stream",
          "text": [
            "meltan\n"
          ],
          "name": "stdout"
        },
        {
          "output_type": "stream",
          "text": [
            "\n",
            "\n",
            " 15%|█▌        | 172/1127 [05:17<35:11,  2.21s/it]\u001b[A\u001b[A"
          ],
          "name": "stderr"
        },
        {
          "output_type": "stream",
          "text": [
            "tirtouga\n"
          ],
          "name": "stdout"
        },
        {
          "output_type": "stream",
          "text": [
            "\n",
            "\n",
            " 15%|█▌        | 173/1127 [05:19<33:31,  2.11s/it]\u001b[A\u001b[A"
          ],
          "name": "stderr"
        },
        {
          "output_type": "stream",
          "text": [
            "flygon\n"
          ],
          "name": "stdout"
        },
        {
          "output_type": "stream",
          "text": [
            "\n",
            "\n",
            " 15%|█▌        | 174/1127 [05:21<33:47,  2.13s/it]\u001b[A\u001b[A"
          ],
          "name": "stderr"
        },
        {
          "output_type": "stream",
          "text": [
            "darmanitangalar\n"
          ],
          "name": "stdout"
        },
        {
          "output_type": "stream",
          "text": [
            "\n",
            "\n",
            " 16%|█▌        | 175/1127 [05:23<32:03,  2.02s/it]\u001b[A\u001b[A"
          ],
          "name": "stderr"
        },
        {
          "output_type": "stream",
          "text": [
            "miniormeteor\n"
          ],
          "name": "stdout"
        },
        {
          "output_type": "stream",
          "text": [
            "\n",
            "\n",
            " 16%|█▌        | 176/1127 [05:25<31:31,  1.99s/it]\u001b[A\u001b[A"
          ],
          "name": "stderr"
        },
        {
          "output_type": "stream",
          "text": [
            "castform\n"
          ],
          "name": "stdout"
        },
        {
          "output_type": "stream",
          "text": [
            "\n",
            "\n",
            " 16%|█▌        | 177/1127 [05:26<31:10,  1.97s/it]\u001b[A\u001b[A"
          ],
          "name": "stderr"
        },
        {
          "output_type": "stream",
          "text": [
            "butterfree\n"
          ],
          "name": "stdout"
        },
        {
          "output_type": "stream",
          "text": [
            "\n",
            "\n",
            " 16%|█▌        | 178/1127 [05:29<33:07,  2.09s/it]\u001b[A\u001b[A"
          ],
          "name": "stderr"
        },
        {
          "output_type": "stream",
          "text": [
            "salandit\n"
          ],
          "name": "stdout"
        },
        {
          "output_type": "stream",
          "text": [
            "\n",
            "\n",
            " 16%|█▌        | 179/1127 [05:31<34:12,  2.17s/it]\u001b[A\u001b[A"
          ],
          "name": "stderr"
        },
        {
          "output_type": "stream",
          "text": [
            "mareanie\n"
          ],
          "name": "stdout"
        },
        {
          "output_type": "stream",
          "text": [
            "\n",
            "\n",
            " 16%|█▌        | 180/1127 [05:33<33:09,  2.10s/it]\u001b[A\u001b[A"
          ],
          "name": "stderr"
        },
        {
          "output_type": "stream",
          "text": [
            "gliscor\n"
          ],
          "name": "stdout"
        },
        {
          "output_type": "stream",
          "text": [
            "\n",
            "\n",
            " 16%|█▌        | 181/1127 [05:35<33:40,  2.14s/it]\u001b[A\u001b[A"
          ],
          "name": "stderr"
        },
        {
          "output_type": "stream",
          "text": [
            "deoxysattack\n"
          ],
          "name": "stdout"
        },
        {
          "output_type": "stream",
          "text": [
            "\n",
            "\n",
            " 16%|█▌        | 182/1127 [05:37<31:51,  2.02s/it]\u001b[A\u001b[A"
          ],
          "name": "stderr"
        },
        {
          "output_type": "stream",
          "text": [
            "unown\n"
          ],
          "name": "stdout"
        },
        {
          "output_type": "stream",
          "text": [
            "\n",
            "\n",
            " 16%|█▌        | 183/1127 [05:39<32:32,  2.07s/it]\u001b[A\u001b[A"
          ],
          "name": "stderr"
        },
        {
          "output_type": "stream",
          "text": [
            "guzzlord\n"
          ],
          "name": "stdout"
        },
        {
          "output_type": "stream",
          "text": [
            "\n",
            "\n",
            " 16%|█▋        | 184/1127 [05:41<32:54,  2.09s/it]\u001b[A\u001b[A"
          ],
          "name": "stderr"
        },
        {
          "output_type": "stream",
          "text": [
            "kommoo\n"
          ],
          "name": "stdout"
        },
        {
          "output_type": "stream",
          "text": [
            "\n",
            "\n",
            " 16%|█▋        | 185/1127 [05:44<33:57,  2.16s/it]\u001b[A\u001b[A"
          ],
          "name": "stderr"
        },
        {
          "output_type": "stream",
          "text": [
            "silvallyrock\n"
          ],
          "name": "stdout"
        },
        {
          "output_type": "stream",
          "text": [
            "\n",
            "\n",
            " 17%|█▋        | 186/1127 [05:45<30:09,  1.92s/it]\u001b[A\u001b[A"
          ],
          "name": "stderr"
        },
        {
          "output_type": "stream",
          "text": [
            "alakazammega\n"
          ],
          "name": "stdout"
        },
        {
          "output_type": "stream",
          "text": [
            "\n",
            "\n",
            " 17%|█▋        | 187/1127 [05:47<31:01,  1.98s/it]\u001b[A\u001b[A"
          ],
          "name": "stderr"
        },
        {
          "output_type": "stream",
          "text": [
            "mamoswine\n"
          ],
          "name": "stdout"
        },
        {
          "output_type": "stream",
          "text": [
            "\n",
            "\n",
            " 17%|█▋        | 188/1127 [05:49<30:42,  1.96s/it]\u001b[A\u001b[A"
          ],
          "name": "stderr"
        },
        {
          "output_type": "stream",
          "text": [
            "gengar\n"
          ],
          "name": "stdout"
        },
        {
          "output_type": "stream",
          "text": [
            "\n",
            "\n",
            " 17%|█▋        | 189/1127 [05:51<31:43,  2.03s/it]\u001b[A\u001b[A"
          ],
          "name": "stderr"
        },
        {
          "output_type": "stream",
          "text": [
            "croconaw\n"
          ],
          "name": "stdout"
        },
        {
          "output_type": "stream",
          "text": [
            "\n",
            "\n",
            " 17%|█▋        | 190/1127 [05:55<37:49,  2.42s/it]\u001b[A\u001b[A"
          ],
          "name": "stderr"
        },
        {
          "output_type": "stream",
          "text": [
            "stunfiskgalar\n"
          ],
          "name": "stdout"
        },
        {
          "output_type": "stream",
          "text": [
            "\n",
            "\n",
            " 17%|█▋        | 191/1127 [05:58<40:50,  2.62s/it]\u001b[A\u001b[A"
          ],
          "name": "stderr"
        },
        {
          "output_type": "stream",
          "text": [
            "rhydon\n"
          ],
          "name": "stdout"
        },
        {
          "output_type": "stream",
          "text": [
            "\n",
            "\n",
            " 17%|█▋        | 192/1127 [06:00<38:52,  2.50s/it]\u001b[A\u001b[A"
          ],
          "name": "stderr"
        },
        {
          "output_type": "stream",
          "text": [
            "binacle\n"
          ],
          "name": "stdout"
        },
        {
          "output_type": "stream",
          "text": [
            "\n",
            "\n",
            " 17%|█▋        | 193/1127 [06:02<36:50,  2.37s/it]\u001b[A\u001b[A"
          ],
          "name": "stderr"
        },
        {
          "output_type": "stream",
          "text": [
            "victreebel\n"
          ],
          "name": "stdout"
        },
        {
          "output_type": "stream",
          "text": [
            "\n",
            "\n",
            " 17%|█▋        | 194/1127 [06:04<34:25,  2.21s/it]\u001b[A\u001b[A"
          ],
          "name": "stderr"
        },
        {
          "output_type": "stream",
          "text": [
            "wishiwashi\n"
          ],
          "name": "stdout"
        },
        {
          "output_type": "stream",
          "text": [
            "\n",
            "\n",
            " 17%|█▋        | 195/1127 [06:06<33:46,  2.17s/it]\u001b[A\u001b[A"
          ],
          "name": "stderr"
        },
        {
          "output_type": "stream",
          "text": [
            "delibird\n"
          ],
          "name": "stdout"
        },
        {
          "output_type": "stream",
          "text": [
            "\n",
            "\n",
            " 17%|█▋        | 196/1127 [06:08<33:50,  2.18s/it]\u001b[A\u001b[A"
          ],
          "name": "stderr"
        },
        {
          "output_type": "stream",
          "text": [
            "igglybuff\n"
          ],
          "name": "stdout"
        },
        {
          "output_type": "stream",
          "text": [
            "\n",
            "\n",
            " 17%|█▋        | 197/1127 [06:10<30:56,  2.00s/it]\u001b[A\u001b[A"
          ],
          "name": "stderr"
        },
        {
          "output_type": "stream",
          "text": [
            "darumakagalar\n"
          ],
          "name": "stdout"
        },
        {
          "output_type": "stream",
          "text": [
            "\n",
            "\n",
            " 18%|█▊        | 198/1127 [06:12<31:31,  2.04s/it]\u001b[A\u001b[A"
          ],
          "name": "stderr"
        },
        {
          "output_type": "stream",
          "text": [
            "slowpoke\n"
          ],
          "name": "stdout"
        },
        {
          "output_type": "stream",
          "text": [
            "\n",
            "\n",
            " 18%|█▊        | 199/1127 [06:13<29:30,  1.91s/it]\u001b[A\u001b[A"
          ],
          "name": "stderr"
        },
        {
          "output_type": "stream",
          "text": [
            "scizormega\n"
          ],
          "name": "stdout"
        },
        {
          "output_type": "stream",
          "text": [
            "\n",
            "\n",
            " 18%|█▊        | 200/1127 [06:16<30:31,  1.98s/it]\u001b[A\u001b[A"
          ],
          "name": "stderr"
        },
        {
          "output_type": "stream",
          "text": [
            "conkeldurr\n"
          ],
          "name": "stdout"
        },
        {
          "output_type": "stream",
          "text": [
            "\n",
            "\n",
            " 18%|█▊        | 201/1127 [06:17<29:11,  1.89s/it]\u001b[A\u001b[A"
          ],
          "name": "stderr"
        },
        {
          "output_type": "stream",
          "text": [
            "tapufini\n"
          ],
          "name": "stdout"
        },
        {
          "output_type": "stream",
          "text": [
            "\n",
            "\n",
            " 18%|█▊        | 202/1127 [06:19<28:42,  1.86s/it]\u001b[A\u001b[A"
          ],
          "name": "stderr"
        },
        {
          "output_type": "stream",
          "text": [
            "coalossal\n"
          ],
          "name": "stdout"
        },
        {
          "output_type": "stream",
          "text": [
            "\n",
            "\n",
            " 18%|█▊        | 203/1127 [06:22<31:17,  2.03s/it]\u001b[A\u001b[A"
          ],
          "name": "stderr"
        },
        {
          "output_type": "stream",
          "text": [
            "nidoranf\n"
          ],
          "name": "stdout"
        },
        {
          "output_type": "stream",
          "text": [
            "\n",
            "\n",
            " 18%|█▊        | 204/1127 [06:23<29:40,  1.93s/it]\u001b[A\u001b[A"
          ],
          "name": "stderr"
        },
        {
          "output_type": "stream",
          "text": [
            "squirtle\n"
          ],
          "name": "stdout"
        },
        {
          "output_type": "stream",
          "text": [
            "\n",
            "\n",
            " 18%|█▊        | 205/1127 [06:26<32:17,  2.10s/it]\u001b[A\u001b[A"
          ],
          "name": "stderr"
        },
        {
          "output_type": "stream",
          "text": [
            "tympole\n"
          ],
          "name": "stdout"
        },
        {
          "output_type": "stream",
          "text": [
            "\n",
            "\n",
            " 18%|█▊        | 206/1127 [06:30<40:56,  2.67s/it]\u001b[A\u001b[A"
          ],
          "name": "stderr"
        },
        {
          "output_type": "stream",
          "text": [
            "marowak\n"
          ],
          "name": "stdout"
        },
        {
          "output_type": "stream",
          "text": [
            "\n",
            "\n",
            " 18%|█▊        | 207/1127 [06:32<39:36,  2.58s/it]\u001b[A\u001b[A"
          ],
          "name": "stderr"
        },
        {
          "output_type": "stream",
          "text": [
            "wooper\n"
          ],
          "name": "stdout"
        },
        {
          "output_type": "stream",
          "text": [
            "\n",
            "\n",
            " 18%|█▊        | 208/1127 [06:36<43:37,  2.85s/it]\u001b[A\u001b[A"
          ],
          "name": "stderr"
        },
        {
          "output_type": "stream",
          "text": [
            "lanturn\n"
          ],
          "name": "stdout"
        },
        {
          "output_type": "stream",
          "text": [
            "\n",
            "\n",
            " 19%|█▊        | 209/1127 [06:39<47:31,  3.11s/it]\u001b[A\u001b[A"
          ],
          "name": "stderr"
        },
        {
          "output_type": "stream",
          "text": [
            "genesectchill\n"
          ],
          "name": "stdout"
        },
        {
          "output_type": "stream",
          "text": [
            "\n",
            "\n",
            " 19%|█▊        | 210/1127 [06:43<49:53,  3.26s/it]\u001b[A\u001b[A"
          ],
          "name": "stderr"
        },
        {
          "output_type": "stream",
          "text": [
            "aromatisse\n"
          ],
          "name": "stdout"
        },
        {
          "output_type": "stream",
          "text": [
            "\n",
            "\n",
            " 19%|█▊        | 211/1127 [06:47<52:11,  3.42s/it]\u001b[A\u001b[A"
          ],
          "name": "stderr"
        },
        {
          "output_type": "stream",
          "text": [
            "magnemite\n"
          ],
          "name": "stdout"
        },
        {
          "output_type": "stream",
          "text": [
            "\n",
            "\n",
            " 19%|█▉        | 212/1127 [06:50<53:06,  3.48s/it]\u001b[A\u001b[A"
          ],
          "name": "stderr"
        },
        {
          "output_type": "stream",
          "text": [
            "foongus\n"
          ],
          "name": "stdout"
        },
        {
          "output_type": "stream",
          "text": [
            "\n",
            "\n",
            " 19%|█▉        | 213/1127 [06:55<56:22,  3.70s/it]\u001b[A\u001b[A"
          ],
          "name": "stderr"
        },
        {
          "output_type": "stream",
          "text": [
            "simisear\n"
          ],
          "name": "stdout"
        },
        {
          "output_type": "stream",
          "text": [
            "\n",
            "\n",
            " 19%|█▉        | 214/1127 [06:58<56:18,  3.70s/it]\u001b[A\u001b[A"
          ],
          "name": "stderr"
        },
        {
          "output_type": "stream",
          "text": [
            "gossifleur\n"
          ],
          "name": "stdout"
        },
        {
          "output_type": "stream",
          "text": [
            "\n",
            "\n",
            " 19%|█▉        | 215/1127 [07:00<46:25,  3.05s/it]\u001b[A\u001b[A"
          ],
          "name": "stderr"
        },
        {
          "output_type": "stream",
          "text": [
            "cacnea\n"
          ],
          "name": "stdout"
        },
        {
          "output_type": "stream",
          "text": [
            "\n",
            "\n",
            " 19%|█▉        | 216/1127 [07:01<39:04,  2.57s/it]\u001b[A\u001b[A"
          ],
          "name": "stderr"
        },
        {
          "output_type": "stream",
          "text": [
            "feebas\n"
          ],
          "name": "stdout"
        },
        {
          "output_type": "stream",
          "text": [
            "\n",
            "\n",
            " 19%|█▉        | 217/1127 [07:03<33:57,  2.24s/it]\u001b[A\u001b[A"
          ],
          "name": "stderr"
        },
        {
          "output_type": "stream",
          "text": [
            "rookidee\n"
          ],
          "name": "stdout"
        },
        {
          "output_type": "stream",
          "text": [
            "\n",
            "\n",
            " 19%|█▉        | 218/1127 [07:04<30:15,  2.00s/it]\u001b[A\u001b[A"
          ],
          "name": "stderr"
        },
        {
          "output_type": "stream",
          "text": [
            "blaziken\n"
          ],
          "name": "stdout"
        },
        {
          "output_type": "stream",
          "text": [
            "\n",
            "\n",
            " 19%|█▉        | 219/1127 [07:06<27:34,  1.82s/it]\u001b[A\u001b[A"
          ],
          "name": "stderr"
        },
        {
          "output_type": "stream",
          "text": [
            "drapion\n"
          ],
          "name": "stdout"
        },
        {
          "output_type": "stream",
          "text": [
            "\n",
            "\n",
            " 20%|█▉        | 220/1127 [07:07<25:42,  1.70s/it]\u001b[A\u001b[A"
          ],
          "name": "stderr"
        },
        {
          "output_type": "stream",
          "text": [
            "farfetch'd\n"
          ],
          "name": "stdout"
        },
        {
          "output_type": "stream",
          "text": [
            "\n",
            "\n",
            " 20%|█▉        | 221/1127 [07:08<24:30,  1.62s/it]\u001b[A\u001b[A"
          ],
          "name": "stderr"
        },
        {
          "output_type": "stream",
          "text": [
            "starmie\n"
          ],
          "name": "stdout"
        },
        {
          "output_type": "stream",
          "text": [
            "\n",
            "\n",
            " 20%|█▉        | 222/1127 [07:10<23:38,  1.57s/it]\u001b[A\u001b[A"
          ],
          "name": "stderr"
        },
        {
          "output_type": "stream",
          "text": [
            "tyranitarmega\n"
          ],
          "name": "stdout"
        },
        {
          "output_type": "stream",
          "text": [
            "\n",
            "\n",
            " 20%|█▉        | 223/1127 [07:11<22:54,  1.52s/it]\u001b[A\u001b[A"
          ],
          "name": "stderr"
        },
        {
          "output_type": "stream",
          "text": [
            "genesectburn\n"
          ],
          "name": "stdout"
        },
        {
          "output_type": "stream",
          "text": [
            "\n",
            "\n",
            " 20%|█▉        | 224/1127 [07:13<22:29,  1.49s/it]\u001b[A\u001b[A"
          ],
          "name": "stderr"
        },
        {
          "output_type": "stream",
          "text": [
            "raichu\n"
          ],
          "name": "stdout"
        },
        {
          "output_type": "stream",
          "text": [
            "\n",
            "\n",
            " 20%|█▉        | 225/1127 [07:14<22:00,  1.46s/it]\u001b[A\u001b[A"
          ],
          "name": "stderr"
        },
        {
          "output_type": "stream",
          "text": [
            "silicobra\n"
          ],
          "name": "stdout"
        },
        {
          "output_type": "stream",
          "text": [
            "\n",
            "\n",
            " 20%|██        | 226/1127 [07:15<21:36,  1.44s/it]\u001b[A\u001b[A"
          ],
          "name": "stderr"
        },
        {
          "output_type": "stream",
          "text": [
            "castformsnowy\n"
          ],
          "name": "stdout"
        },
        {
          "output_type": "stream",
          "text": [
            "\n",
            "\n",
            " 20%|██        | 227/1127 [07:17<21:26,  1.43s/it]\u001b[A\u001b[A"
          ],
          "name": "stderr"
        },
        {
          "output_type": "stream",
          "text": [
            "pikachulibre\n"
          ],
          "name": "stdout"
        },
        {
          "output_type": "stream",
          "text": [
            "\n",
            "\n",
            " 20%|██        | 228/1127 [07:19<22:45,  1.52s/it]\u001b[A\u001b[A"
          ],
          "name": "stderr"
        },
        {
          "output_type": "stream",
          "text": [
            "carvanha\n"
          ],
          "name": "stdout"
        },
        {
          "output_type": "stream",
          "text": [
            "\n",
            "\n",
            " 20%|██        | 229/1127 [07:20<22:16,  1.49s/it]\u001b[A\u001b[A"
          ],
          "name": "stderr"
        },
        {
          "output_type": "stream",
          "text": [
            "basculinbluestriped\n"
          ],
          "name": "stdout"
        },
        {
          "output_type": "stream",
          "text": [
            "\n",
            "\n",
            " 20%|██        | 230/1127 [07:21<21:48,  1.46s/it]\u001b[A\u001b[A"
          ],
          "name": "stderr"
        },
        {
          "output_type": "stream",
          "text": [
            "croagunk\n"
          ],
          "name": "stdout"
        },
        {
          "output_type": "stream",
          "text": [
            "\n",
            "\n",
            " 20%|██        | 231/1127 [07:23<21:32,  1.44s/it]\u001b[A\u001b[A"
          ],
          "name": "stderr"
        },
        {
          "output_type": "stream",
          "text": [
            "manectric\n"
          ],
          "name": "stdout"
        },
        {
          "output_type": "stream",
          "text": [
            "\n",
            "\n",
            " 21%|██        | 232/1127 [07:24<21:34,  1.45s/it]\u001b[A\u001b[A"
          ],
          "name": "stderr"
        },
        {
          "output_type": "stream",
          "text": [
            "pikachupopstar\n"
          ],
          "name": "stdout"
        },
        {
          "output_type": "stream",
          "text": [
            "\n",
            "\n",
            " 21%|██        | 233/1127 [07:26<21:29,  1.44s/it]\u001b[A\u001b[A"
          ],
          "name": "stderr"
        },
        {
          "output_type": "stream",
          "text": [
            "vigoroth\n"
          ],
          "name": "stdout"
        },
        {
          "output_type": "stream",
          "text": [
            "\n",
            "\n",
            " 21%|██        | 234/1127 [07:27<21:30,  1.44s/it]\u001b[A\u001b[A"
          ],
          "name": "stderr"
        },
        {
          "output_type": "stream",
          "text": [
            "lugia\n"
          ],
          "name": "stdout"
        },
        {
          "output_type": "stream",
          "text": [
            "\n",
            "\n",
            " 21%|██        | 235/1127 [07:29<21:36,  1.45s/it]\u001b[A\u001b[A"
          ],
          "name": "stderr"
        },
        {
          "output_type": "stream",
          "text": [
            "klinklang\n"
          ],
          "name": "stdout"
        },
        {
          "output_type": "stream",
          "text": [
            "\n",
            "\n",
            " 21%|██        | 236/1127 [07:30<23:17,  1.57s/it]\u001b[A\u001b[A"
          ],
          "name": "stderr"
        },
        {
          "output_type": "stream",
          "text": [
            "corvisquire\n"
          ],
          "name": "stdout"
        },
        {
          "output_type": "stream",
          "text": [
            "\n",
            "\n",
            " 21%|██        | 237/1127 [07:32<22:42,  1.53s/it]\u001b[A\u001b[A"
          ],
          "name": "stderr"
        },
        {
          "output_type": "stream",
          "text": [
            "charjabug\n"
          ],
          "name": "stdout"
        },
        {
          "output_type": "stream",
          "text": [
            "\n",
            "\n",
            " 21%|██        | 238/1127 [07:33<22:34,  1.52s/it]\u001b[A\u001b[A"
          ],
          "name": "stderr"
        },
        {
          "output_type": "stream",
          "text": [
            "munna\n"
          ],
          "name": "stdout"
        },
        {
          "output_type": "stream",
          "text": [
            "\n",
            "\n",
            " 21%|██        | 239/1127 [07:35<21:30,  1.45s/it]\u001b[A\u001b[A"
          ],
          "name": "stderr"
        },
        {
          "output_type": "stream",
          "text": [
            "melmetalgmax\n"
          ],
          "name": "stdout"
        },
        {
          "output_type": "stream",
          "text": [
            "\n",
            "\n",
            " 21%|██▏       | 240/1127 [07:36<21:48,  1.47s/it]\u001b[A\u001b[A"
          ],
          "name": "stderr"
        },
        {
          "output_type": "stream",
          "text": [
            "ditto\n"
          ],
          "name": "stdout"
        },
        {
          "output_type": "stream",
          "text": [
            "\n",
            "\n",
            " 21%|██▏       | 241/1127 [07:38<21:50,  1.48s/it]\u001b[A\u001b[A"
          ],
          "name": "stderr"
        },
        {
          "output_type": "stream",
          "text": [
            "gengargmax\n"
          ],
          "name": "stdout"
        },
        {
          "output_type": "stream",
          "text": [
            "\n",
            "\n",
            " 21%|██▏       | 242/1127 [07:39<23:06,  1.57s/it]\u001b[A\u001b[A"
          ],
          "name": "stderr"
        },
        {
          "output_type": "stream",
          "text": [
            "weezing\n"
          ],
          "name": "stdout"
        },
        {
          "output_type": "stream",
          "text": [
            "\n",
            "\n",
            " 22%|██▏       | 243/1127 [07:41<23:50,  1.62s/it]\u001b[A\u001b[A"
          ],
          "name": "stderr"
        },
        {
          "output_type": "stream",
          "text": [
            "salazzletotem\n"
          ],
          "name": "stdout"
        },
        {
          "output_type": "stream",
          "text": [
            "\n",
            "\n",
            " 22%|██▏       | 244/1127 [07:43<23:30,  1.60s/it]\u001b[A\u001b[A"
          ],
          "name": "stderr"
        },
        {
          "output_type": "stream",
          "text": [
            "mudbray\n"
          ],
          "name": "stdout"
        },
        {
          "output_type": "stream",
          "text": [
            "\n",
            "\n",
            " 22%|██▏       | 245/1127 [07:44<23:46,  1.62s/it]\u001b[A\u001b[A"
          ],
          "name": "stderr"
        },
        {
          "output_type": "stream",
          "text": [
            "mudsdale\n"
          ],
          "name": "stdout"
        },
        {
          "output_type": "stream",
          "text": [
            "\n",
            "\n",
            " 22%|██▏       | 246/1127 [07:46<22:55,  1.56s/it]\u001b[A\u001b[A"
          ],
          "name": "stderr"
        },
        {
          "output_type": "stream",
          "text": [
            "cresselia\n"
          ],
          "name": "stdout"
        },
        {
          "output_type": "stream",
          "text": [
            "\n",
            "\n",
            " 22%|██▏       | 247/1127 [07:47<22:53,  1.56s/it]\u001b[A\u001b[A"
          ],
          "name": "stderr"
        },
        {
          "output_type": "stream",
          "text": [
            "joltik\n"
          ],
          "name": "stdout"
        },
        {
          "output_type": "stream",
          "text": [
            "\n",
            "\n",
            " 22%|██▏       | 248/1127 [07:49<22:31,  1.54s/it]\u001b[A\u001b[A"
          ],
          "name": "stderr"
        },
        {
          "output_type": "stream",
          "text": [
            "geodude\n"
          ],
          "name": "stdout"
        },
        {
          "output_type": "stream",
          "text": [
            "\n",
            "\n",
            " 22%|██▏       | 249/1127 [07:50<22:38,  1.55s/it]\u001b[A\u001b[A"
          ],
          "name": "stderr"
        },
        {
          "output_type": "stream",
          "text": [
            "audino\n"
          ],
          "name": "stdout"
        },
        {
          "output_type": "stream",
          "text": [
            "\n",
            "\n",
            " 22%|██▏       | 250/1127 [07:53<25:16,  1.73s/it]\u001b[A\u001b[A"
          ],
          "name": "stderr"
        },
        {
          "output_type": "stream",
          "text": [
            "porygonz\n"
          ],
          "name": "stdout"
        },
        {
          "output_type": "stream",
          "text": [
            "\n",
            "\n",
            " 22%|██▏       | 251/1127 [07:55<26:10,  1.79s/it]\u001b[A\u001b[A"
          ],
          "name": "stderr"
        },
        {
          "output_type": "stream",
          "text": [
            "pikachukalos\n"
          ],
          "name": "stdout"
        },
        {
          "output_type": "stream",
          "text": [
            "\n",
            "\n",
            " 22%|██▏       | 252/1127 [07:56<24:41,  1.69s/it]\u001b[A\u001b[A"
          ],
          "name": "stderr"
        },
        {
          "output_type": "stream",
          "text": [
            "bastiodon\n"
          ],
          "name": "stdout"
        },
        {
          "output_type": "stream",
          "text": [
            "\n",
            "\n",
            " 22%|██▏       | 253/1127 [07:57<22:50,  1.57s/it]\u001b[A\u001b[A"
          ],
          "name": "stderr"
        },
        {
          "output_type": "stream",
          "text": [
            "nihilego\n"
          ],
          "name": "stdout"
        },
        {
          "output_type": "stream",
          "text": [
            "\n",
            "\n",
            " 23%|██▎       | 254/1127 [07:59<23:23,  1.61s/it]\u001b[A\u001b[A"
          ],
          "name": "stderr"
        },
        {
          "output_type": "stream",
          "text": [
            "sandaconda\n"
          ],
          "name": "stdout"
        },
        {
          "output_type": "stream",
          "text": [
            "\n",
            "\n",
            " 23%|██▎       | 255/1127 [08:00<22:48,  1.57s/it]\u001b[A\u001b[A"
          ],
          "name": "stderr"
        },
        {
          "output_type": "stream",
          "text": [
            "decidueye\n"
          ],
          "name": "stdout"
        },
        {
          "output_type": "stream",
          "text": [
            "\n",
            "\n",
            " 23%|██▎       | 256/1127 [08:02<23:06,  1.59s/it]\u001b[A\u001b[A"
          ],
          "name": "stderr"
        },
        {
          "output_type": "stream",
          "text": [
            "scraggy\n"
          ],
          "name": "stdout"
        },
        {
          "output_type": "stream",
          "text": [
            "\n",
            "\n",
            " 23%|██▎       | 257/1127 [08:04<25:40,  1.77s/it]\u001b[A\u001b[A"
          ],
          "name": "stderr"
        },
        {
          "output_type": "stream",
          "text": [
            "lucario\n"
          ],
          "name": "stdout"
        },
        {
          "output_type": "stream",
          "text": [
            "\n",
            "\n",
            " 23%|██▎       | 258/1127 [08:06<24:28,  1.69s/it]\u001b[A\u001b[A"
          ],
          "name": "stderr"
        },
        {
          "output_type": "stream",
          "text": [
            "pangoro\n"
          ],
          "name": "stdout"
        },
        {
          "output_type": "stream",
          "text": [
            "\n",
            "\n",
            " 23%|██▎       | 259/1127 [08:08<24:59,  1.73s/it]\u001b[A\u001b[A"
          ],
          "name": "stderr"
        },
        {
          "output_type": "stream",
          "text": [
            "shelmet\n"
          ],
          "name": "stdout"
        },
        {
          "output_type": "stream",
          "text": [
            "\n",
            "\n",
            " 23%|██▎       | 260/1127 [08:09<24:05,  1.67s/it]\u001b[A\u001b[A"
          ],
          "name": "stderr"
        },
        {
          "output_type": "stream",
          "text": [
            "accelgor\n"
          ],
          "name": "stdout"
        },
        {
          "output_type": "stream",
          "text": [
            "\n",
            "\n",
            " 23%|██▎       | 261/1127 [08:11<24:47,  1.72s/it]\u001b[A\u001b[A"
          ],
          "name": "stderr"
        },
        {
          "output_type": "stream",
          "text": [
            "pidgeotto\n"
          ],
          "name": "stdout"
        },
        {
          "output_type": "stream",
          "text": [
            "\n",
            "\n",
            " 23%|██▎       | 262/1127 [08:13<26:04,  1.81s/it]\u001b[A\u001b[A"
          ],
          "name": "stderr"
        },
        {
          "output_type": "stream",
          "text": [
            "bellossom\n"
          ],
          "name": "stdout"
        },
        {
          "output_type": "stream",
          "text": [
            "\n",
            "\n",
            " 23%|██▎       | 263/1127 [08:15<25:09,  1.75s/it]\u001b[A\u001b[A"
          ],
          "name": "stderr"
        },
        {
          "output_type": "stream",
          "text": [
            "whimsicott\n"
          ],
          "name": "stdout"
        },
        {
          "output_type": "stream",
          "text": [
            "\n",
            "\n",
            " 23%|██▎       | 264/1127 [08:17<26:23,  1.83s/it]\u001b[A\u001b[A"
          ],
          "name": "stderr"
        },
        {
          "output_type": "stream",
          "text": [
            "cinccino\n"
          ],
          "name": "stdout"
        },
        {
          "output_type": "stream",
          "text": [
            "\n",
            "\n",
            " 24%|██▎       | 265/1127 [08:19<26:23,  1.84s/it]\u001b[A\u001b[A"
          ],
          "name": "stderr"
        },
        {
          "output_type": "stream",
          "text": [
            "volcanion\n"
          ],
          "name": "stdout"
        },
        {
          "output_type": "stream",
          "text": [
            "\n",
            "\n",
            " 24%|██▎       | 266/1127 [08:21<28:47,  2.01s/it]\u001b[A\u001b[A"
          ],
          "name": "stderr"
        },
        {
          "output_type": "stream",
          "text": [
            "greninja\n"
          ],
          "name": "stdout"
        },
        {
          "output_type": "stream",
          "text": [
            "\n",
            "\n",
            " 24%|██▎       | 267/1127 [08:23<28:19,  1.98s/it]\u001b[A\u001b[A"
          ],
          "name": "stderr"
        },
        {
          "output_type": "stream",
          "text": [
            "zygardecomplete\n"
          ],
          "name": "stdout"
        },
        {
          "output_type": "stream",
          "text": [
            "\n",
            "\n",
            " 24%|██▍       | 268/1127 [08:25<27:59,  1.96s/it]\u001b[A\u001b[A"
          ],
          "name": "stderr"
        },
        {
          "output_type": "stream",
          "text": [
            "sandile\n"
          ],
          "name": "stdout"
        },
        {
          "output_type": "stream",
          "text": [
            "\n",
            "\n",
            " 24%|██▍       | 269/1127 [08:27<28:22,  1.98s/it]\u001b[A\u001b[A"
          ],
          "name": "stderr"
        },
        {
          "output_type": "stream",
          "text": [
            "eiscuenoice\n"
          ],
          "name": "stdout"
        },
        {
          "output_type": "stream",
          "text": [
            "\n",
            "\n",
            " 24%|██▍       | 270/1127 [08:29<29:12,  2.04s/it]\u001b[A\u001b[A"
          ],
          "name": "stderr"
        },
        {
          "output_type": "stream",
          "text": [
            "arceusflying\n"
          ],
          "name": "stdout"
        },
        {
          "output_type": "stream",
          "text": [
            "\n",
            "\n",
            " 24%|██▍       | 271/1127 [08:31<28:20,  1.99s/it]\u001b[A\u001b[A"
          ],
          "name": "stderr"
        },
        {
          "output_type": "stream",
          "text": [
            "cosmog\n"
          ],
          "name": "stdout"
        },
        {
          "output_type": "stream",
          "text": [
            "\n",
            "\n",
            " 24%|██▍       | 272/1127 [08:33<28:50,  2.02s/it]\u001b[A\u001b[A"
          ],
          "name": "stderr"
        },
        {
          "output_type": "stream",
          "text": [
            "alcremie\n"
          ],
          "name": "stdout"
        },
        {
          "output_type": "stream",
          "text": [
            "\n",
            "\n",
            " 24%|██▍       | 273/1127 [08:35<28:37,  2.01s/it]\u001b[A\u001b[A"
          ],
          "name": "stderr"
        },
        {
          "output_type": "stream",
          "text": [
            "purugly\n"
          ],
          "name": "stdout"
        },
        {
          "output_type": "stream",
          "text": [
            "\n",
            "\n",
            " 24%|██▍       | 274/1127 [08:37<28:53,  2.03s/it]\u001b[A\u001b[A"
          ],
          "name": "stderr"
        },
        {
          "output_type": "stream",
          "text": [
            "silvallysteel\n"
          ],
          "name": "stdout"
        },
        {
          "output_type": "stream",
          "text": [
            "\n",
            "\n",
            " 24%|██▍       | 275/1127 [08:39<28:46,  2.03s/it]\u001b[A\u001b[A"
          ],
          "name": "stderr"
        },
        {
          "output_type": "stream",
          "text": [
            "ludicolo\n"
          ],
          "name": "stdout"
        },
        {
          "output_type": "stream",
          "text": [
            "\n",
            "\n",
            " 24%|██▍       | 276/1127 [08:41<28:36,  2.02s/it]\u001b[A\u001b[A"
          ],
          "name": "stderr"
        },
        {
          "output_type": "stream",
          "text": [
            "munchlax\n"
          ],
          "name": "stdout"
        },
        {
          "output_type": "stream",
          "text": [
            "\n",
            "\n",
            " 25%|██▍       | 277/1127 [08:43<28:23,  2.00s/it]\u001b[A\u001b[A"
          ],
          "name": "stderr"
        },
        {
          "output_type": "stream",
          "text": [
            "magnezone\n"
          ],
          "name": "stdout"
        },
        {
          "output_type": "stream",
          "text": [
            "\n",
            "\n",
            " 25%|██▍       | 278/1127 [08:45<28:50,  2.04s/it]\u001b[A\u001b[A"
          ],
          "name": "stderr"
        },
        {
          "output_type": "stream",
          "text": [
            "jolteon\n"
          ],
          "name": "stdout"
        },
        {
          "output_type": "stream",
          "text": [
            "\n",
            "\n",
            " 25%|██▍       | 279/1127 [08:47<28:42,  2.03s/it]\u001b[A\u001b[A"
          ],
          "name": "stderr"
        },
        {
          "output_type": "stream",
          "text": [
            "masquerain\n"
          ],
          "name": "stdout"
        },
        {
          "output_type": "stream",
          "text": [
            "\n",
            "\n",
            " 25%|██▍       | 280/1127 [08:49<29:03,  2.06s/it]\u001b[A\u001b[A"
          ],
          "name": "stderr"
        },
        {
          "output_type": "stream",
          "text": [
            "lileep\n"
          ],
          "name": "stdout"
        },
        {
          "output_type": "stream",
          "text": [
            "\n",
            "\n",
            " 25%|██▍       | 281/1127 [08:51<28:56,  2.05s/it]\u001b[A\u001b[A"
          ],
          "name": "stderr"
        },
        {
          "output_type": "stream",
          "text": [
            "sawsbuck\n"
          ],
          "name": "stdout"
        },
        {
          "output_type": "stream",
          "text": [
            "\n",
            "\n",
            " 25%|██▌       | 282/1127 [08:53<28:27,  2.02s/it]\u001b[A\u001b[A"
          ],
          "name": "stderr"
        },
        {
          "output_type": "stream",
          "text": [
            "eeveestarter\n"
          ],
          "name": "stdout"
        },
        {
          "output_type": "stream",
          "text": [
            "\n",
            "\n",
            " 25%|██▌       | 283/1127 [08:55<27:23,  1.95s/it]\u001b[A\u001b[A"
          ],
          "name": "stderr"
        },
        {
          "output_type": "stream",
          "text": [
            "blissey\n"
          ],
          "name": "stdout"
        },
        {
          "output_type": "stream",
          "text": [
            "\n",
            "\n",
            " 25%|██▌       | 284/1127 [08:57<28:13,  2.01s/it]\u001b[A\u001b[A"
          ],
          "name": "stderr"
        },
        {
          "output_type": "stream",
          "text": [
            "combusken\n"
          ],
          "name": "stdout"
        },
        {
          "output_type": "stream",
          "text": [
            "\n",
            "\n",
            " 25%|██▌       | 285/1127 [08:59<28:56,  2.06s/it]\u001b[A\u001b[A"
          ],
          "name": "stderr"
        },
        {
          "output_type": "stream",
          "text": [
            "arrokuda\n"
          ],
          "name": "stdout"
        },
        {
          "output_type": "stream",
          "text": [
            "\n",
            "\n",
            " 25%|██▌       | 286/1127 [09:02<29:30,  2.10s/it]\u001b[A\u001b[A"
          ],
          "name": "stderr"
        },
        {
          "output_type": "stream",
          "text": [
            "florges\n"
          ],
          "name": "stdout"
        },
        {
          "output_type": "stream",
          "text": [
            "\n",
            "\n",
            " 25%|██▌       | 287/1127 [09:03<28:42,  2.05s/it]\u001b[A\u001b[A"
          ],
          "name": "stderr"
        },
        {
          "output_type": "stream",
          "text": [
            "magearnaoriginal\n"
          ],
          "name": "stdout"
        },
        {
          "output_type": "stream",
          "text": [
            "\n",
            "\n",
            " 26%|██▌       | 288/1127 [09:05<28:30,  2.04s/it]\u001b[A\u001b[A"
          ],
          "name": "stderr"
        },
        {
          "output_type": "stream",
          "text": [
            "heracross\n"
          ],
          "name": "stdout"
        },
        {
          "output_type": "stream",
          "text": [
            "\n",
            "\n",
            " 26%|██▌       | 289/1127 [09:08<29:01,  2.08s/it]\u001b[A\u001b[A"
          ],
          "name": "stderr"
        },
        {
          "output_type": "stream",
          "text": [
            "dunsparce\n"
          ],
          "name": "stdout"
        },
        {
          "output_type": "stream",
          "text": [
            "\n",
            "\n",
            " 26%|██▌       | 290/1127 [09:10<29:12,  2.09s/it]\u001b[A\u001b[A"
          ],
          "name": "stderr"
        },
        {
          "output_type": "stream",
          "text": [
            "rayquazamega\n"
          ],
          "name": "stdout"
        },
        {
          "output_type": "stream",
          "text": [
            "\n",
            "\n",
            " 26%|██▌       | 291/1127 [09:12<29:26,  2.11s/it]\u001b[A\u001b[A"
          ],
          "name": "stderr"
        },
        {
          "output_type": "stream",
          "text": [
            "servine\n"
          ],
          "name": "stdout"
        },
        {
          "output_type": "stream",
          "text": [
            "\n",
            "\n",
            " 26%|██▌       | 292/1127 [09:14<30:09,  2.17s/it]\u001b[A\u001b[A"
          ],
          "name": "stderr"
        },
        {
          "output_type": "stream",
          "text": [
            "chimecho\n"
          ],
          "name": "stdout"
        },
        {
          "output_type": "stream",
          "text": [
            "\n",
            "\n",
            " 26%|██▌       | 293/1127 [09:16<29:27,  2.12s/it]\u001b[A\u001b[A"
          ],
          "name": "stderr"
        },
        {
          "output_type": "stream",
          "text": [
            "arceusfire\n"
          ],
          "name": "stdout"
        },
        {
          "output_type": "stream",
          "text": [
            "\n",
            "\n",
            " 26%|██▌       | 294/1127 [09:18<29:00,  2.09s/it]\u001b[A\u001b[A"
          ],
          "name": "stderr"
        },
        {
          "output_type": "stream",
          "text": [
            "grookey\n"
          ],
          "name": "stdout"
        },
        {
          "output_type": "stream",
          "text": [
            "\n",
            "\n",
            " 26%|██▌       | 295/1127 [09:20<28:52,  2.08s/it]\u001b[A\u001b[A"
          ],
          "name": "stderr"
        },
        {
          "output_type": "stream",
          "text": [
            "hatenna\n"
          ],
          "name": "stdout"
        },
        {
          "output_type": "stream",
          "text": [
            "\n",
            "\n",
            " 26%|██▋       | 296/1127 [09:22<28:58,  2.09s/it]\u001b[A\u001b[A"
          ],
          "name": "stderr"
        },
        {
          "output_type": "stream",
          "text": [
            "silvallygrass\n"
          ],
          "name": "stdout"
        },
        {
          "output_type": "stream",
          "text": [
            "\n",
            "\n",
            " 26%|██▋       | 297/1127 [09:25<29:27,  2.13s/it]\u001b[A\u001b[A"
          ],
          "name": "stderr"
        },
        {
          "output_type": "stream",
          "text": [
            "grovyle\n"
          ],
          "name": "stdout"
        },
        {
          "output_type": "stream",
          "text": [
            "\n",
            "\n",
            " 26%|██▋       | 298/1127 [09:27<29:42,  2.15s/it]\u001b[A\u001b[A"
          ],
          "name": "stderr"
        },
        {
          "output_type": "stream",
          "text": [
            "pikachupartner\n"
          ],
          "name": "stdout"
        },
        {
          "output_type": "stream",
          "text": [
            "\n",
            "\n",
            " 27%|██▋       | 299/1127 [09:29<29:27,  2.14s/it]\u001b[A\u001b[A"
          ],
          "name": "stderr"
        },
        {
          "output_type": "stream",
          "text": [
            "arceusghost\n"
          ],
          "name": "stdout"
        },
        {
          "output_type": "stream",
          "text": [
            "\n",
            "\n",
            " 27%|██▋       | 300/1127 [09:31<29:48,  2.16s/it]\u001b[A\u001b[A"
          ],
          "name": "stderr"
        },
        {
          "output_type": "stream",
          "text": [
            "kricketot\n"
          ],
          "name": "stdout"
        },
        {
          "output_type": "stream",
          "text": [
            "\n",
            "\n",
            " 27%|██▋       | 301/1127 [09:33<30:06,  2.19s/it]\u001b[A\u001b[A"
          ],
          "name": "stderr"
        },
        {
          "output_type": "stream",
          "text": [
            "crabrawler\n"
          ],
          "name": "stdout"
        },
        {
          "output_type": "stream",
          "text": [
            "\n",
            "\n",
            " 27%|██▋       | 302/1127 [09:35<28:19,  2.06s/it]\u001b[A\u001b[A"
          ],
          "name": "stderr"
        },
        {
          "output_type": "stream",
          "text": [
            "zaciancrowned\n"
          ],
          "name": "stdout"
        },
        {
          "output_type": "stream",
          "text": [
            "\n",
            "\n",
            " 27%|██▋       | 303/1127 [09:37<26:43,  1.95s/it]\u001b[A\u001b[A"
          ],
          "name": "stderr"
        },
        {
          "output_type": "stream",
          "text": [
            "jigglypuff\n"
          ],
          "name": "stdout"
        },
        {
          "output_type": "stream",
          "text": [
            "\n",
            "\n",
            " 27%|██▋       | 304/1127 [09:39<26:25,  1.93s/it]\u001b[A\u001b[A"
          ],
          "name": "stderr"
        },
        {
          "output_type": "stream",
          "text": [
            "pidgeotmega\n"
          ],
          "name": "stdout"
        },
        {
          "output_type": "stream",
          "text": [
            "\n",
            "\n",
            " 27%|██▋       | 305/1127 [09:41<27:07,  1.98s/it]\u001b[A\u001b[A"
          ],
          "name": "stderr"
        },
        {
          "output_type": "stream",
          "text": [
            "cutiefly\n"
          ],
          "name": "stdout"
        },
        {
          "output_type": "stream",
          "text": [
            "\n",
            "\n",
            " 27%|██▋       | 306/1127 [09:43<28:35,  2.09s/it]\u001b[A\u001b[A"
          ],
          "name": "stderr"
        },
        {
          "output_type": "stream",
          "text": [
            "dwebble\n"
          ],
          "name": "stdout"
        },
        {
          "output_type": "stream",
          "text": [
            "\n",
            "\n",
            " 27%|██▋       | 307/1127 [09:45<28:35,  2.09s/it]\u001b[A\u001b[A"
          ],
          "name": "stderr"
        },
        {
          "output_type": "stream",
          "text": [
            "charizardgmax\n"
          ],
          "name": "stdout"
        },
        {
          "output_type": "stream",
          "text": [
            "\n",
            "\n",
            " 27%|██▋       | 308/1127 [09:48<29:36,  2.17s/it]\u001b[A\u001b[A"
          ],
          "name": "stderr"
        },
        {
          "output_type": "stream",
          "text": [
            "drowzee\n"
          ],
          "name": "stdout"
        },
        {
          "output_type": "stream",
          "text": [
            "\n",
            "\n",
            " 27%|██▋       | 309/1127 [09:50<28:31,  2.09s/it]\u001b[A\u001b[A"
          ],
          "name": "stderr"
        },
        {
          "output_type": "stream",
          "text": [
            "hydreigon\n"
          ],
          "name": "stdout"
        },
        {
          "output_type": "stream",
          "text": [
            "\n",
            "\n",
            " 28%|██▊       | 310/1127 [09:51<27:51,  2.05s/it]\u001b[A\u001b[A"
          ],
          "name": "stderr"
        },
        {
          "output_type": "stream",
          "text": [
            "sunkern\n"
          ],
          "name": "stdout"
        },
        {
          "output_type": "stream",
          "text": [
            "\n",
            "\n",
            " 28%|██▊       | 311/1127 [09:54<28:18,  2.08s/it]\u001b[A\u001b[A"
          ],
          "name": "stderr"
        },
        {
          "output_type": "stream",
          "text": [
            "gourgeistsuper\n"
          ],
          "name": "stdout"
        },
        {
          "output_type": "stream",
          "text": [
            "\n",
            "\n",
            " 28%|██▊       | 312/1127 [09:56<29:31,  2.17s/it]\u001b[A\u001b[A"
          ],
          "name": "stderr"
        },
        {
          "output_type": "stream",
          "text": [
            "frosmoth\n"
          ],
          "name": "stdout"
        },
        {
          "output_type": "stream",
          "text": [
            "\n",
            "\n",
            " 28%|██▊       | 313/1127 [09:58<29:40,  2.19s/it]\u001b[A\u001b[A"
          ],
          "name": "stderr"
        },
        {
          "output_type": "stream",
          "text": [
            "watchog\n"
          ],
          "name": "stdout"
        },
        {
          "output_type": "stream",
          "text": [
            "\n",
            "\n",
            " 28%|██▊       | 314/1127 [10:00<29:05,  2.15s/it]\u001b[A\u001b[A"
          ],
          "name": "stderr"
        },
        {
          "output_type": "stream",
          "text": [
            "lilligant\n"
          ],
          "name": "stdout"
        },
        {
          "output_type": "stream",
          "text": [
            "\n",
            "\n",
            " 28%|██▊       | 315/1127 [10:02<28:16,  2.09s/it]\u001b[A\u001b[A"
          ],
          "name": "stderr"
        },
        {
          "output_type": "stream",
          "text": [
            "vulpix\n"
          ],
          "name": "stdout"
        },
        {
          "output_type": "stream",
          "text": [
            "\n",
            "\n",
            " 28%|██▊       | 316/1127 [10:04<28:48,  2.13s/it]\u001b[A\u001b[A"
          ],
          "name": "stderr"
        },
        {
          "output_type": "stream",
          "text": [
            "cottonee\n"
          ],
          "name": "stdout"
        },
        {
          "output_type": "stream",
          "text": [
            "\n",
            "\n",
            " 28%|██▊       | 317/1127 [10:07<30:08,  2.23s/it]\u001b[A\u001b[A"
          ],
          "name": "stderr"
        },
        {
          "output_type": "stream",
          "text": [
            "rockruff\n"
          ],
          "name": "stdout"
        },
        {
          "output_type": "stream",
          "text": [
            "\n",
            "\n",
            " 28%|██▊       | 318/1127 [10:09<31:05,  2.31s/it]\u001b[A\u001b[A"
          ],
          "name": "stderr"
        },
        {
          "output_type": "stream",
          "text": [
            "golett\n"
          ],
          "name": "stdout"
        },
        {
          "output_type": "stream",
          "text": [
            "\n",
            "\n",
            " 28%|██▊       | 319/1127 [10:12<31:48,  2.36s/it]\u001b[A\u001b[A"
          ],
          "name": "stderr"
        },
        {
          "output_type": "stream",
          "text": [
            "nosepass\n"
          ],
          "name": "stdout"
        },
        {
          "output_type": "stream",
          "text": [
            "\n",
            "\n",
            " 28%|██▊       | 320/1127 [10:14<31:47,  2.36s/it]\u001b[A\u001b[A"
          ],
          "name": "stderr"
        },
        {
          "output_type": "stream",
          "text": [
            "ledian\n"
          ],
          "name": "stdout"
        },
        {
          "output_type": "stream",
          "text": [
            "\n",
            "\n",
            " 28%|██▊       | 321/1127 [10:16<29:59,  2.23s/it]\u001b[A\u001b[A"
          ],
          "name": "stderr"
        },
        {
          "output_type": "stream",
          "text": [
            "hoopa\n"
          ],
          "name": "stdout"
        },
        {
          "output_type": "stream",
          "text": [
            "\n",
            "\n",
            " 29%|██▊       | 322/1127 [10:19<30:13,  2.25s/it]\u001b[A\u001b[A"
          ],
          "name": "stderr"
        },
        {
          "output_type": "stream",
          "text": [
            "politoed\n"
          ],
          "name": "stdout"
        },
        {
          "output_type": "stream",
          "text": [
            "\n",
            "\n",
            " 29%|██▊       | 323/1127 [10:21<30:35,  2.28s/it]\u001b[A\u001b[A"
          ],
          "name": "stderr"
        },
        {
          "output_type": "stream",
          "text": [
            "ponytagalar\n"
          ],
          "name": "stdout"
        },
        {
          "output_type": "stream",
          "text": [
            "\n",
            "\n",
            " 29%|██▊       | 324/1127 [10:23<28:17,  2.11s/it]\u001b[A\u001b[A"
          ],
          "name": "stderr"
        },
        {
          "output_type": "stream",
          "text": [
            "perrserker\n"
          ],
          "name": "stdout"
        },
        {
          "output_type": "stream",
          "text": [
            "\n",
            "\n",
            " 29%|██▉       | 325/1127 [10:24<26:15,  1.96s/it]\u001b[A\u001b[A"
          ],
          "name": "stderr"
        },
        {
          "output_type": "stream",
          "text": [
            "entei\n"
          ],
          "name": "stdout"
        },
        {
          "output_type": "stream",
          "text": [
            "\n",
            "\n",
            " 29%|██▉       | 326/1127 [10:26<26:33,  1.99s/it]\u001b[A\u001b[A"
          ],
          "name": "stderr"
        },
        {
          "output_type": "stream",
          "text": [
            "lunatone\n"
          ],
          "name": "stdout"
        },
        {
          "output_type": "stream",
          "text": [
            "\n",
            "\n",
            " 29%|██▉       | 327/1127 [10:28<26:54,  2.02s/it]\u001b[A\u001b[A"
          ],
          "name": "stderr"
        },
        {
          "output_type": "stream",
          "text": [
            "hariyama\n"
          ],
          "name": "stdout"
        },
        {
          "output_type": "stream",
          "text": [
            "\n",
            "\n",
            " 29%|██▉       | 328/1127 [10:30<26:25,  1.98s/it]\u001b[A\u001b[A"
          ],
          "name": "stderr"
        },
        {
          "output_type": "stream",
          "text": [
            "typhlosion\n"
          ],
          "name": "stdout"
        },
        {
          "output_type": "stream",
          "text": [
            "\n",
            "\n",
            " 29%|██▉       | 329/1127 [10:32<26:30,  1.99s/it]\u001b[A\u001b[A"
          ],
          "name": "stderr"
        },
        {
          "output_type": "stream",
          "text": [
            "growlithe\n"
          ],
          "name": "stdout"
        },
        {
          "output_type": "stream",
          "text": [
            "\n",
            "\n",
            " 29%|██▉       | 330/1127 [10:34<24:19,  1.83s/it]\u001b[A\u001b[A"
          ],
          "name": "stderr"
        },
        {
          "output_type": "stream",
          "text": [
            "xatu\n"
          ],
          "name": "stdout"
        },
        {
          "output_type": "stream",
          "text": [
            "\n",
            "\n",
            " 29%|██▉       | 331/1127 [10:36<25:59,  1.96s/it]\u001b[A\u001b[A"
          ],
          "name": "stderr"
        },
        {
          "output_type": "stream",
          "text": [
            "venipede\n"
          ],
          "name": "stdout"
        },
        {
          "output_type": "stream",
          "text": [
            "\n",
            "\n",
            " 29%|██▉       | 332/1127 [10:38<27:18,  2.06s/it]\u001b[A\u001b[A"
          ],
          "name": "stderr"
        },
        {
          "output_type": "stream",
          "text": [
            "gabite\n"
          ],
          "name": "stdout"
        },
        {
          "output_type": "stream",
          "text": [
            "\n",
            "\n",
            " 30%|██▉       | 333/1127 [10:40<26:31,  2.00s/it]\u001b[A\u001b[A"
          ],
          "name": "stderr"
        },
        {
          "output_type": "stream",
          "text": [
            "arceusbug\n"
          ],
          "name": "stdout"
        },
        {
          "output_type": "stream",
          "text": [
            "\n",
            "\n",
            " 30%|██▉       | 334/1127 [10:42<26:19,  1.99s/it]\u001b[A\u001b[A"
          ],
          "name": "stderr"
        },
        {
          "output_type": "stream",
          "text": [
            "fearow\n"
          ],
          "name": "stdout"
        },
        {
          "output_type": "stream",
          "text": [
            "\n",
            "\n",
            " 30%|██▉       | 335/1127 [10:44<27:04,  2.05s/it]\u001b[A\u001b[A"
          ],
          "name": "stderr"
        },
        {
          "output_type": "stream",
          "text": [
            "medichammega\n"
          ],
          "name": "stdout"
        },
        {
          "output_type": "stream",
          "text": [
            "\n",
            "\n",
            " 30%|██▉       | 336/1127 [10:46<27:14,  2.07s/it]\u001b[A\u001b[A"
          ],
          "name": "stderr"
        },
        {
          "output_type": "stream",
          "text": [
            "gyarados\n"
          ],
          "name": "stdout"
        },
        {
          "output_type": "stream",
          "text": [
            "\n",
            "\n",
            " 30%|██▉       | 337/1127 [10:48<26:45,  2.03s/it]\u001b[A\u001b[A"
          ],
          "name": "stderr"
        },
        {
          "output_type": "stream",
          "text": [
            "steelixmega\n"
          ],
          "name": "stdout"
        },
        {
          "output_type": "stream",
          "text": [
            "\n",
            "\n",
            " 30%|██▉       | 338/1127 [10:50<27:04,  2.06s/it]\u001b[A\u001b[A"
          ],
          "name": "stderr"
        },
        {
          "output_type": "stream",
          "text": [
            "silvallypoison\n"
          ],
          "name": "stdout"
        },
        {
          "output_type": "stream",
          "text": [
            "\n",
            "\n",
            " 30%|███       | 339/1127 [10:52<25:50,  1.97s/it]\u001b[A\u001b[A"
          ],
          "name": "stderr"
        },
        {
          "output_type": "stream",
          "text": [
            "necrozmaduskmane\n"
          ],
          "name": "stdout"
        },
        {
          "output_type": "stream",
          "text": [
            "\n",
            "\n",
            " 30%|███       | 340/1127 [10:54<24:54,  1.90s/it]\u001b[A\u001b[A"
          ],
          "name": "stderr"
        },
        {
          "output_type": "stream",
          "text": [
            "glameow\n"
          ],
          "name": "stdout"
        },
        {
          "output_type": "stream",
          "text": [
            "\n",
            "\n",
            " 30%|███       | 341/1127 [10:56<25:54,  1.98s/it]\u001b[A\u001b[A"
          ],
          "name": "stderr"
        },
        {
          "output_type": "stream",
          "text": [
            "gastrodon\n"
          ],
          "name": "stdout"
        },
        {
          "output_type": "stream",
          "text": [
            "\n",
            "\n",
            " 30%|███       | 342/1127 [10:58<27:10,  2.08s/it]\u001b[A\u001b[A"
          ],
          "name": "stderr"
        },
        {
          "output_type": "stream",
          "text": [
            "buizel\n"
          ],
          "name": "stdout"
        },
        {
          "output_type": "stream",
          "text": [
            "\n",
            "\n",
            " 30%|███       | 343/1127 [11:01<28:47,  2.20s/it]\u001b[A\u001b[A"
          ],
          "name": "stderr"
        },
        {
          "output_type": "stream",
          "text": [
            "mightyena\n"
          ],
          "name": "stdout"
        },
        {
          "output_type": "stream",
          "text": [
            "\n",
            "\n",
            " 31%|███       | 344/1127 [11:03<29:57,  2.30s/it]\u001b[A\u001b[A"
          ],
          "name": "stderr"
        },
        {
          "output_type": "stream",
          "text": [
            "kyurem\n"
          ],
          "name": "stdout"
        },
        {
          "output_type": "stream",
          "text": [
            "\n",
            "\n",
            " 31%|███       | 345/1127 [11:06<30:21,  2.33s/it]\u001b[A\u001b[A"
          ],
          "name": "stderr"
        },
        {
          "output_type": "stream",
          "text": [
            "houndour\n"
          ],
          "name": "stdout"
        },
        {
          "output_type": "stream",
          "text": [
            "\n",
            "\n",
            " 31%|███       | 346/1127 [11:08<28:22,  2.18s/it]\u001b[A\u001b[A"
          ],
          "name": "stderr"
        },
        {
          "output_type": "stream",
          "text": [
            "duraludon\n"
          ],
          "name": "stdout"
        },
        {
          "output_type": "stream",
          "text": [
            "\n",
            "\n",
            " 31%|███       | 347/1127 [11:10<28:45,  2.21s/it]\u001b[A\u001b[A"
          ],
          "name": "stderr"
        },
        {
          "output_type": "stream",
          "text": [
            "arceuswater\n"
          ],
          "name": "stdout"
        },
        {
          "output_type": "stream",
          "text": [
            "\n",
            "\n",
            " 31%|███       | 348/1127 [11:12<28:25,  2.19s/it]\u001b[A\u001b[A"
          ],
          "name": "stderr"
        },
        {
          "output_type": "stream",
          "text": [
            "archeops\n"
          ],
          "name": "stdout"
        },
        {
          "output_type": "stream",
          "text": [
            "\n",
            "\n",
            " 31%|███       | 349/1127 [11:14<27:06,  2.09s/it]\u001b[A\u001b[A"
          ],
          "name": "stderr"
        },
        {
          "output_type": "stream",
          "text": [
            "lairon\n"
          ],
          "name": "stdout"
        },
        {
          "output_type": "stream",
          "text": [
            "\n",
            "\n",
            " 31%|███       | 350/1127 [11:16<27:43,  2.14s/it]\u001b[A\u001b[A"
          ],
          "name": "stderr"
        },
        {
          "output_type": "stream",
          "text": [
            "qwilfish\n"
          ],
          "name": "stdout"
        },
        {
          "output_type": "stream",
          "text": [
            "\n",
            "\n",
            " 31%|███       | 351/1127 [11:19<29:29,  2.28s/it]\u001b[A\u001b[A"
          ],
          "name": "stderr"
        },
        {
          "output_type": "stream",
          "text": [
            "mewtwo\n"
          ],
          "name": "stdout"
        },
        {
          "output_type": "stream",
          "text": [
            "\n",
            "\n",
            " 31%|███       | 352/1127 [11:21<27:33,  2.13s/it]\u001b[A\u001b[A"
          ],
          "name": "stderr"
        },
        {
          "output_type": "stream",
          "text": [
            "budew\n"
          ],
          "name": "stdout"
        },
        {
          "output_type": "stream",
          "text": [
            "\n",
            "\n",
            " 31%|███▏      | 353/1127 [11:23<27:40,  2.15s/it]\u001b[A\u001b[A"
          ],
          "name": "stderr"
        },
        {
          "output_type": "stream",
          "text": [
            "doduo\n"
          ],
          "name": "stdout"
        },
        {
          "output_type": "stream",
          "text": [
            "\n",
            "\n",
            " 31%|███▏      | 354/1127 [11:25<26:23,  2.05s/it]\u001b[A\u001b[A"
          ],
          "name": "stderr"
        },
        {
          "output_type": "stream",
          "text": [
            "abomasnowmega\n"
          ],
          "name": "stdout"
        },
        {
          "output_type": "stream",
          "text": [
            "\n",
            "\n",
            " 31%|███▏      | 355/1127 [11:26<24:56,  1.94s/it]\u001b[A\u001b[A"
          ],
          "name": "stderr"
        },
        {
          "output_type": "stream",
          "text": [
            "mimejr\n"
          ],
          "name": "stdout"
        },
        {
          "output_type": "stream",
          "text": [
            "\n",
            "\n",
            " 32%|███▏      | 356/1127 [11:29<26:39,  2.07s/it]\u001b[A\u001b[A"
          ],
          "name": "stderr"
        },
        {
          "output_type": "stream",
          "text": [
            "applin\n"
          ],
          "name": "stdout"
        },
        {
          "output_type": "stream",
          "text": [
            "\n",
            "\n",
            " 32%|███▏      | 357/1127 [11:31<27:05,  2.11s/it]\u001b[A\u001b[A"
          ],
          "name": "stderr"
        },
        {
          "output_type": "stream",
          "text": [
            "clauncher\n"
          ],
          "name": "stdout"
        },
        {
          "output_type": "stream",
          "text": [
            "\n",
            "\n",
            " 32%|███▏      | 358/1127 [11:33<25:21,  1.98s/it]\u001b[A\u001b[A"
          ],
          "name": "stderr"
        },
        {
          "output_type": "stream",
          "text": [
            "minior\n"
          ],
          "name": "stdout"
        },
        {
          "output_type": "stream",
          "text": [
            "\n",
            "\n",
            " 32%|███▏      | 359/1127 [11:35<26:00,  2.03s/it]\u001b[A\u001b[A"
          ],
          "name": "stderr"
        },
        {
          "output_type": "stream",
          "text": [
            "pancham\n"
          ],
          "name": "stdout"
        },
        {
          "output_type": "stream",
          "text": [
            "\n",
            "\n",
            " 32%|███▏      | 360/1127 [11:37<25:12,  1.97s/it]\u001b[A\u001b[A"
          ],
          "name": "stderr"
        },
        {
          "output_type": "stream",
          "text": [
            "psyduck\n"
          ],
          "name": "stdout"
        },
        {
          "output_type": "stream",
          "text": [
            "\n",
            "\n",
            " 32%|███▏      | 361/1127 [11:39<26:24,  2.07s/it]\u001b[A\u001b[A"
          ],
          "name": "stderr"
        },
        {
          "output_type": "stream",
          "text": [
            "empoleon\n"
          ],
          "name": "stdout"
        },
        {
          "output_type": "stream",
          "text": [
            "\n",
            "\n",
            " 32%|███▏      | 362/1127 [11:41<28:18,  2.22s/it]\u001b[A\u001b[A"
          ],
          "name": "stderr"
        },
        {
          "output_type": "stream",
          "text": [
            "skiddo\n"
          ],
          "name": "stdout"
        },
        {
          "output_type": "stream",
          "text": [
            "\n",
            "\n",
            " 32%|███▏      | 363/1127 [11:43<26:38,  2.09s/it]\u001b[A\u001b[A"
          ],
          "name": "stderr"
        },
        {
          "output_type": "stream",
          "text": [
            "dubwool\n"
          ],
          "name": "stdout"
        },
        {
          "output_type": "stream",
          "text": [
            "\n",
            "\n",
            " 32%|███▏      | 364/1127 [11:45<26:54,  2.12s/it]\u001b[A\u001b[A"
          ],
          "name": "stderr"
        },
        {
          "output_type": "stream",
          "text": [
            "silvallypsychic\n"
          ],
          "name": "stdout"
        },
        {
          "output_type": "stream",
          "text": [
            "\n",
            "\n",
            " 32%|███▏      | 365/1127 [11:47<25:56,  2.04s/it]\u001b[A\u001b[A"
          ],
          "name": "stderr"
        },
        {
          "output_type": "stream",
          "text": [
            "fletchling\n"
          ],
          "name": "stdout"
        },
        {
          "output_type": "stream",
          "text": [
            "\n",
            "\n",
            " 32%|███▏      | 366/1127 [11:49<24:12,  1.91s/it]\u001b[A\u001b[A"
          ],
          "name": "stderr"
        },
        {
          "output_type": "stream",
          "text": [
            "banette\n"
          ],
          "name": "stdout"
        },
        {
          "output_type": "stream",
          "text": [
            "\n",
            "\n",
            " 33%|███▎      | 367/1127 [11:51<25:49,  2.04s/it]\u001b[A\u001b[A"
          ],
          "name": "stderr"
        },
        {
          "output_type": "stream",
          "text": [
            "cranidos\n"
          ],
          "name": "stdout"
        },
        {
          "output_type": "stream",
          "text": [
            "\n",
            "\n",
            " 33%|███▎      | 368/1127 [11:53<26:10,  2.07s/it]\u001b[A\u001b[A"
          ],
          "name": "stderr"
        },
        {
          "output_type": "stream",
          "text": [
            "passimian\n"
          ],
          "name": "stdout"
        },
        {
          "output_type": "stream",
          "text": [
            "\n",
            "\n",
            " 33%|███▎      | 369/1127 [11:55<25:35,  2.03s/it]\u001b[A\u001b[A"
          ],
          "name": "stderr"
        },
        {
          "output_type": "stream",
          "text": [
            "koffing\n"
          ],
          "name": "stdout"
        },
        {
          "output_type": "stream",
          "text": [
            "\n",
            "\n",
            " 33%|███▎      | 370/1127 [11:57<25:56,  2.06s/it]\u001b[A\u001b[A"
          ],
          "name": "stderr"
        },
        {
          "output_type": "stream",
          "text": [
            "spiritomb\n"
          ],
          "name": "stdout"
        },
        {
          "output_type": "stream",
          "text": [
            "\n",
            "\n",
            " 33%|███▎      | 371/1127 [11:59<25:58,  2.06s/it]\u001b[A\u001b[A"
          ],
          "name": "stderr"
        },
        {
          "output_type": "stream",
          "text": [
            "rattata\n"
          ],
          "name": "stdout"
        },
        {
          "output_type": "stream",
          "text": [
            "\n",
            "\n",
            " 33%|███▎      | 372/1127 [12:02<27:07,  2.16s/it]\u001b[A\u001b[A"
          ],
          "name": "stderr"
        },
        {
          "output_type": "stream",
          "text": [
            "keldeo\n"
          ],
          "name": "stdout"
        },
        {
          "output_type": "stream",
          "text": [
            "\n",
            "\n",
            " 33%|███▎      | 373/1127 [12:04<25:46,  2.05s/it]\u001b[A\u001b[A"
          ],
          "name": "stderr"
        },
        {
          "output_type": "stream",
          "text": [
            "swirlix\n"
          ],
          "name": "stdout"
        },
        {
          "output_type": "stream",
          "text": [
            "\n",
            "\n",
            " 33%|███▎      | 374/1127 [12:06<26:08,  2.08s/it]\u001b[A\u001b[A"
          ],
          "name": "stderr"
        },
        {
          "output_type": "stream",
          "text": [
            "steenee\n"
          ],
          "name": "stdout"
        },
        {
          "output_type": "stream",
          "text": [
            "\n",
            "\n",
            " 33%|███▎      | 375/1127 [12:08<25:59,  2.07s/it]\u001b[A\u001b[A"
          ],
          "name": "stderr"
        },
        {
          "output_type": "stream",
          "text": [
            "shinx\n"
          ],
          "name": "stdout"
        },
        {
          "output_type": "stream",
          "text": [
            "\n",
            "\n",
            " 33%|███▎      | 376/1127 [12:10<26:18,  2.10s/it]\u001b[A\u001b[A"
          ],
          "name": "stderr"
        },
        {
          "output_type": "stream",
          "text": [
            "electabuzz\n"
          ],
          "name": "stdout"
        },
        {
          "output_type": "stream",
          "text": [
            "\n",
            "\n",
            " 33%|███▎      | 377/1127 [12:12<25:02,  2.00s/it]\u001b[A\u001b[A"
          ],
          "name": "stderr"
        },
        {
          "output_type": "stream",
          "text": [
            "duosion\n"
          ],
          "name": "stdout"
        },
        {
          "output_type": "stream",
          "text": [
            "\n",
            "\n",
            " 34%|███▎      | 378/1127 [12:16<32:18,  2.59s/it]\u001b[A\u001b[A"
          ],
          "name": "stderr"
        },
        {
          "output_type": "stream",
          "text": [
            "braviary\n"
          ],
          "name": "stdout"
        },
        {
          "output_type": "stream",
          "text": [
            "\n",
            "\n",
            " 34%|███▎      | 379/1127 [12:18<32:15,  2.59s/it]\u001b[A\u001b[A"
          ],
          "name": "stderr"
        },
        {
          "output_type": "stream",
          "text": [
            "exeggutoralola\n"
          ],
          "name": "stdout"
        },
        {
          "output_type": "stream",
          "text": [
            "\n",
            "\n",
            " 34%|███▎      | 380/1127 [12:21<32:45,  2.63s/it]\u001b[A\u001b[A"
          ],
          "name": "stderr"
        },
        {
          "output_type": "stream",
          "text": [
            "impidimp\n"
          ],
          "name": "stdout"
        },
        {
          "output_type": "stream",
          "text": [
            "\n",
            "\n",
            " 34%|███▍      | 381/1127 [12:24<32:33,  2.62s/it]\u001b[A\u001b[A"
          ],
          "name": "stderr"
        },
        {
          "output_type": "stream",
          "text": [
            "poochyena\n"
          ],
          "name": "stdout"
        },
        {
          "output_type": "stream",
          "text": [
            "\n",
            "\n",
            " 34%|███▍      | 382/1127 [12:26<29:59,  2.42s/it]\u001b[A\u001b[A"
          ],
          "name": "stderr"
        },
        {
          "output_type": "stream",
          "text": [
            "gible\n"
          ],
          "name": "stdout"
        },
        {
          "output_type": "stream",
          "text": [
            "\n",
            "\n",
            " 34%|███▍      | 383/1127 [12:28<29:27,  2.38s/it]\u001b[A\u001b[A"
          ],
          "name": "stderr"
        },
        {
          "output_type": "stream",
          "text": [
            "deoxysdefense\n"
          ],
          "name": "stdout"
        },
        {
          "output_type": "stream",
          "text": [
            "\n",
            "\n",
            " 34%|███▍      | 384/1127 [12:29<26:27,  2.14s/it]\u001b[A\u001b[A"
          ],
          "name": "stderr"
        },
        {
          "output_type": "stream",
          "text": [
            "pidgeot\n"
          ],
          "name": "stdout"
        },
        {
          "output_type": "stream",
          "text": [
            "\n",
            "\n",
            " 34%|███▍      | 385/1127 [12:32<27:49,  2.25s/it]\u001b[A\u001b[A"
          ],
          "name": "stderr"
        },
        {
          "output_type": "stream",
          "text": [
            "frillish\n"
          ],
          "name": "stdout"
        },
        {
          "output_type": "stream",
          "text": [
            "\n",
            "\n",
            " 34%|███▍      | 386/1127 [12:34<26:54,  2.18s/it]\u001b[A\u001b[A"
          ],
          "name": "stderr"
        },
        {
          "output_type": "stream",
          "text": [
            "pheromosa\n"
          ],
          "name": "stdout"
        },
        {
          "output_type": "stream",
          "text": [
            "\n",
            "\n",
            " 34%|███▍      | 387/1127 [12:38<33:49,  2.74s/it]\u001b[A\u001b[A"
          ],
          "name": "stderr"
        },
        {
          "output_type": "stream",
          "text": [
            "dianciemega\n"
          ],
          "name": "stdout"
        },
        {
          "output_type": "stream",
          "text": [
            "\n",
            "\n",
            " 34%|███▍      | 388/1127 [12:42<38:29,  3.13s/it]\u001b[A\u001b[A"
          ],
          "name": "stderr"
        },
        {
          "output_type": "stream",
          "text": [
            "darmanitan\n"
          ],
          "name": "stdout"
        },
        {
          "output_type": "stream",
          "text": [
            "\n",
            "\n",
            " 35%|███▍      | 389/1127 [12:46<41:51,  3.40s/it]\u001b[A\u001b[A"
          ],
          "name": "stderr"
        },
        {
          "output_type": "stream",
          "text": [
            "noivern\n"
          ],
          "name": "stdout"
        },
        {
          "output_type": "stream",
          "text": [
            "\n",
            "\n",
            " 35%|███▍      | 390/1127 [12:50<45:25,  3.70s/it]\u001b[A\u001b[A"
          ],
          "name": "stderr"
        },
        {
          "output_type": "stream",
          "text": [
            "kyuremblack\n"
          ],
          "name": "stdout"
        },
        {
          "output_type": "stream",
          "text": [
            "\n",
            "\n",
            " 35%|███▍      | 391/1127 [12:55<46:36,  3.80s/it]\u001b[A\u001b[A"
          ],
          "name": "stderr"
        },
        {
          "output_type": "stream",
          "text": [
            "greninjaash\n"
          ],
          "name": "stdout"
        },
        {
          "output_type": "stream",
          "text": [
            "\n",
            "\n",
            " 35%|███▍      | 392/1127 [12:59<47:11,  3.85s/it]\u001b[A\u001b[A"
          ],
          "name": "stderr"
        },
        {
          "output_type": "stream",
          "text": [
            "primarina\n"
          ],
          "name": "stdout"
        },
        {
          "output_type": "stream",
          "text": [
            "\n",
            "\n",
            " 35%|███▍      | 393/1127 [13:02<47:14,  3.86s/it]\u001b[A\u001b[A"
          ],
          "name": "stderr"
        },
        {
          "output_type": "stream",
          "text": [
            "swellow\n"
          ],
          "name": "stdout"
        },
        {
          "output_type": "stream",
          "text": [
            "\n",
            "\n",
            " 35%|███▍      | 394/1127 [13:07<48:48,  4.00s/it]\u001b[A\u001b[A"
          ],
          "name": "stderr"
        },
        {
          "output_type": "stream",
          "text": [
            "mewtwomegax\n"
          ],
          "name": "stdout"
        },
        {
          "output_type": "stream",
          "text": [
            "\n",
            "\n",
            " 35%|███▌      | 395/1127 [13:11<49:01,  4.02s/it]\u001b[A\u001b[A"
          ],
          "name": "stderr"
        },
        {
          "output_type": "stream",
          "text": [
            "hoppip\n"
          ],
          "name": "stdout"
        },
        {
          "output_type": "stream",
          "text": [
            "\n",
            "\n",
            " 35%|███▌      | 396/1127 [13:15<48:47,  4.00s/it]\u001b[A\u001b[A"
          ],
          "name": "stderr"
        },
        {
          "output_type": "stream",
          "text": [
            "metagross\n"
          ],
          "name": "stdout"
        },
        {
          "output_type": "stream",
          "text": [
            "\n",
            "\n",
            " 35%|███▌      | 397/1127 [13:20<53:25,  4.39s/it]\u001b[A\u001b[A"
          ],
          "name": "stderr"
        },
        {
          "output_type": "stream",
          "text": [
            "musharna\n"
          ],
          "name": "stdout"
        },
        {
          "output_type": "stream",
          "text": [
            "\n",
            "\n",
            " 35%|███▌      | 398/1127 [13:25<56:12,  4.63s/it]\u001b[A\u001b[A"
          ],
          "name": "stderr"
        },
        {
          "output_type": "stream",
          "text": [
            "meganium\n"
          ],
          "name": "stdout"
        },
        {
          "output_type": "stream",
          "text": [
            "\n",
            "\n",
            " 35%|███▌      | 399/1127 [13:29<52:45,  4.35s/it]\u001b[A\u001b[A"
          ],
          "name": "stderr"
        },
        {
          "output_type": "stream",
          "text": [
            "giratina\n"
          ],
          "name": "stdout"
        },
        {
          "output_type": "stream",
          "text": [
            "\n",
            "\n",
            " 35%|███▌      | 400/1127 [13:33<50:35,  4.18s/it]\u001b[A\u001b[A"
          ],
          "name": "stderr"
        },
        {
          "output_type": "stream",
          "text": [
            "palpitoad\n"
          ],
          "name": "stdout"
        },
        {
          "output_type": "stream",
          "text": [
            "\n",
            "\n",
            " 36%|███▌      | 401/1127 [13:36<48:26,  4.00s/it]\u001b[A\u001b[A"
          ],
          "name": "stderr"
        },
        {
          "output_type": "stream",
          "text": [
            "pikipek\n"
          ],
          "name": "stdout"
        },
        {
          "output_type": "stream",
          "text": [
            "\n",
            "\n",
            " 36%|███▌      | 402/1127 [13:40<47:27,  3.93s/it]\u001b[A\u001b[A"
          ],
          "name": "stderr"
        },
        {
          "output_type": "stream",
          "text": [
            "magmar\n"
          ],
          "name": "stdout"
        },
        {
          "output_type": "stream",
          "text": [
            "\n",
            "\n",
            " 36%|███▌      | 403/1127 [13:45<49:22,  4.09s/it]\u001b[A\u001b[A"
          ],
          "name": "stderr"
        },
        {
          "output_type": "stream",
          "text": [
            "metang\n"
          ],
          "name": "stdout"
        },
        {
          "output_type": "stream",
          "text": [
            "\n",
            "\n",
            " 36%|███▌      | 404/1127 [13:49<49:43,  4.13s/it]\u001b[A\u001b[A"
          ],
          "name": "stderr"
        },
        {
          "output_type": "stream",
          "text": [
            "latias\n"
          ],
          "name": "stdout"
        },
        {
          "output_type": "stream",
          "text": [
            "\n",
            "\n",
            " 36%|███▌      | 405/1127 [13:52<48:04,  3.99s/it]\u001b[A\u001b[A"
          ],
          "name": "stderr"
        },
        {
          "output_type": "stream",
          "text": [
            "kyuremwhite\n"
          ],
          "name": "stdout"
        },
        {
          "output_type": "stream",
          "text": [
            "\n",
            "\n",
            " 36%|███▌      | 406/1127 [13:58<54:43,  4.55s/it]\u001b[A\u001b[A"
          ],
          "name": "stderr"
        },
        {
          "output_type": "stream",
          "text": [
            "machampgmax\n"
          ],
          "name": "stdout"
        },
        {
          "output_type": "stream",
          "text": [
            "\n",
            "\n",
            " 36%|███▌      | 407/1127 [14:03<54:53,  4.57s/it]\u001b[A\u001b[A"
          ],
          "name": "stderr"
        },
        {
          "output_type": "stream",
          "text": [
            "polteageistantique\n"
          ],
          "name": "stdout"
        },
        {
          "output_type": "stream",
          "text": [
            "\n",
            "\n",
            " 36%|███▌      | 408/1127 [14:07<54:29,  4.55s/it]\u001b[A\u001b[A"
          ],
          "name": "stderr"
        },
        {
          "output_type": "stream",
          "text": [
            "tyranitar\n"
          ],
          "name": "stdout"
        },
        {
          "output_type": "stream",
          "text": [
            "\n",
            "\n",
            " 36%|███▋      | 409/1127 [14:12<54:50,  4.58s/it]\u001b[A\u001b[A"
          ],
          "name": "stderr"
        },
        {
          "output_type": "stream",
          "text": [
            "thwackey\n"
          ],
          "name": "stdout"
        },
        {
          "output_type": "stream",
          "text": [
            "\n",
            "\n",
            " 36%|███▋      | 410/1127 [14:17<54:46,  4.58s/it]\u001b[A\u001b[A"
          ],
          "name": "stderr"
        },
        {
          "output_type": "stream",
          "text": [
            "chimchar\n"
          ],
          "name": "stdout"
        },
        {
          "output_type": "stream",
          "text": [
            "\n",
            "\n",
            " 36%|███▋      | 411/1127 [14:21<54:37,  4.58s/it]\u001b[A\u001b[A"
          ],
          "name": "stderr"
        },
        {
          "output_type": "stream",
          "text": [
            "nidorino\n"
          ],
          "name": "stdout"
        },
        {
          "output_type": "stream",
          "text": [
            "\n",
            "\n",
            " 37%|███▋      | 412/1127 [14:26<54:07,  4.54s/it]\u001b[A\u001b[A"
          ],
          "name": "stderr"
        },
        {
          "output_type": "stream",
          "text": [
            "skrelp\n"
          ],
          "name": "stdout"
        },
        {
          "output_type": "stream",
          "text": [
            "\n",
            "\n",
            " 37%|███▋      | 413/1127 [14:30<53:22,  4.49s/it]\u001b[A\u001b[A"
          ],
          "name": "stderr"
        },
        {
          "output_type": "stream",
          "text": [
            "girafarig\n"
          ],
          "name": "stdout"
        },
        {
          "output_type": "stream",
          "text": [
            "\n",
            "\n",
            " 37%|███▋      | 414/1127 [14:34<51:10,  4.31s/it]\u001b[A\u001b[A"
          ],
          "name": "stderr"
        },
        {
          "output_type": "stream",
          "text": [
            "toxapex\n"
          ],
          "name": "stdout"
        },
        {
          "output_type": "stream",
          "text": [
            "\n",
            "\n",
            " 37%|███▋      | 415/1127 [14:38<50:07,  4.22s/it]\u001b[A\u001b[A"
          ],
          "name": "stderr"
        },
        {
          "output_type": "stream",
          "text": [
            "gigalith\n"
          ],
          "name": "stdout"
        },
        {
          "output_type": "stream",
          "text": [
            "\n",
            "\n",
            " 37%|███▋      | 416/1127 [14:40<40:42,  3.44s/it]\u001b[A\u001b[A"
          ],
          "name": "stderr"
        },
        {
          "output_type": "stream",
          "text": [
            "mareep\n"
          ],
          "name": "stdout"
        },
        {
          "output_type": "stream",
          "text": [
            "\n",
            "\n",
            " 37%|███▋      | 417/1127 [14:41<33:56,  2.87s/it]\u001b[A\u001b[A"
          ],
          "name": "stderr"
        },
        {
          "output_type": "stream",
          "text": [
            "numel\n"
          ],
          "name": "stdout"
        },
        {
          "output_type": "stream",
          "text": [
            "\n",
            "\n",
            " 37%|███▋      | 418/1127 [14:43<29:45,  2.52s/it]\u001b[A\u001b[A"
          ],
          "name": "stderr"
        },
        {
          "output_type": "stream",
          "text": [
            "oricorio\n"
          ],
          "name": "stdout"
        },
        {
          "output_type": "stream",
          "text": [
            "\n",
            "\n",
            " 37%|███▋      | 419/1127 [14:44<25:32,  2.16s/it]\u001b[A\u001b[A"
          ],
          "name": "stderr"
        },
        {
          "output_type": "stream",
          "text": [
            "togedemarutotem\n"
          ],
          "name": "stdout"
        },
        {
          "output_type": "stream",
          "text": [
            "\n",
            "\n",
            " 37%|███▋      | 420/1127 [14:45<22:46,  1.93s/it]\u001b[A\u001b[A"
          ],
          "name": "stderr"
        },
        {
          "output_type": "stream",
          "text": [
            "houndoom\n"
          ],
          "name": "stdout"
        },
        {
          "output_type": "stream",
          "text": [
            "\n",
            "\n",
            " 37%|███▋      | 421/1127 [14:47<21:01,  1.79s/it]\u001b[A\u001b[A"
          ],
          "name": "stderr"
        },
        {
          "output_type": "stream",
          "text": [
            "hippowdon\n"
          ],
          "name": "stdout"
        },
        {
          "output_type": "stream",
          "text": [
            "\n",
            "\n",
            " 37%|███▋      | 422/1127 [14:48<19:58,  1.70s/it]\u001b[A\u001b[A"
          ],
          "name": "stderr"
        },
        {
          "output_type": "stream",
          "text": [
            "mienfoo\n"
          ],
          "name": "stdout"
        },
        {
          "output_type": "stream",
          "text": [
            "\n",
            "\n",
            " 38%|███▊      | 423/1127 [14:50<18:59,  1.62s/it]\u001b[A\u001b[A"
          ],
          "name": "stderr"
        },
        {
          "output_type": "stream",
          "text": [
            "mandibuzz\n"
          ],
          "name": "stdout"
        },
        {
          "output_type": "stream",
          "text": [
            "\n",
            "\n",
            " 38%|███▊      | 424/1127 [14:51<18:19,  1.56s/it]\u001b[A\u001b[A"
          ],
          "name": "stderr"
        },
        {
          "output_type": "stream",
          "text": [
            "swablu\n"
          ],
          "name": "stdout"
        },
        {
          "output_type": "stream",
          "text": [
            "\n",
            "\n",
            " 38%|███▊      | 425/1127 [14:52<16:26,  1.40s/it]\u001b[A\u001b[A"
          ],
          "name": "stderr"
        },
        {
          "output_type": "stream",
          "text": [
            "wobbuffet\n"
          ],
          "name": "stdout"
        },
        {
          "output_type": "stream",
          "text": [
            "\n",
            "\n",
            " 38%|███▊      | 426/1127 [14:54<17:11,  1.47s/it]\u001b[A\u001b[A"
          ],
          "name": "stderr"
        },
        {
          "output_type": "stream",
          "text": [
            "cramorantgorging\n"
          ],
          "name": "stdout"
        },
        {
          "output_type": "stream",
          "text": [
            "\n",
            "\n",
            " 38%|███▊      | 427/1127 [14:56<17:45,  1.52s/it]\u001b[A\u001b[A"
          ],
          "name": "stderr"
        },
        {
          "output_type": "stream",
          "text": [
            "regice\n"
          ],
          "name": "stdout"
        },
        {
          "output_type": "stream",
          "text": [
            "\n",
            "\n",
            " 38%|███▊      | 428/1127 [14:57<17:14,  1.48s/it]\u001b[A\u001b[A"
          ],
          "name": "stderr"
        },
        {
          "output_type": "stream",
          "text": [
            "tangrowth\n"
          ],
          "name": "stdout"
        },
        {
          "output_type": "stream",
          "text": [
            "\n",
            "\n",
            " 38%|███▊      | 429/1127 [14:58<16:51,  1.45s/it]\u001b[A\u001b[A"
          ],
          "name": "stderr"
        },
        {
          "output_type": "stream",
          "text": [
            "salazzle\n"
          ],
          "name": "stdout"
        },
        {
          "output_type": "stream",
          "text": [
            "\n",
            "\n",
            " 38%|███▊      | 430/1127 [14:59<15:25,  1.33s/it]\u001b[A\u001b[A"
          ],
          "name": "stderr"
        },
        {
          "output_type": "stream",
          "text": [
            "emolga\n"
          ],
          "name": "stdout"
        },
        {
          "output_type": "stream",
          "text": [
            "\n",
            "\n",
            " 38%|███▊      | 431/1127 [15:01<15:52,  1.37s/it]\u001b[A\u001b[A"
          ],
          "name": "stderr"
        },
        {
          "output_type": "stream",
          "text": [
            "vikavolttotem\n"
          ],
          "name": "stdout"
        },
        {
          "output_type": "stream",
          "text": [
            "\n",
            "\n",
            " 38%|███▊      | 432/1127 [15:03<16:54,  1.46s/it]\u001b[A\u001b[A"
          ],
          "name": "stderr"
        },
        {
          "output_type": "stream",
          "text": [
            "charizard\n"
          ],
          "name": "stdout"
        },
        {
          "output_type": "stream",
          "text": [
            "\n",
            "\n",
            " 38%|███▊      | 433/1127 [15:04<17:01,  1.47s/it]\u001b[A\u001b[A"
          ],
          "name": "stderr"
        },
        {
          "output_type": "stream",
          "text": [
            "milcery\n"
          ],
          "name": "stdout"
        },
        {
          "output_type": "stream",
          "text": [
            "\n",
            "\n",
            " 39%|███▊      | 434/1127 [15:05<16:48,  1.45s/it]\u001b[A\u001b[A"
          ],
          "name": "stderr"
        },
        {
          "output_type": "stream",
          "text": [
            "silvallyground\n"
          ],
          "name": "stdout"
        },
        {
          "output_type": "stream",
          "text": [
            "\n",
            "\n",
            " 39%|███▊      | 435/1127 [15:07<18:06,  1.57s/it]\u001b[A\u001b[A"
          ],
          "name": "stderr"
        },
        {
          "output_type": "stream",
          "text": [
            "pidgey\n"
          ],
          "name": "stdout"
        },
        {
          "output_type": "stream",
          "text": [
            "\n",
            "\n",
            " 39%|███▊      | 436/1127 [15:09<17:19,  1.50s/it]\u001b[A\u001b[A"
          ],
          "name": "stderr"
        },
        {
          "output_type": "stream",
          "text": [
            "oricoriopompom\n"
          ],
          "name": "stdout"
        },
        {
          "output_type": "stream",
          "text": [
            "\n",
            "\n",
            " 39%|███▉      | 437/1127 [15:10<18:29,  1.61s/it]\u001b[A\u001b[A"
          ],
          "name": "stderr"
        },
        {
          "output_type": "stream",
          "text": [
            "mankey\n"
          ],
          "name": "stdout"
        },
        {
          "output_type": "stream",
          "text": [
            "\n",
            "\n",
            " 39%|███▉      | 438/1127 [15:12<19:15,  1.68s/it]\u001b[A\u001b[A"
          ],
          "name": "stderr"
        },
        {
          "output_type": "stream",
          "text": [
            "yveltal\n"
          ],
          "name": "stdout"
        },
        {
          "output_type": "stream",
          "text": [
            "\n",
            "\n",
            " 39%|███▉      | 439/1127 [15:14<19:06,  1.67s/it]\u001b[A\u001b[A"
          ],
          "name": "stderr"
        },
        {
          "output_type": "stream",
          "text": [
            "hoothoot\n"
          ],
          "name": "stdout"
        },
        {
          "output_type": "stream",
          "text": [
            "\n",
            "\n",
            " 39%|███▉      | 440/1127 [15:16<19:48,  1.73s/it]\u001b[A\u001b[A"
          ],
          "name": "stderr"
        },
        {
          "output_type": "stream",
          "text": [
            "sunflora\n"
          ],
          "name": "stdout"
        },
        {
          "output_type": "stream",
          "text": [
            "\n",
            "\n",
            " 39%|███▉      | 441/1127 [15:17<18:52,  1.65s/it]\u001b[A\u001b[A"
          ],
          "name": "stderr"
        },
        {
          "output_type": "stream",
          "text": [
            "vespiquen\n"
          ],
          "name": "stdout"
        },
        {
          "output_type": "stream",
          "text": [
            "\n",
            "\n",
            " 39%|███▉      | 442/1127 [15:19<20:11,  1.77s/it]\u001b[A\u001b[A"
          ],
          "name": "stderr"
        },
        {
          "output_type": "stream",
          "text": [
            "sinisteaantique\n"
          ],
          "name": "stdout"
        },
        {
          "output_type": "stream",
          "text": [
            "\n",
            "\n",
            " 39%|███▉      | 443/1127 [15:21<19:01,  1.67s/it]\u001b[A\u001b[A"
          ],
          "name": "stderr"
        },
        {
          "output_type": "stream",
          "text": [
            "corsolagalar\n"
          ],
          "name": "stdout"
        },
        {
          "output_type": "stream",
          "text": [
            "\n",
            "\n",
            " 39%|███▉      | 444/1127 [15:22<18:39,  1.64s/it]\u001b[A\u001b[A"
          ],
          "name": "stderr"
        },
        {
          "output_type": "stream",
          "text": [
            "mawilemega\n"
          ],
          "name": "stdout"
        },
        {
          "output_type": "stream",
          "text": [
            "\n",
            "\n",
            " 39%|███▉      | 445/1127 [15:24<18:15,  1.61s/it]\u001b[A\u001b[A"
          ],
          "name": "stderr"
        },
        {
          "output_type": "stream",
          "text": [
            "wormadamtrash\n"
          ],
          "name": "stdout"
        },
        {
          "output_type": "stream",
          "text": [
            "\n",
            "\n",
            " 40%|███▉      | 446/1127 [15:25<18:09,  1.60s/it]\u001b[A\u001b[A"
          ],
          "name": "stderr"
        },
        {
          "output_type": "stream",
          "text": [
            "venusaurmega\n"
          ],
          "name": "stdout"
        },
        {
          "output_type": "stream",
          "text": [
            "\n",
            "\n",
            " 40%|███▉      | 447/1127 [15:27<16:35,  1.46s/it]\u001b[A\u001b[A"
          ],
          "name": "stderr"
        },
        {
          "output_type": "stream",
          "text": [
            "minun\n"
          ],
          "name": "stdout"
        },
        {
          "output_type": "stream",
          "text": [
            "\n",
            "\n",
            " 40%|███▉      | 448/1127 [15:29<17:56,  1.59s/it]\u001b[A\u001b[A"
          ],
          "name": "stderr"
        },
        {
          "output_type": "stream",
          "text": [
            "kinglergmax\n"
          ],
          "name": "stdout"
        },
        {
          "output_type": "stream",
          "text": [
            "\n",
            "\n",
            " 40%|███▉      | 449/1127 [15:30<16:26,  1.45s/it]\u001b[A\u001b[A"
          ],
          "name": "stderr"
        },
        {
          "output_type": "stream",
          "text": [
            "floatzel\n"
          ],
          "name": "stdout"
        },
        {
          "output_type": "stream",
          "text": [
            "\n",
            "\n",
            " 40%|███▉      | 450/1127 [15:31<17:01,  1.51s/it]\u001b[A\u001b[A"
          ],
          "name": "stderr"
        },
        {
          "output_type": "stream",
          "text": [
            "lurantistotem\n"
          ],
          "name": "stdout"
        },
        {
          "output_type": "stream",
          "text": [
            "\n",
            "\n",
            " 40%|████      | 451/1127 [15:33<17:49,  1.58s/it]\u001b[A\u001b[A"
          ],
          "name": "stderr"
        },
        {
          "output_type": "stream",
          "text": [
            "shedinja\n"
          ],
          "name": "stdout"
        },
        {
          "output_type": "stream",
          "text": [
            "\n",
            "\n",
            " 40%|████      | 452/1127 [15:35<18:01,  1.60s/it]\u001b[A\u001b[A"
          ],
          "name": "stderr"
        },
        {
          "output_type": "stream",
          "text": [
            "probopass\n"
          ],
          "name": "stdout"
        },
        {
          "output_type": "stream",
          "text": [
            "\n",
            "\n",
            " 40%|████      | 453/1127 [15:36<18:11,  1.62s/it]\u001b[A\u001b[A"
          ],
          "name": "stderr"
        },
        {
          "output_type": "stream",
          "text": [
            "pikachustarter\n"
          ],
          "name": "stdout"
        },
        {
          "output_type": "stream",
          "text": [
            "\n",
            "\n",
            " 40%|████      | 454/1127 [15:38<18:10,  1.62s/it]\u001b[A\u001b[A"
          ],
          "name": "stderr"
        },
        {
          "output_type": "stream",
          "text": [
            "treecko\n"
          ],
          "name": "stdout"
        },
        {
          "output_type": "stream",
          "text": [
            "\n",
            "\n",
            " 40%|████      | 455/1127 [15:40<17:51,  1.59s/it]\u001b[A\u001b[A"
          ],
          "name": "stderr"
        },
        {
          "output_type": "stream",
          "text": [
            "latios\n"
          ],
          "name": "stdout"
        },
        {
          "output_type": "stream",
          "text": [
            "\n",
            "\n",
            " 40%|████      | 456/1127 [15:41<17:33,  1.57s/it]\u001b[A\u001b[A"
          ],
          "name": "stderr"
        },
        {
          "output_type": "stream",
          "text": [
            "minccino\n"
          ],
          "name": "stdout"
        },
        {
          "output_type": "stream",
          "text": [
            "\n",
            "\n",
            " 41%|████      | 457/1127 [15:42<15:51,  1.42s/it]\u001b[A\u001b[A"
          ],
          "name": "stderr"
        },
        {
          "output_type": "stream",
          "text": [
            "escavalier\n"
          ],
          "name": "stdout"
        },
        {
          "output_type": "stream",
          "text": [
            "\n",
            "\n",
            " 41%|████      | 458/1127 [15:44<16:38,  1.49s/it]\u001b[A\u001b[A"
          ],
          "name": "stderr"
        },
        {
          "output_type": "stream",
          "text": [
            "laprasgmax\n"
          ],
          "name": "stdout"
        },
        {
          "output_type": "stream",
          "text": [
            "\n",
            "\n",
            " 41%|████      | 459/1127 [15:46<17:55,  1.61s/it]\u001b[A\u001b[A"
          ],
          "name": "stderr"
        },
        {
          "output_type": "stream",
          "text": [
            "baltoy\n"
          ],
          "name": "stdout"
        },
        {
          "output_type": "stream",
          "text": [
            "\n",
            "\n",
            " 41%|████      | 460/1127 [15:47<18:20,  1.65s/it]\u001b[A\u001b[A"
          ],
          "name": "stderr"
        },
        {
          "output_type": "stream",
          "text": [
            "marowakalolatotem\n"
          ],
          "name": "stdout"
        },
        {
          "output_type": "stream",
          "text": [
            "\n",
            "\n",
            " 41%|████      | 461/1127 [15:49<18:38,  1.68s/it]\u001b[A\u001b[A"
          ],
          "name": "stderr"
        },
        {
          "output_type": "stream",
          "text": [
            "pumpkaboolarge\n"
          ],
          "name": "stdout"
        },
        {
          "output_type": "stream",
          "text": [
            "\n",
            "\n",
            " 41%|████      | 462/1127 [15:51<18:50,  1.70s/it]\u001b[A\u001b[A"
          ],
          "name": "stderr"
        },
        {
          "output_type": "stream",
          "text": [
            "bidoof\n"
          ],
          "name": "stdout"
        },
        {
          "output_type": "stream",
          "text": [
            "\n",
            "\n",
            " 41%|████      | 463/1127 [15:53<20:00,  1.81s/it]\u001b[A\u001b[A"
          ],
          "name": "stderr"
        },
        {
          "output_type": "stream",
          "text": [
            "parasect\n"
          ],
          "name": "stdout"
        },
        {
          "output_type": "stream",
          "text": [
            "\n",
            "\n",
            " 41%|████      | 464/1127 [15:55<20:06,  1.82s/it]\u001b[A\u001b[A"
          ],
          "name": "stderr"
        },
        {
          "output_type": "stream",
          "text": [
            "solrock\n"
          ],
          "name": "stdout"
        },
        {
          "output_type": "stream",
          "text": [
            "\n",
            "\n",
            " 41%|████▏     | 465/1127 [15:56<19:21,  1.75s/it]\u001b[A\u001b[A"
          ],
          "name": "stderr"
        },
        {
          "output_type": "stream",
          "text": [
            "wigglytuff\n"
          ],
          "name": "stdout"
        },
        {
          "output_type": "stream",
          "text": [
            "\n",
            "\n",
            " 41%|████▏     | 466/1127 [15:58<19:48,  1.80s/it]\u001b[A\u001b[A"
          ],
          "name": "stderr"
        },
        {
          "output_type": "stream",
          "text": [
            "shieldon\n"
          ],
          "name": "stdout"
        },
        {
          "output_type": "stream",
          "text": [
            "\n",
            "\n",
            " 41%|████▏     | 467/1127 [16:00<20:36,  1.87s/it]\u001b[A\u001b[A"
          ],
          "name": "stderr"
        },
        {
          "output_type": "stream",
          "text": [
            "meditite\n"
          ],
          "name": "stdout"
        },
        {
          "output_type": "stream",
          "text": [
            "\n",
            "\n",
            " 42%|████▏     | 468/1127 [16:02<20:26,  1.86s/it]\u001b[A\u001b[A"
          ],
          "name": "stderr"
        },
        {
          "output_type": "stream",
          "text": [
            "magby\n"
          ],
          "name": "stdout"
        },
        {
          "output_type": "stream",
          "text": [
            "\n",
            "\n",
            " 42%|████▏     | 469/1127 [16:04<20:54,  1.91s/it]\u001b[A\u001b[A"
          ],
          "name": "stderr"
        },
        {
          "output_type": "stream",
          "text": [
            "karrablast\n"
          ],
          "name": "stdout"
        },
        {
          "output_type": "stream",
          "text": [
            "\n",
            "\n",
            " 42%|████▏     | 470/1127 [16:06<20:50,  1.90s/it]\u001b[A\u001b[A"
          ],
          "name": "stderr"
        },
        {
          "output_type": "stream",
          "text": [
            "ambipom\n"
          ],
          "name": "stdout"
        },
        {
          "output_type": "stream",
          "text": [
            "\n",
            "\n",
            " 42%|████▏     | 471/1127 [16:08<20:48,  1.90s/it]\u001b[A\u001b[A"
          ],
          "name": "stderr"
        },
        {
          "output_type": "stream",
          "text": [
            "shiinotic\n"
          ],
          "name": "stdout"
        },
        {
          "output_type": "stream",
          "text": [
            "\n",
            "\n",
            " 42%|████▏     | 472/1127 [16:10<21:13,  1.94s/it]\u001b[A\u001b[A"
          ],
          "name": "stderr"
        },
        {
          "output_type": "stream",
          "text": [
            "spritzee\n"
          ],
          "name": "stdout"
        },
        {
          "output_type": "stream",
          "text": [
            "\n",
            "\n",
            " 42%|████▏     | 473/1127 [16:12<21:16,  1.95s/it]\u001b[A\u001b[A"
          ],
          "name": "stderr"
        },
        {
          "output_type": "stream",
          "text": [
            "vullaby\n"
          ],
          "name": "stdout"
        },
        {
          "output_type": "stream",
          "text": [
            "\n",
            "\n",
            " 42%|████▏     | 474/1127 [16:14<21:29,  1.97s/it]\u001b[A\u001b[A"
          ],
          "name": "stderr"
        },
        {
          "output_type": "stream",
          "text": [
            "beedrill\n"
          ],
          "name": "stdout"
        },
        {
          "output_type": "stream",
          "text": [
            "\n",
            "\n",
            " 42%|████▏     | 475/1127 [16:16<21:48,  2.01s/it]\u001b[A\u001b[A"
          ],
          "name": "stderr"
        },
        {
          "output_type": "stream",
          "text": [
            "dracozolt\n"
          ],
          "name": "stdout"
        },
        {
          "output_type": "stream",
          "text": [
            "\n",
            "\n",
            " 42%|████▏     | 476/1127 [16:18<21:44,  2.00s/it]\u001b[A\u001b[A"
          ],
          "name": "stderr"
        },
        {
          "output_type": "stream",
          "text": [
            "hippopotas\n"
          ],
          "name": "stdout"
        },
        {
          "output_type": "stream",
          "text": [
            "\n",
            "\n",
            " 42%|████▏     | 477/1127 [16:20<21:37,  2.00s/it]\u001b[A\u001b[A"
          ],
          "name": "stderr"
        },
        {
          "output_type": "stream",
          "text": [
            "arceuspsychic\n"
          ],
          "name": "stdout"
        },
        {
          "output_type": "stream",
          "text": [
            "\n",
            "\n",
            " 42%|████▏     | 478/1127 [16:22<21:50,  2.02s/it]\u001b[A\u001b[A"
          ],
          "name": "stderr"
        },
        {
          "output_type": "stream",
          "text": [
            "yanmega\n"
          ],
          "name": "stdout"
        },
        {
          "output_type": "stream",
          "text": [
            "\n",
            "\n",
            " 43%|████▎     | 479/1127 [16:24<21:16,  1.97s/it]\u001b[A\u001b[A"
          ],
          "name": "stderr"
        },
        {
          "output_type": "stream",
          "text": [
            "mawile\n"
          ],
          "name": "stdout"
        },
        {
          "output_type": "stream",
          "text": [
            "\n",
            "\n",
            " 43%|████▎     | 480/1127 [16:26<21:42,  2.01s/it]\u001b[A\u001b[A"
          ],
          "name": "stderr"
        },
        {
          "output_type": "stream",
          "text": [
            "donphan\n"
          ],
          "name": "stdout"
        },
        {
          "output_type": "stream",
          "text": [
            "\n",
            "\n",
            " 43%|████▎     | 481/1127 [16:28<21:54,  2.03s/it]\u001b[A\u001b[A"
          ],
          "name": "stderr"
        },
        {
          "output_type": "stream",
          "text": [
            "miltank\n"
          ],
          "name": "stdout"
        },
        {
          "output_type": "stream",
          "text": [
            "\n",
            "\n",
            " 43%|████▎     | 482/1127 [16:30<22:18,  2.08s/it]\u001b[A\u001b[A"
          ],
          "name": "stderr"
        },
        {
          "output_type": "stream",
          "text": [
            "dragapult\n"
          ],
          "name": "stdout"
        },
        {
          "output_type": "stream",
          "text": [
            "\n",
            "\n",
            " 43%|████▎     | 483/1127 [16:32<22:15,  2.07s/it]\u001b[A\u001b[A"
          ],
          "name": "stderr"
        },
        {
          "output_type": "stream",
          "text": [
            "piloswine\n"
          ],
          "name": "stdout"
        },
        {
          "output_type": "stream",
          "text": [
            "\n",
            "\n",
            " 43%|████▎     | 484/1127 [16:35<22:31,  2.10s/it]\u001b[A\u001b[A"
          ],
          "name": "stderr"
        },
        {
          "output_type": "stream",
          "text": [
            "runerigus\n"
          ],
          "name": "stdout"
        },
        {
          "output_type": "stream",
          "text": [
            "\n",
            "\n",
            " 43%|████▎     | 485/1127 [16:37<23:14,  2.17s/it]\u001b[A\u001b[A"
          ],
          "name": "stderr"
        },
        {
          "output_type": "stream",
          "text": [
            "charmeleon\n"
          ],
          "name": "stdout"
        },
        {
          "output_type": "stream",
          "text": [
            "\n",
            "\n",
            " 43%|████▎     | 486/1127 [16:39<23:01,  2.16s/it]\u001b[A\u001b[A"
          ],
          "name": "stderr"
        },
        {
          "output_type": "stream",
          "text": [
            "diglettalola\n"
          ],
          "name": "stdout"
        },
        {
          "output_type": "stream",
          "text": [
            "\n",
            "\n",
            " 43%|████▎     | 487/1127 [16:41<23:01,  2.16s/it]\u001b[A\u001b[A"
          ],
          "name": "stderr"
        },
        {
          "output_type": "stream",
          "text": [
            "arcanine\n"
          ],
          "name": "stdout"
        },
        {
          "output_type": "stream",
          "text": [
            "\n",
            "\n",
            " 43%|████▎     | 488/1127 [16:43<22:42,  2.13s/it]\u001b[A\u001b[A"
          ],
          "name": "stderr"
        },
        {
          "output_type": "stream",
          "text": [
            "thievul\n"
          ],
          "name": "stdout"
        },
        {
          "output_type": "stream",
          "text": [
            "\n",
            "\n",
            " 43%|████▎     | 489/1127 [16:45<22:33,  2.12s/it]\u001b[A\u001b[A"
          ],
          "name": "stderr"
        },
        {
          "output_type": "stream",
          "text": [
            "hatterene\n"
          ],
          "name": "stdout"
        },
        {
          "output_type": "stream",
          "text": [
            "\n",
            "\n",
            " 43%|████▎     | 490/1127 [16:48<22:40,  2.14s/it]\u001b[A\u001b[A"
          ],
          "name": "stderr"
        },
        {
          "output_type": "stream",
          "text": [
            "tynamo\n"
          ],
          "name": "stdout"
        },
        {
          "output_type": "stream",
          "text": [
            "\n",
            "\n",
            " 44%|████▎     | 491/1127 [16:50<22:22,  2.11s/it]\u001b[A\u001b[A"
          ],
          "name": "stderr"
        },
        {
          "output_type": "stream",
          "text": [
            "latiasmega\n"
          ],
          "name": "stdout"
        },
        {
          "output_type": "stream",
          "text": [
            "\n",
            "\n",
            " 44%|████▎     | 492/1127 [16:52<23:01,  2.17s/it]\u001b[A\u001b[A"
          ],
          "name": "stderr"
        },
        {
          "output_type": "stream",
          "text": [
            "zygarde10\n"
          ],
          "name": "stdout"
        },
        {
          "output_type": "stream",
          "text": [
            "\n",
            "\n",
            " 44%|████▎     | 493/1127 [16:54<22:47,  2.16s/it]\u001b[A\u001b[A"
          ],
          "name": "stderr"
        },
        {
          "output_type": "stream",
          "text": [
            "wormadam\n"
          ],
          "name": "stdout"
        },
        {
          "output_type": "stream",
          "text": [
            "\n",
            "\n",
            " 44%|████▍     | 494/1127 [16:56<22:47,  2.16s/it]\u001b[A\u001b[A"
          ],
          "name": "stderr"
        },
        {
          "output_type": "stream",
          "text": [
            "flabébé\n"
          ],
          "name": "stdout"
        },
        {
          "output_type": "stream",
          "text": [
            "\n",
            "\n",
            " 44%|████▍     | 495/1127 [16:58<21:50,  2.07s/it]\u001b[A\u001b[A"
          ],
          "name": "stderr"
        },
        {
          "output_type": "stream",
          "text": [
            "togetic\n"
          ],
          "name": "stdout"
        },
        {
          "output_type": "stream",
          "text": [
            "\n",
            "\n",
            " 44%|████▍     | 496/1127 [17:00<21:25,  2.04s/it]\u001b[A\u001b[A"
          ],
          "name": "stderr"
        },
        {
          "output_type": "stream",
          "text": [
            "landorustherian\n"
          ],
          "name": "stdout"
        },
        {
          "output_type": "stream",
          "text": [
            "\n",
            "\n",
            " 44%|████▍     | 497/1127 [17:02<20:12,  1.92s/it]\u001b[A\u001b[A"
          ],
          "name": "stderr"
        },
        {
          "output_type": "stream",
          "text": [
            "surskit\n"
          ],
          "name": "stdout"
        },
        {
          "output_type": "stream",
          "text": [
            "\n",
            "\n",
            " 44%|████▍     | 498/1127 [17:04<21:44,  2.07s/it]\u001b[A\u001b[A"
          ],
          "name": "stderr"
        },
        {
          "output_type": "stream",
          "text": [
            "abra\n"
          ],
          "name": "stdout"
        },
        {
          "output_type": "stream",
          "text": [
            "\n",
            "\n",
            " 44%|████▍     | 499/1127 [17:06<22:35,  2.16s/it]\u001b[A\u001b[A"
          ],
          "name": "stderr"
        },
        {
          "output_type": "stream",
          "text": [
            "rapidashgalar\n"
          ],
          "name": "stdout"
        },
        {
          "output_type": "stream",
          "text": [
            "\n",
            "\n",
            " 44%|████▍     | 500/1127 [17:09<22:55,  2.19s/it]\u001b[A\u001b[A"
          ],
          "name": "stderr"
        },
        {
          "output_type": "stream",
          "text": [
            "mienshao\n"
          ],
          "name": "stdout"
        },
        {
          "output_type": "stream",
          "text": [
            "\n",
            "\n",
            " 44%|████▍     | 501/1127 [17:11<23:10,  2.22s/it]\u001b[A\u001b[A"
          ],
          "name": "stderr"
        },
        {
          "output_type": "stream",
          "text": [
            "vivillonfancy\n"
          ],
          "name": "stdout"
        },
        {
          "output_type": "stream",
          "text": [
            "\n",
            "\n",
            " 45%|████▍     | 502/1127 [17:13<22:54,  2.20s/it]\u001b[A\u001b[A"
          ],
          "name": "stderr"
        },
        {
          "output_type": "stream",
          "text": [
            "litleo\n"
          ],
          "name": "stdout"
        },
        {
          "output_type": "stream",
          "text": [
            "\n",
            "\n",
            " 45%|████▍     | 503/1127 [17:15<22:49,  2.19s/it]\u001b[A\u001b[A"
          ],
          "name": "stderr"
        },
        {
          "output_type": "stream",
          "text": [
            "wailmer\n"
          ],
          "name": "stdout"
        },
        {
          "output_type": "stream",
          "text": [
            "\n",
            "\n",
            " 45%|████▍     | 504/1127 [17:18<22:41,  2.19s/it]\u001b[A\u001b[A"
          ],
          "name": "stderr"
        },
        {
          "output_type": "stream",
          "text": [
            "grimer\n"
          ],
          "name": "stdout"
        },
        {
          "output_type": "stream",
          "text": [
            "\n",
            "\n",
            " 45%|████▍     | 505/1127 [17:20<22:08,  2.14s/it]\u001b[A\u001b[A"
          ],
          "name": "stderr"
        },
        {
          "output_type": "stream",
          "text": [
            "vanillish\n"
          ],
          "name": "stdout"
        },
        {
          "output_type": "stream",
          "text": [
            "\n",
            "\n",
            " 45%|████▍     | 506/1127 [17:22<22:01,  2.13s/it]\u001b[A\u001b[A"
          ],
          "name": "stderr"
        },
        {
          "output_type": "stream",
          "text": [
            "heatran\n"
          ],
          "name": "stdout"
        },
        {
          "output_type": "stream",
          "text": [
            "\n",
            "\n",
            " 45%|████▍     | 507/1127 [17:24<22:03,  2.13s/it]\u001b[A\u001b[A"
          ],
          "name": "stderr"
        },
        {
          "output_type": "stream",
          "text": [
            "raticate\n"
          ],
          "name": "stdout"
        },
        {
          "output_type": "stream",
          "text": [
            "\n",
            "\n",
            " 45%|████▌     | 508/1127 [17:26<22:30,  2.18s/it]\u001b[A\u001b[A"
          ],
          "name": "stderr"
        },
        {
          "output_type": "stream",
          "text": [
            "leavanny\n"
          ],
          "name": "stdout"
        },
        {
          "output_type": "stream",
          "text": [
            "\n",
            "\n",
            " 45%|████▌     | 509/1127 [17:28<22:41,  2.20s/it]\u001b[A\u001b[A"
          ],
          "name": "stderr"
        },
        {
          "output_type": "stream",
          "text": [
            "deerling\n"
          ],
          "name": "stdout"
        },
        {
          "output_type": "stream",
          "text": [
            "\n",
            "\n",
            " 45%|████▌     | 510/1127 [17:31<22:39,  2.20s/it]\u001b[A\u001b[A"
          ],
          "name": "stderr"
        },
        {
          "output_type": "stream",
          "text": [
            "golem\n"
          ],
          "name": "stdout"
        },
        {
          "output_type": "stream",
          "text": [
            "\n",
            "\n",
            " 45%|████▌     | 511/1127 [17:32<21:42,  2.11s/it]\u001b[A\u001b[A"
          ],
          "name": "stderr"
        },
        {
          "output_type": "stream",
          "text": [
            "tropius\n"
          ],
          "name": "stdout"
        },
        {
          "output_type": "stream",
          "text": [
            "\n",
            "\n",
            " 45%|████▌     | 512/1127 [17:35<23:39,  2.31s/it]\u001b[A\u001b[A"
          ],
          "name": "stderr"
        },
        {
          "output_type": "stream",
          "text": [
            "luxray\n"
          ],
          "name": "stdout"
        },
        {
          "output_type": "stream",
          "text": [
            "\n",
            "\n",
            " 46%|████▌     | 513/1127 [17:37<23:08,  2.26s/it]\u001b[A\u001b[A"
          ],
          "name": "stderr"
        },
        {
          "output_type": "stream",
          "text": [
            "yamaskgalar\n"
          ],
          "name": "stdout"
        },
        {
          "output_type": "stream",
          "text": [
            "\n",
            "\n",
            " 46%|████▌     | 514/1127 [17:39<21:41,  2.12s/it]\u001b[A\u001b[A"
          ],
          "name": "stderr"
        },
        {
          "output_type": "stream",
          "text": [
            "hatterenegmax\n"
          ],
          "name": "stdout"
        },
        {
          "output_type": "stream",
          "text": [
            "\n",
            "\n",
            " 46%|████▌     | 515/1127 [17:41<20:25,  2.00s/it]\u001b[A\u001b[A"
          ],
          "name": "stderr"
        },
        {
          "output_type": "stream",
          "text": [
            "diancie\n"
          ],
          "name": "stdout"
        },
        {
          "output_type": "stream",
          "text": [
            "\n",
            "\n",
            " 46%|████▌     | 516/1127 [17:43<20:35,  2.02s/it]\u001b[A\u001b[A"
          ],
          "name": "stderr"
        },
        {
          "output_type": "stream",
          "text": [
            "rotomfrost\n"
          ],
          "name": "stdout"
        },
        {
          "output_type": "stream",
          "text": [
            "\n",
            "\n",
            " 46%|████▌     | 517/1127 [17:45<21:01,  2.07s/it]\u001b[A\u001b[A"
          ],
          "name": "stderr"
        },
        {
          "output_type": "stream",
          "text": [
            "garbodorgmax\n"
          ],
          "name": "stdout"
        },
        {
          "output_type": "stream",
          "text": [
            "\n",
            "\n",
            " 46%|████▌     | 518/1127 [17:47<21:23,  2.11s/it]\u001b[A\u001b[A"
          ],
          "name": "stderr"
        },
        {
          "output_type": "stream",
          "text": [
            "lucariomega\n"
          ],
          "name": "stdout"
        },
        {
          "output_type": "stream",
          "text": [
            "\n",
            "\n",
            " 46%|████▌     | 519/1127 [17:49<21:24,  2.11s/it]\u001b[A\u001b[A"
          ],
          "name": "stderr"
        },
        {
          "output_type": "stream",
          "text": [
            "unfezant\n"
          ],
          "name": "stdout"
        },
        {
          "output_type": "stream",
          "text": [
            "\n",
            "\n",
            " 46%|████▌     | 520/1127 [17:52<21:52,  2.16s/it]\u001b[A\u001b[A"
          ],
          "name": "stderr"
        },
        {
          "output_type": "stream",
          "text": [
            "jellicent\n"
          ],
          "name": "stdout"
        },
        {
          "output_type": "stream",
          "text": [
            "\n",
            "\n",
            " 46%|████▌     | 521/1127 [17:54<22:41,  2.25s/it]\u001b[A\u001b[A"
          ],
          "name": "stderr"
        },
        {
          "output_type": "stream",
          "text": [
            "cloyster\n"
          ],
          "name": "stdout"
        },
        {
          "output_type": "stream",
          "text": [
            "\n",
            "\n",
            " 46%|████▋     | 522/1127 [17:57<22:50,  2.26s/it]\u001b[A\u001b[A"
          ],
          "name": "stderr"
        },
        {
          "output_type": "stream",
          "text": [
            "nuzleaf\n"
          ],
          "name": "stdout"
        },
        {
          "output_type": "stream",
          "text": [
            "\n",
            "\n",
            " 46%|████▋     | 523/1127 [17:59<22:52,  2.27s/it]\u001b[A\u001b[A"
          ],
          "name": "stderr"
        },
        {
          "output_type": "stream",
          "text": [
            "pyukumuku\n"
          ],
          "name": "stdout"
        },
        {
          "output_type": "stream",
          "text": [
            "\n",
            "\n",
            " 46%|████▋     | 524/1127 [18:01<22:48,  2.27s/it]\u001b[A\u001b[A"
          ],
          "name": "stderr"
        },
        {
          "output_type": "stream",
          "text": [
            "nidoking\n"
          ],
          "name": "stdout"
        },
        {
          "output_type": "stream",
          "text": [
            "\n",
            "\n",
            " 47%|████▋     | 525/1127 [18:04<23:17,  2.32s/it]\u001b[A\u001b[A"
          ],
          "name": "stderr"
        },
        {
          "output_type": "stream",
          "text": [
            "chespin\n"
          ],
          "name": "stdout"
        },
        {
          "output_type": "stream",
          "text": [
            "\n",
            "\n",
            " 47%|████▋     | 526/1127 [18:05<21:39,  2.16s/it]\u001b[A\u001b[A"
          ],
          "name": "stderr"
        },
        {
          "output_type": "stream",
          "text": [
            "mimikyubustedtotem\n"
          ],
          "name": "stdout"
        },
        {
          "output_type": "stream",
          "text": [
            "\n",
            "\n",
            " 47%|████▋     | 527/1127 [18:07<19:51,  1.99s/it]\u001b[A\u001b[A"
          ],
          "name": "stderr"
        },
        {
          "output_type": "stream",
          "text": [
            "lapras\n"
          ],
          "name": "stdout"
        },
        {
          "output_type": "stream",
          "text": [
            "\n",
            "\n",
            " 47%|████▋     | 528/1127 [18:09<20:37,  2.07s/it]\u001b[A\u001b[A"
          ],
          "name": "stderr"
        },
        {
          "output_type": "stream",
          "text": [
            "aurorus\n"
          ],
          "name": "stdout"
        },
        {
          "output_type": "stream",
          "text": [
            "\n",
            "\n",
            " 47%|████▋     | 529/1127 [18:12<21:51,  2.19s/it]\u001b[A\u001b[A"
          ],
          "name": "stderr"
        },
        {
          "output_type": "stream",
          "text": [
            "jirachi\n"
          ],
          "name": "stdout"
        },
        {
          "output_type": "stream",
          "text": [
            "\n",
            "\n",
            " 47%|████▋     | 530/1127 [18:14<22:15,  2.24s/it]\u001b[A\u001b[A"
          ],
          "name": "stderr"
        },
        {
          "output_type": "stream",
          "text": [
            "cradily\n"
          ],
          "name": "stdout"
        },
        {
          "output_type": "stream",
          "text": [
            "\n",
            "\n",
            " 47%|████▋     | 531/1127 [18:16<23:01,  2.32s/it]\u001b[A\u001b[A"
          ],
          "name": "stderr"
        },
        {
          "output_type": "stream",
          "text": [
            "phanpy\n"
          ],
          "name": "stdout"
        },
        {
          "output_type": "stream",
          "text": [
            "\n",
            "\n",
            " 47%|████▋     | 532/1127 [18:19<23:10,  2.34s/it]\u001b[A\u001b[A"
          ],
          "name": "stderr"
        },
        {
          "output_type": "stream",
          "text": [
            "electrike\n"
          ],
          "name": "stdout"
        },
        {
          "output_type": "stream",
          "text": [
            "\n",
            "\n",
            " 47%|████▋     | 533/1127 [18:21<24:03,  2.43s/it]\u001b[A\u001b[A"
          ],
          "name": "stderr"
        },
        {
          "output_type": "stream",
          "text": [
            "arceus\n"
          ],
          "name": "stdout"
        },
        {
          "output_type": "stream",
          "text": [
            "\n",
            "\n",
            " 47%|████▋     | 534/1127 [18:24<23:47,  2.41s/it]\u001b[A\u001b[A"
          ],
          "name": "stderr"
        },
        {
          "output_type": "stream",
          "text": [
            "slowpokegalar\n"
          ],
          "name": "stdout"
        },
        {
          "output_type": "stream",
          "text": [
            "\n",
            "\n",
            " 47%|████▋     | 535/1127 [18:25<20:48,  2.11s/it]\u001b[A\u001b[A"
          ],
          "name": "stderr"
        },
        {
          "output_type": "stream",
          "text": [
            "avalugg\n"
          ],
          "name": "stdout"
        },
        {
          "output_type": "stream",
          "text": [
            "\n",
            "\n",
            " 48%|████▊     | 536/1127 [18:27<20:48,  2.11s/it]\u001b[A\u001b[A"
          ],
          "name": "stderr"
        },
        {
          "output_type": "stream",
          "text": [
            "emboar\n"
          ],
          "name": "stdout"
        },
        {
          "output_type": "stream",
          "text": [
            "\n",
            "\n",
            " 48%|████▊     | 537/1127 [18:29<20:04,  2.04s/it]\u001b[A\u001b[A"
          ],
          "name": "stderr"
        },
        {
          "output_type": "stream",
          "text": [
            "cosmoem\n"
          ],
          "name": "stdout"
        },
        {
          "output_type": "stream",
          "text": [
            "\n",
            "\n",
            " 48%|████▊     | 538/1127 [18:31<18:43,  1.91s/it]\u001b[A\u001b[A"
          ],
          "name": "stderr"
        },
        {
          "output_type": "stream",
          "text": [
            "galvantula\n"
          ],
          "name": "stdout"
        },
        {
          "output_type": "stream",
          "text": [
            "\n",
            "\n",
            " 48%|████▊     | 539/1127 [18:33<20:01,  2.04s/it]\u001b[A\u001b[A"
          ],
          "name": "stderr"
        },
        {
          "output_type": "stream",
          "text": [
            "walrein\n"
          ],
          "name": "stdout"
        },
        {
          "output_type": "stream",
          "text": [
            "\n",
            "\n",
            " 48%|████▊     | 540/1127 [18:36<20:59,  2.15s/it]\u001b[A\u001b[A"
          ],
          "name": "stderr"
        },
        {
          "output_type": "stream",
          "text": [
            "stonjourner\n"
          ],
          "name": "stdout"
        },
        {
          "output_type": "stream",
          "text": [
            "\n",
            "\n",
            " 48%|████▊     | 541/1127 [18:37<18:33,  1.90s/it]\u001b[A\u001b[A"
          ],
          "name": "stderr"
        },
        {
          "output_type": "stream",
          "text": [
            "sinistea\n"
          ],
          "name": "stdout"
        },
        {
          "output_type": "stream",
          "text": [
            "\n",
            "\n",
            " 48%|████▊     | 542/1127 [18:39<19:00,  1.95s/it]\u001b[A\u001b[A"
          ],
          "name": "stderr"
        },
        {
          "output_type": "stream",
          "text": [
            "nickit\n"
          ],
          "name": "stdout"
        },
        {
          "output_type": "stream",
          "text": [
            "\n",
            "\n",
            " 48%|████▊     | 543/1127 [18:41<17:49,  1.83s/it]\u001b[A\u001b[A"
          ],
          "name": "stderr"
        },
        {
          "output_type": "stream",
          "text": [
            "rolycoly\n"
          ],
          "name": "stdout"
        },
        {
          "output_type": "stream",
          "text": [
            "\n",
            "\n",
            " 48%|████▊     | 544/1127 [18:43<19:20,  1.99s/it]\u001b[A\u001b[A"
          ],
          "name": "stderr"
        },
        {
          "output_type": "stream",
          "text": [
            "bewear\n"
          ],
          "name": "stdout"
        },
        {
          "output_type": "stream",
          "text": [
            "\n",
            "\n",
            " 48%|████▊     | 545/1127 [18:47<24:14,  2.50s/it]\u001b[A\u001b[A"
          ],
          "name": "stderr"
        },
        {
          "output_type": "stream",
          "text": [
            "sharpedo\n"
          ],
          "name": "stdout"
        },
        {
          "output_type": "stream",
          "text": [
            "\n",
            "\n",
            " 48%|████▊     | 546/1127 [18:49<23:43,  2.45s/it]\u001b[A\u001b[A"
          ],
          "name": "stderr"
        },
        {
          "output_type": "stream",
          "text": [
            "pelipper\n"
          ],
          "name": "stdout"
        },
        {
          "output_type": "stream",
          "text": [
            "\n",
            "\n",
            " 49%|████▊     | 547/1127 [18:51<22:16,  2.30s/it]\u001b[A\u001b[A"
          ],
          "name": "stderr"
        },
        {
          "output_type": "stream",
          "text": [
            "gloom\n"
          ],
          "name": "stdout"
        },
        {
          "output_type": "stream",
          "text": [
            "\n",
            "\n",
            " 49%|████▊     | 548/1127 [18:53<21:03,  2.18s/it]\u001b[A\u001b[A"
          ],
          "name": "stderr"
        },
        {
          "output_type": "stream",
          "text": [
            "dodrio\n"
          ],
          "name": "stdout"
        },
        {
          "output_type": "stream",
          "text": [
            "\n",
            "\n",
            " 49%|████▊     | 549/1127 [18:55<21:42,  2.25s/it]\u001b[A\u001b[A"
          ],
          "name": "stderr"
        },
        {
          "output_type": "stream",
          "text": [
            "drifblim\n"
          ],
          "name": "stdout"
        },
        {
          "output_type": "stream",
          "text": [
            "\n",
            "\n",
            " 49%|████▉     | 550/1127 [18:58<21:52,  2.28s/it]\u001b[A\u001b[A"
          ],
          "name": "stderr"
        },
        {
          "output_type": "stream",
          "text": [
            "golemalola\n"
          ],
          "name": "stdout"
        },
        {
          "output_type": "stream",
          "text": [
            "\n",
            "\n",
            " 49%|████▉     | 551/1127 [19:00<22:23,  2.33s/it]\u001b[A\u001b[A"
          ],
          "name": "stderr"
        },
        {
          "output_type": "stream",
          "text": [
            "chesnaught\n"
          ],
          "name": "stdout"
        },
        {
          "output_type": "stream",
          "text": [
            "\n",
            "\n",
            " 49%|████▉     | 552/1127 [19:02<22:32,  2.35s/it]\u001b[A\u001b[A"
          ],
          "name": "stderr"
        },
        {
          "output_type": "stream",
          "text": [
            "orbeetlegmax\n"
          ],
          "name": "stdout"
        },
        {
          "output_type": "stream",
          "text": [
            "\n",
            "\n",
            " 49%|████▉     | 553/1127 [19:04<19:49,  2.07s/it]\u001b[A\u001b[A"
          ],
          "name": "stderr"
        },
        {
          "output_type": "stream",
          "text": [
            "lickilicky\n"
          ],
          "name": "stdout"
        },
        {
          "output_type": "stream",
          "text": [
            "\n",
            "\n",
            " 49%|████▉     | 554/1127 [19:06<19:53,  2.08s/it]\u001b[A\u001b[A"
          ],
          "name": "stderr"
        },
        {
          "output_type": "stream",
          "text": [
            "xurkitree\n"
          ],
          "name": "stdout"
        },
        {
          "output_type": "stream",
          "text": [
            "\n",
            "\n",
            " 49%|████▉     | 555/1127 [19:08<19:06,  2.01s/it]\u001b[A\u001b[A"
          ],
          "name": "stderr"
        },
        {
          "output_type": "stream",
          "text": [
            "dugtrioalola\n"
          ],
          "name": "stdout"
        },
        {
          "output_type": "stream",
          "text": [
            "\n",
            "\n",
            " 49%|████▉     | 556/1127 [19:10<20:23,  2.14s/it]\u001b[A\u001b[A"
          ],
          "name": "stderr"
        },
        {
          "output_type": "stream",
          "text": [
            "crustle\n"
          ],
          "name": "stdout"
        },
        {
          "output_type": "stream",
          "text": [
            "\n",
            "\n",
            " 49%|████▉     | 557/1127 [19:13<22:15,  2.34s/it]\u001b[A\u001b[A"
          ],
          "name": "stderr"
        },
        {
          "output_type": "stream",
          "text": [
            "thundurustherian\n"
          ],
          "name": "stdout"
        },
        {
          "output_type": "stream",
          "text": [
            "\n",
            "\n",
            " 50%|████▉     | 558/1127 [19:15<21:32,  2.27s/it]\u001b[A\u001b[A"
          ],
          "name": "stderr"
        },
        {
          "output_type": "stream",
          "text": [
            "swampert\n"
          ],
          "name": "stdout"
        },
        {
          "output_type": "stream",
          "text": [
            "\n",
            "\n",
            " 50%|████▉     | 559/1127 [19:17<21:40,  2.29s/it]\u001b[A\u001b[A"
          ],
          "name": "stderr"
        },
        {
          "output_type": "stream",
          "text": [
            "mothim\n"
          ],
          "name": "stdout"
        },
        {
          "output_type": "stream",
          "text": [
            "\n",
            "\n",
            " 50%|████▉     | 560/1127 [19:20<22:01,  2.33s/it]\u001b[A\u001b[A"
          ],
          "name": "stderr"
        },
        {
          "output_type": "stream",
          "text": [
            "ribombeetotem\n"
          ],
          "name": "stdout"
        },
        {
          "output_type": "stream",
          "text": [
            "\n",
            "\n",
            " 50%|████▉     | 561/1127 [19:22<21:21,  2.26s/it]\u001b[A\u001b[A"
          ],
          "name": "stderr"
        },
        {
          "output_type": "stream",
          "text": [
            "lombre\n"
          ],
          "name": "stdout"
        },
        {
          "output_type": "stream",
          "text": [
            "\n",
            "\n",
            " 50%|████▉     | 562/1127 [19:24<21:10,  2.25s/it]\u001b[A\u001b[A"
          ],
          "name": "stderr"
        },
        {
          "output_type": "stream",
          "text": [
            "zacian\n"
          ],
          "name": "stdout"
        },
        {
          "output_type": "stream",
          "text": [
            "\n",
            "\n",
            " 50%|████▉     | 563/1127 [19:26<20:40,  2.20s/it]\u001b[A\u001b[A"
          ],
          "name": "stderr"
        },
        {
          "output_type": "stream",
          "text": [
            "sobble\n"
          ],
          "name": "stdout"
        },
        {
          "output_type": "stream",
          "text": [
            "\n",
            "\n",
            " 50%|█████     | 564/1127 [19:28<19:58,  2.13s/it]\u001b[A\u001b[A"
          ],
          "name": "stderr"
        },
        {
          "output_type": "stream",
          "text": [
            "groudon\n"
          ],
          "name": "stdout"
        },
        {
          "output_type": "stream",
          "text": [
            "\n",
            "\n",
            " 50%|█████     | 565/1127 [19:30<20:13,  2.16s/it]\u001b[A\u001b[A"
          ],
          "name": "stderr"
        },
        {
          "output_type": "stream",
          "text": [
            "dialga\n"
          ],
          "name": "stdout"
        },
        {
          "output_type": "stream",
          "text": [
            "\n",
            "\n",
            " 50%|█████     | 566/1127 [19:32<19:34,  2.09s/it]\u001b[A\u001b[A"
          ],
          "name": "stderr"
        },
        {
          "output_type": "stream",
          "text": [
            "barboach\n"
          ],
          "name": "stdout"
        },
        {
          "output_type": "stream",
          "text": [
            "\n",
            "\n",
            " 50%|█████     | 567/1127 [19:35<20:35,  2.21s/it]\u001b[A\u001b[A"
          ],
          "name": "stderr"
        },
        {
          "output_type": "stream",
          "text": [
            "noctowl\n"
          ],
          "name": "stdout"
        },
        {
          "output_type": "stream",
          "text": [
            "\n",
            "\n",
            " 50%|█████     | 568/1127 [19:37<19:28,  2.09s/it]\u001b[A\u001b[A"
          ],
          "name": "stderr"
        },
        {
          "output_type": "stream",
          "text": [
            "aggron\n"
          ],
          "name": "stdout"
        },
        {
          "output_type": "stream",
          "text": [
            "\n",
            "\n",
            " 50%|█████     | 569/1127 [19:39<20:17,  2.18s/it]\u001b[A\u001b[A"
          ],
          "name": "stderr"
        },
        {
          "output_type": "stream",
          "text": [
            "silvallydark\n"
          ],
          "name": "stdout"
        },
        {
          "output_type": "stream",
          "text": [
            "\n",
            "\n",
            " 51%|█████     | 570/1127 [19:41<18:39,  2.01s/it]\u001b[A\u001b[A"
          ],
          "name": "stderr"
        },
        {
          "output_type": "stream",
          "text": [
            "sandslash\n"
          ],
          "name": "stdout"
        },
        {
          "output_type": "stream",
          "text": [
            "\n",
            "\n",
            " 51%|█████     | 571/1127 [19:44<23:10,  2.50s/it]\u001b[A\u001b[A"
          ],
          "name": "stderr"
        },
        {
          "output_type": "stream",
          "text": [
            "rayquaza\n"
          ],
          "name": "stdout"
        },
        {
          "output_type": "stream",
          "text": [
            "\n",
            "\n",
            " 51%|█████     | 572/1127 [19:47<23:10,  2.51s/it]\u001b[A\u001b[A"
          ],
          "name": "stderr"
        },
        {
          "output_type": "stream",
          "text": [
            "slowbro\n"
          ],
          "name": "stdout"
        },
        {
          "output_type": "stream",
          "text": [
            "\n",
            "\n",
            " 51%|█████     | 573/1127 [19:50<23:44,  2.57s/it]\u001b[A\u001b[A"
          ],
          "name": "stderr"
        },
        {
          "output_type": "stream",
          "text": [
            "silvallyfairy\n"
          ],
          "name": "stdout"
        },
        {
          "output_type": "stream",
          "text": [
            "\n",
            "\n",
            " 51%|█████     | 574/1127 [19:52<23:28,  2.55s/it]\u001b[A\u001b[A"
          ],
          "name": "stderr"
        },
        {
          "output_type": "stream",
          "text": [
            "jangmoo\n"
          ],
          "name": "stdout"
        },
        {
          "output_type": "stream",
          "text": [
            "\n",
            "\n",
            " 51%|█████     | 575/1127 [19:54<21:32,  2.34s/it]\u001b[A\u001b[A"
          ],
          "name": "stderr"
        },
        {
          "output_type": "stream",
          "text": [
            "shuppet\n"
          ],
          "name": "stdout"
        },
        {
          "output_type": "stream",
          "text": [
            "\n",
            "\n",
            " 51%|█████     | 576/1127 [19:56<20:01,  2.18s/it]\u001b[A\u001b[A"
          ],
          "name": "stderr"
        },
        {
          "output_type": "stream",
          "text": [
            "druddigon\n"
          ],
          "name": "stdout"
        },
        {
          "output_type": "stream",
          "text": [
            "\n",
            "\n",
            " 51%|█████     | 577/1127 [19:58<19:55,  2.17s/it]\u001b[A\u001b[A"
          ],
          "name": "stderr"
        },
        {
          "output_type": "stream",
          "text": [
            "huntail\n"
          ],
          "name": "stdout"
        },
        {
          "output_type": "stream",
          "text": [
            "\n",
            "\n",
            " 51%|█████▏    | 578/1127 [20:00<19:59,  2.19s/it]\u001b[A\u001b[A"
          ],
          "name": "stderr"
        },
        {
          "output_type": "stream",
          "text": [
            "zekrom\n"
          ],
          "name": "stdout"
        },
        {
          "output_type": "stream",
          "text": [
            "\n",
            "\n",
            " 51%|█████▏    | 579/1127 [20:02<19:19,  2.12s/it]\u001b[A\u001b[A"
          ],
          "name": "stderr"
        },
        {
          "output_type": "stream",
          "text": [
            "spearow\n"
          ],
          "name": "stdout"
        },
        {
          "output_type": "stream",
          "text": [
            "\n",
            "\n",
            " 51%|█████▏    | 580/1127 [20:04<19:26,  2.13s/it]\u001b[A\u001b[A"
          ],
          "name": "stderr"
        },
        {
          "output_type": "stream",
          "text": [
            "spheal\n"
          ],
          "name": "stdout"
        },
        {
          "output_type": "stream",
          "text": [
            "\n",
            "\n",
            " 52%|█████▏    | 581/1127 [20:06<18:56,  2.08s/it]\u001b[A\u001b[A"
          ],
          "name": "stderr"
        },
        {
          "output_type": "stream",
          "text": [
            "meloettapirouette\n"
          ],
          "name": "stdout"
        },
        {
          "output_type": "stream",
          "text": [
            "\n",
            "\n",
            " 52%|█████▏    | 582/1127 [20:09<19:28,  2.14s/it]\u001b[A\u001b[A"
          ],
          "name": "stderr"
        },
        {
          "output_type": "stream",
          "text": [
            "claydol\n"
          ],
          "name": "stdout"
        },
        {
          "output_type": "stream",
          "text": [
            "\n",
            "\n",
            " 52%|█████▏    | 583/1127 [20:11<20:44,  2.29s/it]\u001b[A\u001b[A"
          ],
          "name": "stderr"
        },
        {
          "output_type": "stream",
          "text": [
            "diglett\n"
          ],
          "name": "stdout"
        },
        {
          "output_type": "stream",
          "text": [
            "\n",
            "\n",
            " 52%|█████▏    | 584/1127 [20:13<20:13,  2.24s/it]\u001b[A\u001b[A"
          ],
          "name": "stderr"
        },
        {
          "output_type": "stream",
          "text": [
            "bronzong\n"
          ],
          "name": "stdout"
        },
        {
          "output_type": "stream",
          "text": [
            "\n",
            "\n",
            " 52%|█████▏    | 585/1127 [20:16<20:20,  2.25s/it]\u001b[A\u001b[A"
          ],
          "name": "stderr"
        },
        {
          "output_type": "stream",
          "text": [
            "pumpkaboosuper\n"
          ],
          "name": "stdout"
        },
        {
          "output_type": "stream",
          "text": [
            "\n",
            "\n",
            " 52%|█████▏    | 586/1127 [20:17<18:27,  2.05s/it]\u001b[A\u001b[A"
          ],
          "name": "stderr"
        },
        {
          "output_type": "stream",
          "text": [
            "mrmime\n"
          ],
          "name": "stdout"
        },
        {
          "output_type": "stream",
          "text": [
            "\n",
            "\n",
            " 52%|█████▏    | 587/1127 [20:19<19:07,  2.12s/it]\u001b[A\u001b[A"
          ],
          "name": "stderr"
        },
        {
          "output_type": "stream",
          "text": [
            "shaymin\n"
          ],
          "name": "stdout"
        },
        {
          "output_type": "stream",
          "text": [
            "\n",
            "\n",
            " 52%|█████▏    | 588/1127 [20:21<17:44,  1.98s/it]\u001b[A\u001b[A"
          ],
          "name": "stderr"
        },
        {
          "output_type": "stream",
          "text": [
            "cofagrigus\n"
          ],
          "name": "stdout"
        },
        {
          "output_type": "stream",
          "text": [
            "\n",
            "\n",
            " 52%|█████▏    | 589/1127 [20:23<18:01,  2.01s/it]\u001b[A\u001b[A"
          ],
          "name": "stderr"
        },
        {
          "output_type": "stream",
          "text": [
            "sentret\n"
          ],
          "name": "stdout"
        },
        {
          "output_type": "stream",
          "text": [
            "\n",
            "\n",
            " 52%|█████▏    | 590/1127 [20:25<18:15,  2.04s/it]\u001b[A\u001b[A"
          ],
          "name": "stderr"
        },
        {
          "output_type": "stream",
          "text": [
            "lumineon\n"
          ],
          "name": "stdout"
        },
        {
          "output_type": "stream",
          "text": [
            "\n",
            "\n",
            " 52%|█████▏    | 591/1127 [20:27<18:31,  2.07s/it]\u001b[A\u001b[A"
          ],
          "name": "stderr"
        },
        {
          "output_type": "stream",
          "text": [
            "krokorok\n"
          ],
          "name": "stdout"
        },
        {
          "output_type": "stream",
          "text": [
            "\n",
            "\n",
            " 53%|█████▎    | 592/1127 [20:30<18:48,  2.11s/it]\u001b[A\u001b[A"
          ],
          "name": "stderr"
        },
        {
          "output_type": "stream",
          "text": [
            "magcargo\n"
          ],
          "name": "stdout"
        },
        {
          "output_type": "stream",
          "text": [
            "\n",
            "\n",
            " 53%|█████▎    | 593/1127 [20:34<24:06,  2.71s/it]\u001b[A\u001b[A"
          ],
          "name": "stderr"
        },
        {
          "output_type": "stream",
          "text": [
            "tentacruel\n"
          ],
          "name": "stdout"
        },
        {
          "output_type": "stream",
          "text": [
            "\n",
            "\n",
            " 53%|█████▎    | 594/1127 [20:36<21:56,  2.47s/it]\u001b[A\u001b[A"
          ],
          "name": "stderr"
        },
        {
          "output_type": "stream",
          "text": [
            "eelektrik\n"
          ],
          "name": "stdout"
        },
        {
          "output_type": "stream",
          "text": [
            "\n",
            "\n",
            " 53%|█████▎    | 595/1127 [20:38<21:28,  2.42s/it]\u001b[A\u001b[A"
          ],
          "name": "stderr"
        },
        {
          "output_type": "stream",
          "text": [
            "wormadamsandy\n"
          ],
          "name": "stdout"
        },
        {
          "output_type": "stream",
          "text": [
            "\n",
            "\n",
            " 53%|█████▎    | 596/1127 [20:42<26:09,  2.95s/it]\u001b[A\u001b[A"
          ],
          "name": "stderr"
        },
        {
          "output_type": "stream",
          "text": [
            "greedent\n"
          ],
          "name": "stdout"
        },
        {
          "output_type": "stream",
          "text": [
            "\n",
            "\n",
            " 53%|█████▎    | 597/1127 [20:47<30:10,  3.42s/it]\u001b[A\u001b[A"
          ],
          "name": "stderr"
        },
        {
          "output_type": "stream",
          "text": [
            "quagsire\n"
          ],
          "name": "stdout"
        },
        {
          "output_type": "stream",
          "text": [
            "\n",
            "\n",
            " 53%|█████▎    | 598/1127 [20:50<30:48,  3.50s/it]\u001b[A\u001b[A"
          ],
          "name": "stderr"
        },
        {
          "output_type": "stream",
          "text": [
            "pikachuphd\n"
          ],
          "name": "stdout"
        },
        {
          "output_type": "stream",
          "text": [
            "\n",
            "\n",
            " 53%|█████▎    | 599/1127 [20:54<31:17,  3.56s/it]\u001b[A\u001b[A"
          ],
          "name": "stderr"
        },
        {
          "output_type": "stream",
          "text": [
            "komala\n"
          ],
          "name": "stdout"
        },
        {
          "output_type": "stream",
          "text": [
            "\n",
            "\n",
            " 53%|█████▎    | 600/1127 [20:58<33:25,  3.80s/it]\u001b[A\u001b[A"
          ],
          "name": "stderr"
        },
        {
          "output_type": "stream",
          "text": [
            "metapod\n"
          ],
          "name": "stdout"
        },
        {
          "output_type": "stream",
          "text": [
            "\n",
            "\n",
            " 53%|█████▎    | 601/1127 [21:03<34:57,  3.99s/it]\u001b[A\u001b[A"
          ],
          "name": "stderr"
        },
        {
          "output_type": "stream",
          "text": [
            "seel\n"
          ],
          "name": "stdout"
        },
        {
          "output_type": "stream",
          "text": [
            "\n",
            "\n",
            " 53%|█████▎    | 602/1127 [21:07<34:29,  3.94s/it]\u001b[A\u001b[A"
          ],
          "name": "stderr"
        },
        {
          "output_type": "stream",
          "text": [
            "ninetalesalola\n"
          ],
          "name": "stdout"
        },
        {
          "output_type": "stream",
          "text": [
            "\n",
            "\n",
            " 54%|█████▎    | 603/1127 [21:09<29:12,  3.35s/it]\u001b[A\u001b[A"
          ],
          "name": "stderr"
        },
        {
          "output_type": "stream",
          "text": [
            "kangaskhan\n"
          ],
          "name": "stdout"
        },
        {
          "output_type": "stream",
          "text": [
            "\n",
            "\n",
            " 54%|█████▎    | 604/1127 [21:10<24:25,  2.80s/it]\u001b[A\u001b[A"
          ],
          "name": "stderr"
        },
        {
          "output_type": "stream",
          "text": [
            "falinks\n"
          ],
          "name": "stdout"
        },
        {
          "output_type": "stream",
          "text": [
            "\n",
            "\n",
            " 54%|█████▎    | 605/1127 [21:12<21:21,  2.46s/it]\u001b[A\u001b[A"
          ],
          "name": "stderr"
        },
        {
          "output_type": "stream",
          "text": [
            "shellos\n"
          ],
          "name": "stdout"
        },
        {
          "output_type": "stream",
          "text": [
            "\n",
            "\n",
            " 54%|█████▍    | 606/1127 [21:13<19:23,  2.23s/it]\u001b[A\u001b[A"
          ],
          "name": "stderr"
        },
        {
          "output_type": "stream",
          "text": [
            "cameruptmega\n"
          ],
          "name": "stdout"
        },
        {
          "output_type": "stream",
          "text": [
            "\n",
            "\n",
            " 54%|█████▍    | 607/1127 [21:15<17:48,  2.05s/it]\u001b[A\u001b[A"
          ],
          "name": "stderr"
        },
        {
          "output_type": "stream",
          "text": [
            "mimikyu\n"
          ],
          "name": "stdout"
        },
        {
          "output_type": "stream",
          "text": [
            "\n",
            "\n",
            " 54%|█████▍    | 608/1127 [21:17<16:28,  1.90s/it]\u001b[A\u001b[A"
          ],
          "name": "stderr"
        },
        {
          "output_type": "stream",
          "text": [
            "volcarona\n"
          ],
          "name": "stdout"
        },
        {
          "output_type": "stream",
          "text": [
            "\n",
            "\n",
            " 54%|█████▍    | 609/1127 [21:18<15:37,  1.81s/it]\u001b[A\u001b[A"
          ],
          "name": "stderr"
        },
        {
          "output_type": "stream",
          "text": [
            "vikavolt\n"
          ],
          "name": "stdout"
        },
        {
          "output_type": "stream",
          "text": [
            "\n",
            "\n",
            " 54%|█████▍    | 610/1127 [21:19<13:42,  1.59s/it]\u001b[A\u001b[A"
          ],
          "name": "stderr"
        },
        {
          "output_type": "stream",
          "text": [
            "kyogre\n"
          ],
          "name": "stdout"
        },
        {
          "output_type": "stream",
          "text": [
            "\n",
            "\n",
            " 54%|█████▍    | 611/1127 [21:21<13:16,  1.54s/it]\u001b[A\u001b[A"
          ],
          "name": "stderr"
        },
        {
          "output_type": "stream",
          "text": [
            "frogadier\n"
          ],
          "name": "stdout"
        },
        {
          "output_type": "stream",
          "text": [
            "\n",
            "\n",
            " 54%|█████▍    | 612/1127 [21:22<13:08,  1.53s/it]\u001b[A\u001b[A"
          ],
          "name": "stderr"
        },
        {
          "output_type": "stream",
          "text": [
            "mudkip\n"
          ],
          "name": "stdout"
        },
        {
          "output_type": "stream",
          "text": [
            "\n",
            "\n",
            " 54%|█████▍    | 613/1127 [21:24<12:52,  1.50s/it]\u001b[A\u001b[A"
          ],
          "name": "stderr"
        },
        {
          "output_type": "stream",
          "text": [
            "stunky\n"
          ],
          "name": "stdout"
        },
        {
          "output_type": "stream",
          "text": [
            "\n",
            "\n",
            " 54%|█████▍    | 614/1127 [21:25<12:53,  1.51s/it]\u001b[A\u001b[A"
          ],
          "name": "stderr"
        },
        {
          "output_type": "stream",
          "text": [
            "drednaw\n"
          ],
          "name": "stdout"
        },
        {
          "output_type": "stream",
          "text": [
            "\n",
            "\n",
            " 55%|█████▍    | 615/1127 [21:27<12:36,  1.48s/it]\u001b[A\u001b[A"
          ],
          "name": "stderr"
        },
        {
          "output_type": "stream",
          "text": [
            "rotomheat\n"
          ],
          "name": "stdout"
        },
        {
          "output_type": "stream",
          "text": [
            "\n",
            "\n",
            " 55%|█████▍    | 616/1127 [21:28<11:23,  1.34s/it]\u001b[A\u001b[A"
          ],
          "name": "stderr"
        },
        {
          "output_type": "stream",
          "text": [
            "whismur\n"
          ],
          "name": "stdout"
        },
        {
          "output_type": "stream",
          "text": [
            "\n",
            "\n",
            " 55%|█████▍    | 617/1127 [21:29<11:38,  1.37s/it]\u001b[A\u001b[A"
          ],
          "name": "stderr"
        },
        {
          "output_type": "stream",
          "text": [
            "mesprit\n"
          ],
          "name": "stdout"
        },
        {
          "output_type": "stream",
          "text": [
            "\n",
            "\n",
            " 55%|█████▍    | 618/1127 [21:30<11:39,  1.37s/it]\u001b[A\u001b[A"
          ],
          "name": "stderr"
        },
        {
          "output_type": "stream",
          "text": [
            "sandshrewalola\n"
          ],
          "name": "stdout"
        },
        {
          "output_type": "stream",
          "text": [
            "\n",
            "\n",
            " 55%|█████▍    | 619/1127 [21:32<11:53,  1.40s/it]\u001b[A\u001b[A"
          ],
          "name": "stderr"
        },
        {
          "output_type": "stream",
          "text": [
            "haunter\n"
          ],
          "name": "stdout"
        },
        {
          "output_type": "stream",
          "text": [
            "\n",
            "\n",
            " 55%|█████▌    | 620/1127 [21:33<11:44,  1.39s/it]\u001b[A\u001b[A"
          ],
          "name": "stderr"
        },
        {
          "output_type": "stream",
          "text": [
            "krookodile\n"
          ],
          "name": "stdout"
        },
        {
          "output_type": "stream",
          "text": [
            "\n",
            "\n",
            " 55%|█████▌    | 621/1127 [21:35<11:55,  1.41s/it]\u001b[A\u001b[A"
          ],
          "name": "stderr"
        },
        {
          "output_type": "stream",
          "text": [
            "mantine\n"
          ],
          "name": "stdout"
        },
        {
          "output_type": "stream",
          "text": [
            "\n",
            "\n",
            " 55%|█████▌    | 622/1127 [21:36<10:57,  1.30s/it]\u001b[A\u001b[A"
          ],
          "name": "stderr"
        },
        {
          "output_type": "stream",
          "text": [
            "aerodactylmega\n"
          ],
          "name": "stdout"
        },
        {
          "output_type": "stream",
          "text": [
            "\n",
            "\n",
            " 55%|█████▌    | 623/1127 [21:37<11:45,  1.40s/it]\u001b[A\u001b[A"
          ],
          "name": "stderr"
        },
        {
          "output_type": "stream",
          "text": [
            "rufflet\n"
          ],
          "name": "stdout"
        },
        {
          "output_type": "stream",
          "text": [
            "\n",
            "\n",
            " 55%|█████▌    | 624/1127 [21:39<11:01,  1.32s/it]\u001b[A\u001b[A"
          ],
          "name": "stderr"
        },
        {
          "output_type": "stream",
          "text": [
            "gothita\n"
          ],
          "name": "stdout"
        },
        {
          "output_type": "stream",
          "text": [
            "\n",
            "\n",
            " 55%|█████▌    | 625/1127 [21:40<12:15,  1.47s/it]\u001b[A\u001b[A"
          ],
          "name": "stderr"
        },
        {
          "output_type": "stream",
          "text": [
            "riolu\n"
          ],
          "name": "stdout"
        },
        {
          "output_type": "stream",
          "text": [
            "\n",
            "\n",
            " 56%|█████▌    | 626/1127 [21:42<12:14,  1.47s/it]\u001b[A\u001b[A"
          ],
          "name": "stderr"
        },
        {
          "output_type": "stream",
          "text": [
            "stoutland\n"
          ],
          "name": "stdout"
        },
        {
          "output_type": "stream",
          "text": [
            "\n",
            "\n",
            " 56%|█████▌    | 627/1127 [21:43<12:19,  1.48s/it]\u001b[A\u001b[A"
          ],
          "name": "stderr"
        },
        {
          "output_type": "stream",
          "text": [
            "rotom\n"
          ],
          "name": "stdout"
        },
        {
          "output_type": "stream",
          "text": [
            "\n",
            "\n",
            " 56%|█████▌    | 628/1127 [21:45<13:17,  1.60s/it]\u001b[A\u001b[A"
          ],
          "name": "stderr"
        },
        {
          "output_type": "stream",
          "text": [
            "scyther\n"
          ],
          "name": "stdout"
        },
        {
          "output_type": "stream",
          "text": [
            "\n",
            "\n",
            " 56%|█████▌    | 629/1127 [21:47<13:00,  1.57s/it]\u001b[A\u001b[A"
          ],
          "name": "stderr"
        },
        {
          "output_type": "stream",
          "text": [
            "prinplup\n"
          ],
          "name": "stdout"
        },
        {
          "output_type": "stream",
          "text": [
            "\n",
            "\n",
            " 56%|█████▌    | 630/1127 [21:48<12:52,  1.55s/it]\u001b[A\u001b[A"
          ],
          "name": "stderr"
        },
        {
          "output_type": "stream",
          "text": [
            "sirfetch'd\n"
          ],
          "name": "stdout"
        },
        {
          "output_type": "stream",
          "text": [
            "\n",
            "\n",
            " 56%|█████▌    | 631/1127 [21:50<13:08,  1.59s/it]\u001b[A\u001b[A"
          ],
          "name": "stderr"
        },
        {
          "output_type": "stream",
          "text": [
            "raichualola\n"
          ],
          "name": "stdout"
        },
        {
          "output_type": "stream",
          "text": [
            "\n",
            "\n",
            " 56%|█████▌    | 632/1127 [21:52<13:27,  1.63s/it]\u001b[A\u001b[A"
          ],
          "name": "stderr"
        },
        {
          "output_type": "stream",
          "text": [
            "woobat\n"
          ],
          "name": "stdout"
        },
        {
          "output_type": "stream",
          "text": [
            "\n",
            "\n",
            " 56%|█████▌    | 633/1127 [21:53<13:56,  1.69s/it]\u001b[A\u001b[A"
          ],
          "name": "stderr"
        },
        {
          "output_type": "stream",
          "text": [
            "raikou\n"
          ],
          "name": "stdout"
        },
        {
          "output_type": "stream",
          "text": [
            "\n",
            "\n",
            " 56%|█████▋    | 634/1127 [21:55<13:44,  1.67s/it]\u001b[A\u001b[A"
          ],
          "name": "stderr"
        },
        {
          "output_type": "stream",
          "text": [
            "ursaring\n"
          ],
          "name": "stdout"
        },
        {
          "output_type": "stream",
          "text": [
            "\n",
            "\n",
            " 56%|█████▋    | 635/1127 [21:56<12:55,  1.58s/it]\u001b[A\u001b[A"
          ],
          "name": "stderr"
        },
        {
          "output_type": "stream",
          "text": [
            "armaldo\n"
          ],
          "name": "stdout"
        },
        {
          "output_type": "stream",
          "text": [
            "\n",
            "\n",
            " 56%|█████▋    | 636/1127 [21:59<14:20,  1.75s/it]\u001b[A\u001b[A"
          ],
          "name": "stderr"
        },
        {
          "output_type": "stream",
          "text": [
            "klink\n"
          ],
          "name": "stdout"
        },
        {
          "output_type": "stream",
          "text": [
            "\n",
            "\n",
            " 57%|█████▋    | 637/1127 [22:00<14:06,  1.73s/it]\u001b[A\u001b[A"
          ],
          "name": "stderr"
        },
        {
          "output_type": "stream",
          "text": [
            "liepard\n"
          ],
          "name": "stdout"
        },
        {
          "output_type": "stream",
          "text": [
            "\n",
            "\n",
            " 57%|█████▋    | 638/1127 [22:02<13:01,  1.60s/it]\u001b[A\u001b[A"
          ],
          "name": "stderr"
        },
        {
          "output_type": "stream",
          "text": [
            "pumpkaboo\n"
          ],
          "name": "stdout"
        },
        {
          "output_type": "stream",
          "text": [
            "\n",
            "\n",
            " 57%|█████▋    | 639/1127 [22:04<14:14,  1.75s/it]\u001b[A\u001b[A"
          ],
          "name": "stderr"
        },
        {
          "output_type": "stream",
          "text": [
            "drakloak\n"
          ],
          "name": "stdout"
        },
        {
          "output_type": "stream",
          "text": [
            "\n",
            "\n",
            " 57%|█████▋    | 640/1127 [22:05<14:09,  1.74s/it]\u001b[A\u001b[A"
          ],
          "name": "stderr"
        },
        {
          "output_type": "stream",
          "text": [
            "chewtle\n"
          ],
          "name": "stdout"
        },
        {
          "output_type": "stream",
          "text": [
            "\n",
            "\n",
            " 57%|█████▋    | 641/1127 [22:07<13:26,  1.66s/it]\u001b[A\u001b[A"
          ],
          "name": "stderr"
        },
        {
          "output_type": "stream",
          "text": [
            "dottler\n"
          ],
          "name": "stdout"
        },
        {
          "output_type": "stream",
          "text": [
            "\n",
            "\n",
            " 57%|█████▋    | 642/1127 [22:08<13:15,  1.64s/it]\u001b[A\u001b[A"
          ],
          "name": "stderr"
        },
        {
          "output_type": "stream",
          "text": [
            "torchic\n"
          ],
          "name": "stdout"
        },
        {
          "output_type": "stream",
          "text": [
            "\n",
            "\n",
            " 57%|█████▋    | 643/1127 [22:10<13:27,  1.67s/it]\u001b[A\u001b[A"
          ],
          "name": "stderr"
        },
        {
          "output_type": "stream",
          "text": [
            "skuntank\n"
          ],
          "name": "stdout"
        },
        {
          "output_type": "stream",
          "text": [
            "\n",
            "\n",
            " 57%|█████▋    | 644/1127 [22:12<14:05,  1.75s/it]\u001b[A\u001b[A"
          ],
          "name": "stderr"
        },
        {
          "output_type": "stream",
          "text": [
            "stunfisk\n"
          ],
          "name": "stdout"
        },
        {
          "output_type": "stream",
          "text": [
            "\n",
            "\n",
            " 57%|█████▋    | 645/1127 [22:14<14:14,  1.77s/it]\u001b[A\u001b[A"
          ],
          "name": "stderr"
        },
        {
          "output_type": "stream",
          "text": [
            "lopunny\n"
          ],
          "name": "stdout"
        },
        {
          "output_type": "stream",
          "text": [
            "\n",
            "\n",
            " 57%|█████▋    | 646/1127 [22:16<14:05,  1.76s/it]\u001b[A\u001b[A"
          ],
          "name": "stderr"
        },
        {
          "output_type": "stream",
          "text": [
            "hoopaunbound\n"
          ],
          "name": "stdout"
        },
        {
          "output_type": "stream",
          "text": [
            "\n",
            "\n",
            " 57%|█████▋    | 647/1127 [22:18<14:48,  1.85s/it]\u001b[A\u001b[A"
          ],
          "name": "stderr"
        },
        {
          "output_type": "stream",
          "text": [
            "excadrill\n"
          ],
          "name": "stdout"
        },
        {
          "output_type": "stream",
          "text": [
            "\n",
            "\n",
            " 57%|█████▋    | 648/1127 [22:20<14:32,  1.82s/it]\u001b[A\u001b[A"
          ],
          "name": "stderr"
        },
        {
          "output_type": "stream",
          "text": [
            "gardevoir\n"
          ],
          "name": "stdout"
        },
        {
          "output_type": "stream",
          "text": [
            "\n",
            "\n",
            " 58%|█████▊    | 649/1127 [22:21<14:40,  1.84s/it]\u001b[A\u001b[A"
          ],
          "name": "stderr"
        },
        {
          "output_type": "stream",
          "text": [
            "vivillonpokeball\n"
          ],
          "name": "stdout"
        },
        {
          "output_type": "stream",
          "text": [
            "\n",
            "\n",
            " 58%|█████▊    | 650/1127 [22:23<14:34,  1.83s/it]\u001b[A\u001b[A"
          ],
          "name": "stderr"
        },
        {
          "output_type": "stream",
          "text": [
            "trapinch\n"
          ],
          "name": "stdout"
        },
        {
          "output_type": "stream",
          "text": [
            "\n",
            "\n",
            " 58%|█████▊    | 651/1127 [22:25<14:44,  1.86s/it]\u001b[A\u001b[A"
          ],
          "name": "stderr"
        },
        {
          "output_type": "stream",
          "text": [
            "kecleon\n"
          ],
          "name": "stdout"
        },
        {
          "output_type": "stream",
          "text": [
            "\n",
            "\n",
            " 58%|█████▊    | 652/1127 [22:27<14:57,  1.89s/it]\u001b[A\u001b[A"
          ],
          "name": "stderr"
        },
        {
          "output_type": "stream",
          "text": [
            "gastly\n"
          ],
          "name": "stdout"
        },
        {
          "output_type": "stream",
          "text": [
            "\n",
            "\n",
            " 58%|█████▊    | 653/1127 [22:29<15:16,  1.93s/it]\u001b[A\u001b[A"
          ],
          "name": "stderr"
        },
        {
          "output_type": "stream",
          "text": [
            "blipbug\n"
          ],
          "name": "stdout"
        },
        {
          "output_type": "stream",
          "text": [
            "\n",
            "\n",
            " 58%|█████▊    | 654/1127 [22:31<15:30,  1.97s/it]\u001b[A\u001b[A"
          ],
          "name": "stderr"
        },
        {
          "output_type": "stream",
          "text": [
            "oshawott\n"
          ],
          "name": "stdout"
        },
        {
          "output_type": "stream",
          "text": [
            "\n",
            "\n",
            " 58%|█████▊    | 655/1127 [22:33<15:24,  1.96s/it]\u001b[A\u001b[A"
          ],
          "name": "stderr"
        },
        {
          "output_type": "stream",
          "text": [
            "simisage\n"
          ],
          "name": "stdout"
        },
        {
          "output_type": "stream",
          "text": [
            "\n",
            "\n",
            " 58%|█████▊    | 656/1127 [22:35<15:30,  1.97s/it]\u001b[A\u001b[A"
          ],
          "name": "stderr"
        },
        {
          "output_type": "stream",
          "text": [
            "seaking\n"
          ],
          "name": "stdout"
        },
        {
          "output_type": "stream",
          "text": [
            "\n",
            "\n",
            " 58%|█████▊    | 657/1127 [22:37<15:38,  2.00s/it]\u001b[A\u001b[A"
          ],
          "name": "stderr"
        },
        {
          "output_type": "stream",
          "text": [
            "vivillon\n"
          ],
          "name": "stdout"
        },
        {
          "output_type": "stream",
          "text": [
            "\n",
            "\n",
            " 58%|█████▊    | 658/1127 [22:39<15:44,  2.01s/it]\u001b[A\u001b[A"
          ],
          "name": "stderr"
        },
        {
          "output_type": "stream",
          "text": [
            "raboot\n"
          ],
          "name": "stdout"
        },
        {
          "output_type": "stream",
          "text": [
            "\n",
            "\n",
            " 58%|█████▊    | 659/1127 [22:41<15:31,  1.99s/it]\u001b[A\u001b[A"
          ],
          "name": "stderr"
        },
        {
          "output_type": "stream",
          "text": [
            "drampa\n"
          ],
          "name": "stdout"
        },
        {
          "output_type": "stream",
          "text": [
            "\n",
            "\n",
            " 59%|█████▊    | 660/1127 [22:43<15:37,  2.01s/it]\u001b[A\u001b[A"
          ],
          "name": "stderr"
        },
        {
          "output_type": "stream",
          "text": [
            "dragalge\n"
          ],
          "name": "stdout"
        },
        {
          "output_type": "stream",
          "text": [
            "\n",
            "\n",
            " 59%|█████▊    | 661/1127 [22:45<15:25,  1.99s/it]\u001b[A\u001b[A"
          ],
          "name": "stderr"
        },
        {
          "output_type": "stream",
          "text": [
            "eiscue\n"
          ],
          "name": "stdout"
        },
        {
          "output_type": "stream",
          "text": [
            "\n",
            "\n",
            " 59%|█████▊    | 662/1127 [22:47<15:14,  1.97s/it]\u001b[A\u001b[A"
          ],
          "name": "stderr"
        },
        {
          "output_type": "stream",
          "text": [
            "zygarde\n"
          ],
          "name": "stdout"
        },
        {
          "output_type": "stream",
          "text": [
            "\n",
            "\n",
            " 59%|█████▉    | 663/1127 [22:49<15:20,  1.98s/it]\u001b[A\u001b[A"
          ],
          "name": "stderr"
        },
        {
          "output_type": "stream",
          "text": [
            "barbaracle\n"
          ],
          "name": "stdout"
        },
        {
          "output_type": "stream",
          "text": [
            "\n",
            "\n",
            " 59%|█████▉    | 664/1127 [22:51<15:19,  1.99s/it]\u001b[A\u001b[A"
          ],
          "name": "stderr"
        },
        {
          "output_type": "stream",
          "text": [
            "sandslashalola\n"
          ],
          "name": "stdout"
        },
        {
          "output_type": "stream",
          "text": [
            "\n",
            "\n",
            " 59%|█████▉    | 665/1127 [22:53<15:40,  2.04s/it]\u001b[A\u001b[A"
          ],
          "name": "stderr"
        },
        {
          "output_type": "stream",
          "text": [
            "coalossalgmax\n"
          ],
          "name": "stdout"
        },
        {
          "output_type": "stream",
          "text": [
            "\n",
            "\n",
            " 59%|█████▉    | 666/1127 [22:55<15:32,  2.02s/it]\u001b[A\u001b[A"
          ],
          "name": "stderr"
        },
        {
          "output_type": "stream",
          "text": [
            "yamask\n"
          ],
          "name": "stdout"
        },
        {
          "output_type": "stream",
          "text": [
            "\n",
            "\n",
            " 59%|█████▉    | 667/1127 [22:57<15:38,  2.04s/it]\u001b[A\u001b[A"
          ],
          "name": "stderr"
        },
        {
          "output_type": "stream",
          "text": [
            "sandshrew\n"
          ],
          "name": "stdout"
        },
        {
          "output_type": "stream",
          "text": [
            "\n",
            "\n",
            " 59%|█████▉    | 668/1127 [22:59<15:37,  2.04s/it]\u001b[A\u001b[A"
          ],
          "name": "stderr"
        },
        {
          "output_type": "stream",
          "text": [
            "alomomola\n"
          ],
          "name": "stdout"
        },
        {
          "output_type": "stream",
          "text": [
            "\n",
            "\n",
            " 59%|█████▉    | 669/1127 [23:01<15:45,  2.06s/it]\u001b[A\u001b[A"
          ],
          "name": "stderr"
        },
        {
          "output_type": "stream",
          "text": [
            "turtwig\n"
          ],
          "name": "stdout"
        },
        {
          "output_type": "stream",
          "text": [
            "\n",
            "\n",
            " 59%|█████▉    | 670/1127 [23:04<15:56,  2.09s/it]\u001b[A\u001b[A"
          ],
          "name": "stderr"
        },
        {
          "output_type": "stream",
          "text": [
            "shellder\n"
          ],
          "name": "stdout"
        },
        {
          "output_type": "stream",
          "text": [
            "\n",
            "\n",
            " 60%|█████▉    | 671/1127 [23:06<15:46,  2.08s/it]\u001b[A\u001b[A"
          ],
          "name": "stderr"
        },
        {
          "output_type": "stream",
          "text": [
            "gallade\n"
          ],
          "name": "stdout"
        },
        {
          "output_type": "stream",
          "text": [
            "\n",
            "\n",
            " 60%|█████▉    | 672/1127 [23:08<16:03,  2.12s/it]\u001b[A\u001b[A"
          ],
          "name": "stderr"
        },
        {
          "output_type": "stream",
          "text": [
            "silvally\n"
          ],
          "name": "stdout"
        },
        {
          "output_type": "stream",
          "text": [
            "\n",
            "\n",
            " 60%|█████▉    | 673/1127 [23:10<16:00,  2.12s/it]\u001b[A\u001b[A"
          ],
          "name": "stderr"
        },
        {
          "output_type": "stream",
          "text": [
            "beheeyem\n"
          ],
          "name": "stdout"
        },
        {
          "output_type": "stream",
          "text": [
            "\n",
            "\n",
            " 60%|█████▉    | 674/1127 [23:12<15:58,  2.12s/it]\u001b[A\u001b[A"
          ],
          "name": "stderr"
        },
        {
          "output_type": "stream",
          "text": [
            "palkia\n"
          ],
          "name": "stdout"
        },
        {
          "output_type": "stream",
          "text": [
            "\n",
            "\n",
            " 60%|█████▉    | 675/1127 [23:14<16:05,  2.14s/it]\u001b[A\u001b[A"
          ],
          "name": "stderr"
        },
        {
          "output_type": "stream",
          "text": [
            "rattataalola\n"
          ],
          "name": "stdout"
        },
        {
          "output_type": "stream",
          "text": [
            "\n",
            "\n",
            " 60%|█████▉    | 676/1127 [23:17<16:11,  2.15s/it]\u001b[A\u001b[A"
          ],
          "name": "stderr"
        },
        {
          "output_type": "stream",
          "text": [
            "indeedeef\n"
          ],
          "name": "stdout"
        },
        {
          "output_type": "stream",
          "text": [
            "\n",
            "\n",
            " 60%|██████    | 677/1127 [23:19<16:06,  2.15s/it]\u001b[A\u001b[A"
          ],
          "name": "stderr"
        },
        {
          "output_type": "stream",
          "text": [
            "starly\n"
          ],
          "name": "stdout"
        },
        {
          "output_type": "stream",
          "text": [
            "\n",
            "\n",
            " 60%|██████    | 678/1127 [23:20<15:05,  2.02s/it]\u001b[A\u001b[A"
          ],
          "name": "stderr"
        },
        {
          "output_type": "stream",
          "text": [
            "gumshoos\n"
          ],
          "name": "stdout"
        },
        {
          "output_type": "stream",
          "text": [
            "\n",
            "\n",
            " 60%|██████    | 679/1127 [23:23<15:42,  2.10s/it]\u001b[A\u001b[A"
          ],
          "name": "stderr"
        },
        {
          "output_type": "stream",
          "text": [
            "sableyemega\n"
          ],
          "name": "stdout"
        },
        {
          "output_type": "stream",
          "text": [
            "\n",
            "\n",
            " 60%|██████    | 680/1127 [23:25<15:46,  2.12s/it]\u001b[A\u001b[A"
          ],
          "name": "stderr"
        },
        {
          "output_type": "stream",
          "text": [
            "rhyperior\n"
          ],
          "name": "stdout"
        },
        {
          "output_type": "stream",
          "text": [
            "\n",
            "\n",
            " 60%|██████    | 681/1127 [23:27<15:37,  2.10s/it]\u001b[A\u001b[A"
          ],
          "name": "stderr"
        },
        {
          "output_type": "stream",
          "text": [
            "diggersby\n"
          ],
          "name": "stdout"
        },
        {
          "output_type": "stream",
          "text": [
            "\n",
            "\n",
            " 61%|██████    | 682/1127 [23:29<16:07,  2.18s/it]\u001b[A\u001b[A"
          ],
          "name": "stderr"
        },
        {
          "output_type": "stream",
          "text": [
            "seismitoad\n"
          ],
          "name": "stdout"
        },
        {
          "output_type": "stream",
          "text": [
            "\n",
            "\n",
            " 61%|██████    | 683/1127 [23:31<16:08,  2.18s/it]\u001b[A\u001b[A"
          ],
          "name": "stderr"
        },
        {
          "output_type": "stream",
          "text": [
            "ampharosmega\n"
          ],
          "name": "stdout"
        },
        {
          "output_type": "stream",
          "text": [
            "\n",
            "\n",
            " 61%|██████    | 684/1127 [23:33<15:07,  2.05s/it]\u001b[A\u001b[A"
          ],
          "name": "stderr"
        },
        {
          "output_type": "stream",
          "text": [
            "lycanrocmidnight\n"
          ],
          "name": "stdout"
        },
        {
          "output_type": "stream",
          "text": [
            "\n",
            "\n",
            " 61%|██████    | 685/1127 [23:36<16:07,  2.19s/it]\u001b[A\u001b[A"
          ],
          "name": "stderr"
        },
        {
          "output_type": "stream",
          "text": [
            "elekid\n"
          ],
          "name": "stdout"
        },
        {
          "output_type": "stream",
          "text": [
            "\n",
            "\n",
            " 61%|██████    | 686/1127 [23:38<16:17,  2.22s/it]\u001b[A\u001b[A"
          ],
          "name": "stderr"
        },
        {
          "output_type": "stream",
          "text": [
            "toxtricitylowkeygmax\n"
          ],
          "name": "stdout"
        },
        {
          "output_type": "stream",
          "text": [
            "\n",
            "\n",
            " 61%|██████    | 687/1127 [23:40<15:19,  2.09s/it]\u001b[A\u001b[A"
          ],
          "name": "stderr"
        },
        {
          "output_type": "stream",
          "text": [
            "deoxys\n"
          ],
          "name": "stdout"
        },
        {
          "output_type": "stream",
          "text": [
            "\n",
            "\n",
            " 61%|██████    | 688/1127 [23:42<14:56,  2.04s/it]\u001b[A\u001b[A"
          ],
          "name": "stderr"
        },
        {
          "output_type": "stream",
          "text": [
            "pikachualola\n"
          ],
          "name": "stdout"
        },
        {
          "output_type": "stream",
          "text": [
            "\n",
            "\n",
            " 61%|██████    | 689/1127 [23:44<15:31,  2.13s/it]\u001b[A\u001b[A"
          ],
          "name": "stderr"
        },
        {
          "output_type": "stream",
          "text": [
            "centiskorch\n"
          ],
          "name": "stdout"
        },
        {
          "output_type": "stream",
          "text": [
            "\n",
            "\n",
            " 61%|██████    | 690/1127 [23:46<15:59,  2.20s/it]\u001b[A\u001b[A"
          ],
          "name": "stderr"
        },
        {
          "output_type": "stream",
          "text": [
            "spinarak\n"
          ],
          "name": "stdout"
        },
        {
          "output_type": "stream",
          "text": [
            "\n",
            "\n",
            " 61%|██████▏   | 691/1127 [23:49<16:13,  2.23s/it]\u001b[A\u001b[A"
          ],
          "name": "stderr"
        },
        {
          "output_type": "stream",
          "text": [
            "polteageist\n"
          ],
          "name": "stdout"
        },
        {
          "output_type": "stream",
          "text": [
            "\n",
            "\n",
            " 61%|██████▏   | 692/1127 [23:51<15:59,  2.21s/it]\u001b[A\u001b[A"
          ],
          "name": "stderr"
        },
        {
          "output_type": "stream",
          "text": [
            "happiny\n"
          ],
          "name": "stdout"
        },
        {
          "output_type": "stream",
          "text": [
            "\n",
            "\n",
            " 61%|██████▏   | 693/1127 [23:53<15:40,  2.17s/it]\u001b[A\u001b[A"
          ],
          "name": "stderr"
        },
        {
          "output_type": "stream",
          "text": [
            "kyogreprimal\n"
          ],
          "name": "stdout"
        },
        {
          "output_type": "stream",
          "text": [
            "\n",
            "\n",
            " 62%|██████▏   | 694/1127 [23:55<14:44,  2.04s/it]\u001b[A\u001b[A"
          ],
          "name": "stderr"
        },
        {
          "output_type": "stream",
          "text": [
            "chatot\n"
          ],
          "name": "stdout"
        },
        {
          "output_type": "stream",
          "text": [
            "\n",
            "\n",
            " 62%|██████▏   | 695/1127 [23:56<13:57,  1.94s/it]\u001b[A\u001b[A"
          ],
          "name": "stderr"
        },
        {
          "output_type": "stream",
          "text": [
            "turtonator\n"
          ],
          "name": "stdout"
        },
        {
          "output_type": "stream",
          "text": [
            "\n",
            "\n",
            " 62%|██████▏   | 696/1127 [23:59<14:29,  2.02s/it]\u001b[A\u001b[A"
          ],
          "name": "stderr"
        },
        {
          "output_type": "stream",
          "text": [
            "pansage\n"
          ],
          "name": "stdout"
        },
        {
          "output_type": "stream",
          "text": [
            "\n",
            "\n",
            " 62%|██████▏   | 697/1127 [24:01<14:38,  2.04s/it]\u001b[A\u001b[A"
          ],
          "name": "stderr"
        },
        {
          "output_type": "stream",
          "text": [
            "zigzagoongalar\n"
          ],
          "name": "stdout"
        },
        {
          "output_type": "stream",
          "text": [
            "\n",
            "\n",
            " 62%|██████▏   | 698/1127 [24:02<14:08,  1.98s/it]\u001b[A\u001b[A"
          ],
          "name": "stderr"
        },
        {
          "output_type": "stream",
          "text": [
            "poliwag\n"
          ],
          "name": "stdout"
        },
        {
          "output_type": "stream",
          "text": [
            "\n",
            "\n",
            " 62%|██████▏   | 699/1127 [24:04<13:37,  1.91s/it]\u001b[A\u001b[A"
          ],
          "name": "stderr"
        },
        {
          "output_type": "stream",
          "text": [
            "xerneas\n"
          ],
          "name": "stdout"
        },
        {
          "output_type": "stream",
          "text": [
            "\n",
            "\n",
            " 62%|██████▏   | 700/1127 [24:06<13:15,  1.86s/it]\u001b[A\u001b[A"
          ],
          "name": "stderr"
        },
        {
          "output_type": "stream",
          "text": [
            "boltund\n"
          ],
          "name": "stdout"
        },
        {
          "output_type": "stream",
          "text": [
            "\n",
            "\n",
            " 62%|██████▏   | 701/1127 [24:07<12:05,  1.70s/it]\u001b[A\u001b[A"
          ],
          "name": "stderr"
        },
        {
          "output_type": "stream",
          "text": [
            "sylveon\n"
          ],
          "name": "stdout"
        },
        {
          "output_type": "stream",
          "text": [
            "\n",
            "\n",
            " 62%|██████▏   | 702/1127 [24:09<13:05,  1.85s/it]\u001b[A\u001b[A"
          ],
          "name": "stderr"
        },
        {
          "output_type": "stream",
          "text": [
            "feraligatr\n"
          ],
          "name": "stdout"
        },
        {
          "output_type": "stream",
          "text": [
            "\n",
            "\n",
            " 62%|██████▏   | 703/1127 [24:12<13:52,  1.96s/it]\u001b[A\u001b[A"
          ],
          "name": "stderr"
        },
        {
          "output_type": "stream",
          "text": [
            "abomasnow\n"
          ],
          "name": "stdout"
        },
        {
          "output_type": "stream",
          "text": [
            "\n",
            "\n",
            " 62%|██████▏   | 704/1127 [24:14<14:16,  2.02s/it]\u001b[A\u001b[A"
          ],
          "name": "stderr"
        },
        {
          "output_type": "stream",
          "text": [
            "cufant\n"
          ],
          "name": "stdout"
        },
        {
          "output_type": "stream",
          "text": [
            "\n",
            "\n",
            " 63%|██████▎   | 705/1127 [24:16<14:11,  2.02s/it]\u001b[A\u001b[A"
          ],
          "name": "stderr"
        },
        {
          "output_type": "stream",
          "text": [
            "obstagoon\n"
          ],
          "name": "stdout"
        },
        {
          "output_type": "stream",
          "text": [
            "\n",
            "\n",
            " 63%|██████▎   | 706/1127 [24:18<14:57,  2.13s/it]\u001b[A\u001b[A"
          ],
          "name": "stderr"
        },
        {
          "output_type": "stream",
          "text": [
            "shiftry\n"
          ],
          "name": "stdout"
        },
        {
          "output_type": "stream",
          "text": [
            "\n",
            "\n",
            " 63%|██████▎   | 707/1127 [24:21<15:30,  2.22s/it]\u001b[A\u001b[A"
          ],
          "name": "stderr"
        },
        {
          "output_type": "stream",
          "text": [
            "oranguru\n"
          ],
          "name": "stdout"
        },
        {
          "output_type": "stream",
          "text": [
            "\n",
            "\n",
            " 63%|██████▎   | 708/1127 [24:23<14:54,  2.14s/it]\u001b[A\u001b[A"
          ],
          "name": "stderr"
        },
        {
          "output_type": "stream",
          "text": [
            "smeargle\n"
          ],
          "name": "stdout"
        },
        {
          "output_type": "stream",
          "text": [
            "\n",
            "\n",
            " 63%|██████▎   | 709/1127 [24:24<14:15,  2.05s/it]\u001b[A\u001b[A"
          ],
          "name": "stderr"
        },
        {
          "output_type": "stream",
          "text": [
            "illumise\n"
          ],
          "name": "stdout"
        },
        {
          "output_type": "stream",
          "text": [
            "\n",
            "\n",
            " 63%|██████▎   | 710/1127 [24:27<14:38,  2.11s/it]\u001b[A\u001b[A"
          ],
          "name": "stderr"
        },
        {
          "output_type": "stream",
          "text": [
            "torracat\n"
          ],
          "name": "stdout"
        },
        {
          "output_type": "stream",
          "text": [
            "\n",
            "\n",
            " 63%|██████▎   | 711/1127 [24:29<14:53,  2.15s/it]\u001b[A\u001b[A"
          ],
          "name": "stderr"
        },
        {
          "output_type": "stream",
          "text": [
            "vibrava\n"
          ],
          "name": "stdout"
        },
        {
          "output_type": "stream",
          "text": [
            "\n",
            "\n",
            " 63%|██████▎   | 712/1127 [24:31<15:26,  2.23s/it]\u001b[A\u001b[A"
          ],
          "name": "stderr"
        },
        {
          "output_type": "stream",
          "text": [
            "flareon\n"
          ],
          "name": "stdout"
        },
        {
          "output_type": "stream",
          "text": [
            "\n",
            "\n",
            " 63%|██████▎   | 713/1127 [24:34<16:17,  2.36s/it]\u001b[A\u001b[A"
          ],
          "name": "stderr"
        },
        {
          "output_type": "stream",
          "text": [
            "reuniclus\n"
          ],
          "name": "stdout"
        },
        {
          "output_type": "stream",
          "text": [
            "\n",
            "\n",
            " 63%|██████▎   | 714/1127 [24:36<15:27,  2.24s/it]\u001b[A\u001b[A"
          ],
          "name": "stderr"
        },
        {
          "output_type": "stream",
          "text": [
            "naganadel\n"
          ],
          "name": "stdout"
        },
        {
          "output_type": "stream",
          "text": [
            "\n",
            "\n",
            " 63%|██████▎   | 715/1127 [24:38<14:22,  2.09s/it]\u001b[A\u001b[A"
          ],
          "name": "stderr"
        },
        {
          "output_type": "stream",
          "text": [
            "venonat\n"
          ],
          "name": "stdout"
        },
        {
          "output_type": "stream",
          "text": [
            "\n",
            "\n",
            " 64%|██████▎   | 716/1127 [24:40<14:36,  2.13s/it]\u001b[A\u001b[A"
          ],
          "name": "stderr"
        },
        {
          "output_type": "stream",
          "text": [
            "genesectshock\n"
          ],
          "name": "stdout"
        },
        {
          "output_type": "stream",
          "text": [
            "\n",
            "\n",
            " 64%|██████▎   | 717/1127 [24:42<14:32,  2.13s/it]\u001b[A\u001b[A"
          ],
          "name": "stderr"
        },
        {
          "output_type": "stream",
          "text": [
            "pikachugmax\n"
          ],
          "name": "stdout"
        },
        {
          "output_type": "stream",
          "text": [
            "\n",
            "\n",
            " 64%|██████▎   | 718/1127 [24:44<14:46,  2.17s/it]\u001b[A\u001b[A"
          ],
          "name": "stderr"
        },
        {
          "output_type": "stream",
          "text": [
            "alcremiegmax\n"
          ],
          "name": "stdout"
        },
        {
          "output_type": "stream",
          "text": [
            "\n",
            "\n",
            " 64%|██████▍   | 719/1127 [24:47<14:58,  2.20s/it]\u001b[A\u001b[A"
          ],
          "name": "stderr"
        },
        {
          "output_type": "stream",
          "text": [
            "mimikyutotem\n"
          ],
          "name": "stdout"
        },
        {
          "output_type": "stream",
          "text": [
            "\n",
            "\n",
            " 64%|██████▍   | 720/1127 [24:49<14:28,  2.13s/it]\u001b[A\u001b[A"
          ],
          "name": "stderr"
        },
        {
          "output_type": "stream",
          "text": [
            "sharpedomega\n"
          ],
          "name": "stdout"
        },
        {
          "output_type": "stream",
          "text": [
            "\n",
            "\n",
            " 64%|██████▍   | 721/1127 [24:51<14:05,  2.08s/it]\u001b[A\u001b[A"
          ],
          "name": "stderr"
        },
        {
          "output_type": "stream",
          "text": [
            "weedle\n"
          ],
          "name": "stdout"
        },
        {
          "output_type": "stream",
          "text": [
            "\n",
            "\n",
            " 64%|██████▍   | 722/1127 [24:53<14:08,  2.09s/it]\u001b[A\u001b[A"
          ],
          "name": "stderr"
        },
        {
          "output_type": "stream",
          "text": [
            "hitmontop\n"
          ],
          "name": "stdout"
        },
        {
          "output_type": "stream",
          "text": [
            "\n",
            "\n",
            " 64%|██████▍   | 723/1127 [24:54<12:51,  1.91s/it]\u001b[A\u001b[A"
          ],
          "name": "stderr"
        },
        {
          "output_type": "stream",
          "text": [
            "omanyte\n"
          ],
          "name": "stdout"
        },
        {
          "output_type": "stream",
          "text": [
            "\n",
            "\n",
            " 64%|██████▍   | 724/1127 [24:56<12:22,  1.84s/it]\u001b[A\u001b[A"
          ],
          "name": "stderr"
        },
        {
          "output_type": "stream",
          "text": [
            "totodile\n"
          ],
          "name": "stdout"
        },
        {
          "output_type": "stream",
          "text": [
            "\n",
            "\n",
            " 64%|██████▍   | 725/1127 [24:58<12:28,  1.86s/it]\u001b[A\u001b[A"
          ],
          "name": "stderr"
        },
        {
          "output_type": "stream",
          "text": [
            "necrozmaultra\n"
          ],
          "name": "stdout"
        },
        {
          "output_type": "stream",
          "text": [
            "\n",
            "\n",
            " 64%|██████▍   | 726/1127 [24:59<11:58,  1.79s/it]\u001b[A\u001b[A"
          ],
          "name": "stderr"
        },
        {
          "output_type": "stream",
          "text": [
            "rapidash\n"
          ],
          "name": "stdout"
        },
        {
          "output_type": "stream",
          "text": [
            "\n",
            "\n",
            " 65%|██████▍   | 727/1127 [25:01<12:29,  1.87s/it]\u001b[A\u001b[A"
          ],
          "name": "stderr"
        },
        {
          "output_type": "stream",
          "text": [
            "ferrothorn\n"
          ],
          "name": "stdout"
        },
        {
          "output_type": "stream",
          "text": [
            "\n",
            "\n",
            " 65%|██████▍   | 728/1127 [25:04<13:07,  1.97s/it]\u001b[A\u001b[A"
          ],
          "name": "stderr"
        },
        {
          "output_type": "stream",
          "text": [
            "toxicroak\n"
          ],
          "name": "stdout"
        },
        {
          "output_type": "stream",
          "text": [
            "\n",
            "\n",
            " 65%|██████▍   | 729/1127 [25:06<13:52,  2.09s/it]\u001b[A\u001b[A"
          ],
          "name": "stderr"
        },
        {
          "output_type": "stream",
          "text": [
            "eelektross\n"
          ],
          "name": "stdout"
        },
        {
          "output_type": "stream",
          "text": [
            "\n",
            "\n",
            " 65%|██████▍   | 730/1127 [25:08<13:07,  1.98s/it]\u001b[A\u001b[A"
          ],
          "name": "stderr"
        },
        {
          "output_type": "stream",
          "text": [
            "lurantis\n"
          ],
          "name": "stdout"
        },
        {
          "output_type": "stream",
          "text": [
            "\n",
            "\n",
            " 65%|██████▍   | 731/1127 [25:10<12:33,  1.90s/it]\u001b[A\u001b[A"
          ],
          "name": "stderr"
        },
        {
          "output_type": "stream",
          "text": [
            "zapdos\n"
          ],
          "name": "stdout"
        },
        {
          "output_type": "stream",
          "text": [
            "\n",
            "\n",
            " 65%|██████▍   | 732/1127 [25:12<12:56,  1.96s/it]\u001b[A\u001b[A"
          ],
          "name": "stderr"
        },
        {
          "output_type": "stream",
          "text": [
            "arceusrock\n"
          ],
          "name": "stdout"
        },
        {
          "output_type": "stream",
          "text": [
            "\n",
            "\n",
            " 65%|██████▌   | 733/1127 [25:14<13:48,  2.10s/it]\u001b[A\u001b[A"
          ],
          "name": "stderr"
        },
        {
          "output_type": "stream",
          "text": [
            "litten\n"
          ],
          "name": "stdout"
        },
        {
          "output_type": "stream",
          "text": [
            "\n",
            "\n",
            " 65%|██████▌   | 734/1127 [25:16<13:11,  2.01s/it]\u001b[A\u001b[A"
          ],
          "name": "stderr"
        },
        {
          "output_type": "stream",
          "text": [
            "centiskorchgmax\n"
          ],
          "name": "stdout"
        },
        {
          "output_type": "stream",
          "text": [
            "\n",
            "\n",
            " 65%|██████▌   | 735/1127 [25:18<13:50,  2.12s/it]\u001b[A\u001b[A"
          ],
          "name": "stderr"
        },
        {
          "output_type": "stream",
          "text": [
            "araquanidtotem\n"
          ],
          "name": "stdout"
        },
        {
          "output_type": "stream",
          "text": [
            "\n",
            "\n",
            " 65%|██████▌   | 736/1127 [25:20<14:02,  2.16s/it]\u001b[A\u001b[A"
          ],
          "name": "stderr"
        },
        {
          "output_type": "stream",
          "text": [
            "simipour\n"
          ],
          "name": "stdout"
        },
        {
          "output_type": "stream",
          "text": [
            "\n",
            "\n",
            " 65%|██████▌   | 737/1127 [25:23<14:25,  2.22s/it]\u001b[A\u001b[A"
          ],
          "name": "stderr"
        },
        {
          "output_type": "stream",
          "text": [
            "mrrime\n"
          ],
          "name": "stdout"
        },
        {
          "output_type": "stream",
          "text": [
            "\n",
            "\n",
            " 65%|██████▌   | 738/1127 [25:25<13:46,  2.12s/it]\u001b[A\u001b[A"
          ],
          "name": "stderr"
        },
        {
          "output_type": "stream",
          "text": [
            "mimikyubusted\n"
          ],
          "name": "stdout"
        },
        {
          "output_type": "stream",
          "text": [
            "\n",
            "\n",
            " 66%|██████▌   | 739/1127 [25:27<13:13,  2.04s/it]\u001b[A\u001b[A"
          ],
          "name": "stderr"
        },
        {
          "output_type": "stream",
          "text": [
            "shuckle\n"
          ],
          "name": "stdout"
        },
        {
          "output_type": "stream",
          "text": [
            "\n",
            "\n",
            " 66%|██████▌   | 740/1127 [25:29<13:09,  2.04s/it]\u001b[A\u001b[A"
          ],
          "name": "stderr"
        },
        {
          "output_type": "stream",
          "text": [
            "medicham\n"
          ],
          "name": "stdout"
        },
        {
          "output_type": "stream",
          "text": [
            "\n",
            "\n",
            " 66%|██████▌   | 741/1127 [25:31<13:24,  2.08s/it]\u001b[A\u001b[A"
          ],
          "name": "stderr"
        },
        {
          "output_type": "stream",
          "text": [
            "serperior\n"
          ],
          "name": "stdout"
        },
        {
          "output_type": "stream",
          "text": [
            "\n",
            "\n",
            " 66%|██████▌   | 742/1127 [25:33<12:46,  1.99s/it]\u001b[A\u001b[A"
          ],
          "name": "stderr"
        },
        {
          "output_type": "stream",
          "text": [
            "incineroar\n"
          ],
          "name": "stdout"
        },
        {
          "output_type": "stream",
          "text": [
            "\n",
            "\n",
            " 66%|██████▌   | 743/1127 [25:35<13:21,  2.09s/it]\u001b[A\u001b[A"
          ],
          "name": "stderr"
        },
        {
          "output_type": "stream",
          "text": [
            "seedot\n"
          ],
          "name": "stdout"
        },
        {
          "output_type": "stream",
          "text": [
            "\n",
            "\n",
            " 66%|██████▌   | 744/1127 [25:37<13:05,  2.05s/it]\u001b[A\u001b[A"
          ],
          "name": "stderr"
        },
        {
          "output_type": "stream",
          "text": [
            "inkay\n"
          ],
          "name": "stdout"
        },
        {
          "output_type": "stream",
          "text": [
            "\n",
            "\n",
            " 66%|██████▌   | 745/1127 [25:39<13:25,  2.11s/it]\u001b[A\u001b[A"
          ],
          "name": "stderr"
        },
        {
          "output_type": "stream",
          "text": [
            "malamar\n"
          ],
          "name": "stdout"
        },
        {
          "output_type": "stream",
          "text": [
            "\n",
            "\n",
            " 66%|██████▌   | 746/1127 [25:42<14:35,  2.30s/it]\u001b[A\u001b[A"
          ],
          "name": "stderr"
        },
        {
          "output_type": "stream",
          "text": [
            "relicanth\n"
          ],
          "name": "stdout"
        },
        {
          "output_type": "stream",
          "text": [
            "\n",
            "\n",
            " 66%|██████▋   | 747/1127 [25:45<15:15,  2.41s/it]\u001b[A\u001b[A"
          ],
          "name": "stderr"
        },
        {
          "output_type": "stream",
          "text": [
            "arceuspoison\n"
          ],
          "name": "stdout"
        },
        {
          "output_type": "stream",
          "text": [
            "\n",
            "\n",
            " 66%|██████▋   | 748/1127 [25:46<14:04,  2.23s/it]\u001b[A\u001b[A"
          ],
          "name": "stderr"
        },
        {
          "output_type": "stream",
          "text": [
            "horsea\n"
          ],
          "name": "stdout"
        },
        {
          "output_type": "stream",
          "text": [
            "\n",
            "\n",
            " 66%|██████▋   | 749/1127 [25:49<14:03,  2.23s/it]\u001b[A\u001b[A"
          ],
          "name": "stderr"
        },
        {
          "output_type": "stream",
          "text": [
            "litwick\n"
          ],
          "name": "stdout"
        },
        {
          "output_type": "stream",
          "text": [
            "\n",
            "\n",
            " 67%|██████▋   | 750/1127 [25:51<13:31,  2.15s/it]\u001b[A\u001b[A"
          ],
          "name": "stderr"
        },
        {
          "output_type": "stream",
          "text": [
            "carnivine\n"
          ],
          "name": "stdout"
        },
        {
          "output_type": "stream",
          "text": [
            "\n",
            "\n",
            " 67%|██████▋   | 751/1127 [25:53<13:23,  2.14s/it]\u001b[A\u001b[A"
          ],
          "name": "stderr"
        },
        {
          "output_type": "stream",
          "text": [
            "hawlucha\n"
          ],
          "name": "stdout"
        },
        {
          "output_type": "stream",
          "text": [
            "\n",
            "\n",
            " 67%|██████▋   | 752/1127 [25:55<13:27,  2.15s/it]\u001b[A\u001b[A"
          ],
          "name": "stderr"
        },
        {
          "output_type": "stream",
          "text": [
            "arceusfighting\n"
          ],
          "name": "stdout"
        },
        {
          "output_type": "stream",
          "text": [
            "\n",
            "\n",
            " 67%|██████▋   | 753/1127 [25:57<13:19,  2.14s/it]\u001b[A\u001b[A"
          ],
          "name": "stderr"
        },
        {
          "output_type": "stream",
          "text": [
            "golbat\n"
          ],
          "name": "stdout"
        },
        {
          "output_type": "stream",
          "text": [
            "\n",
            "\n",
            " 67%|██████▋   | 754/1127 [25:59<12:50,  2.07s/it]\u001b[A\u001b[A"
          ],
          "name": "stderr"
        },
        {
          "output_type": "stream",
          "text": [
            "tapulele\n"
          ],
          "name": "stdout"
        },
        {
          "output_type": "stream",
          "text": [
            "\n",
            "\n",
            " 67%|██████▋   | 755/1127 [26:02<15:18,  2.47s/it]\u001b[A\u001b[A"
          ],
          "name": "stderr"
        },
        {
          "output_type": "stream",
          "text": [
            "deoxysspeed\n"
          ],
          "name": "stdout"
        },
        {
          "output_type": "stream",
          "text": [
            "\n",
            "\n",
            " 67%|██████▋   | 756/1127 [26:04<13:23,  2.17s/it]\u001b[A\u001b[A"
          ],
          "name": "stderr"
        },
        {
          "output_type": "stream",
          "text": [
            "honchkrow\n"
          ],
          "name": "stdout"
        },
        {
          "output_type": "stream",
          "text": [
            "\n",
            "\n",
            " 67%|██████▋   | 757/1127 [26:05<12:16,  1.99s/it]\u001b[A\u001b[A"
          ],
          "name": "stderr"
        },
        {
          "output_type": "stream",
          "text": [
            "kingler\n"
          ],
          "name": "stdout"
        },
        {
          "output_type": "stream",
          "text": [
            "\n",
            "\n",
            " 67%|██████▋   | 758/1127 [26:07<11:13,  1.83s/it]\u001b[A\u001b[A"
          ],
          "name": "stderr"
        },
        {
          "output_type": "stream",
          "text": [
            "pincurchin\n"
          ],
          "name": "stdout"
        },
        {
          "output_type": "stream",
          "text": [
            "\n",
            "\n",
            " 67%|██████▋   | 759/1127 [26:08<09:47,  1.60s/it]\u001b[A\u001b[A"
          ],
          "name": "stderr"
        },
        {
          "output_type": "stream",
          "text": [
            "infernape\n"
          ],
          "name": "stdout"
        },
        {
          "output_type": "stream",
          "text": [
            "\n",
            "\n",
            " 67%|██████▋   | 760/1127 [26:09<09:34,  1.56s/it]\u001b[A\u001b[A"
          ],
          "name": "stderr"
        },
        {
          "output_type": "stream",
          "text": [
            "venusaur\n"
          ],
          "name": "stdout"
        },
        {
          "output_type": "stream",
          "text": [
            "\n",
            "\n",
            " 68%|██████▊   | 761/1127 [26:11<09:17,  1.52s/it]\u001b[A\u001b[A"
          ],
          "name": "stderr"
        },
        {
          "output_type": "stream",
          "text": [
            "blacephalon\n"
          ],
          "name": "stdout"
        },
        {
          "output_type": "stream",
          "text": [
            "\n",
            "\n",
            " 68%|██████▊   | 762/1127 [26:12<09:14,  1.52s/it]\u001b[A\u001b[A"
          ],
          "name": "stderr"
        },
        {
          "output_type": "stream",
          "text": [
            "weepinbell\n"
          ],
          "name": "stdout"
        },
        {
          "output_type": "stream",
          "text": [
            "\n",
            "\n",
            " 68%|██████▊   | 763/1127 [26:13<08:20,  1.37s/it]\u001b[A\u001b[A"
          ],
          "name": "stderr"
        },
        {
          "output_type": "stream",
          "text": [
            "grotle\n"
          ],
          "name": "stdout"
        },
        {
          "output_type": "stream",
          "text": [
            "\n",
            "\n",
            " 68%|██████▊   | 764/1127 [26:15<08:23,  1.39s/it]\u001b[A\u001b[A"
          ],
          "name": "stderr"
        },
        {
          "output_type": "stream",
          "text": [
            "hooh\n"
          ],
          "name": "stdout"
        },
        {
          "output_type": "stream",
          "text": [
            "\n",
            "\n",
            " 68%|██████▊   | 765/1127 [26:16<08:32,  1.42s/it]\u001b[A\u001b[A"
          ],
          "name": "stderr"
        },
        {
          "output_type": "stream",
          "text": [
            "dedenne\n"
          ],
          "name": "stdout"
        },
        {
          "output_type": "stream",
          "text": [
            "\n",
            "\n",
            " 68%|██████▊   | 766/1127 [26:18<08:31,  1.42s/it]\u001b[A\u001b[A"
          ],
          "name": "stderr"
        },
        {
          "output_type": "stream",
          "text": [
            "silcoon\n"
          ],
          "name": "stdout"
        },
        {
          "output_type": "stream",
          "text": [
            "\n",
            "\n",
            " 68%|██████▊   | 767/1127 [26:19<08:21,  1.39s/it]\u001b[A\u001b[A"
          ],
          "name": "stderr"
        },
        {
          "output_type": "stream",
          "text": [
            "lotad\n"
          ],
          "name": "stdout"
        },
        {
          "output_type": "stream",
          "text": [
            "\n",
            "\n",
            " 68%|██████▊   | 768/1127 [26:20<08:24,  1.40s/it]\u001b[A\u001b[A"
          ],
          "name": "stderr"
        },
        {
          "output_type": "stream",
          "text": [
            "copperajahgmax\n"
          ],
          "name": "stdout"
        },
        {
          "output_type": "stream",
          "text": [
            "\n",
            "\n",
            " 68%|██████▊   | 769/1127 [26:22<08:48,  1.48s/it]\u001b[A\u001b[A"
          ],
          "name": "stderr"
        },
        {
          "output_type": "stream",
          "text": [
            "garbodor\n"
          ],
          "name": "stdout"
        },
        {
          "output_type": "stream",
          "text": [
            "\n",
            "\n",
            " 68%|██████▊   | 770/1127 [26:23<08:44,  1.47s/it]\u001b[A\u001b[A"
          ],
          "name": "stderr"
        },
        {
          "output_type": "stream",
          "text": [
            "machamp\n"
          ],
          "name": "stdout"
        },
        {
          "output_type": "stream",
          "text": [
            "\n",
            "\n",
            " 68%|██████▊   | 771/1127 [26:25<08:50,  1.49s/it]\u001b[A\u001b[A"
          ],
          "name": "stderr"
        },
        {
          "output_type": "stream",
          "text": [
            "larvitar\n"
          ],
          "name": "stdout"
        },
        {
          "output_type": "stream",
          "text": [
            "\n",
            "\n",
            " 69%|██████▊   | 772/1127 [26:27<09:30,  1.61s/it]\u001b[A\u001b[A"
          ],
          "name": "stderr"
        },
        {
          "output_type": "stream",
          "text": [
            "dustox\n"
          ],
          "name": "stdout"
        },
        {
          "output_type": "stream",
          "text": [
            "\n",
            "\n",
            " 69%|██████▊   | 773/1127 [26:28<09:23,  1.59s/it]\u001b[A\u001b[A"
          ],
          "name": "stderr"
        },
        {
          "output_type": "stream",
          "text": [
            "silvallyghost\n"
          ],
          "name": "stdout"
        },
        {
          "output_type": "stream",
          "text": [
            "\n",
            "\n",
            " 69%|██████▊   | 774/1127 [26:30<09:26,  1.61s/it]\u001b[A\u001b[A"
          ],
          "name": "stderr"
        },
        {
          "output_type": "stream",
          "text": [
            "tauros\n"
          ],
          "name": "stdout"
        },
        {
          "output_type": "stream",
          "text": [
            "\n",
            "\n",
            " 69%|██████▉   | 775/1127 [26:32<09:20,  1.59s/it]\u001b[A\u001b[A"
          ],
          "name": "stderr"
        },
        {
          "output_type": "stream",
          "text": [
            "scizor\n"
          ],
          "name": "stdout"
        },
        {
          "output_type": "stream",
          "text": [
            "\n",
            "\n",
            " 69%|██████▉   | 776/1127 [26:33<09:15,  1.58s/it]\u001b[A\u001b[A"
          ],
          "name": "stderr"
        },
        {
          "output_type": "stream",
          "text": [
            "zorua\n"
          ],
          "name": "stdout"
        },
        {
          "output_type": "stream",
          "text": [
            "\n",
            "\n",
            " 69%|██████▉   | 777/1127 [26:35<08:55,  1.53s/it]\u001b[A\u001b[A"
          ],
          "name": "stderr"
        },
        {
          "output_type": "stream",
          "text": [
            "throh\n"
          ],
          "name": "stdout"
        },
        {
          "output_type": "stream",
          "text": [
            "\n",
            "\n",
            " 69%|██████▉   | 778/1127 [26:37<09:45,  1.68s/it]\u001b[A\u001b[A"
          ],
          "name": "stderr"
        },
        {
          "output_type": "stream",
          "text": [
            "absol\n"
          ],
          "name": "stdout"
        },
        {
          "output_type": "stream",
          "text": [
            "\n",
            "\n",
            " 69%|██████▉   | 779/1127 [26:38<09:24,  1.62s/it]\u001b[A\u001b[A"
          ],
          "name": "stderr"
        },
        {
          "output_type": "stream",
          "text": [
            "silvallyelectric\n"
          ],
          "name": "stdout"
        },
        {
          "output_type": "stream",
          "text": [
            "\n",
            "\n",
            " 69%|██████▉   | 780/1127 [26:39<09:00,  1.56s/it]\u001b[A\u001b[A"
          ],
          "name": "stderr"
        },
        {
          "output_type": "stream",
          "text": [
            "goodra\n"
          ],
          "name": "stdout"
        },
        {
          "output_type": "stream",
          "text": [
            "\n",
            "\n",
            " 69%|██████▉   | 781/1127 [26:41<09:07,  1.58s/it]\u001b[A\u001b[A"
          ],
          "name": "stderr"
        },
        {
          "output_type": "stream",
          "text": [
            "cleffa\n"
          ],
          "name": "stdout"
        },
        {
          "output_type": "stream",
          "text": [
            "\n",
            "\n",
            " 69%|██████▉   | 782/1127 [26:43<08:58,  1.56s/it]\u001b[A\u001b[A"
          ],
          "name": "stderr"
        },
        {
          "output_type": "stream",
          "text": [
            "haxorus\n"
          ],
          "name": "stdout"
        },
        {
          "output_type": "stream",
          "text": [
            "\n",
            "\n",
            " 69%|██████▉   | 783/1127 [26:44<09:09,  1.60s/it]\u001b[A\u001b[A"
          ],
          "name": "stderr"
        },
        {
          "output_type": "stream",
          "text": [
            "quilava\n"
          ],
          "name": "stdout"
        },
        {
          "output_type": "stream",
          "text": [
            "\n",
            "\n",
            " 70%|██████▉   | 784/1127 [26:46<08:58,  1.57s/it]\u001b[A\u001b[A"
          ],
          "name": "stderr"
        },
        {
          "output_type": "stream",
          "text": [
            "sizzlipede\n"
          ],
          "name": "stdout"
        },
        {
          "output_type": "stream",
          "text": [
            "\n",
            "\n",
            " 70%|██████▉   | 785/1127 [26:47<09:06,  1.60s/it]\u001b[A\u001b[A"
          ],
          "name": "stderr"
        },
        {
          "output_type": "stream",
          "text": [
            "arceussteel\n"
          ],
          "name": "stdout"
        },
        {
          "output_type": "stream",
          "text": [
            "\n",
            "\n",
            " 70%|██████▉   | 786/1127 [26:49<08:55,  1.57s/it]\u001b[A\u001b[A"
          ],
          "name": "stderr"
        },
        {
          "output_type": "stream",
          "text": [
            "bulbasaur\n"
          ],
          "name": "stdout"
        },
        {
          "output_type": "stream",
          "text": [
            "\n",
            "\n",
            " 70%|██████▉   | 787/1127 [26:51<08:58,  1.58s/it]\u001b[A\u001b[A"
          ],
          "name": "stderr"
        },
        {
          "output_type": "stream",
          "text": [
            "nidoqueen\n"
          ],
          "name": "stdout"
        },
        {
          "output_type": "stream",
          "text": [
            "\n",
            "\n",
            " 70%|██████▉   | 788/1127 [26:52<08:53,  1.57s/it]\u001b[A\u001b[A"
          ],
          "name": "stderr"
        },
        {
          "output_type": "stream",
          "text": [
            "popplio\n"
          ],
          "name": "stdout"
        },
        {
          "output_type": "stream",
          "text": [
            "\n",
            "\n",
            " 70%|███████   | 789/1127 [26:54<08:57,  1.59s/it]\u001b[A\u001b[A"
          ],
          "name": "stderr"
        },
        {
          "output_type": "stream",
          "text": [
            "toxel\n"
          ],
          "name": "stdout"
        },
        {
          "output_type": "stream",
          "text": [
            "\n",
            "\n",
            " 70%|███████   | 790/1127 [26:56<09:18,  1.66s/it]\u001b[A\u001b[A"
          ],
          "name": "stderr"
        },
        {
          "output_type": "stream",
          "text": [
            "gorebyss\n"
          ],
          "name": "stdout"
        },
        {
          "output_type": "stream",
          "text": [
            "\n",
            "\n",
            " 70%|███████   | 791/1127 [26:58<09:57,  1.78s/it]\u001b[A\u001b[A"
          ],
          "name": "stderr"
        },
        {
          "output_type": "stream",
          "text": [
            "slakoth\n"
          ],
          "name": "stdout"
        },
        {
          "output_type": "stream",
          "text": [
            "\n",
            "\n",
            " 70%|███████   | 792/1127 [26:59<09:39,  1.73s/it]\u001b[A\u001b[A"
          ],
          "name": "stderr"
        },
        {
          "output_type": "stream",
          "text": [
            "poipole\n"
          ],
          "name": "stdout"
        },
        {
          "output_type": "stream",
          "text": [
            "\n",
            "\n",
            " 70%|███████   | 793/1127 [27:00<08:35,  1.54s/it]\u001b[A\u001b[A"
          ],
          "name": "stderr"
        },
        {
          "output_type": "stream",
          "text": [
            "altaria\n"
          ],
          "name": "stdout"
        },
        {
          "output_type": "stream",
          "text": [
            "\n",
            "\n",
            " 70%|███████   | 794/1127 [27:02<08:32,  1.54s/it]\u001b[A\u001b[A"
          ],
          "name": "stderr"
        },
        {
          "output_type": "stream",
          "text": [
            "timburr\n"
          ],
          "name": "stdout"
        },
        {
          "output_type": "stream",
          "text": [
            "\n",
            "\n",
            " 71%|███████   | 795/1127 [27:04<08:58,  1.62s/it]\u001b[A\u001b[A"
          ],
          "name": "stderr"
        },
        {
          "output_type": "stream",
          "text": [
            "azurill\n"
          ],
          "name": "stdout"
        },
        {
          "output_type": "stream",
          "text": [
            "\n",
            "\n",
            " 71%|███████   | 796/1127 [27:05<09:01,  1.64s/it]\u001b[A\u001b[A"
          ],
          "name": "stderr"
        },
        {
          "output_type": "stream",
          "text": [
            "bisharp\n"
          ],
          "name": "stdout"
        },
        {
          "output_type": "stream",
          "text": [
            "\n",
            "\n",
            " 71%|███████   | 797/1127 [27:07<09:33,  1.74s/it]\u001b[A\u001b[A"
          ],
          "name": "stderr"
        },
        {
          "output_type": "stream",
          "text": [
            "tornadus\n"
          ],
          "name": "stdout"
        },
        {
          "output_type": "stream",
          "text": [
            "\n",
            "\n",
            " 71%|███████   | 798/1127 [27:09<09:39,  1.76s/it]\u001b[A\u001b[A"
          ],
          "name": "stderr"
        },
        {
          "output_type": "stream",
          "text": [
            "taillow\n"
          ],
          "name": "stdout"
        },
        {
          "output_type": "stream",
          "text": [
            "\n",
            "\n",
            " 71%|███████   | 799/1127 [27:11<10:16,  1.88s/it]\u001b[A\u001b[A"
          ],
          "name": "stderr"
        },
        {
          "output_type": "stream",
          "text": [
            "cinderace\n"
          ],
          "name": "stdout"
        },
        {
          "output_type": "stream",
          "text": [
            "\n",
            "\n",
            " 71%|███████   | 800/1127 [27:13<09:45,  1.79s/it]\u001b[A\u001b[A"
          ],
          "name": "stderr"
        },
        {
          "output_type": "stream",
          "text": [
            "skiploom\n"
          ],
          "name": "stdout"
        },
        {
          "output_type": "stream",
          "text": [
            "\n",
            "\n",
            " 71%|███████   | 801/1127 [27:15<09:55,  1.83s/it]\u001b[A\u001b[A"
          ],
          "name": "stderr"
        },
        {
          "output_type": "stream",
          "text": [
            "banettemega\n"
          ],
          "name": "stdout"
        },
        {
          "output_type": "stream",
          "text": [
            "\n",
            "\n",
            " 71%|███████   | 802/1127 [27:16<09:26,  1.74s/it]\u001b[A\u001b[A"
          ],
          "name": "stderr"
        },
        {
          "output_type": "stream",
          "text": [
            "celebi\n"
          ],
          "name": "stdout"
        },
        {
          "output_type": "stream",
          "text": [
            "\n",
            "\n",
            " 71%|███████▏  | 803/1127 [27:18<09:21,  1.73s/it]\u001b[A\u001b[A"
          ],
          "name": "stderr"
        },
        {
          "output_type": "stream",
          "text": [
            "charizardmegay\n"
          ],
          "name": "stdout"
        },
        {
          "output_type": "stream",
          "text": [
            "\n",
            "\n",
            " 71%|███████▏  | 804/1127 [27:20<09:47,  1.82s/it]\u001b[A\u001b[A"
          ],
          "name": "stderr"
        },
        {
          "output_type": "stream",
          "text": [
            "bouffalant\n"
          ],
          "name": "stdout"
        },
        {
          "output_type": "stream",
          "text": [
            "\n",
            "\n",
            " 71%|███████▏  | 805/1127 [27:22<10:36,  1.98s/it]\u001b[A\u001b[A"
          ],
          "name": "stderr"
        },
        {
          "output_type": "stream",
          "text": [
            "heracrossmega\n"
          ],
          "name": "stdout"
        },
        {
          "output_type": "stream",
          "text": [
            "\n",
            "\n",
            " 72%|███████▏  | 806/1127 [27:24<10:40,  1.99s/it]\u001b[A\u001b[A"
          ],
          "name": "stderr"
        },
        {
          "output_type": "stream",
          "text": [
            "lickitung\n"
          ],
          "name": "stdout"
        },
        {
          "output_type": "stream",
          "text": [
            "\n",
            "\n",
            " 72%|███████▏  | 807/1127 [27:27<10:58,  2.06s/it]\u001b[A\u001b[A"
          ],
          "name": "stderr"
        },
        {
          "output_type": "stream",
          "text": [
            "stakataka\n"
          ],
          "name": "stdout"
        },
        {
          "output_type": "stream",
          "text": [
            "\n",
            "\n",
            " 72%|███████▏  | 808/1127 [27:30<12:26,  2.34s/it]\u001b[A\u001b[A"
          ],
          "name": "stderr"
        },
        {
          "output_type": "stream",
          "text": [
            "carbink\n"
          ],
          "name": "stdout"
        },
        {
          "output_type": "stream",
          "text": [
            "\n",
            "\n",
            " 72%|███████▏  | 809/1127 [27:32<12:07,  2.29s/it]\u001b[A\u001b[A"
          ],
          "name": "stderr"
        },
        {
          "output_type": "stream",
          "text": [
            "sliggoo\n"
          ],
          "name": "stdout"
        },
        {
          "output_type": "stream",
          "text": [
            "\n",
            "\n",
            " 72%|███████▏  | 810/1127 [27:34<11:46,  2.23s/it]\u001b[A\u001b[A"
          ],
          "name": "stderr"
        },
        {
          "output_type": "stream",
          "text": [
            "aipom\n"
          ],
          "name": "stdout"
        },
        {
          "output_type": "stream",
          "text": [
            "\n",
            "\n",
            " 72%|███████▏  | 811/1127 [27:36<11:23,  2.16s/it]\u001b[A\u001b[A"
          ],
          "name": "stderr"
        },
        {
          "output_type": "stream",
          "text": [
            "sewaddle\n"
          ],
          "name": "stdout"
        },
        {
          "output_type": "stream",
          "text": [
            "\n",
            "\n",
            " 72%|███████▏  | 812/1127 [27:38<11:17,  2.15s/it]\u001b[A\u001b[A"
          ],
          "name": "stderr"
        },
        {
          "output_type": "stream",
          "text": [
            "pansear\n"
          ],
          "name": "stdout"
        },
        {
          "output_type": "stream",
          "text": [
            "\n",
            "\n",
            " 72%|███████▏  | 813/1127 [27:40<10:53,  2.08s/it]\u001b[A\u001b[A"
          ],
          "name": "stderr"
        },
        {
          "output_type": "stream",
          "text": [
            "scorbunny\n"
          ],
          "name": "stdout"
        },
        {
          "output_type": "stream",
          "text": [
            "\n",
            "\n",
            " 72%|███████▏  | 814/1127 [27:42<10:36,  2.04s/it]\u001b[A\u001b[A"
          ],
          "name": "stderr"
        },
        {
          "output_type": "stream",
          "text": [
            "lycanroc\n"
          ],
          "name": "stdout"
        },
        {
          "output_type": "stream",
          "text": [
            "\n",
            "\n",
            " 72%|███████▏  | 815/1127 [27:44<10:38,  2.05s/it]\u001b[A\u001b[A"
          ],
          "name": "stderr"
        },
        {
          "output_type": "stream",
          "text": [
            "tsareena\n"
          ],
          "name": "stdout"
        },
        {
          "output_type": "stream",
          "text": [
            "\n",
            "\n",
            " 72%|███████▏  | 816/1127 [27:46<10:44,  2.07s/it]\u001b[A\u001b[A"
          ],
          "name": "stderr"
        },
        {
          "output_type": "stream",
          "text": [
            "brionne\n"
          ],
          "name": "stdout"
        },
        {
          "output_type": "stream",
          "text": [
            "\n",
            "\n",
            " 72%|███████▏  | 817/1127 [27:48<10:37,  2.06s/it]\u001b[A\u001b[A"
          ],
          "name": "stderr"
        },
        {
          "output_type": "stream",
          "text": [
            "togedemaru\n"
          ],
          "name": "stdout"
        },
        {
          "output_type": "stream",
          "text": [
            "\n",
            "\n",
            " 73%|███████▎  | 818/1127 [27:50<09:51,  1.92s/it]\u001b[A\u001b[A"
          ],
          "name": "stderr"
        },
        {
          "output_type": "stream",
          "text": [
            "axew\n"
          ],
          "name": "stdout"
        },
        {
          "output_type": "stream",
          "text": [
            "\n",
            "\n",
            " 73%|███████▎  | 819/1127 [27:52<10:21,  2.02s/it]\u001b[A\u001b[A"
          ],
          "name": "stderr"
        },
        {
          "output_type": "stream",
          "text": [
            "oricoriopa'u\n"
          ],
          "name": "stdout"
        },
        {
          "output_type": "stream",
          "text": [
            "\n",
            "\n",
            " 73%|███████▎  | 820/1127 [27:54<09:45,  1.91s/it]\u001b[A\u001b[A"
          ],
          "name": "stderr"
        },
        {
          "output_type": "stream",
          "text": [
            "slurpuff\n"
          ],
          "name": "stdout"
        },
        {
          "output_type": "stream",
          "text": [
            "\n",
            "\n",
            " 73%|███████▎  | 821/1127 [27:56<10:08,  1.99s/it]\u001b[A\u001b[A"
          ],
          "name": "stderr"
        },
        {
          "output_type": "stream",
          "text": [
            "houndoommega\n"
          ],
          "name": "stdout"
        },
        {
          "output_type": "stream",
          "text": [
            "\n",
            "\n",
            " 73%|███████▎  | 822/1127 [27:58<10:17,  2.03s/it]\u001b[A\u001b[A"
          ],
          "name": "stderr"
        },
        {
          "output_type": "stream",
          "text": [
            "flapplegmax\n"
          ],
          "name": "stdout"
        },
        {
          "output_type": "stream",
          "text": [
            "\n",
            "\n",
            " 73%|███████▎  | 823/1127 [28:00<10:19,  2.04s/it]\u001b[A\u001b[A"
          ],
          "name": "stderr"
        },
        {
          "output_type": "stream",
          "text": [
            "crawdaunt\n"
          ],
          "name": "stdout"
        },
        {
          "output_type": "stream",
          "text": [
            "\n",
            "\n",
            " 73%|███████▎  | 824/1127 [28:02<10:34,  2.10s/it]\u001b[A\u001b[A"
          ],
          "name": "stderr"
        },
        {
          "output_type": "stream",
          "text": [
            "togepi\n"
          ],
          "name": "stdout"
        },
        {
          "output_type": "stream",
          "text": [
            "\n",
            "\n",
            " 73%|███████▎  | 825/1127 [28:04<10:43,  2.13s/it]\u001b[A\u001b[A"
          ],
          "name": "stderr"
        },
        {
          "output_type": "stream",
          "text": [
            "beedrillmega\n"
          ],
          "name": "stdout"
        },
        {
          "output_type": "stream",
          "text": [
            "\n",
            "\n",
            " 73%|███████▎  | 826/1127 [28:07<10:50,  2.16s/it]\u001b[A\u001b[A"
          ],
          "name": "stderr"
        },
        {
          "output_type": "stream",
          "text": [
            "kirlia\n"
          ],
          "name": "stdout"
        },
        {
          "output_type": "stream",
          "text": [
            "\n",
            "\n",
            " 73%|███████▎  | 827/1127 [28:09<10:54,  2.18s/it]\u001b[A\u001b[A"
          ],
          "name": "stderr"
        },
        {
          "output_type": "stream",
          "text": [
            "zamazentacrowned\n"
          ],
          "name": "stdout"
        },
        {
          "output_type": "stream",
          "text": [
            "\n",
            "\n",
            " 73%|███████▎  | 828/1127 [28:11<10:06,  2.03s/it]\u001b[A\u001b[A"
          ],
          "name": "stderr"
        },
        {
          "output_type": "stream",
          "text": [
            "silvallyflying\n"
          ],
          "name": "stdout"
        },
        {
          "output_type": "stream",
          "text": [
            "\n",
            "\n",
            " 74%|███████▎  | 829/1127 [28:13<10:25,  2.10s/it]\u001b[A\u001b[A"
          ],
          "name": "stderr"
        },
        {
          "output_type": "stream",
          "text": [
            "elgyem\n"
          ],
          "name": "stdout"
        },
        {
          "output_type": "stream",
          "text": [
            "\n",
            "\n",
            " 74%|███████▎  | 830/1127 [28:15<10:51,  2.19s/it]\u001b[A\u001b[A"
          ],
          "name": "stderr"
        },
        {
          "output_type": "stream",
          "text": [
            "zebstrika\n"
          ],
          "name": "stdout"
        },
        {
          "output_type": "stream",
          "text": [
            "\n",
            "\n",
            " 74%|███████▎  | 831/1127 [28:18<11:01,  2.23s/it]\u001b[A\u001b[A"
          ],
          "name": "stderr"
        },
        {
          "output_type": "stream",
          "text": [
            "torterra\n"
          ],
          "name": "stdout"
        },
        {
          "output_type": "stream",
          "text": [
            "\n",
            "\n",
            " 74%|███████▍  | 832/1127 [28:19<10:25,  2.12s/it]\u001b[A\u001b[A"
          ],
          "name": "stderr"
        },
        {
          "output_type": "stream",
          "text": [
            "dratini\n"
          ],
          "name": "stdout"
        },
        {
          "output_type": "stream",
          "text": [
            "\n",
            "\n",
            " 74%|███████▍  | 833/1127 [28:22<10:49,  2.21s/it]\u001b[A\u001b[A"
          ],
          "name": "stderr"
        },
        {
          "output_type": "stream",
          "text": [
            "anorith\n"
          ],
          "name": "stdout"
        },
        {
          "output_type": "stream",
          "text": [
            "\n",
            "\n",
            " 74%|███████▍  | 834/1127 [28:24<10:37,  2.18s/it]\u001b[A\u001b[A"
          ],
          "name": "stderr"
        },
        {
          "output_type": "stream",
          "text": [
            "piplup\n"
          ],
          "name": "stdout"
        },
        {
          "output_type": "stream",
          "text": [
            "\n",
            "\n",
            " 74%|███████▍  | 835/1127 [28:26<10:12,  2.10s/it]\u001b[A\u001b[A"
          ],
          "name": "stderr"
        },
        {
          "output_type": "stream",
          "text": [
            "beautifly\n"
          ],
          "name": "stdout"
        },
        {
          "output_type": "stream",
          "text": [
            "\n",
            "\n",
            " 74%|███████▍  | 836/1127 [28:28<10:33,  2.18s/it]\u001b[A\u001b[A"
          ],
          "name": "stderr"
        },
        {
          "output_type": "stream",
          "text": [
            "silvallydragon\n"
          ],
          "name": "stdout"
        },
        {
          "output_type": "stream",
          "text": [
            "\n",
            "\n",
            " 74%|███████▍  | 837/1127 [28:30<10:33,  2.19s/it]\u001b[A\u001b[A"
          ],
          "name": "stderr"
        },
        {
          "output_type": "stream",
          "text": [
            "roselia\n"
          ],
          "name": "stdout"
        },
        {
          "output_type": "stream",
          "text": [
            "\n",
            "\n",
            " 74%|███████▍  | 838/1127 [28:33<10:41,  2.22s/it]\u001b[A\u001b[A"
          ],
          "name": "stderr"
        },
        {
          "output_type": "stream",
          "text": [
            "furfrou\n"
          ],
          "name": "stdout"
        },
        {
          "output_type": "stream",
          "text": [
            "\n",
            "\n",
            " 74%|███████▍  | 839/1127 [28:35<10:22,  2.16s/it]\u001b[A\u001b[A"
          ],
          "name": "stderr"
        },
        {
          "output_type": "stream",
          "text": [
            "castformsunny\n"
          ],
          "name": "stdout"
        },
        {
          "output_type": "stream",
          "text": [
            "\n",
            "\n",
            " 75%|███████▍  | 840/1127 [28:37<10:03,  2.10s/it]\u001b[A\u001b[A"
          ],
          "name": "stderr"
        },
        {
          "output_type": "stream",
          "text": [
            "rotomwash\n"
          ],
          "name": "stdout"
        },
        {
          "output_type": "stream",
          "text": [
            "\n",
            "\n",
            " 75%|███████▍  | 841/1127 [28:39<09:32,  2.00s/it]\u001b[A\u001b[A"
          ],
          "name": "stderr"
        },
        {
          "output_type": "stream",
          "text": [
            "wishiwashischool\n"
          ],
          "name": "stdout"
        },
        {
          "output_type": "stream",
          "text": [
            "\n",
            "\n",
            " 75%|███████▍  | 842/1127 [28:40<09:04,  1.91s/it]\u001b[A\u001b[A"
          ],
          "name": "stderr"
        },
        {
          "output_type": "stream",
          "text": [
            "aegislash\n"
          ],
          "name": "stdout"
        },
        {
          "output_type": "stream",
          "text": [
            "\n",
            "\n",
            " 75%|███████▍  | 843/1127 [28:42<09:27,  2.00s/it]\u001b[A\u001b[A"
          ],
          "name": "stderr"
        },
        {
          "output_type": "stream",
          "text": [
            "aggronmega\n"
          ],
          "name": "stdout"
        },
        {
          "output_type": "stream",
          "text": [
            "\n",
            "\n",
            " 75%|███████▍  | 844/1127 [28:44<09:33,  2.03s/it]\u001b[A\u001b[A"
          ],
          "name": "stderr"
        },
        {
          "output_type": "stream",
          "text": [
            "gumshoostotem\n"
          ],
          "name": "stdout"
        },
        {
          "output_type": "stream",
          "text": [
            "\n",
            "\n",
            " 75%|███████▍  | 845/1127 [28:46<09:13,  1.96s/it]\u001b[A\u001b[A"
          ],
          "name": "stderr"
        },
        {
          "output_type": "stream",
          "text": [
            "seadra\n"
          ],
          "name": "stdout"
        },
        {
          "output_type": "stream",
          "text": [
            "\n",
            "\n",
            " 75%|███████▌  | 846/1127 [28:48<08:20,  1.78s/it]\u001b[A\u001b[A"
          ],
          "name": "stderr"
        },
        {
          "output_type": "stream",
          "text": [
            "glalie\n"
          ],
          "name": "stdout"
        },
        {
          "output_type": "stream",
          "text": [
            "\n",
            "\n",
            " 75%|███████▌  | 847/1127 [28:50<09:05,  1.95s/it]\u001b[A\u001b[A"
          ],
          "name": "stderr"
        },
        {
          "output_type": "stream",
          "text": [
            "swampertmega\n"
          ],
          "name": "stdout"
        },
        {
          "output_type": "stream",
          "text": [
            "\n",
            "\n",
            " 75%|███████▌  | 848/1127 [28:52<09:16,  2.00s/it]\u001b[A\u001b[A"
          ],
          "name": "stderr"
        },
        {
          "output_type": "stream",
          "text": [
            "ralts\n"
          ],
          "name": "stdout"
        },
        {
          "output_type": "stream",
          "text": [
            "\n",
            "\n",
            " 75%|███████▌  | 849/1127 [28:55<09:50,  2.12s/it]\u001b[A\u001b[A"
          ],
          "name": "stderr"
        },
        {
          "output_type": "stream",
          "text": [
            "dragonair\n"
          ],
          "name": "stdout"
        },
        {
          "output_type": "stream",
          "text": [
            "\n",
            "\n",
            " 75%|███████▌  | 850/1127 [28:57<09:45,  2.11s/it]\u001b[A\u001b[A"
          ],
          "name": "stderr"
        },
        {
          "output_type": "stream",
          "text": [
            "maractus\n"
          ],
          "name": "stdout"
        },
        {
          "output_type": "stream",
          "text": [
            "\n",
            "\n",
            " 76%|███████▌  | 851/1127 [28:59<10:00,  2.18s/it]\u001b[A\u001b[A"
          ],
          "name": "stderr"
        },
        {
          "output_type": "stream",
          "text": [
            "makuhita\n"
          ],
          "name": "stdout"
        },
        {
          "output_type": "stream",
          "text": [
            "\n",
            "\n",
            " 76%|███████▌  | 852/1127 [29:01<10:23,  2.27s/it]\u001b[A\u001b[A"
          ],
          "name": "stderr"
        },
        {
          "output_type": "stream",
          "text": [
            "bounsweet\n"
          ],
          "name": "stdout"
        },
        {
          "output_type": "stream",
          "text": [
            "\n",
            "\n",
            " 76%|███████▌  | 853/1127 [29:04<10:29,  2.30s/it]\u001b[A\u001b[A"
          ],
          "name": "stderr"
        },
        {
          "output_type": "stream",
          "text": [
            "zangoose\n"
          ],
          "name": "stdout"
        },
        {
          "output_type": "stream",
          "text": [
            "\n",
            "\n",
            " 76%|███████▌  | 854/1127 [29:06<10:24,  2.29s/it]\u001b[A\u001b[A"
          ],
          "name": "stderr"
        },
        {
          "output_type": "stream",
          "text": [
            "tyrunt\n"
          ],
          "name": "stdout"
        },
        {
          "output_type": "stream",
          "text": [
            "\n",
            "\n",
            " 76%|███████▌  | 855/1127 [29:08<10:19,  2.28s/it]\u001b[A\u001b[A"
          ],
          "name": "stderr"
        },
        {
          "output_type": "stream",
          "text": [
            "yamper\n"
          ],
          "name": "stdout"
        },
        {
          "output_type": "stream",
          "text": [
            "\n",
            "\n",
            " 76%|███████▌  | 856/1127 [29:10<09:33,  2.12s/it]\u001b[A\u001b[A"
          ],
          "name": "stderr"
        },
        {
          "output_type": "stream",
          "text": [
            "ninetales\n"
          ],
          "name": "stdout"
        },
        {
          "output_type": "stream",
          "text": [
            "\n",
            "\n",
            " 76%|███████▌  | 857/1127 [29:12<09:42,  2.16s/it]\u001b[A\u001b[A"
          ],
          "name": "stderr"
        },
        {
          "output_type": "stream",
          "text": [
            "wimpod\n"
          ],
          "name": "stdout"
        },
        {
          "output_type": "stream",
          "text": [
            "\n",
            "\n",
            " 76%|███████▌  | 858/1127 [29:14<09:25,  2.10s/it]\u001b[A\u001b[A"
          ],
          "name": "stderr"
        },
        {
          "output_type": "stream",
          "text": [
            "cramorant\n"
          ],
          "name": "stdout"
        },
        {
          "output_type": "stream",
          "text": [
            "\n",
            "\n",
            " 76%|███████▌  | 859/1127 [29:16<09:23,  2.10s/it]\u001b[A\u001b[A"
          ],
          "name": "stderr"
        },
        {
          "output_type": "stream",
          "text": [
            "jynx\n"
          ],
          "name": "stdout"
        },
        {
          "output_type": "stream",
          "text": [
            "\n",
            "\n",
            " 76%|███████▋  | 860/1127 [29:19<09:27,  2.13s/it]\u001b[A\u001b[A"
          ],
          "name": "stderr"
        },
        {
          "output_type": "stream",
          "text": [
            "vanillite\n"
          ],
          "name": "stdout"
        },
        {
          "output_type": "stream",
          "text": [
            "\n",
            "\n",
            " 76%|███████▋  | 861/1127 [29:21<09:55,  2.24s/it]\u001b[A\u001b[A"
          ],
          "name": "stderr"
        },
        {
          "output_type": "stream",
          "text": [
            "articuno\n"
          ],
          "name": "stdout"
        },
        {
          "output_type": "stream",
          "text": [
            "\n",
            "\n",
            " 76%|███████▋  | 862/1127 [29:23<09:24,  2.13s/it]\u001b[A\u001b[A"
          ],
          "name": "stderr"
        },
        {
          "output_type": "stream",
          "text": [
            "grimmsnarlgmax\n"
          ],
          "name": "stdout"
        },
        {
          "output_type": "stream",
          "text": [
            "\n",
            "\n",
            " 77%|███████▋  | 863/1127 [29:25<09:32,  2.17s/it]\u001b[A\u001b[A"
          ],
          "name": "stderr"
        },
        {
          "output_type": "stream",
          "text": [
            "froakie\n"
          ],
          "name": "stdout"
        },
        {
          "output_type": "stream",
          "text": [
            "\n",
            "\n",
            " 77%|███████▋  | 864/1127 [29:28<10:01,  2.29s/it]\u001b[A\u001b[A"
          ],
          "name": "stderr"
        },
        {
          "output_type": "stream",
          "text": [
            "bronzor\n"
          ],
          "name": "stdout"
        },
        {
          "output_type": "stream",
          "text": [
            "\n",
            "\n",
            " 77%|███████▋  | 865/1127 [29:30<09:19,  2.14s/it]\u001b[A\u001b[A"
          ],
          "name": "stderr"
        },
        {
          "output_type": "stream",
          "text": [
            "omastar\n"
          ],
          "name": "stdout"
        },
        {
          "output_type": "stream",
          "text": [
            "\n",
            "\n",
            " 77%|███████▋  | 866/1127 [29:32<09:54,  2.28s/it]\u001b[A\u001b[A"
          ],
          "name": "stderr"
        },
        {
          "output_type": "stream",
          "text": [
            "silvallywater\n"
          ],
          "name": "stdout"
        },
        {
          "output_type": "stream",
          "text": [
            "\n",
            "\n",
            " 77%|███████▋  | 867/1127 [29:34<09:37,  2.22s/it]\u001b[A\u001b[A"
          ],
          "name": "stderr"
        },
        {
          "output_type": "stream",
          "text": [
            "bibarel\n"
          ],
          "name": "stdout"
        },
        {
          "output_type": "stream",
          "text": [
            "\n",
            "\n",
            " 77%|███████▋  | 868/1127 [29:37<09:49,  2.27s/it]\u001b[A\u001b[A"
          ],
          "name": "stderr"
        },
        {
          "output_type": "stream",
          "text": [
            "pupitar\n"
          ],
          "name": "stdout"
        },
        {
          "output_type": "stream",
          "text": [
            "\n",
            "\n",
            " 77%|███████▋  | 869/1127 [29:39<09:17,  2.16s/it]\u001b[A\u001b[A"
          ],
          "name": "stderr"
        },
        {
          "output_type": "stream",
          "text": [
            "persianalola\n"
          ],
          "name": "stdout"
        },
        {
          "output_type": "stream",
          "text": [
            "\n",
            "\n",
            " 77%|███████▋  | 870/1127 [29:40<08:51,  2.07s/it]\u001b[A\u001b[A"
          ],
          "name": "stderr"
        },
        {
          "output_type": "stream",
          "text": [
            "rotomfan\n"
          ],
          "name": "stdout"
        },
        {
          "output_type": "stream",
          "text": [
            "\n",
            "\n",
            " 77%|███████▋  | 871/1127 [29:43<08:56,  2.09s/it]\u001b[A\u001b[A"
          ],
          "name": "stderr"
        },
        {
          "output_type": "stream",
          "text": [
            "deino\n"
          ],
          "name": "stdout"
        },
        {
          "output_type": "stream",
          "text": [
            "\n",
            "\n",
            " 77%|███████▋  | 872/1127 [29:45<08:47,  2.07s/it]\u001b[A\u001b[A"
          ],
          "name": "stderr"
        },
        {
          "output_type": "stream",
          "text": [
            "kabutops\n"
          ],
          "name": "stdout"
        },
        {
          "output_type": "stream",
          "text": [
            "\n",
            "\n",
            " 77%|███████▋  | 873/1127 [29:46<08:05,  1.91s/it]\u001b[A\u001b[A"
          ],
          "name": "stderr"
        },
        {
          "output_type": "stream",
          "text": [
            "solosis\n"
          ],
          "name": "stdout"
        },
        {
          "output_type": "stream",
          "text": [
            "\n",
            "\n",
            " 78%|███████▊  | 874/1127 [29:48<08:20,  1.98s/it]\u001b[A\u001b[A"
          ],
          "name": "stderr"
        },
        {
          "output_type": "stream",
          "text": [
            "toucannon\n"
          ],
          "name": "stdout"
        },
        {
          "output_type": "stream",
          "text": [
            "\n",
            "\n",
            " 78%|███████▊  | 875/1127 [29:50<08:20,  1.99s/it]\u001b[A\u001b[A"
          ],
          "name": "stderr"
        },
        {
          "output_type": "stream",
          "text": [
            "trubbish\n"
          ],
          "name": "stdout"
        },
        {
          "output_type": "stream",
          "text": [
            "\n",
            "\n",
            " 78%|███████▊  | 876/1127 [29:52<07:45,  1.85s/it]\u001b[A\u001b[A"
          ],
          "name": "stderr"
        },
        {
          "output_type": "stream",
          "text": [
            "arceusfairy\n"
          ],
          "name": "stdout"
        },
        {
          "output_type": "stream",
          "text": [
            "\n",
            "\n",
            " 78%|███████▊  | 877/1127 [29:53<07:22,  1.77s/it]\u001b[A\u001b[A"
          ],
          "name": "stderr"
        },
        {
          "output_type": "stream",
          "text": [
            "klang\n"
          ],
          "name": "stdout"
        },
        {
          "output_type": "stream",
          "text": [
            "\n",
            "\n",
            " 78%|███████▊  | 878/1127 [29:55<07:43,  1.86s/it]\u001b[A\u001b[A"
          ],
          "name": "stderr"
        },
        {
          "output_type": "stream",
          "text": [
            "meowthalola\n"
          ],
          "name": "stdout"
        },
        {
          "output_type": "stream",
          "text": [
            "\n",
            "\n",
            " 78%|███████▊  | 879/1127 [29:57<07:29,  1.81s/it]\u001b[A\u001b[A"
          ],
          "name": "stderr"
        },
        {
          "output_type": "stream",
          "text": [
            "meowthgmax\n"
          ],
          "name": "stdout"
        },
        {
          "output_type": "stream",
          "text": [
            "\n",
            "\n",
            " 78%|███████▊  | 880/1127 [29:59<07:43,  1.88s/it]\u001b[A\u001b[A"
          ],
          "name": "stderr"
        },
        {
          "output_type": "stream",
          "text": [
            "delphox\n"
          ],
          "name": "stdout"
        },
        {
          "output_type": "stream",
          "text": [
            "\n",
            "\n",
            " 78%|███████▊  | 881/1127 [30:01<08:07,  1.98s/it]\u001b[A\u001b[A"
          ],
          "name": "stderr"
        },
        {
          "output_type": "stream",
          "text": [
            "yungoos\n"
          ],
          "name": "stdout"
        },
        {
          "output_type": "stream",
          "text": [
            "\n",
            "\n",
            " 78%|███████▊  | 882/1127 [30:04<08:40,  2.13s/it]\u001b[A\u001b[A"
          ],
          "name": "stderr"
        },
        {
          "output_type": "stream",
          "text": [
            "silvallyfighting\n"
          ],
          "name": "stdout"
        },
        {
          "output_type": "stream",
          "text": [
            "\n",
            "\n",
            " 78%|███████▊  | 883/1127 [30:06<09:02,  2.23s/it]\u001b[A\u001b[A"
          ],
          "name": "stderr"
        },
        {
          "output_type": "stream",
          "text": [
            "meowthgalar\n"
          ],
          "name": "stdout"
        },
        {
          "output_type": "stream",
          "text": [
            "\n",
            "\n",
            " 78%|███████▊  | 884/1127 [30:09<09:14,  2.28s/it]\u001b[A\u001b[A"
          ],
          "name": "stderr"
        },
        {
          "output_type": "stream",
          "text": [
            "gurdurr\n"
          ],
          "name": "stdout"
        },
        {
          "output_type": "stream",
          "text": [
            "\n",
            "\n",
            " 79%|███████▊  | 885/1127 [30:11<09:29,  2.35s/it]\u001b[A\u001b[A"
          ],
          "name": "stderr"
        },
        {
          "output_type": "stream",
          "text": [
            "sawk\n"
          ],
          "name": "stdout"
        },
        {
          "output_type": "stream",
          "text": [
            "\n",
            "\n",
            " 79%|███████▊  | 886/1127 [30:13<09:03,  2.26s/it]\u001b[A\u001b[A"
          ],
          "name": "stderr"
        },
        {
          "output_type": "stream",
          "text": [
            "boldore\n"
          ],
          "name": "stdout"
        },
        {
          "output_type": "stream",
          "text": [
            "\n",
            "\n",
            " 79%|███████▊  | 887/1127 [30:15<08:47,  2.20s/it]\u001b[A\u001b[A"
          ],
          "name": "stderr"
        },
        {
          "output_type": "stream",
          "text": [
            "zeraora\n"
          ],
          "name": "stdout"
        },
        {
          "output_type": "stream",
          "text": [
            "\n",
            "\n",
            " 79%|███████▉  | 888/1127 [30:17<08:40,  2.18s/it]\u001b[A\u001b[A"
          ],
          "name": "stderr"
        },
        {
          "output_type": "stream",
          "text": [
            "swoobat\n"
          ],
          "name": "stdout"
        },
        {
          "output_type": "stream",
          "text": [
            "\n",
            "\n",
            " 79%|███████▉  | 889/1127 [30:19<08:13,  2.07s/it]\u001b[A\u001b[A"
          ],
          "name": "stderr"
        },
        {
          "output_type": "stream",
          "text": [
            "swalot\n"
          ],
          "name": "stdout"
        },
        {
          "output_type": "stream",
          "text": [
            "\n",
            "\n",
            " 79%|███████▉  | 890/1127 [30:21<08:14,  2.09s/it]\u001b[A\u001b[A"
          ],
          "name": "stderr"
        },
        {
          "output_type": "stream",
          "text": [
            "graveler\n"
          ],
          "name": "stdout"
        },
        {
          "output_type": "stream",
          "text": [
            "\n",
            "\n",
            " 79%|███████▉  | 891/1127 [30:23<07:53,  2.01s/it]\u001b[A\u001b[A"
          ],
          "name": "stderr"
        },
        {
          "output_type": "stream",
          "text": [
            "clefairy\n"
          ],
          "name": "stdout"
        },
        {
          "output_type": "stream",
          "text": [
            "\n",
            "\n",
            " 79%|███████▉  | 892/1127 [30:25<08:08,  2.08s/it]\u001b[A\u001b[A"
          ],
          "name": "stderr"
        },
        {
          "output_type": "stream",
          "text": [
            "hattrem\n"
          ],
          "name": "stdout"
        },
        {
          "output_type": "stream",
          "text": [
            "\n",
            "\n",
            " 79%|███████▉  | 893/1127 [30:28<08:37,  2.21s/it]\u001b[A\u001b[A"
          ],
          "name": "stderr"
        },
        {
          "output_type": "stream",
          "text": [
            "gallademega\n"
          ],
          "name": "stdout"
        },
        {
          "output_type": "stream",
          "text": [
            "\n",
            "\n",
            " 79%|███████▉  | 894/1127 [30:30<08:55,  2.30s/it]\u001b[A\u001b[A"
          ],
          "name": "stderr"
        },
        {
          "output_type": "stream",
          "text": [
            "exeggcute\n"
          ],
          "name": "stdout"
        },
        {
          "output_type": "stream",
          "text": [
            "\n",
            "\n",
            " 79%|███████▉  | 895/1127 [30:33<08:34,  2.22s/it]\u001b[A\u001b[A"
          ],
          "name": "stderr"
        },
        {
          "output_type": "stream",
          "text": [
            "spinda\n"
          ],
          "name": "stdout"
        },
        {
          "output_type": "stream",
          "text": [
            "\n",
            "\n",
            " 80%|███████▉  | 896/1127 [30:35<08:30,  2.21s/it]\u001b[A\u001b[A"
          ],
          "name": "stderr"
        },
        {
          "output_type": "stream",
          "text": [
            "wailord\n"
          ],
          "name": "stdout"
        },
        {
          "output_type": "stream",
          "text": [
            "\n",
            "\n",
            " 80%|███████▉  | 897/1127 [30:37<08:28,  2.21s/it]\u001b[A\u001b[A"
          ],
          "name": "stderr"
        },
        {
          "output_type": "stream",
          "text": [
            "altariamega\n"
          ],
          "name": "stdout"
        },
        {
          "output_type": "stream",
          "text": [
            "\n",
            "\n",
            " 80%|███████▉  | 898/1127 [30:39<08:47,  2.30s/it]\u001b[A\u001b[A"
          ],
          "name": "stderr"
        },
        {
          "output_type": "stream",
          "text": [
            "staraptor\n"
          ],
          "name": "stdout"
        },
        {
          "output_type": "stream",
          "text": [
            "\n",
            "\n",
            " 80%|███████▉  | 899/1127 [30:42<09:03,  2.38s/it]\u001b[A\u001b[A"
          ],
          "name": "stderr"
        },
        {
          "output_type": "stream",
          "text": [
            "clobbopus\n"
          ],
          "name": "stdout"
        },
        {
          "output_type": "stream",
          "text": [
            "\n",
            "\n",
            " 80%|███████▉  | 900/1127 [30:44<08:18,  2.19s/it]\u001b[A\u001b[A"
          ],
          "name": "stderr"
        },
        {
          "output_type": "stream",
          "text": [
            "sceptile\n"
          ],
          "name": "stdout"
        },
        {
          "output_type": "stream",
          "text": [
            "\n",
            "\n",
            " 80%|███████▉  | 901/1127 [30:46<08:16,  2.20s/it]\u001b[A\u001b[A"
          ],
          "name": "stderr"
        },
        {
          "output_type": "stream",
          "text": [
            "corphish\n"
          ],
          "name": "stdout"
        },
        {
          "output_type": "stream",
          "text": [
            "\n",
            "\n",
            " 80%|████████  | 902/1127 [30:48<08:33,  2.28s/it]\u001b[A\u001b[A"
          ],
          "name": "stderr"
        },
        {
          "output_type": "stream",
          "text": [
            "zamazenta\n"
          ],
          "name": "stdout"
        },
        {
          "output_type": "stream",
          "text": [
            "\n",
            "\n",
            " 80%|████████  | 903/1127 [30:52<09:27,  2.53s/it]\u001b[A\u001b[A"
          ],
          "name": "stderr"
        },
        {
          "output_type": "stream",
          "text": [
            "archen\n"
          ],
          "name": "stdout"
        },
        {
          "output_type": "stream",
          "text": [
            "\n",
            "\n",
            " 80%|████████  | 904/1127 [30:53<08:38,  2.32s/it]\u001b[A\u001b[A"
          ],
          "name": "stderr"
        },
        {
          "output_type": "stream",
          "text": [
            "flapple\n"
          ],
          "name": "stdout"
        },
        {
          "output_type": "stream",
          "text": [
            "\n",
            "\n",
            " 80%|████████  | 905/1127 [30:56<08:25,  2.28s/it]\u001b[A\u001b[A"
          ],
          "name": "stderr"
        },
        {
          "output_type": "stream",
          "text": [
            "fomantis\n"
          ],
          "name": "stdout"
        },
        {
          "output_type": "stream",
          "text": [
            "\n",
            "\n",
            " 80%|████████  | 906/1127 [30:57<07:32,  2.05s/it]\u001b[A\u001b[A"
          ],
          "name": "stderr"
        },
        {
          "output_type": "stream",
          "text": [
            "chingling\n"
          ],
          "name": "stdout"
        },
        {
          "output_type": "stream",
          "text": [
            "\n",
            "\n",
            " 80%|████████  | 907/1127 [30:59<07:36,  2.08s/it]\u001b[A\u001b[A"
          ],
          "name": "stderr"
        },
        {
          "output_type": "stream",
          "text": [
            "linoone\n"
          ],
          "name": "stdout"
        },
        {
          "output_type": "stream",
          "text": [
            "\n",
            "\n",
            " 81%|████████  | 908/1127 [31:01<07:09,  1.96s/it]\u001b[A\u001b[A"
          ],
          "name": "stderr"
        },
        {
          "output_type": "stream",
          "text": [
            "golduck\n"
          ],
          "name": "stdout"
        },
        {
          "output_type": "stream",
          "text": [
            "\n",
            "\n",
            " 81%|████████  | 909/1127 [31:03<07:24,  2.04s/it]\u001b[A\u001b[A"
          ],
          "name": "stderr"
        },
        {
          "output_type": "stream",
          "text": [
            "drizzile\n"
          ],
          "name": "stdout"
        },
        {
          "output_type": "stream",
          "text": [
            "\n",
            "\n",
            " 81%|████████  | 910/1127 [31:05<06:53,  1.91s/it]\u001b[A\u001b[A"
          ],
          "name": "stderr"
        },
        {
          "output_type": "stream",
          "text": [
            "ninjask\n"
          ],
          "name": "stdout"
        },
        {
          "output_type": "stream",
          "text": [
            "\n",
            "\n",
            " 81%|████████  | 911/1127 [31:07<07:05,  1.97s/it]\u001b[A\u001b[A"
          ],
          "name": "stderr"
        },
        {
          "output_type": "stream",
          "text": [
            "purrloin\n"
          ],
          "name": "stdout"
        },
        {
          "output_type": "stream",
          "text": [
            "\n",
            "\n",
            " 81%|████████  | 912/1127 [31:09<07:11,  2.01s/it]\u001b[A\u001b[A"
          ],
          "name": "stderr"
        },
        {
          "output_type": "stream",
          "text": [
            "hitmonlee\n"
          ],
          "name": "stdout"
        },
        {
          "output_type": "stream",
          "text": [
            "\n",
            "\n",
            " 81%|████████  | 913/1127 [31:11<07:01,  1.97s/it]\u001b[A\u001b[A"
          ],
          "name": "stderr"
        },
        {
          "output_type": "stream",
          "text": [
            "kricketune\n"
          ],
          "name": "stdout"
        },
        {
          "output_type": "stream",
          "text": [
            "\n",
            "\n",
            " 81%|████████  | 914/1127 [31:13<07:18,  2.06s/it]\u001b[A\u001b[A"
          ],
          "name": "stderr"
        },
        {
          "output_type": "stream",
          "text": [
            "ampharos\n"
          ],
          "name": "stdout"
        },
        {
          "output_type": "stream",
          "text": [
            "\n",
            "\n",
            " 81%|████████  | 915/1127 [31:15<07:26,  2.10s/it]\u001b[A\u001b[A"
          ],
          "name": "stderr"
        },
        {
          "output_type": "stream",
          "text": [
            "sceptilemega\n"
          ],
          "name": "stdout"
        },
        {
          "output_type": "stream",
          "text": [
            "\n",
            "\n",
            " 81%|████████▏ | 916/1127 [31:17<07:21,  2.09s/it]\u001b[A\u001b[A"
          ],
          "name": "stderr"
        },
        {
          "output_type": "stream",
          "text": [
            "delcatty\n"
          ],
          "name": "stdout"
        },
        {
          "output_type": "stream",
          "text": [
            "\n",
            "\n",
            " 81%|████████▏ | 917/1127 [31:21<09:17,  2.66s/it]\u001b[A\u001b[A"
          ],
          "name": "stderr"
        },
        {
          "output_type": "stream",
          "text": [
            "metagrossmega\n"
          ],
          "name": "stdout"
        },
        {
          "output_type": "stream",
          "text": [
            "\n",
            "\n",
            " 81%|████████▏ | 918/1127 [31:24<08:46,  2.52s/it]\u001b[A\u001b[A"
          ],
          "name": "stderr"
        },
        {
          "output_type": "stream",
          "text": [
            "cryogonal\n"
          ],
          "name": "stdout"
        },
        {
          "output_type": "stream",
          "text": [
            "\n",
            "\n",
            " 82%|████████▏ | 919/1127 [31:26<08:56,  2.58s/it]\u001b[A\u001b[A"
          ],
          "name": "stderr"
        },
        {
          "output_type": "stream",
          "text": [
            "buzzwole\n"
          ],
          "name": "stdout"
        },
        {
          "output_type": "stream",
          "text": [
            "\n",
            "\n",
            " 82%|████████▏ | 920/1127 [31:28<08:08,  2.36s/it]\u001b[A\u001b[A"
          ],
          "name": "stderr"
        },
        {
          "output_type": "stream",
          "text": [
            "goldeen\n"
          ],
          "name": "stdout"
        },
        {
          "output_type": "stream",
          "text": [
            "\n",
            "\n",
            " 82%|████████▏ | 921/1127 [31:30<07:39,  2.23s/it]\u001b[A\u001b[A"
          ],
          "name": "stderr"
        },
        {
          "output_type": "stream",
          "text": [
            "doublade\n"
          ],
          "name": "stdout"
        },
        {
          "output_type": "stream",
          "text": [
            "\n",
            "\n",
            " 82%|████████▏ | 922/1127 [31:32<07:41,  2.25s/it]\u001b[A\u001b[A"
          ],
          "name": "stderr"
        },
        {
          "output_type": "stream",
          "text": [
            "snubbull\n"
          ],
          "name": "stdout"
        },
        {
          "output_type": "stream",
          "text": [
            "\n",
            "\n",
            " 82%|████████▏ | 923/1127 [31:35<07:37,  2.24s/it]\u001b[A\u001b[A"
          ],
          "name": "stderr"
        },
        {
          "output_type": "stream",
          "text": [
            "snom\n"
          ],
          "name": "stdout"
        },
        {
          "output_type": "stream",
          "text": [
            "\n",
            "\n",
            " 82%|████████▏ | 924/1127 [31:37<07:19,  2.17s/it]\u001b[A\u001b[A"
          ],
          "name": "stderr"
        },
        {
          "output_type": "stream",
          "text": [
            "skitty\n"
          ],
          "name": "stdout"
        },
        {
          "output_type": "stream",
          "text": [
            "\n",
            "\n",
            " 82%|████████▏ | 925/1127 [31:39<07:17,  2.17s/it]\u001b[A\u001b[A"
          ],
          "name": "stderr"
        },
        {
          "output_type": "stream",
          "text": [
            "genesectdouse\n"
          ],
          "name": "stdout"
        },
        {
          "output_type": "stream",
          "text": [
            "\n",
            "\n",
            " 82%|████████▏ | 926/1127 [31:41<07:13,  2.16s/it]\u001b[A\u001b[A"
          ],
          "name": "stderr"
        },
        {
          "output_type": "stream",
          "text": [
            "phantump\n"
          ],
          "name": "stdout"
        },
        {
          "output_type": "stream",
          "text": [
            "\n",
            "\n",
            " 82%|████████▏ | 927/1127 [31:43<07:16,  2.18s/it]\u001b[A\u001b[A"
          ],
          "name": "stderr"
        },
        {
          "output_type": "stream",
          "text": [
            "darmanitanzen\n"
          ],
          "name": "stdout"
        },
        {
          "output_type": "stream",
          "text": [
            "\n",
            "\n",
            " 82%|████████▏ | 928/1127 [31:45<07:06,  2.14s/it]\u001b[A\u001b[A"
          ],
          "name": "stderr"
        },
        {
          "output_type": "stream",
          "text": [
            "bagon\n"
          ],
          "name": "stdout"
        },
        {
          "output_type": "stream",
          "text": [
            "\n",
            "\n",
            " 82%|████████▏ | 929/1127 [31:47<07:07,  2.16s/it]\u001b[A\u001b[A"
          ],
          "name": "stderr"
        },
        {
          "output_type": "stream",
          "text": [
            "moltres\n"
          ],
          "name": "stdout"
        },
        {
          "output_type": "stream",
          "text": [
            "\n",
            "\n",
            " 83%|████████▎ | 930/1127 [31:49<06:38,  2.02s/it]\u001b[A\u001b[A"
          ],
          "name": "stderr"
        },
        {
          "output_type": "stream",
          "text": [
            "carracosta\n"
          ],
          "name": "stdout"
        },
        {
          "output_type": "stream",
          "text": [
            "\n",
            "\n",
            " 83%|████████▎ | 931/1127 [31:51<06:53,  2.11s/it]\u001b[A\u001b[A"
          ],
          "name": "stderr"
        },
        {
          "output_type": "stream",
          "text": [
            "panpour\n"
          ],
          "name": "stdout"
        },
        {
          "output_type": "stream",
          "text": [
            "\n",
            "\n",
            " 83%|████████▎ | 932/1127 [31:54<07:30,  2.31s/it]\u001b[A\u001b[A"
          ],
          "name": "stderr"
        },
        {
          "output_type": "stream",
          "text": [
            "scolipede\n"
          ],
          "name": "stdout"
        },
        {
          "output_type": "stream",
          "text": [
            "\n",
            "\n",
            " 83%|████████▎ | 933/1127 [31:56<07:18,  2.26s/it]\u001b[A\u001b[A"
          ],
          "name": "stderr"
        },
        {
          "output_type": "stream",
          "text": [
            "magearna\n"
          ],
          "name": "stdout"
        },
        {
          "output_type": "stream",
          "text": [
            "\n",
            "\n",
            " 83%|████████▎ | 934/1127 [32:00<09:01,  2.80s/it]\u001b[A\u001b[A"
          ],
          "name": "stderr"
        },
        {
          "output_type": "stream",
          "text": [
            "meowsticf\n"
          ],
          "name": "stdout"
        },
        {
          "output_type": "stream",
          "text": [
            "\n",
            "\n",
            " 83%|████████▎ | 935/1127 [32:03<08:37,  2.70s/it]\u001b[A\u001b[A"
          ],
          "name": "stderr"
        },
        {
          "output_type": "stream",
          "text": [
            "cherrimsunshine\n"
          ],
          "name": "stdout"
        },
        {
          "output_type": "stream",
          "text": [
            "\n",
            "\n",
            " 83%|████████▎ | 936/1127 [32:05<07:47,  2.45s/it]\u001b[A\u001b[A"
          ],
          "name": "stderr"
        },
        {
          "output_type": "stream",
          "text": [
            "leafeon\n"
          ],
          "name": "stdout"
        },
        {
          "output_type": "stream",
          "text": [
            "\n",
            "\n",
            " 83%|████████▎ | 937/1127 [32:09<09:18,  2.94s/it]\u001b[A\u001b[A"
          ],
          "name": "stderr"
        },
        {
          "output_type": "stream",
          "text": [
            "blastoise\n"
          ],
          "name": "stdout"
        },
        {
          "output_type": "stream",
          "text": [
            "\n",
            "\n",
            " 83%|████████▎ | 938/1127 [32:13<10:28,  3.33s/it]\u001b[A\u001b[A"
          ],
          "name": "stderr"
        },
        {
          "output_type": "stream",
          "text": [
            "charmander\n"
          ],
          "name": "stdout"
        },
        {
          "output_type": "stream",
          "text": [
            "\n",
            "\n",
            " 83%|████████▎ | 939/1127 [32:17<10:43,  3.42s/it]\u001b[A\u001b[A"
          ],
          "name": "stderr"
        },
        {
          "output_type": "stream",
          "text": [
            "cobalion\n"
          ],
          "name": "stdout"
        },
        {
          "output_type": "stream",
          "text": [
            "\n",
            "\n",
            " 83%|████████▎ | 940/1127 [32:21<11:28,  3.68s/it]\u001b[A\u001b[A"
          ],
          "name": "stderr"
        },
        {
          "output_type": "stream",
          "text": [
            "cascoon\n"
          ],
          "name": "stdout"
        },
        {
          "output_type": "stream",
          "text": [
            "\n",
            "\n",
            " 83%|████████▎ | 941/1127 [32:25<11:55,  3.85s/it]\u001b[A\u001b[A"
          ],
          "name": "stderr"
        },
        {
          "output_type": "stream",
          "text": [
            "dartrix\n"
          ],
          "name": "stdout"
        },
        {
          "output_type": "stream",
          "text": [
            "\n",
            "\n",
            " 84%|████████▎ | 942/1127 [32:29<12:18,  3.99s/it]\u001b[A\u001b[A"
          ],
          "name": "stderr"
        },
        {
          "output_type": "stream",
          "text": [
            "goomy\n"
          ],
          "name": "stdout"
        },
        {
          "output_type": "stream",
          "text": [
            "\n",
            "\n",
            " 84%|████████▎ | 943/1127 [32:33<12:04,  3.94s/it]\u001b[A\u001b[A"
          ],
          "name": "stderr"
        },
        {
          "output_type": "stream",
          "text": [
            "fennekin\n"
          ],
          "name": "stdout"
        },
        {
          "output_type": "stream",
          "text": [
            "\n",
            "\n",
            " 84%|████████▍ | 944/1127 [32:37<11:36,  3.81s/it]\u001b[A\u001b[A"
          ],
          "name": "stderr"
        },
        {
          "output_type": "stream",
          "text": [
            "rotommow\n"
          ],
          "name": "stdout"
        },
        {
          "output_type": "stream",
          "text": [
            "\n",
            "\n",
            " 84%|████████▍ | 945/1127 [32:41<12:15,  4.04s/it]\u001b[A\u001b[A"
          ],
          "name": "stderr"
        },
        {
          "output_type": "stream",
          "text": [
            "pikachuoriginal\n"
          ],
          "name": "stdout"
        },
        {
          "output_type": "stream",
          "text": [
            "\n",
            "\n",
            " 84%|████████▍ | 946/1127 [32:45<12:11,  4.04s/it]\u001b[A\u001b[A"
          ],
          "name": "stderr"
        },
        {
          "output_type": "stream",
          "text": [
            "wooloo\n"
          ],
          "name": "stdout"
        },
        {
          "output_type": "stream",
          "text": [
            "\n",
            "\n",
            " 84%|████████▍ | 947/1127 [32:47<09:55,  3.31s/it]\u001b[A\u001b[A"
          ],
          "name": "stderr"
        },
        {
          "output_type": "stream",
          "text": [
            "gyaradosmega\n"
          ],
          "name": "stdout"
        },
        {
          "output_type": "stream",
          "text": [
            "\n",
            "\n",
            " 84%|████████▍ | 948/1127 [32:49<08:15,  2.77s/it]\u001b[A\u001b[A"
          ],
          "name": "stderr"
        },
        {
          "output_type": "stream",
          "text": [
            "cubone\n"
          ],
          "name": "stdout"
        },
        {
          "output_type": "stream",
          "text": [
            "\n",
            "\n",
            " 84%|████████▍ | 949/1127 [32:50<07:01,  2.37s/it]\u001b[A\u001b[A"
          ],
          "name": "stderr"
        },
        {
          "output_type": "stream",
          "text": [
            "amaura\n"
          ],
          "name": "stdout"
        },
        {
          "output_type": "stream",
          "text": [
            "\n",
            "\n",
            " 84%|████████▍ | 950/1127 [32:51<05:51,  1.99s/it]\u001b[A\u001b[A"
          ],
          "name": "stderr"
        },
        {
          "output_type": "stream",
          "text": [
            "gourgeist\n"
          ],
          "name": "stdout"
        },
        {
          "output_type": "stream",
          "text": [
            "\n",
            "\n",
            " 84%|████████▍ | 951/1127 [32:53<05:20,  1.82s/it]\u001b[A\u001b[A"
          ],
          "name": "stderr"
        },
        {
          "output_type": "stream",
          "text": [
            "spoink\n"
          ],
          "name": "stdout"
        },
        {
          "output_type": "stream",
          "text": [
            "\n",
            "\n",
            " 84%|████████▍ | 952/1127 [32:54<04:57,  1.70s/it]\u001b[A\u001b[A"
          ],
          "name": "stderr"
        },
        {
          "output_type": "stream",
          "text": [
            "pichu\n"
          ],
          "name": "stdout"
        },
        {
          "output_type": "stream",
          "text": [
            "\n",
            "\n",
            " 85%|████████▍ | 953/1127 [32:55<04:44,  1.63s/it]\u001b[A\u001b[A"
          ],
          "name": "stderr"
        },
        {
          "output_type": "stream",
          "text": [
            "absolmega\n"
          ],
          "name": "stdout"
        },
        {
          "output_type": "stream",
          "text": [
            "\n",
            "\n",
            " 85%|████████▍ | 954/1127 [32:57<04:28,  1.55s/it]\u001b[A\u001b[A"
          ],
          "name": "stderr"
        },
        {
          "output_type": "stream",
          "text": [
            "dewpider\n"
          ],
          "name": "stdout"
        },
        {
          "output_type": "stream",
          "text": [
            "\n",
            "\n",
            " 85%|████████▍ | 955/1127 [32:58<04:26,  1.55s/it]\u001b[A\u001b[A"
          ],
          "name": "stderr"
        },
        {
          "output_type": "stream",
          "text": [
            "vulpixalola\n"
          ],
          "name": "stdout"
        },
        {
          "output_type": "stream",
          "text": [
            "\n",
            "\n",
            " 85%|████████▍ | 956/1127 [33:00<04:21,  1.53s/it]\u001b[A\u001b[A"
          ],
          "name": "stderr"
        },
        {
          "output_type": "stream",
          "text": [
            "natu\n"
          ],
          "name": "stdout"
        },
        {
          "output_type": "stream",
          "text": [
            "\n",
            "\n",
            " 85%|████████▍ | 957/1127 [33:01<03:56,  1.39s/it]\u001b[A\u001b[A"
          ],
          "name": "stderr"
        },
        {
          "output_type": "stream",
          "text": [
            "forretress\n"
          ],
          "name": "stdout"
        },
        {
          "output_type": "stream",
          "text": [
            "\n",
            "\n",
            " 85%|████████▌ | 958/1127 [33:02<03:57,  1.40s/it]\u001b[A\u001b[A"
          ],
          "name": "stderr"
        },
        {
          "output_type": "stream",
          "text": [
            "castformrainy\n"
          ],
          "name": "stdout"
        },
        {
          "output_type": "stream",
          "text": [
            "\n",
            "\n",
            " 85%|████████▌ | 959/1127 [33:04<03:55,  1.40s/it]\u001b[A\u001b[A"
          ],
          "name": "stderr"
        },
        {
          "output_type": "stream",
          "text": [
            "furret\n"
          ],
          "name": "stdout"
        },
        {
          "output_type": "stream",
          "text": [
            "\n",
            "\n",
            " 85%|████████▌ | 960/1127 [33:05<03:56,  1.42s/it]\u001b[A\u001b[A"
          ],
          "name": "stderr"
        },
        {
          "output_type": "stream",
          "text": [
            "eldegoss\n"
          ],
          "name": "stdout"
        },
        {
          "output_type": "stream",
          "text": [
            "\n",
            "\n",
            " 85%|████████▌ | 961/1127 [33:07<03:58,  1.44s/it]\u001b[A\u001b[A"
          ],
          "name": "stderr"
        },
        {
          "output_type": "stream",
          "text": [
            "arceusdragon\n"
          ],
          "name": "stdout"
        },
        {
          "output_type": "stream",
          "text": [
            "\n",
            "\n",
            " 85%|████████▌ | 962/1127 [33:08<04:08,  1.51s/it]\u001b[A\u001b[A"
          ],
          "name": "stderr"
        },
        {
          "output_type": "stream",
          "text": [
            "togekiss\n"
          ],
          "name": "stdout"
        },
        {
          "output_type": "stream",
          "text": [
            "\n",
            "\n",
            " 85%|████████▌ | 963/1127 [33:10<04:34,  1.67s/it]\u001b[A\u001b[A"
          ],
          "name": "stderr"
        },
        {
          "output_type": "stream",
          "text": [
            "zoroark\n"
          ],
          "name": "stdout"
        },
        {
          "output_type": "stream",
          "text": [
            "\n",
            "\n",
            " 86%|████████▌ | 964/1127 [33:12<04:18,  1.58s/it]\u001b[A\u001b[A"
          ],
          "name": "stderr"
        },
        {
          "output_type": "stream",
          "text": [
            "pikachuunova\n"
          ],
          "name": "stdout"
        },
        {
          "output_type": "stream",
          "text": [
            "\n",
            "\n",
            " 86%|████████▌ | 965/1127 [33:13<04:09,  1.54s/it]\u001b[A\u001b[A"
          ],
          "name": "stderr"
        },
        {
          "output_type": "stream",
          "text": [
            "corsola\n"
          ],
          "name": "stdout"
        },
        {
          "output_type": "stream",
          "text": [
            "\n",
            "\n",
            " 86%|████████▌ | 966/1127 [33:15<04:06,  1.53s/it]\u001b[A\u001b[A"
          ],
          "name": "stderr"
        },
        {
          "output_type": "stream",
          "text": [
            "kartana\n"
          ],
          "name": "stdout"
        },
        {
          "output_type": "stream",
          "text": [
            "\n",
            "\n",
            " 86%|████████▌ | 967/1127 [33:16<03:42,  1.39s/it]\u001b[A\u001b[A"
          ],
          "name": "stderr"
        },
        {
          "output_type": "stream",
          "text": [
            "mantyke\n"
          ],
          "name": "stdout"
        },
        {
          "output_type": "stream",
          "text": [
            "\n",
            "\n",
            " 86%|████████▌ | 968/1127 [33:17<03:53,  1.47s/it]\u001b[A\u001b[A"
          ],
          "name": "stderr"
        },
        {
          "output_type": "stream",
          "text": [
            "lillipup\n"
          ],
          "name": "stdout"
        },
        {
          "output_type": "stream",
          "text": [
            "\n",
            "\n",
            " 86%|████████▌ | 969/1127 [33:19<03:51,  1.47s/it]\u001b[A\u001b[A"
          ],
          "name": "stderr"
        },
        {
          "output_type": "stream",
          "text": [
            "morgrem\n"
          ],
          "name": "stdout"
        },
        {
          "output_type": "stream",
          "text": [
            "\n",
            "\n",
            " 86%|████████▌ | 970/1127 [33:21<04:12,  1.61s/it]\u001b[A\u001b[A"
          ],
          "name": "stderr"
        },
        {
          "output_type": "stream",
          "text": [
            "grapploct\n"
          ],
          "name": "stdout"
        },
        {
          "output_type": "stream",
          "text": [
            "\n",
            "\n",
            " 86%|████████▌ | 971/1127 [33:22<03:47,  1.46s/it]\u001b[A\u001b[A"
          ],
          "name": "stderr"
        },
        {
          "output_type": "stream",
          "text": [
            "darumaka\n"
          ],
          "name": "stdout"
        },
        {
          "output_type": "stream",
          "text": [
            "\n",
            "\n",
            " 86%|████████▌ | 972/1127 [33:24<03:54,  1.51s/it]\u001b[A\u001b[A"
          ],
          "name": "stderr"
        },
        {
          "output_type": "stream",
          "text": [
            "landorus\n"
          ],
          "name": "stdout"
        },
        {
          "output_type": "stream",
          "text": [
            "\n",
            "\n",
            " 86%|████████▋ | 973/1127 [33:25<03:57,  1.54s/it]\u001b[A\u001b[A"
          ],
          "name": "stderr"
        },
        {
          "output_type": "stream",
          "text": [
            "cursola\n"
          ],
          "name": "stdout"
        },
        {
          "output_type": "stream",
          "text": [
            "\n",
            "\n",
            " 86%|████████▋ | 974/1127 [33:27<03:59,  1.57s/it]\u001b[A\u001b[A"
          ],
          "name": "stderr"
        },
        {
          "output_type": "stream",
          "text": [
            "muk\n"
          ],
          "name": "stdout"
        },
        {
          "output_type": "stream",
          "text": [
            "\n",
            "\n",
            " 87%|████████▋ | 975/1127 [33:28<04:03,  1.60s/it]\u001b[A\u001b[A"
          ],
          "name": "stderr"
        },
        {
          "output_type": "stream",
          "text": [
            "tentacool\n"
          ],
          "name": "stdout"
        },
        {
          "output_type": "stream",
          "text": [
            "\n",
            "\n",
            " 87%|████████▋ | 976/1127 [33:30<03:48,  1.51s/it]\u001b[A\u001b[A"
          ],
          "name": "stderr"
        },
        {
          "output_type": "stream",
          "text": [
            "staravia\n"
          ],
          "name": "stdout"
        },
        {
          "output_type": "stream",
          "text": [
            "\n",
            "\n",
            " 87%|████████▋ | 977/1127 [33:32<04:11,  1.68s/it]\u001b[A\u001b[A"
          ],
          "name": "stderr"
        },
        {
          "output_type": "stream",
          "text": [
            "bellsprout\n"
          ],
          "name": "stdout"
        },
        {
          "output_type": "stream",
          "text": [
            "\n",
            "\n",
            " 87%|████████▋ | 978/1127 [33:33<04:08,  1.67s/it]\u001b[A\u001b[A"
          ],
          "name": "stderr"
        },
        {
          "output_type": "stream",
          "text": [
            "pikachurockstar\n"
          ],
          "name": "stdout"
        },
        {
          "output_type": "stream",
          "text": [
            "\n",
            "\n",
            " 87%|████████▋ | 979/1127 [33:35<04:21,  1.77s/it]\u001b[A\u001b[A"
          ],
          "name": "stderr"
        },
        {
          "output_type": "stream",
          "text": [
            "petilil\n"
          ],
          "name": "stdout"
        },
        {
          "output_type": "stream",
          "text": [
            "\n",
            "\n",
            " 87%|████████▋ | 980/1127 [33:37<04:17,  1.75s/it]\u001b[A\u001b[A"
          ],
          "name": "stderr"
        },
        {
          "output_type": "stream",
          "text": [
            "grubbin\n"
          ],
          "name": "stdout"
        },
        {
          "output_type": "stream",
          "text": [
            "\n",
            "\n",
            " 87%|████████▋ | 981/1127 [33:39<04:07,  1.70s/it]\u001b[A\u001b[A"
          ],
          "name": "stderr"
        },
        {
          "output_type": "stream",
          "text": [
            "combee\n"
          ],
          "name": "stdout"
        },
        {
          "output_type": "stream",
          "text": [
            "\n",
            "\n",
            " 87%|████████▋ | 982/1127 [33:40<04:00,  1.66s/it]\u001b[A\u001b[A"
          ],
          "name": "stderr"
        },
        {
          "output_type": "stream",
          "text": [
            "shroomish\n"
          ],
          "name": "stdout"
        },
        {
          "output_type": "stream",
          "text": [
            "\n",
            "\n",
            " 87%|████████▋ | 983/1127 [33:42<04:18,  1.79s/it]\u001b[A\u001b[A"
          ],
          "name": "stderr"
        },
        {
          "output_type": "stream",
          "text": [
            "espeon\n"
          ],
          "name": "stdout"
        },
        {
          "output_type": "stream",
          "text": [
            "\n",
            "\n",
            " 87%|████████▋ | 984/1127 [33:44<04:07,  1.73s/it]\u001b[A\u001b[A"
          ],
          "name": "stderr"
        },
        {
          "output_type": "stream",
          "text": [
            "slowking\n"
          ],
          "name": "stdout"
        },
        {
          "output_type": "stream",
          "text": [
            "\n",
            "\n",
            " 87%|████████▋ | 985/1127 [33:46<04:08,  1.75s/it]\u001b[A\u001b[A"
          ],
          "name": "stderr"
        },
        {
          "output_type": "stream",
          "text": [
            "krabby\n"
          ],
          "name": "stdout"
        },
        {
          "output_type": "stream",
          "text": [
            "\n",
            "\n",
            " 87%|████████▋ | 986/1127 [33:48<04:11,  1.78s/it]\u001b[A\u001b[A"
          ],
          "name": "stderr"
        },
        {
          "output_type": "stream",
          "text": [
            "meowstic\n"
          ],
          "name": "stdout"
        },
        {
          "output_type": "stream",
          "text": [
            "\n",
            "\n",
            " 88%|████████▊ | 987/1127 [33:50<04:22,  1.88s/it]\u001b[A\u001b[A"
          ],
          "name": "stderr"
        },
        {
          "output_type": "stream",
          "text": [
            "fletchinder\n"
          ],
          "name": "stdout"
        },
        {
          "output_type": "stream",
          "text": [
            "\n",
            "\n",
            " 88%|████████▊ | 988/1127 [33:52<04:19,  1.86s/it]\u001b[A\u001b[A"
          ],
          "name": "stderr"
        },
        {
          "output_type": "stream",
          "text": [
            "wingull\n"
          ],
          "name": "stdout"
        },
        {
          "output_type": "stream",
          "text": [
            "\n",
            "\n",
            " 88%|████████▊ | 989/1127 [33:53<04:12,  1.83s/it]\u001b[A\u001b[A"
          ],
          "name": "stderr"
        },
        {
          "output_type": "stream",
          "text": [
            "dracovish\n"
          ],
          "name": "stdout"
        },
        {
          "output_type": "stream",
          "text": [
            "\n",
            "\n",
            " 88%|████████▊ | 990/1127 [33:55<04:12,  1.84s/it]\u001b[A\u001b[A"
          ],
          "name": "stderr"
        },
        {
          "output_type": "stream",
          "text": [
            "helioptile\n"
          ],
          "name": "stdout"
        },
        {
          "output_type": "stream",
          "text": [
            "\n",
            "\n",
            " 88%|████████▊ | 991/1127 [33:57<04:21,  1.92s/it]\u001b[A\u001b[A"
          ],
          "name": "stderr"
        },
        {
          "output_type": "stream",
          "text": [
            "primeape\n"
          ],
          "name": "stdout"
        },
        {
          "output_type": "stream",
          "text": [
            "\n",
            "\n",
            " 88%|████████▊ | 992/1127 [33:59<04:22,  1.95s/it]\u001b[A\u001b[A"
          ],
          "name": "stderr"
        },
        {
          "output_type": "stream",
          "text": [
            "gothitelle\n"
          ],
          "name": "stdout"
        },
        {
          "output_type": "stream",
          "text": [
            "\n",
            "\n",
            " 88%|████████▊ | 993/1127 [34:01<04:17,  1.92s/it]\u001b[A\u001b[A"
          ],
          "name": "stderr"
        },
        {
          "output_type": "stream",
          "text": [
            "pidove\n"
          ],
          "name": "stdout"
        },
        {
          "output_type": "stream",
          "text": [
            "\n",
            "\n",
            " 88%|████████▊ | 994/1127 [34:03<04:14,  1.91s/it]\u001b[A\u001b[A"
          ],
          "name": "stderr"
        },
        {
          "output_type": "stream",
          "text": [
            "garchompmega\n"
          ],
          "name": "stdout"
        },
        {
          "output_type": "stream",
          "text": [
            "\n",
            "\n",
            " 88%|████████▊ | 995/1127 [34:05<04:08,  1.88s/it]\u001b[A\u001b[A"
          ],
          "name": "stderr"
        },
        {
          "output_type": "stream",
          "text": [
            "bonsly\n"
          ],
          "name": "stdout"
        },
        {
          "output_type": "stream",
          "text": [
            "\n",
            "\n",
            " 88%|████████▊ | 996/1127 [34:07<04:12,  1.93s/it]\u001b[A\u001b[A"
          ],
          "name": "stderr"
        },
        {
          "output_type": "stream",
          "text": [
            "golurk\n"
          ],
          "name": "stdout"
        },
        {
          "output_type": "stream",
          "text": [
            "\n",
            "\n",
            " 88%|████████▊ | 997/1127 [34:09<04:17,  1.98s/it]\u001b[A\u001b[A"
          ],
          "name": "stderr"
        },
        {
          "output_type": "stream",
          "text": [
            "glaliemega\n"
          ],
          "name": "stdout"
        },
        {
          "output_type": "stream",
          "text": [
            "\n",
            "\n",
            " 89%|████████▊ | 998/1127 [34:11<04:14,  1.97s/it]\u001b[A\u001b[A"
          ],
          "name": "stderr"
        },
        {
          "output_type": "stream",
          "text": [
            "vanilluxe\n"
          ],
          "name": "stdout"
        },
        {
          "output_type": "stream",
          "text": [
            "\n",
            "\n",
            " 89%|████████▊ | 999/1127 [34:13<04:23,  2.06s/it]\u001b[A\u001b[A"
          ],
          "name": "stderr"
        },
        {
          "output_type": "stream",
          "text": [
            "cramorantgulping\n"
          ],
          "name": "stdout"
        },
        {
          "output_type": "stream",
          "text": [
            "\n",
            "\n",
            " 89%|████████▊ | 1000/1127 [34:15<04:00,  1.89s/it]\u001b[A\u001b[A"
          ],
          "name": "stderr"
        },
        {
          "output_type": "stream",
          "text": [
            "arceusice\n"
          ],
          "name": "stdout"
        },
        {
          "output_type": "stream",
          "text": [
            "\n",
            "\n",
            " 89%|████████▉ | 1001/1127 [34:17<04:06,  1.96s/it]\u001b[A\u001b[A"
          ],
          "name": "stderr"
        },
        {
          "output_type": "stream",
          "text": [
            "amoonguss\n"
          ],
          "name": "stdout"
        },
        {
          "output_type": "stream",
          "text": [
            "\n",
            "\n",
            " 89%|████████▉ | 1002/1127 [34:19<04:09,  2.00s/it]\u001b[A\u001b[A"
          ],
          "name": "stderr"
        },
        {
          "output_type": "stream",
          "text": [
            "sudowoodo\n"
          ],
          "name": "stdout"
        },
        {
          "output_type": "stream",
          "text": [
            "\n",
            "\n",
            " 89%|████████▉ | 1003/1127 [34:21<04:11,  2.03s/it]\u001b[A\u001b[A"
          ],
          "name": "stderr"
        },
        {
          "output_type": "stream",
          "text": [
            "mewtwomegay\n"
          ],
          "name": "stdout"
        },
        {
          "output_type": "stream",
          "text": [
            "\n",
            "\n",
            " 89%|████████▉ | 1004/1127 [34:23<04:02,  1.97s/it]\u001b[A\u001b[A"
          ],
          "name": "stderr"
        },
        {
          "output_type": "stream",
          "text": [
            "meowth\n"
          ],
          "name": "stdout"
        },
        {
          "output_type": "stream",
          "text": [
            "\n",
            "\n",
            " 89%|████████▉ | 1005/1127 [34:25<04:06,  2.02s/it]\u001b[A\u001b[A"
          ],
          "name": "stderr"
        },
        {
          "output_type": "stream",
          "text": [
            "finneon\n"
          ],
          "name": "stdout"
        },
        {
          "output_type": "stream",
          "text": [
            "\n",
            "\n",
            " 89%|████████▉ | 1006/1127 [34:27<04:07,  2.04s/it]\u001b[A\u001b[A"
          ],
          "name": "stderr"
        },
        {
          "output_type": "stream",
          "text": [
            "luxio\n"
          ],
          "name": "stdout"
        },
        {
          "output_type": "stream",
          "text": [
            "\n",
            "\n",
            " 89%|████████▉ | 1007/1127 [34:29<04:05,  2.05s/it]\u001b[A\u001b[A"
          ],
          "name": "stderr"
        },
        {
          "output_type": "stream",
          "text": [
            "arbok\n"
          ],
          "name": "stdout"
        },
        {
          "output_type": "stream",
          "text": [
            "\n",
            "\n",
            " 89%|████████▉ | 1008/1127 [34:31<04:09,  2.10s/it]\u001b[A\u001b[A"
          ],
          "name": "stderr"
        },
        {
          "output_type": "stream",
          "text": [
            "machop\n"
          ],
          "name": "stdout"
        },
        {
          "output_type": "stream",
          "text": [
            "\n",
            "\n",
            " 90%|████████▉ | 1009/1127 [34:34<04:09,  2.11s/it]\u001b[A\u001b[A"
          ],
          "name": "stderr"
        },
        {
          "output_type": "stream",
          "text": [
            "porygon2\n"
          ],
          "name": "stdout"
        },
        {
          "output_type": "stream",
          "text": [
            "\n",
            "\n",
            " 90%|████████▉ | 1010/1127 [34:36<04:12,  2.15s/it]\u001b[A\u001b[A"
          ],
          "name": "stderr"
        },
        {
          "output_type": "stream",
          "text": [
            "floette\n"
          ],
          "name": "stdout"
        },
        {
          "output_type": "stream",
          "text": [
            "\n",
            "\n",
            " 90%|████████▉ | 1011/1127 [34:38<04:10,  2.16s/it]\u001b[A\u001b[A"
          ],
          "name": "stderr"
        },
        {
          "output_type": "stream",
          "text": [
            "victini\n"
          ],
          "name": "stdout"
        },
        {
          "output_type": "stream",
          "text": [
            "\n",
            "\n",
            " 90%|████████▉ | 1012/1127 [34:40<04:06,  2.15s/it]\u001b[A\u001b[A"
          ],
          "name": "stderr"
        },
        {
          "output_type": "stream",
          "text": [
            "orbeetle\n"
          ],
          "name": "stdout"
        },
        {
          "output_type": "stream",
          "text": [
            "\n",
            "\n",
            " 90%|████████▉ | 1013/1127 [34:42<04:04,  2.14s/it]\u001b[A\u001b[A"
          ],
          "name": "stderr"
        },
        {
          "output_type": "stream",
          "text": [
            "granbull\n"
          ],
          "name": "stdout"
        },
        {
          "output_type": "stream",
          "text": [
            "\n",
            "\n",
            " 90%|████████▉ | 1014/1127 [34:44<03:49,  2.03s/it]\u001b[A\u001b[A"
          ],
          "name": "stderr"
        },
        {
          "output_type": "stream",
          "text": [
            "kommoototem\n"
          ],
          "name": "stdout"
        },
        {
          "output_type": "stream",
          "text": [
            "\n",
            "\n",
            " 90%|█████████ | 1015/1127 [34:46<03:39,  1.96s/it]\u001b[A\u001b[A"
          ],
          "name": "stderr"
        },
        {
          "output_type": "stream",
          "text": [
            "swadloon\n"
          ],
          "name": "stdout"
        },
        {
          "output_type": "stream",
          "text": [
            "\n",
            "\n",
            " 90%|█████████ | 1016/1127 [34:48<03:45,  2.04s/it]\u001b[A\u001b[A"
          ],
          "name": "stderr"
        },
        {
          "output_type": "stream",
          "text": [
            "lampent\n"
          ],
          "name": "stdout"
        },
        {
          "output_type": "stream",
          "text": [
            "\n",
            "\n",
            " 90%|█████████ | 1017/1127 [34:50<03:50,  2.10s/it]\u001b[A\u001b[A"
          ],
          "name": "stderr"
        },
        {
          "output_type": "stream",
          "text": [
            "indeedee\n"
          ],
          "name": "stdout"
        },
        {
          "output_type": "stream",
          "text": [
            "\n",
            "\n",
            " 90%|█████████ | 1018/1127 [34:52<03:49,  2.11s/it]\u001b[A\u001b[A"
          ],
          "name": "stderr"
        },
        {
          "output_type": "stream",
          "text": [
            "skwovet\n"
          ],
          "name": "stdout"
        },
        {
          "output_type": "stream",
          "text": [
            "\n",
            "\n",
            " 90%|█████████ | 1019/1127 [34:54<03:48,  2.11s/it]\u001b[A\u001b[A"
          ],
          "name": "stderr"
        },
        {
          "output_type": "stream",
          "text": [
            "corviknight\n"
          ],
          "name": "stdout"
        },
        {
          "output_type": "stream",
          "text": [
            "\n",
            "\n",
            " 91%|█████████ | 1020/1127 [34:57<03:50,  2.15s/it]\u001b[A\u001b[A"
          ],
          "name": "stderr"
        },
        {
          "output_type": "stream",
          "text": [
            "snorlaxgmax\n"
          ],
          "name": "stdout"
        },
        {
          "output_type": "stream",
          "text": [
            "\n",
            "\n",
            " 91%|█████████ | 1021/1127 [34:59<03:55,  2.23s/it]\u001b[A\u001b[A"
          ],
          "name": "stderr"
        },
        {
          "output_type": "stream",
          "text": [
            "ribombee\n"
          ],
          "name": "stdout"
        },
        {
          "output_type": "stream",
          "text": [
            "\n",
            "\n",
            " 91%|█████████ | 1022/1127 [35:01<03:44,  2.14s/it]\u001b[A\u001b[A"
          ],
          "name": "stderr"
        },
        {
          "output_type": "stream",
          "text": [
            "carkol\n"
          ],
          "name": "stdout"
        },
        {
          "output_type": "stream",
          "text": [
            "\n",
            "\n",
            " 91%|█████████ | 1023/1127 [35:03<03:47,  2.19s/it]\u001b[A\u001b[A"
          ],
          "name": "stderr"
        },
        {
          "output_type": "stream",
          "text": [
            "arctovish\n"
          ],
          "name": "stdout"
        },
        {
          "output_type": "stream",
          "text": [
            "\n",
            "\n",
            " 91%|█████████ | 1024/1127 [35:05<03:42,  2.16s/it]\u001b[A\u001b[A"
          ],
          "name": "stderr"
        },
        {
          "output_type": "stream",
          "text": [
            "octillery\n"
          ],
          "name": "stdout"
        },
        {
          "output_type": "stream",
          "text": [
            "\n",
            "\n",
            " 91%|█████████ | 1025/1127 [35:08<03:47,  2.23s/it]\u001b[A\u001b[A"
          ],
          "name": "stderr"
        },
        {
          "output_type": "stream",
          "text": [
            "monferno\n"
          ],
          "name": "stdout"
        },
        {
          "output_type": "stream",
          "text": [
            "\n",
            "\n",
            " 91%|█████████ | 1026/1127 [35:10<03:44,  2.23s/it]\u001b[A\u001b[A"
          ],
          "name": "stderr"
        },
        {
          "output_type": "stream",
          "text": [
            "araquanid\n"
          ],
          "name": "stdout"
        },
        {
          "output_type": "stream",
          "text": [
            "\n",
            "\n",
            " 91%|█████████ | 1027/1127 [35:12<03:28,  2.08s/it]\u001b[A\u001b[A"
          ],
          "name": "stderr"
        },
        {
          "output_type": "stream",
          "text": [
            "torkoal\n"
          ],
          "name": "stdout"
        },
        {
          "output_type": "stream",
          "text": [
            "\n",
            "\n",
            " 91%|█████████ | 1028/1127 [35:14<03:37,  2.20s/it]\u001b[A\u001b[A"
          ],
          "name": "stderr"
        },
        {
          "output_type": "stream",
          "text": [
            "sigilyph\n"
          ],
          "name": "stdout"
        },
        {
          "output_type": "stream",
          "text": [
            "\n",
            "\n",
            " 91%|█████████▏| 1029/1127 [35:16<03:24,  2.09s/it]\u001b[A\u001b[A"
          ],
          "name": "stderr"
        },
        {
          "output_type": "stream",
          "text": [
            "chandelure\n"
          ],
          "name": "stdout"
        },
        {
          "output_type": "stream",
          "text": [
            "\n",
            "\n",
            " 91%|█████████▏| 1030/1127 [35:17<03:00,  1.86s/it]\u001b[A\u001b[A"
          ],
          "name": "stderr"
        },
        {
          "output_type": "stream",
          "text": [
            "sealeo\n"
          ],
          "name": "stdout"
        },
        {
          "output_type": "stream",
          "text": [
            "\n",
            "\n",
            " 91%|█████████▏| 1031/1127 [35:20<03:07,  1.95s/it]\u001b[A\u001b[A"
          ],
          "name": "stderr"
        },
        {
          "output_type": "stream",
          "text": [
            "herdier\n"
          ],
          "name": "stdout"
        },
        {
          "output_type": "stream",
          "text": [
            "\n",
            "\n",
            " 92%|█████████▏| 1032/1127 [35:22<03:10,  2.01s/it]\u001b[A\u001b[A"
          ],
          "name": "stderr"
        },
        {
          "output_type": "stream",
          "text": [
            "rillaboom\n"
          ],
          "name": "stdout"
        },
        {
          "output_type": "stream",
          "text": [
            "\n",
            "\n",
            " 92%|█████████▏| 1033/1127 [35:24<03:08,  2.01s/it]\u001b[A\u001b[A"
          ],
          "name": "stderr"
        },
        {
          "output_type": "stream",
          "text": [
            "solgaleo\n"
          ],
          "name": "stdout"
        },
        {
          "output_type": "stream",
          "text": [
            "\n",
            "\n",
            " 92%|█████████▏| 1034/1127 [35:26<03:14,  2.09s/it]\u001b[A\u001b[A"
          ],
          "name": "stderr"
        },
        {
          "output_type": "stream",
          "text": [
            "gourgeistlarge\n"
          ],
          "name": "stdout"
        },
        {
          "output_type": "stream",
          "text": [
            "\n",
            "\n",
            " 92%|█████████▏| 1035/1127 [35:28<03:20,  2.18s/it]\u001b[A\u001b[A"
          ],
          "name": "stderr"
        },
        {
          "output_type": "stream",
          "text": [
            "chikorita\n"
          ],
          "name": "stdout"
        },
        {
          "output_type": "stream",
          "text": [
            "\n",
            "\n",
            " 92%|█████████▏| 1036/1127 [35:31<03:16,  2.16s/it]\u001b[A\u001b[A"
          ],
          "name": "stderr"
        },
        {
          "output_type": "stream",
          "text": [
            "terrakion\n"
          ],
          "name": "stdout"
        },
        {
          "output_type": "stream",
          "text": [
            "\n",
            "\n",
            " 92%|█████████▏| 1037/1127 [35:32<03:02,  2.03s/it]\u001b[A\u001b[A"
          ],
          "name": "stderr"
        },
        {
          "output_type": "stream",
          "text": [
            "manectricmega\n"
          ],
          "name": "stdout"
        },
        {
          "output_type": "stream",
          "text": [
            "\n",
            "\n",
            " 92%|█████████▏| 1038/1127 [35:34<02:54,  1.96s/it]\u001b[A\u001b[A"
          ],
          "name": "stderr"
        },
        {
          "output_type": "stream",
          "text": [
            "noibat\n"
          ],
          "name": "stdout"
        },
        {
          "output_type": "stream",
          "text": [
            "\n",
            "\n",
            " 92%|█████████▏| 1039/1127 [35:36<02:50,  1.94s/it]\u001b[A\u001b[A"
          ],
          "name": "stderr"
        },
        {
          "output_type": "stream",
          "text": [
            "silvallybug\n"
          ],
          "name": "stdout"
        },
        {
          "output_type": "stream",
          "text": [
            "\n",
            "\n",
            " 92%|█████████▏| 1040/1127 [35:38<02:41,  1.86s/it]\u001b[A\u001b[A"
          ],
          "name": "stderr"
        },
        {
          "output_type": "stream",
          "text": [
            "gligar\n"
          ],
          "name": "stdout"
        },
        {
          "output_type": "stream",
          "text": [
            "\n",
            "\n",
            " 92%|█████████▏| 1041/1127 [35:40<02:46,  1.94s/it]\u001b[A\u001b[A"
          ],
          "name": "stderr"
        },
        {
          "output_type": "stream",
          "text": [
            "appletun\n"
          ],
          "name": "stdout"
        },
        {
          "output_type": "stream",
          "text": [
            "\n",
            "\n",
            " 92%|█████████▏| 1042/1127 [35:42<02:40,  1.89s/it]\u001b[A\u001b[A"
          ],
          "name": "stderr"
        },
        {
          "output_type": "stream",
          "text": [
            "volbeat\n"
          ],
          "name": "stdout"
        },
        {
          "output_type": "stream",
          "text": [
            "\n",
            "\n",
            " 93%|█████████▎| 1043/1127 [35:43<02:35,  1.85s/it]\u001b[A\u001b[A"
          ],
          "name": "stderr"
        },
        {
          "output_type": "stream",
          "text": [
            "whiscash\n"
          ],
          "name": "stdout"
        },
        {
          "output_type": "stream",
          "text": [
            "\n",
            "\n",
            " 93%|█████████▎| 1044/1127 [35:45<02:36,  1.89s/it]\u001b[A\u001b[A"
          ],
          "name": "stderr"
        },
        {
          "output_type": "stream",
          "text": [
            "flaaffy\n"
          ],
          "name": "stdout"
        },
        {
          "output_type": "stream",
          "text": [
            "\n",
            "\n",
            " 93%|█████████▎| 1045/1127 [35:47<02:34,  1.88s/it]\u001b[A\u001b[A"
          ],
          "name": "stderr"
        },
        {
          "output_type": "stream",
          "text": [
            "swinub\n"
          ],
          "name": "stdout"
        },
        {
          "output_type": "stream",
          "text": [
            "\n",
            "\n",
            " 93%|█████████▎| 1046/1127 [35:49<02:31,  1.87s/it]\u001b[A\u001b[A"
          ],
          "name": "stderr"
        },
        {
          "output_type": "stream",
          "text": [
            "arceusdark\n"
          ],
          "name": "stdout"
        },
        {
          "output_type": "stream",
          "text": [
            "\n",
            "\n",
            " 93%|█████████▎| 1047/1127 [35:51<02:32,  1.90s/it]\u001b[A\u001b[A"
          ],
          "name": "stderr"
        },
        {
          "output_type": "stream",
          "text": [
            "sandacondagmax\n"
          ],
          "name": "stdout"
        },
        {
          "output_type": "stream",
          "text": [
            "\n",
            "\n",
            " 93%|█████████▎| 1048/1127 [35:53<02:31,  1.92s/it]\u001b[A\u001b[A"
          ],
          "name": "stderr"
        },
        {
          "output_type": "stream",
          "text": [
            "durant\n"
          ],
          "name": "stdout"
        },
        {
          "output_type": "stream",
          "text": [
            "\n",
            "\n",
            " 93%|█████████▎| 1049/1127 [35:55<02:27,  1.89s/it]\u001b[A\u001b[A"
          ],
          "name": "stderr"
        },
        {
          "output_type": "stream",
          "text": [
            "nincada\n"
          ],
          "name": "stdout"
        },
        {
          "output_type": "stream",
          "text": [
            "\n",
            "\n",
            " 93%|█████████▎| 1050/1127 [35:57<02:30,  1.96s/it]\u001b[A\u001b[A"
          ],
          "name": "stderr"
        },
        {
          "output_type": "stream",
          "text": [
            "pinsir\n"
          ],
          "name": "stdout"
        },
        {
          "output_type": "stream",
          "text": [
            "\n",
            "\n",
            " 93%|█████████▎| 1051/1127 [35:59<02:38,  2.08s/it]\u001b[A\u001b[A"
          ],
          "name": "stderr"
        },
        {
          "output_type": "stream",
          "text": [
            "grimmsnarl\n"
          ],
          "name": "stdout"
        },
        {
          "output_type": "stream",
          "text": [
            "\n",
            "\n",
            " 93%|█████████▎| 1052/1127 [36:02<02:41,  2.15s/it]\u001b[A\u001b[A"
          ],
          "name": "stderr"
        },
        {
          "output_type": "stream",
          "text": [
            "pumpkaboosmall\n"
          ],
          "name": "stdout"
        },
        {
          "output_type": "stream",
          "text": [
            "\n",
            "\n",
            " 93%|█████████▎| 1053/1127 [36:03<02:33,  2.08s/it]\u001b[A\u001b[A"
          ],
          "name": "stderr"
        },
        {
          "output_type": "stream",
          "text": [
            "blastoisemega\n"
          ],
          "name": "stdout"
        },
        {
          "output_type": "stream",
          "text": [
            "\n",
            "\n",
            " 94%|█████████▎| 1054/1127 [36:05<02:27,  2.03s/it]\u001b[A\u001b[A"
          ],
          "name": "stderr"
        },
        {
          "output_type": "stream",
          "text": [
            "pikachuhoenn\n"
          ],
          "name": "stdout"
        },
        {
          "output_type": "stream",
          "text": [
            "\n",
            "\n",
            " 94%|█████████▎| 1055/1127 [36:07<02:18,  1.92s/it]\u001b[A\u001b[A"
          ],
          "name": "stderr"
        },
        {
          "output_type": "stream",
          "text": [
            "trumbeak\n"
          ],
          "name": "stdout"
        },
        {
          "output_type": "stream",
          "text": [
            "\n",
            "\n",
            " 94%|█████████▎| 1056/1127 [36:09<02:19,  1.96s/it]\u001b[A\u001b[A"
          ],
          "name": "stderr"
        },
        {
          "output_type": "stream",
          "text": [
            "quilladin\n"
          ],
          "name": "stdout"
        },
        {
          "output_type": "stream",
          "text": [
            "\n",
            "\n",
            " 94%|█████████▍| 1057/1127 [36:11<02:20,  2.01s/it]\u001b[A\u001b[A"
          ],
          "name": "stderr"
        },
        {
          "output_type": "stream",
          "text": [
            "tornadustherian\n"
          ],
          "name": "stdout"
        },
        {
          "output_type": "stream",
          "text": [
            "\n",
            "\n",
            " 94%|█████████▍| 1058/1127 [36:13<02:24,  2.09s/it]\u001b[A\u001b[A"
          ],
          "name": "stderr"
        },
        {
          "output_type": "stream",
          "text": [
            "gardevoirmega\n"
          ],
          "name": "stdout"
        },
        {
          "output_type": "stream",
          "text": [
            "\n",
            "\n",
            " 94%|█████████▍| 1059/1127 [36:16<02:29,  2.19s/it]\u001b[A\u001b[A"
          ],
          "name": "stderr"
        },
        {
          "output_type": "stream",
          "text": [
            "pichuspikyeared\n"
          ],
          "name": "stdout"
        },
        {
          "output_type": "stream",
          "text": [
            "\n",
            "\n",
            " 94%|█████████▍| 1060/1127 [36:18<02:30,  2.25s/it]\u001b[A\u001b[A"
          ],
          "name": "stderr"
        },
        {
          "output_type": "stream",
          "text": [
            "heatmor\n"
          ],
          "name": "stdout"
        },
        {
          "output_type": "stream",
          "text": [
            "\n",
            "\n",
            " 94%|█████████▍| 1061/1127 [36:21<02:32,  2.32s/it]\u001b[A\u001b[A"
          ],
          "name": "stderr"
        },
        {
          "output_type": "stream",
          "text": [
            "blitzle\n"
          ],
          "name": "stdout"
        },
        {
          "output_type": "stream",
          "text": [
            "\n",
            "\n",
            " 94%|█████████▍| 1062/1127 [36:22<02:19,  2.14s/it]\u001b[A\u001b[A"
          ],
          "name": "stderr"
        },
        {
          "output_type": "stream",
          "text": [
            "ponyta\n"
          ],
          "name": "stdout"
        },
        {
          "output_type": "stream",
          "text": [
            "\n",
            "\n",
            " 94%|█████████▍| 1063/1127 [36:24<02:10,  2.04s/it]\u001b[A\u001b[A"
          ],
          "name": "stderr"
        },
        {
          "output_type": "stream",
          "text": [
            "cherrim\n"
          ],
          "name": "stdout"
        },
        {
          "output_type": "stream",
          "text": [
            "\n",
            "\n",
            " 94%|█████████▍| 1064/1127 [36:26<02:10,  2.07s/it]\u001b[A\u001b[A"
          ],
          "name": "stderr"
        },
        {
          "output_type": "stream",
          "text": [
            "aron\n"
          ],
          "name": "stdout"
        },
        {
          "output_type": "stream",
          "text": [
            "\n",
            "\n",
            " 94%|█████████▍| 1065/1127 [36:29<02:18,  2.23s/it]\u001b[A\u001b[A"
          ],
          "name": "stderr"
        },
        {
          "output_type": "stream",
          "text": [
            "wynaut\n"
          ],
          "name": "stdout"
        },
        {
          "output_type": "stream",
          "text": [
            "\n",
            "\n",
            " 95%|█████████▍| 1066/1127 [36:31<02:18,  2.27s/it]\u001b[A\u001b[A"
          ],
          "name": "stderr"
        },
        {
          "output_type": "stream",
          "text": [
            "marshadow\n"
          ],
          "name": "stdout"
        },
        {
          "output_type": "stream",
          "text": [
            "\n",
            "\n",
            " 95%|█████████▍| 1067/1127 [36:34<02:19,  2.32s/it]\u001b[A\u001b[A"
          ],
          "name": "stderr"
        },
        {
          "output_type": "stream",
          "text": [
            "rampardos\n"
          ],
          "name": "stdout"
        },
        {
          "output_type": "stream",
          "text": [
            "\n",
            "\n",
            " 95%|█████████▍| 1068/1127 [36:36<02:06,  2.15s/it]\u001b[A\u001b[A"
          ],
          "name": "stderr"
        },
        {
          "output_type": "stream",
          "text": [
            "audinomega\n"
          ],
          "name": "stdout"
        },
        {
          "output_type": "stream",
          "text": [
            "\n",
            "\n",
            " 95%|█████████▍| 1069/1127 [36:38<02:02,  2.12s/it]\u001b[A\u001b[A"
          ],
          "name": "stderr"
        },
        {
          "output_type": "stream",
          "text": [
            "golisopod\n"
          ],
          "name": "stdout"
        },
        {
          "output_type": "stream",
          "text": [
            "\n",
            "\n",
            " 95%|█████████▍| 1070/1127 [36:40<01:56,  2.05s/it]\u001b[A\u001b[A"
          ],
          "name": "stderr"
        },
        {
          "output_type": "stream",
          "text": [
            "arceusground\n"
          ],
          "name": "stdout"
        },
        {
          "output_type": "stream",
          "text": [
            "\n",
            "\n",
            " 95%|█████████▌| 1071/1127 [36:42<01:56,  2.09s/it]\u001b[A\u001b[A"
          ],
          "name": "stderr"
        },
        {
          "output_type": "stream",
          "text": [
            "drednawgmax\n"
          ],
          "name": "stdout"
        },
        {
          "output_type": "stream",
          "text": [
            "\n",
            "\n",
            " 95%|█████████▌| 1072/1127 [36:44<01:58,  2.16s/it]\u001b[A\u001b[A"
          ],
          "name": "stderr"
        },
        {
          "output_type": "stream",
          "text": [
            "keldeoresolute\n"
          ],
          "name": "stdout"
        },
        {
          "output_type": "stream",
          "text": [
            "\n",
            "\n",
            " 95%|█████████▌| 1073/1127 [36:46<01:55,  2.13s/it]\u001b[A\u001b[A"
          ],
          "name": "stderr"
        },
        {
          "output_type": "stream",
          "text": [
            "larvesta\n"
          ],
          "name": "stdout"
        },
        {
          "output_type": "stream",
          "text": [
            "\n",
            "\n",
            " 95%|█████████▌| 1074/1127 [36:48<01:47,  2.04s/it]\u001b[A\u001b[A"
          ],
          "name": "stderr"
        },
        {
          "output_type": "stream",
          "text": [
            "honedge\n"
          ],
          "name": "stdout"
        },
        {
          "output_type": "stream",
          "text": [
            "\n",
            "\n",
            " 95%|█████████▌| 1075/1127 [36:50<01:44,  2.02s/it]\u001b[A\u001b[A"
          ],
          "name": "stderr"
        },
        {
          "output_type": "stream",
          "text": [
            "smoochum\n"
          ],
          "name": "stdout"
        },
        {
          "output_type": "stream",
          "text": [
            "\n",
            "\n",
            " 95%|█████████▌| 1076/1127 [36:52<01:41,  1.99s/it]\u001b[A\u001b[A"
          ],
          "name": "stderr"
        },
        {
          "output_type": "stream",
          "text": [
            "butterfreegmax\n"
          ],
          "name": "stdout"
        },
        {
          "output_type": "stream",
          "text": [
            "\n",
            "\n",
            " 96%|█████████▌| 1077/1127 [36:54<01:43,  2.08s/it]\u001b[A\u001b[A"
          ],
          "name": "stderr"
        },
        {
          "output_type": "stream",
          "text": [
            "dewott\n"
          ],
          "name": "stdout"
        },
        {
          "output_type": "stream",
          "text": [
            "\n",
            "\n",
            " 96%|█████████▌| 1078/1127 [36:57<01:48,  2.21s/it]\u001b[A\u001b[A"
          ],
          "name": "stderr"
        },
        {
          "output_type": "stream",
          "text": [
            "steelix\n"
          ],
          "name": "stdout"
        },
        {
          "output_type": "stream",
          "text": [
            "\n",
            "\n",
            " 96%|█████████▌| 1079/1127 [36:58<01:40,  2.10s/it]\u001b[A\u001b[A"
          ],
          "name": "stderr"
        },
        {
          "output_type": "stream",
          "text": [
            "talonflame\n"
          ],
          "name": "stdout"
        },
        {
          "output_type": "stream",
          "text": [
            "\n",
            "\n",
            " 96%|█████████▌| 1080/1127 [37:00<01:34,  2.02s/it]\u001b[A\u001b[A"
          ],
          "name": "stderr"
        },
        {
          "output_type": "stream",
          "text": [
            "scrafty\n"
          ],
          "name": "stdout"
        },
        {
          "output_type": "stream",
          "text": [
            "\n",
            "\n",
            " 96%|█████████▌| 1081/1127 [37:02<01:34,  2.05s/it]\u001b[A\u001b[A"
          ],
          "name": "stderr"
        },
        {
          "output_type": "stream",
          "text": [
            "chinchou\n"
          ],
          "name": "stdout"
        },
        {
          "output_type": "stream",
          "text": [
            "\n",
            "\n",
            " 96%|█████████▌| 1082/1127 [37:05<01:33,  2.08s/it]\u001b[A\u001b[A"
          ],
          "name": "stderr"
        },
        {
          "output_type": "stream",
          "text": [
            "yanma\n"
          ],
          "name": "stdout"
        },
        {
          "output_type": "stream",
          "text": [
            "\n",
            "\n",
            " 96%|█████████▌| 1083/1127 [37:06<01:27,  1.99s/it]\u001b[A\u001b[A"
          ],
          "name": "stderr"
        },
        {
          "output_type": "stream",
          "text": [
            "duskull\n"
          ],
          "name": "stdout"
        },
        {
          "output_type": "stream",
          "text": [
            "\n",
            "\n",
            " 96%|█████████▌| 1084/1127 [37:08<01:25,  1.99s/it]\u001b[A\u001b[A"
          ],
          "name": "stderr"
        },
        {
          "output_type": "stream",
          "text": [
            "cacturne\n"
          ],
          "name": "stdout"
        },
        {
          "output_type": "stream",
          "text": [
            "\n",
            "\n",
            " 96%|█████████▋| 1085/1127 [37:10<01:22,  1.97s/it]\u001b[A\u001b[A"
          ],
          "name": "stderr"
        },
        {
          "output_type": "stream",
          "text": [
            "pignite\n"
          ],
          "name": "stdout"
        },
        {
          "output_type": "stream",
          "text": [
            "\n",
            "\n",
            " 96%|█████████▋| 1086/1127 [37:13<01:24,  2.07s/it]\u001b[A\u001b[A"
          ],
          "name": "stderr"
        },
        {
          "output_type": "stream",
          "text": [
            "poliwrath\n"
          ],
          "name": "stdout"
        },
        {
          "output_type": "stream",
          "text": [
            "\n",
            "\n",
            " 96%|█████████▋| 1087/1127 [37:15<01:30,  2.27s/it]\u001b[A\u001b[A"
          ],
          "name": "stderr"
        },
        {
          "output_type": "stream",
          "text": [
            "skorupi\n"
          ],
          "name": "stdout"
        },
        {
          "output_type": "stream",
          "text": [
            "\n",
            "\n",
            " 97%|█████████▋| 1088/1127 [37:18<01:31,  2.35s/it]\u001b[A\u001b[A"
          ],
          "name": "stderr"
        },
        {
          "output_type": "stream",
          "text": [
            "thundurus\n"
          ],
          "name": "stdout"
        },
        {
          "output_type": "stream",
          "text": [
            "\n",
            "\n",
            " 97%|█████████▋| 1089/1127 [37:20<01:23,  2.19s/it]\u001b[A\u001b[A"
          ],
          "name": "stderr"
        },
        {
          "output_type": "stream",
          "text": [
            "pachirisu\n"
          ],
          "name": "stdout"
        },
        {
          "output_type": "stream",
          "text": [
            "\n",
            "\n",
            " 97%|█████████▋| 1090/1127 [37:22<01:20,  2.17s/it]\u001b[A\u001b[A"
          ],
          "name": "stderr"
        },
        {
          "output_type": "stream",
          "text": [
            "mismagius\n"
          ],
          "name": "stdout"
        },
        {
          "output_type": "stream",
          "text": [
            "\n",
            "\n",
            " 97%|█████████▋| 1091/1127 [37:24<01:16,  2.12s/it]\u001b[A\u001b[A"
          ],
          "name": "stderr"
        },
        {
          "output_type": "stream",
          "text": [
            "morelull\n"
          ],
          "name": "stdout"
        },
        {
          "output_type": "stream",
          "text": [
            "\n",
            "\n",
            " 97%|█████████▋| 1092/1127 [37:26<01:11,  2.05s/it]\u001b[A\u001b[A"
          ],
          "name": "stderr"
        },
        {
          "output_type": "stream",
          "text": [
            "regirock\n"
          ],
          "name": "stdout"
        },
        {
          "output_type": "stream",
          "text": [
            "\n",
            "\n",
            " 97%|█████████▋| 1093/1127 [37:28<01:11,  2.11s/it]\u001b[A\u001b[A"
          ],
          "name": "stderr"
        },
        {
          "output_type": "stream",
          "text": [
            "persian\n"
          ],
          "name": "stdout"
        },
        {
          "output_type": "stream",
          "text": [
            "\n",
            "\n",
            " 97%|█████████▋| 1094/1127 [37:30<01:11,  2.16s/it]\u001b[A\u001b[A"
          ],
          "name": "stderr"
        },
        {
          "output_type": "stream",
          "text": [
            "gourgeistsmall\n"
          ],
          "name": "stdout"
        },
        {
          "output_type": "stream",
          "text": [
            "\n",
            "\n",
            " 97%|█████████▋| 1095/1127 [37:32<01:08,  2.14s/it]\u001b[A\u001b[A"
          ],
          "name": "stderr"
        },
        {
          "output_type": "stream",
          "text": [
            "silvallyfire\n"
          ],
          "name": "stdout"
        },
        {
          "output_type": "stream",
          "text": [
            "\n",
            "\n",
            " 97%|█████████▋| 1096/1127 [37:34<01:05,  2.13s/it]\u001b[A\u001b[A"
          ],
          "name": "stderr"
        },
        {
          "output_type": "stream",
          "text": [
            "comfey\n"
          ],
          "name": "stdout"
        },
        {
          "output_type": "stream",
          "text": [
            "\n",
            "\n",
            " 97%|█████████▋| 1097/1127 [37:37<01:03,  2.13s/it]\u001b[A\u001b[A"
          ],
          "name": "stderr"
        },
        {
          "output_type": "stream",
          "text": [
            "lunala\n"
          ],
          "name": "stdout"
        },
        {
          "output_type": "stream",
          "text": [
            "\n",
            "\n",
            " 97%|█████████▋| 1098/1127 [37:39<01:06,  2.29s/it]\u001b[A\u001b[A"
          ],
          "name": "stderr"
        },
        {
          "output_type": "stream",
          "text": [
            "skarmory\n"
          ],
          "name": "stdout"
        },
        {
          "output_type": "stream",
          "text": [
            "\n",
            "\n",
            " 98%|█████████▊| 1099/1127 [37:41<01:02,  2.22s/it]\u001b[A\u001b[A"
          ],
          "name": "stderr"
        },
        {
          "output_type": "stream",
          "text": [
            "jumpluff\n"
          ],
          "name": "stdout"
        },
        {
          "output_type": "stream",
          "text": [
            "\n",
            "\n",
            " 98%|█████████▊| 1100/1127 [37:45<01:12,  2.70s/it]\u001b[A\u001b[A"
          ],
          "name": "stderr"
        },
        {
          "output_type": "stream",
          "text": [
            "remoraid\n"
          ],
          "name": "stdout"
        },
        {
          "output_type": "stream",
          "text": [
            "\n",
            "\n",
            " 98%|█████████▊| 1101/1127 [37:49<01:17,  2.99s/it]\u001b[A\u001b[A"
          ],
          "name": "stderr"
        },
        {
          "output_type": "stream",
          "text": [
            "meloetta\n"
          ],
          "name": "stdout"
        },
        {
          "output_type": "stream",
          "text": [
            "\n",
            "\n",
            " 98%|█████████▊| 1102/1127 [37:51<01:07,  2.68s/it]\u001b[A\u001b[A"
          ],
          "name": "stderr"
        },
        {
          "output_type": "stream",
          "text": [
            "tapukoko\n"
          ],
          "name": "stdout"
        },
        {
          "output_type": "stream",
          "text": [
            "\n",
            "\n",
            " 98%|█████████▊| 1103/1127 [37:53<01:00,  2.52s/it]\u001b[A\u001b[A"
          ],
          "name": "stderr"
        },
        {
          "output_type": "stream",
          "text": [
            "dragonite\n"
          ],
          "name": "stdout"
        },
        {
          "output_type": "stream",
          "text": [
            "\n",
            "\n",
            " 98%|█████████▊| 1104/1127 [37:55<00:55,  2.42s/it]\u001b[A\u001b[A"
          ],
          "name": "stderr"
        },
        {
          "output_type": "stream",
          "text": [
            "grumpig\n"
          ],
          "name": "stdout"
        },
        {
          "output_type": "stream",
          "text": [
            "\n",
            "\n",
            " 98%|█████████▊| 1105/1127 [37:57<00:52,  2.37s/it]\u001b[A\u001b[A"
          ],
          "name": "stderr"
        },
        {
          "output_type": "stream",
          "text": [
            "darmanitangalarzen\n"
          ],
          "name": "stdout"
        },
        {
          "output_type": "stream",
          "text": [
            "\n",
            "\n",
            " 98%|█████████▊| 1106/1127 [37:59<00:46,  2.20s/it]\u001b[A\u001b[A"
          ],
          "name": "stderr"
        },
        {
          "output_type": "stream",
          "text": [
            "mew\n"
          ],
          "name": "stdout"
        },
        {
          "output_type": "stream",
          "text": [
            "\n",
            "\n",
            " 98%|█████████▊| 1107/1127 [38:01<00:45,  2.26s/it]\u001b[A\u001b[A"
          ],
          "name": "stderr"
        },
        {
          "output_type": "stream",
          "text": [
            "gogoat\n"
          ],
          "name": "stdout"
        },
        {
          "output_type": "stream",
          "text": [
            "\n",
            "\n",
            " 98%|█████████▊| 1108/1127 [38:04<00:42,  2.23s/it]\u001b[A\u001b[A"
          ],
          "name": "stderr"
        },
        {
          "output_type": "stream",
          "text": [
            "camerupt\n"
          ],
          "name": "stdout"
        },
        {
          "output_type": "stream",
          "text": [
            "\n",
            "\n",
            " 98%|█████████▊| 1109/1127 [38:06<00:39,  2.21s/it]\u001b[A\u001b[A"
          ],
          "name": "stderr"
        },
        {
          "output_type": "stream",
          "text": [
            "raticatealola\n"
          ],
          "name": "stdout"
        },
        {
          "output_type": "stream",
          "text": [
            "\n",
            "\n",
            " 98%|█████████▊| 1110/1127 [38:08<00:35,  2.11s/it]\u001b[A\u001b[A"
          ],
          "name": "stderr"
        },
        {
          "output_type": "stream",
          "text": [
            "celesteela\n"
          ],
          "name": "stdout"
        },
        {
          "output_type": "stream",
          "text": [
            "\n",
            "\n",
            " 99%|█████████▊| 1111/1127 [38:10<00:33,  2.08s/it]\u001b[A\u001b[A"
          ],
          "name": "stderr"
        },
        {
          "output_type": "stream",
          "text": [
            "type:null\n"
          ],
          "name": "stdout"
        },
        {
          "output_type": "stream",
          "text": [
            "\n",
            "\n",
            " 99%|█████████▊| 1112/1127 [38:12<00:31,  2.07s/it]\u001b[A\u001b[A"
          ],
          "name": "stderr"
        },
        {
          "output_type": "stream",
          "text": [
            "ivysaur\n"
          ],
          "name": "stdout"
        },
        {
          "output_type": "stream",
          "text": [
            "\n",
            "\n",
            " 99%|█████████▉| 1113/1127 [38:14<00:29,  2.11s/it]\u001b[A\u001b[A"
          ],
          "name": "stderr"
        },
        {
          "output_type": "stream",
          "text": [
            "roserade\n"
          ],
          "name": "stdout"
        },
        {
          "output_type": "stream",
          "text": [
            "\n",
            "\n",
            " 99%|█████████▉| 1114/1127 [38:16<00:28,  2.15s/it]\u001b[A\u001b[A"
          ],
          "name": "stderr"
        },
        {
          "output_type": "stream",
          "text": [
            "virizion\n"
          ],
          "name": "stdout"
        },
        {
          "output_type": "stream",
          "text": [
            "\n",
            "\n",
            " 99%|█████████▉| 1115/1127 [38:18<00:25,  2.11s/it]\u001b[A\u001b[A"
          ],
          "name": "stderr"
        },
        {
          "output_type": "stream",
          "text": [
            "zigzagoon\n"
          ],
          "name": "stdout"
        },
        {
          "output_type": "stream",
          "text": [
            "\n",
            "\n",
            " 99%|█████████▉| 1116/1127 [38:21<00:25,  2.32s/it]\u001b[A\u001b[A"
          ],
          "name": "stderr"
        },
        {
          "output_type": "stream",
          "text": [
            "slaking\n"
          ],
          "name": "stdout"
        },
        {
          "output_type": "stream",
          "text": [
            "\n",
            "\n",
            " 99%|█████████▉| 1117/1127 [38:23<00:21,  2.19s/it]\u001b[A\u001b[A"
          ],
          "name": "stderr"
        },
        {
          "output_type": "stream",
          "text": [
            "snivy\n"
          ],
          "name": "stdout"
        },
        {
          "output_type": "stream",
          "text": [
            "\n",
            "\n",
            " 99%|█████████▉| 1118/1127 [38:27<00:24,  2.75s/it]\u001b[A\u001b[A"
          ],
          "name": "stderr"
        },
        {
          "output_type": "stream",
          "text": [
            "uxie\n"
          ],
          "name": "stdout"
        },
        {
          "output_type": "stream",
          "text": [
            "\n",
            "\n",
            " 99%|█████████▉| 1119/1127 [38:29<00:20,  2.60s/it]\u001b[A\u001b[A"
          ],
          "name": "stderr"
        },
        {
          "output_type": "stream",
          "text": [
            "porygon\n"
          ],
          "name": "stdout"
        },
        {
          "output_type": "stream",
          "text": [
            "\n",
            "\n",
            " 99%|█████████▉| 1120/1127 [38:31<00:16,  2.41s/it]\u001b[A\u001b[A"
          ],
          "name": "stderr"
        },
        {
          "output_type": "stream",
          "text": [
            "snover\n"
          ],
          "name": "stdout"
        },
        {
          "output_type": "stream",
          "text": [
            "\n",
            "\n",
            " 99%|█████████▉| 1121/1127 [38:35<00:17,  2.93s/it]\u001b[A\u001b[A"
          ],
          "name": "stderr"
        },
        {
          "output_type": "stream",
          "text": [
            "tranquill\n"
          ],
          "name": "stdout"
        },
        {
          "output_type": "stream",
          "text": [
            "\n",
            "\n",
            "100%|█████████▉| 1122/1127 [38:40<00:16,  3.39s/it]\u001b[A\u001b[A"
          ],
          "name": "stderr"
        },
        {
          "output_type": "stream",
          "text": [
            "duraludongmax\n"
          ],
          "name": "stdout"
        },
        {
          "output_type": "stream",
          "text": [
            "\n",
            "\n",
            "100%|█████████▉| 1123/1127 [38:44<00:14,  3.52s/it]\u001b[A\u001b[A"
          ],
          "name": "stderr"
        },
        {
          "output_type": "stream",
          "text": [
            "corviknightgmax\n"
          ],
          "name": "stdout"
        },
        {
          "output_type": "stream",
          "text": [
            "\n",
            "\n",
            "100%|█████████▉| 1124/1127 [38:47<00:10,  3.59s/it]\u001b[A\u001b[A"
          ],
          "name": "stderr"
        },
        {
          "output_type": "stream",
          "text": [
            "toxtricitylowkey\n"
          ],
          "name": "stdout"
        },
        {
          "output_type": "stream",
          "text": [
            "\n",
            "\n",
            "100%|█████████▉| 1125/1127 [38:51<00:07,  3.63s/it]\u001b[A\u001b[A"
          ],
          "name": "stderr"
        },
        {
          "output_type": "stream",
          "text": [
            "spewpa\n"
          ],
          "name": "stdout"
        },
        {
          "output_type": "stream",
          "text": [
            "\n",
            "\n",
            "100%|█████████▉| 1126/1127 [38:55<00:03,  3.65s/it]\u001b[A\u001b[A"
          ],
          "name": "stderr"
        },
        {
          "output_type": "stream",
          "text": [
            "milotic\n"
          ],
          "name": "stdout"
        },
        {
          "output_type": "stream",
          "text": [
            "\n",
            "\n",
            "100%|██████████| 1127/1127 [38:58<00:00,  2.08s/it]\n"
          ],
          "name": "stderr"
        }
      ]
    },
    {
      "cell_type": "code",
      "metadata": {
        "id": "BSyZZXrcIn9J",
        "colab_type": "code",
        "colab": {}
      },
      "source": [
        "dex[len(data)] = \"zygarde10\""
      ],
      "execution_count": 0,
      "outputs": []
    },
    {
      "cell_type": "code",
      "metadata": {
        "id": "frMVakvgggCp",
        "colab_type": "code",
        "outputId": "79df12a6-693a-42da-d27c-53cd3edc87ec",
        "colab": {
          "base_uri": "https://localhost:8080/",
          "height": 34
        }
      },
      "source": [
        "len(data)"
      ],
      "execution_count": 0,
      "outputs": [
        {
          "output_type": "execute_result",
          "data": {
            "text/plain": [
              "1127"
            ]
          },
          "metadata": {
            "tags": []
          },
          "execution_count": 30
        }
      ]
    },
    {
      "cell_type": "code",
      "metadata": {
        "id": "HzivzT5d5uox",
        "colab_type": "code",
        "colab": {}
      },
      "source": [
        "import pandas as pd\n",
        "data = pd.DataFrame(data)\n",
        "data.to_csv(\"dexdata.csv\")"
      ],
      "execution_count": 0,
      "outputs": []
    },
    {
      "cell_type": "markdown",
      "metadata": {
        "id": "QFEHG1h3c2-3",
        "colab_type": "text"
      },
      "source": [
        "## Smogon University"
      ]
    },
    {
      "cell_type": "code",
      "metadata": {
        "id": "8q-SJJ2Wd5os",
        "colab_type": "code",
        "outputId": "adda9c17-0036-4d7b-911d-2fac87bf49fa",
        "colab": {
          "base_uri": "https://localhost:8080/",
          "height": 1000
        }
      },
      "source": [
        "!pip install selenium\n",
        "!apt-get update # to update ubuntu to correctly run apt install\n",
        "!apt install chromium-chromedriver\n",
        "!cp /usr/lib/chromium-browser/chromedriver /usr/bin\n",
        "import sys\n",
        "sys.path.insert(0,'/usr/lib/chromium-browser/chromedriver')\n",
        "from selenium import webdriver\n",
        "chrome_options = webdriver.ChromeOptions()\n",
        "chrome_options.add_argument('--headless')\n",
        "chrome_options.add_argument('--no-sandbox')\n",
        "chrome_options.add_argument('--disable-dev-shm-usage')\n"
      ],
      "execution_count": 0,
      "outputs": [
        {
          "output_type": "stream",
          "text": [
            "Collecting selenium\n",
            "\u001b[?25l  Downloading https://files.pythonhosted.org/packages/80/d6/4294f0b4bce4de0abf13e17190289f9d0613b0a44e5dd6a7f5ca98459853/selenium-3.141.0-py2.py3-none-any.whl (904kB)\n",
            "\u001b[K     |████████████████████████████████| 911kB 1.4MB/s \n",
            "\u001b[?25hRequirement already satisfied: urllib3 in /usr/local/lib/python3.6/dist-packages (from selenium) (1.24.3)\n",
            "Installing collected packages: selenium\n",
            "Successfully installed selenium-3.141.0\n",
            "Get:1 https://cloud.r-project.org/bin/linux/ubuntu bionic-cran35/ InRelease [3,626 B]\n",
            "Get:2 http://security.ubuntu.com/ubuntu bionic-security InRelease [88.7 kB]\n",
            "Hit:3 http://ppa.launchpad.net/graphics-drivers/ppa/ubuntu bionic InRelease\n",
            "Get:4 https://cloud.r-project.org/bin/linux/ubuntu bionic-cran35/ Packages [87.7 kB]\n",
            "Hit:5 http://archive.ubuntu.com/ubuntu bionic InRelease\n",
            "Ign:6 https://developer.download.nvidia.com/compute/cuda/repos/ubuntu1804/x86_64  InRelease\n",
            "Get:7 http://ppa.launchpad.net/marutter/c2d4u3.5/ubuntu bionic InRelease [15.4 kB]\n",
            "Get:8 http://archive.ubuntu.com/ubuntu bionic-updates InRelease [88.7 kB]\n",
            "Ign:9 https://developer.download.nvidia.com/compute/machine-learning/repos/ubuntu1804/x86_64  InRelease\n",
            "Hit:10 https://developer.download.nvidia.com/compute/cuda/repos/ubuntu1804/x86_64  Release\n",
            "Get:11 https://developer.download.nvidia.com/compute/machine-learning/repos/ubuntu1804/x86_64  Release [564 B]\n",
            "Get:12 https://developer.download.nvidia.com/compute/machine-learning/repos/ubuntu1804/x86_64  Release.gpg [833 B]\n",
            "Get:14 http://ppa.launchpad.net/marutter/c2d4u3.5/ubuntu bionic/main Sources [1,789 kB]\n",
            "Get:15 https://developer.download.nvidia.com/compute/machine-learning/repos/ubuntu1804/x86_64  Packages [31.7 kB]\n",
            "Get:16 http://security.ubuntu.com/ubuntu bionic-security/restricted amd64 Packages [37.0 kB]\n",
            "Get:17 http://archive.ubuntu.com/ubuntu bionic-backports InRelease [74.6 kB]\n",
            "Get:18 http://security.ubuntu.com/ubuntu bionic-security/main amd64 Packages [870 kB]\n",
            "Get:19 http://archive.ubuntu.com/ubuntu bionic-updates/multiverse amd64 Packages [12.2 kB]\n",
            "Get:20 http://archive.ubuntu.com/ubuntu bionic-updates/restricted amd64 Packages [50.4 kB]\n",
            "Get:21 http://archive.ubuntu.com/ubuntu bionic-updates/main amd64 Packages [1,161 kB]\n",
            "Get:22 http://security.ubuntu.com/ubuntu bionic-security/universe amd64 Packages [835 kB]\n",
            "Get:23 http://archive.ubuntu.com/ubuntu bionic-updates/universe amd64 Packages [1,367 kB]\n",
            "Get:24 http://archive.ubuntu.com/ubuntu bionic-backports/universe amd64 Packages [4,247 B]\n",
            "Get:25 http://ppa.launchpad.net/marutter/c2d4u3.5/ubuntu bionic/main amd64 Packages [863 kB]\n",
            "Fetched 7,382 kB in 6s (1,268 kB/s)\n",
            "Reading package lists... Done\n",
            "Reading package lists... Done\n",
            "Building dependency tree       \n",
            "Reading state information... Done\n",
            "The following additional packages will be installed:\n",
            "  chromium-browser chromium-browser-l10n chromium-codecs-ffmpeg-extra\n",
            "Suggested packages:\n",
            "  webaccounts-chromium-extension unity-chromium-extension adobe-flashplugin\n",
            "The following NEW packages will be installed:\n",
            "  chromium-browser chromium-browser-l10n chromium-chromedriver\n",
            "  chromium-codecs-ffmpeg-extra\n",
            "0 upgraded, 4 newly installed, 0 to remove and 54 not upgraded.\n",
            "Need to get 74.4 MB of archives.\n",
            "After this operation, 264 MB of additional disk space will be used.\n",
            "Get:1 http://archive.ubuntu.com/ubuntu bionic-updates/universe amd64 chromium-codecs-ffmpeg-extra amd64 80.0.3987.149-0ubuntu0.18.04.1 [1,095 kB]\n",
            "Get:2 http://archive.ubuntu.com/ubuntu bionic-updates/universe amd64 chromium-browser amd64 80.0.3987.149-0ubuntu0.18.04.1 [66.1 MB]\n",
            "Get:3 http://archive.ubuntu.com/ubuntu bionic-updates/universe amd64 chromium-browser-l10n all 80.0.3987.149-0ubuntu0.18.04.1 [3,160 kB]\n",
            "Get:4 http://archive.ubuntu.com/ubuntu bionic-updates/universe amd64 chromium-chromedriver amd64 80.0.3987.149-0ubuntu0.18.04.1 [4,045 kB]\n",
            "Fetched 74.4 MB in 9s (7,942 kB/s)\n",
            "Selecting previously unselected package chromium-codecs-ffmpeg-extra.\n",
            "(Reading database ... 133872 files and directories currently installed.)\n",
            "Preparing to unpack .../chromium-codecs-ffmpeg-extra_80.0.3987.149-0ubuntu0.18.04.1_amd64.deb ...\n",
            "Unpacking chromium-codecs-ffmpeg-extra (80.0.3987.149-0ubuntu0.18.04.1) ...\n",
            "Selecting previously unselected package chromium-browser.\n",
            "Preparing to unpack .../chromium-browser_80.0.3987.149-0ubuntu0.18.04.1_amd64.deb ...\n",
            "Unpacking chromium-browser (80.0.3987.149-0ubuntu0.18.04.1) ...\n",
            "Selecting previously unselected package chromium-browser-l10n.\n",
            "Preparing to unpack .../chromium-browser-l10n_80.0.3987.149-0ubuntu0.18.04.1_all.deb ...\n",
            "Unpacking chromium-browser-l10n (80.0.3987.149-0ubuntu0.18.04.1) ...\n",
            "Selecting previously unselected package chromium-chromedriver.\n",
            "Preparing to unpack .../chromium-chromedriver_80.0.3987.149-0ubuntu0.18.04.1_amd64.deb ...\n",
            "Unpacking chromium-chromedriver (80.0.3987.149-0ubuntu0.18.04.1) ...\n",
            "Setting up chromium-codecs-ffmpeg-extra (80.0.3987.149-0ubuntu0.18.04.1) ...\n",
            "Setting up chromium-browser (80.0.3987.149-0ubuntu0.18.04.1) ...\n",
            "update-alternatives: using /usr/bin/chromium-browser to provide /usr/bin/x-www-browser (x-www-browser) in auto mode\n",
            "update-alternatives: using /usr/bin/chromium-browser to provide /usr/bin/gnome-www-browser (gnome-www-browser) in auto mode\n",
            "Setting up chromium-chromedriver (80.0.3987.149-0ubuntu0.18.04.1) ...\n",
            "Setting up chromium-browser-l10n (80.0.3987.149-0ubuntu0.18.04.1) ...\n",
            "Processing triggers for hicolor-icon-theme (0.17-2) ...\n",
            "Processing triggers for mime-support (3.60ubuntu1) ...\n",
            "Processing triggers for man-db (2.8.3-2ubuntu0.1) ...\n",
            "cp: '/usr/lib/chromium-browser/chromedriver' and '/usr/bin/chromedriver' are the same file\n"
          ],
          "name": "stdout"
        }
      ]
    },
    {
      "cell_type": "code",
      "metadata": {
        "id": "MYK5_RJahWQ0",
        "colab_type": "code",
        "colab": {}
      },
      "source": [
        "\n",
        "from selenium.webdriver.common.keys import Keys\n",
        "from time import sleep"
      ],
      "execution_count": 0,
      "outputs": []
    },
    {
      "cell_type": "code",
      "metadata": {
        "id": "WwbPw6pge6W0",
        "colab_type": "code",
        "outputId": "9694a96f-c05f-4f2e-b09f-876e27c01771",
        "colab": {
          "base_uri": "https://localhost:8080/",
          "height": 1000
        }
      },
      "source": [
        "browser = webdriver.Chrome('chromedriver',chrome_options=chrome_options)\n",
        "browser.get(\"https://www.smogon.com/dex/ss/pokemon/\")\n",
        "pokemon_links = set(())\n",
        "flag = True\n",
        "while(flag):\n",
        "  flag = False\n",
        "  x = browser.find_elements_by_xpath(\"/html/body/div/div/main/div/div/div/div/a\")\n",
        "  for y in x:\n",
        "    try:\n",
        "      if y.get_attribute(\"href\") not in pokemon_links:\n",
        "        pokemon_links.add(y.get_attribute(\"href\"))\n",
        "        flag = True\n",
        "        print(y.get_attribute(\"href\"))\n",
        "        browser.find_element_by_xpath(\"/html/body\").send_keys(Keys.DOWN)\n",
        "    except:\n",
        "      browser.find_element_by_xpath(\"/html/body\").send_keys(Keys.UP)\n",
        "  browser.find_element_by_xpath(\"/html/body\").send_keys(Keys.DOWN)\n",
        "len(pokemon_links)"
      ],
      "execution_count": 0,
      "outputs": [
        {
          "output_type": "stream",
          "text": [
            "/usr/local/lib/python3.6/dist-packages/ipykernel_launcher.py:1: DeprecationWarning: use options instead of chrome_options\n",
            "  \"\"\"Entry point for launching an IPython kernel.\n"
          ],
          "name": "stderr"
        },
        {
          "output_type": "stream",
          "text": [
            "https://www.smogon.com/dex/ss/pokemon/abomasnow/\n",
            "https://www.smogon.com/dex/ss/pokemon/accelgor/\n",
            "https://www.smogon.com/dex/ss/pokemon/aegislash/\n",
            "https://www.smogon.com/dex/ss/pokemon/aegislash-blade/\n",
            "https://www.smogon.com/dex/ss/pokemon/alcremie/\n",
            "https://www.smogon.com/dex/ss/pokemon/alcremie-gmax/\n",
            "https://www.smogon.com/dex/ss/pokemon/appletun/\n",
            "https://www.smogon.com/dex/ss/pokemon/appletun-gmax/\n",
            "https://www.smogon.com/dex/ss/pokemon/applin/\n",
            "https://www.smogon.com/dex/ss/pokemon/araquanid/\n",
            "https://www.smogon.com/dex/ss/pokemon/arcanine/\n",
            "https://www.smogon.com/dex/ss/pokemon/arctovish/\n",
            "https://www.smogon.com/dex/ss/pokemon/arctozolt/\n",
            "https://www.smogon.com/dex/ss/pokemon/aromatisse/\n",
            "https://www.smogon.com/dex/ss/pokemon/arrokuda/\n",
            "https://www.smogon.com/dex/ss/pokemon/avalugg/\n",
            "https://www.smogon.com/dex/ss/pokemon/axew/\n",
            "https://www.smogon.com/dex/ss/pokemon/baltoy/\n",
            "https://www.smogon.com/dex/ss/pokemon/barbaracle/\n",
            "https://www.smogon.com/dex/ss/pokemon/barboach/\n",
            "https://www.smogon.com/dex/ss/pokemon/barraskewda/\n",
            "https://www.smogon.com/dex/ss/pokemon/basculin/\n",
            "https://www.smogon.com/dex/ss/pokemon/basculin-blue-striped/\n",
            "https://www.smogon.com/dex/ss/pokemon/beartic/\n",
            "https://www.smogon.com/dex/ss/pokemon/beheeyem/\n",
            "https://www.smogon.com/dex/ss/pokemon/bellossom/\n",
            "https://www.smogon.com/dex/ss/pokemon/bergmite/\n",
            "https://www.smogon.com/dex/ss/pokemon/bewear/\n",
            "https://www.smogon.com/dex/ss/pokemon/binacle/\n",
            "https://www.smogon.com/dex/ss/pokemon/bisharp/\n",
            "https://www.smogon.com/dex/ss/pokemon/blastoise/\n",
            "https://www.smogon.com/dex/ss/pokemon/blipbug/\n",
            "https://www.smogon.com/dex/ss/pokemon/boldore/\n",
            "https://www.smogon.com/dex/ss/pokemon/boltund/\n",
            "https://www.smogon.com/dex/ss/pokemon/bonsly/\n",
            "https://www.smogon.com/dex/ss/pokemon/bounsweet/\n",
            "https://www.smogon.com/dex/ss/pokemon/braviary/\n",
            "https://www.smogon.com/dex/ss/pokemon/brionne/\n",
            "https://www.smogon.com/dex/ss/pokemon/bronzong/\n",
            "https://www.smogon.com/dex/ss/pokemon/bronzor/\n",
            "https://www.smogon.com/dex/ss/pokemon/budew/\n",
            "https://www.smogon.com/dex/ss/pokemon/bulbasaur/\n",
            "https://www.smogon.com/dex/ss/pokemon/bunnelby/\n",
            "https://www.smogon.com/dex/ss/pokemon/butterfree/\n",
            "https://www.smogon.com/dex/ss/pokemon/butterfree-gmax/\n",
            "https://www.smogon.com/dex/ss/pokemon/carkol/\n",
            "https://www.smogon.com/dex/ss/pokemon/caterpie/\n",
            "https://www.smogon.com/dex/ss/pokemon/celebi/\n",
            "https://www.smogon.com/dex/ss/pokemon/centiskorch/\n",
            "https://www.smogon.com/dex/ss/pokemon/centiskorch-gmax/\n",
            "https://www.smogon.com/dex/ss/pokemon/chandelure/\n",
            "https://www.smogon.com/dex/ss/pokemon/charizard/\n",
            "https://www.smogon.com/dex/ss/pokemon/charizard-gmax/\n",
            "https://www.smogon.com/dex/ss/pokemon/charjabug/\n",
            "https://www.smogon.com/dex/ss/pokemon/charmander/\n",
            "https://www.smogon.com/dex/ss/pokemon/charmeleon/\n",
            "https://www.smogon.com/dex/ss/pokemon/cherrim/\n",
            "https://www.smogon.com/dex/ss/pokemon/cherrim-sunshine/\n",
            "https://www.smogon.com/dex/ss/pokemon/cherubi/\n",
            "https://www.smogon.com/dex/ss/pokemon/chewtle/\n",
            "https://www.smogon.com/dex/ss/pokemon/chinchou/\n",
            "https://www.smogon.com/dex/ss/pokemon/cinccino/\n",
            "https://www.smogon.com/dex/ss/pokemon/cinderace/\n",
            "https://www.smogon.com/dex/ss/pokemon/claydol/\n",
            "https://www.smogon.com/dex/ss/pokemon/clefable/\n",
            "https://www.smogon.com/dex/ss/pokemon/clefairy/\n",
            "https://www.smogon.com/dex/ss/pokemon/cleffa/\n",
            "https://www.smogon.com/dex/ss/pokemon/clobbopus/\n",
            "https://www.smogon.com/dex/ss/pokemon/cloyster/\n",
            "https://www.smogon.com/dex/ss/pokemon/coalossal/\n",
            "https://www.smogon.com/dex/ss/pokemon/coalossal-gmax/\n",
            "https://www.smogon.com/dex/ss/pokemon/cobalion/\n",
            "https://www.smogon.com/dex/ss/pokemon/combee/\n",
            "https://www.smogon.com/dex/ss/pokemon/conkeldurr/\n",
            "https://www.smogon.com/dex/ss/pokemon/copperajah/\n",
            "https://www.smogon.com/dex/ss/pokemon/corphish/\n",
            "https://www.smogon.com/dex/ss/pokemon/corsola/\n",
            "https://www.smogon.com/dex/ss/pokemon/corsola-galar/\n",
            "https://www.smogon.com/dex/ss/pokemon/corviknight/\n",
            "https://www.smogon.com/dex/ss/pokemon/corviknight-gmax/\n",
            "https://www.smogon.com/dex/ss/pokemon/corvisquire/\n",
            "https://www.smogon.com/dex/ss/pokemon/cosmoem/\n",
            "https://www.smogon.com/dex/ss/pokemon/cosmog/\n",
            "https://www.smogon.com/dex/ss/pokemon/cottonee/\n",
            "https://www.smogon.com/dex/ss/pokemon/cramorant/\n",
            "https://www.smogon.com/dex/ss/pokemon/cramorant-gorging/\n",
            "https://www.smogon.com/dex/ss/pokemon/cramorant-gulping/\n",
            "https://www.smogon.com/dex/ss/pokemon/crawdaunt/\n",
            "https://www.smogon.com/dex/ss/pokemon/cubchoo/\n",
            "https://www.smogon.com/dex/ss/pokemon/cufant/\n",
            "https://www.smogon.com/dex/ss/pokemon/cursola/\n",
            "https://www.smogon.com/dex/ss/pokemon/cutiefly/\n",
            "https://www.smogon.com/dex/ss/pokemon/darmanitan/\n",
            "https://www.smogon.com/dex/ss/pokemon/darmanitan-galar/\n",
            "https://www.smogon.com/dex/ss/pokemon/darmanitan-galar-zen/\n",
            "https://www.smogon.com/dex/ss/pokemon/darmanitan-zen/\n",
            "https://www.smogon.com/dex/ss/pokemon/dartrix/\n",
            "https://www.smogon.com/dex/ss/pokemon/darumaka/\n",
            "https://www.smogon.com/dex/ss/pokemon/darumaka-galar/\n",
            "https://www.smogon.com/dex/ss/pokemon/decidueye/\n",
            "https://www.smogon.com/dex/ss/pokemon/deino/\n",
            "https://www.smogon.com/dex/ss/pokemon/delibird/\n",
            "https://www.smogon.com/dex/ss/pokemon/dewpider/\n",
            "https://www.smogon.com/dex/ss/pokemon/dhelmise/\n",
            "https://www.smogon.com/dex/ss/pokemon/diggersby/\n",
            "https://www.smogon.com/dex/ss/pokemon/diglett/\n",
            "https://www.smogon.com/dex/ss/pokemon/diglett-alola/\n",
            "https://www.smogon.com/dex/ss/pokemon/ditto/\n",
            "https://www.smogon.com/dex/ss/pokemon/dottler/\n",
            "https://www.smogon.com/dex/ss/pokemon/doublade/\n",
            "https://www.smogon.com/dex/ss/pokemon/dracovish/\n",
            "https://www.smogon.com/dex/ss/pokemon/dracozolt/\n",
            "https://www.smogon.com/dex/ss/pokemon/dragapult/\n",
            "https://www.smogon.com/dex/ss/pokemon/drakloak/\n",
            "https://www.smogon.com/dex/ss/pokemon/drampa/\n",
            "https://www.smogon.com/dex/ss/pokemon/drapion/\n",
            "https://www.smogon.com/dex/ss/pokemon/drednaw/\n",
            "https://www.smogon.com/dex/ss/pokemon/drednaw-gmax/\n",
            "https://www.smogon.com/dex/ss/pokemon/drilbur/\n",
            "https://www.smogon.com/dex/ss/pokemon/drizzile/\n",
            "https://www.smogon.com/dex/ss/pokemon/dubwool/\n",
            "https://www.smogon.com/dex/ss/pokemon/dugtrio/\n",
            "https://www.smogon.com/dex/ss/pokemon/dugtrio-alola/\n",
            "https://www.smogon.com/dex/ss/pokemon/duosion/\n",
            "https://www.smogon.com/dex/ss/pokemon/duraludon/\n",
            "https://www.smogon.com/dex/ss/pokemon/duraludon-gmax/\n",
            "https://www.smogon.com/dex/ss/pokemon/durant/\n",
            "https://www.smogon.com/dex/ss/pokemon/dusclops/\n",
            "https://www.smogon.com/dex/ss/pokemon/dusknoir/\n",
            "https://www.smogon.com/dex/ss/pokemon/duskull/\n",
            "https://www.smogon.com/dex/ss/pokemon/dwebble/\n",
            "https://www.smogon.com/dex/ss/pokemon/eevee/\n",
            "https://www.smogon.com/dex/ss/pokemon/eevee-gmax/\n",
            "https://www.smogon.com/dex/ss/pokemon/eiscue/\n",
            "https://www.smogon.com/dex/ss/pokemon/eiscue-noice/\n",
            "https://www.smogon.com/dex/ss/pokemon/eldegoss/\n",
            "https://www.smogon.com/dex/ss/pokemon/electrike/\n",
            "https://www.smogon.com/dex/ss/pokemon/elgyem/\n",
            "https://www.smogon.com/dex/ss/pokemon/escavalier/\n",
            "https://www.smogon.com/dex/ss/pokemon/espeon/\n",
            "https://www.smogon.com/dex/ss/pokemon/espurr/\n",
            "https://www.smogon.com/dex/ss/pokemon/eternatus/\n",
            "https://www.smogon.com/dex/ss/pokemon/excadrill/\n",
            "https://www.smogon.com/dex/ss/pokemon/falinks/\n",
            "https://www.smogon.com/dex/ss/pokemon/farfetchd/\n",
            "https://www.smogon.com/dex/ss/pokemon/farfetchd-galar/\n",
            "https://www.smogon.com/dex/ss/pokemon/feebas/\n",
            "https://www.smogon.com/dex/ss/pokemon/ferroseed/\n",
            "https://www.smogon.com/dex/ss/pokemon/ferrothorn/\n",
            "https://www.smogon.com/dex/ss/pokemon/flapple/\n",
            "https://www.smogon.com/dex/ss/pokemon/flapple-gmax/\n",
            "https://www.smogon.com/dex/ss/pokemon/flareon/\n",
            "https://www.smogon.com/dex/ss/pokemon/flygon/\n",
            "https://www.smogon.com/dex/ss/pokemon/fraxure/\n",
            "https://www.smogon.com/dex/ss/pokemon/frillish/\n",
            "https://www.smogon.com/dex/ss/pokemon/froslass/\n",
            "https://www.smogon.com/dex/ss/pokemon/frosmoth/\n",
            "https://www.smogon.com/dex/ss/pokemon/gallade/\n",
            "https://www.smogon.com/dex/ss/pokemon/galvantula/\n",
            "https://www.smogon.com/dex/ss/pokemon/garbodor/\n",
            "https://www.smogon.com/dex/ss/pokemon/garbodor-gmax/\n",
            "https://www.smogon.com/dex/ss/pokemon/gastrodon/\n",
            "https://www.smogon.com/dex/ss/pokemon/gengar/\n",
            "https://www.smogon.com/dex/ss/pokemon/gengar-gmax/\n",
            "https://www.smogon.com/dex/ss/pokemon/gigalith/\n",
            "https://www.smogon.com/dex/ss/pokemon/glaceon/\n",
            "https://www.smogon.com/dex/ss/pokemon/glalie/\n",
            "https://www.smogon.com/dex/ss/pokemon/gloom/\n",
            "https://www.smogon.com/dex/ss/pokemon/goldeen/\n",
            "https://www.smogon.com/dex/ss/pokemon/golett/\n",
            "https://www.smogon.com/dex/ss/pokemon/golisopod/\n",
            "https://www.smogon.com/dex/ss/pokemon/golurk/\n",
            "https://www.smogon.com/dex/ss/pokemon/goodra/\n",
            "https://www.smogon.com/dex/ss/pokemon/goomy/\n",
            "https://www.smogon.com/dex/ss/pokemon/gossifleur/\n",
            "https://www.smogon.com/dex/ss/pokemon/gothita/\n",
            "https://www.smogon.com/dex/ss/pokemon/gothitelle/\n",
            "https://www.smogon.com/dex/ss/pokemon/gothorita/\n",
            "https://www.smogon.com/dex/ss/pokemon/gourgeist/\n",
            "https://www.smogon.com/dex/ss/pokemon/gourgeist-large/\n",
            "https://www.smogon.com/dex/ss/pokemon/gourgeist-small/\n",
            "https://www.smogon.com/dex/ss/pokemon/gourgeist-super/\n",
            "https://www.smogon.com/dex/ss/pokemon/grapploct/\n",
            "https://www.smogon.com/dex/ss/pokemon/greedent/\n",
            "https://www.smogon.com/dex/ss/pokemon/grimmsnarl/\n",
            "https://www.smogon.com/dex/ss/pokemon/grimmsnarl-gmax/\n",
            "https://www.smogon.com/dex/ss/pokemon/grookey/\n",
            "https://www.smogon.com/dex/ss/pokemon/growlithe/\n",
            "https://www.smogon.com/dex/ss/pokemon/grubbin/\n",
            "https://www.smogon.com/dex/ss/pokemon/gurdurr/\n",
            "https://www.smogon.com/dex/ss/pokemon/gyarados/\n",
            "https://www.smogon.com/dex/ss/pokemon/hakamo-o/\n",
            "https://www.smogon.com/dex/ss/pokemon/hatterene/\n",
            "https://www.smogon.com/dex/ss/pokemon/hatterene-gmax/\n",
            "https://www.smogon.com/dex/ss/pokemon/haunter/\n",
            "https://www.smogon.com/dex/ss/pokemon/hawlucha/\n",
            "https://www.smogon.com/dex/ss/pokemon/haxorus/\n",
            "https://www.smogon.com/dex/ss/pokemon/heatmor/\n",
            "https://www.smogon.com/dex/ss/pokemon/heliolisk/\n",
            "https://www.smogon.com/dex/ss/pokemon/helioptile/\n",
            "https://www.smogon.com/dex/ss/pokemon/hippopotas/\n",
            "https://www.smogon.com/dex/ss/pokemon/hippowdon/\n",
            "https://www.smogon.com/dex/ss/pokemon/hitmonchan/\n",
            "https://www.smogon.com/dex/ss/pokemon/hitmonlee/\n",
            "https://www.smogon.com/dex/ss/pokemon/hitmontop/\n",
            "https://www.smogon.com/dex/ss/pokemon/honedge/\n",
            "https://www.smogon.com/dex/ss/pokemon/hoothoot/\n",
            "https://www.smogon.com/dex/ss/pokemon/hydreigon/\n",
            "https://www.smogon.com/dex/ss/pokemon/impidimp/\n",
            "https://www.smogon.com/dex/ss/pokemon/indeedee-f/\n",
            "https://www.smogon.com/dex/ss/pokemon/inkay/\n",
            "https://www.smogon.com/dex/ss/pokemon/inteleon/\n",
            "https://www.smogon.com/dex/ss/pokemon/ivysaur/\n",
            "https://www.smogon.com/dex/ss/pokemon/jangmo-o/\n",
            "https://www.smogon.com/dex/ss/pokemon/jellicent/\n",
            "https://www.smogon.com/dex/ss/pokemon/jirachi/\n",
            "https://www.smogon.com/dex/ss/pokemon/jolteon/\n",
            "https://www.smogon.com/dex/ss/pokemon/joltik/\n",
            "https://www.smogon.com/dex/ss/pokemon/karrablast/\n",
            "https://www.smogon.com/dex/ss/pokemon/keldeo/\n",
            "https://www.smogon.com/dex/ss/pokemon/keldeo-resolute/\n",
            "https://www.smogon.com/dex/ss/pokemon/kingler/\n",
            "https://www.smogon.com/dex/ss/pokemon/kingler-gmax/\n",
            "https://www.smogon.com/dex/ss/pokemon/kirlia/\n",
            "https://www.smogon.com/dex/ss/pokemon/klang/\n",
            "https://www.smogon.com/dex/ss/pokemon/klink/\n",
            "https://www.smogon.com/dex/ss/pokemon/klinklang/\n",
            "https://www.smogon.com/dex/ss/pokemon/koffing/\n",
            "https://www.smogon.com/dex/ss/pokemon/kommo-o/\n",
            "https://www.smogon.com/dex/ss/pokemon/krabby/\n",
            "https://www.smogon.com/dex/ss/pokemon/kyurem/\n",
            "https://www.smogon.com/dex/ss/pokemon/kyurem-black/\n",
            "https://www.smogon.com/dex/ss/pokemon/kyurem-white/\n",
            "https://www.smogon.com/dex/ss/pokemon/lampent/\n",
            "https://www.smogon.com/dex/ss/pokemon/lanturn/\n",
            "https://www.smogon.com/dex/ss/pokemon/lapras/\n",
            "https://www.smogon.com/dex/ss/pokemon/lapras-gmax/\n",
            "https://www.smogon.com/dex/ss/pokemon/leafeon/\n",
            "https://www.smogon.com/dex/ss/pokemon/liepard/\n",
            "https://www.smogon.com/dex/ss/pokemon/linoone/\n",
            "https://www.smogon.com/dex/ss/pokemon/linoone-galar/\n",
            "https://www.smogon.com/dex/ss/pokemon/litten/\n",
            "https://www.smogon.com/dex/ss/pokemon/litwick/\n",
            "https://www.smogon.com/dex/ss/pokemon/lombre/\n",
            "https://www.smogon.com/dex/ss/pokemon/lotad/\n",
            "https://www.smogon.com/dex/ss/pokemon/ludicolo/\n",
            "https://www.smogon.com/dex/ss/pokemon/lunala/\n",
            "https://www.smogon.com/dex/ss/pokemon/lunatone/\n",
            "https://www.smogon.com/dex/ss/pokemon/machamp/\n",
            "https://www.smogon.com/dex/ss/pokemon/machamp-gmax/\n",
            "https://www.smogon.com/dex/ss/pokemon/machoke/\n",
            "https://www.smogon.com/dex/ss/pokemon/machop/\n",
            "https://www.smogon.com/dex/ss/pokemon/magikarp/\n",
            "https://www.smogon.com/dex/ss/pokemon/malamar/\n",
            "https://www.smogon.com/dex/ss/pokemon/mamoswine/\n",
            "https://www.smogon.com/dex/ss/pokemon/mandibuzz/\n",
            "https://www.smogon.com/dex/ss/pokemon/manectric/\n",
            "https://www.smogon.com/dex/ss/pokemon/mantine/\n",
            "https://www.smogon.com/dex/ss/pokemon/mantyke/\n",
            "https://www.smogon.com/dex/ss/pokemon/maractus/\n",
            "https://www.smogon.com/dex/ss/pokemon/mareanie/\n",
            "https://www.smogon.com/dex/ss/pokemon/marshadow/\n",
            "https://www.smogon.com/dex/ss/pokemon/mawile/\n",
            "https://www.smogon.com/dex/ss/pokemon/melmetal/\n",
            "https://www.smogon.com/dex/ss/pokemon/meowstic-f/\n",
            "https://www.smogon.com/dex/ss/pokemon/meowstic-m/\n",
            "https://www.smogon.com/dex/ss/pokemon/meowth/\n",
            "https://www.smogon.com/dex/ss/pokemon/meowth-alola/\n",
            "https://www.smogon.com/dex/ss/pokemon/meowth-galar/\n",
            "https://www.smogon.com/dex/ss/pokemon/meowth-gmax/\n",
            "https://www.smogon.com/dex/ss/pokemon/metapod/\n",
            "https://www.smogon.com/dex/ss/pokemon/mew/\n",
            "https://www.smogon.com/dex/ss/pokemon/mewtwo/\n",
            "https://www.smogon.com/dex/ss/pokemon/milcery/\n",
            "https://www.smogon.com/dex/ss/pokemon/milotic/\n",
            "https://www.smogon.com/dex/ss/pokemon/mime-jr/\n",
            "https://www.smogon.com/dex/ss/pokemon/mimikyu/\n",
            "https://www.smogon.com/dex/ss/pokemon/mimikyu-busted/\n",
            "https://www.smogon.com/dex/ss/pokemon/minccino/\n",
            "https://www.smogon.com/dex/ss/pokemon/morelull/\n",
            "https://www.smogon.com/dex/ss/pokemon/morgrem/\n",
            "https://www.smogon.com/dex/ss/pokemon/morpeko/\n",
            "https://www.smogon.com/dex/ss/pokemon/morpeko-hangry/\n",
            "https://www.smogon.com/dex/ss/pokemon/mr-rime/\n",
            "https://www.smogon.com/dex/ss/pokemon/mudbray/\n",
            "https://www.smogon.com/dex/ss/pokemon/mudsdale/\n",
            "https://www.smogon.com/dex/ss/pokemon/munchlax/\n",
            "https://www.smogon.com/dex/ss/pokemon/munna/\n",
            "https://www.smogon.com/dex/ss/pokemon/musharna/\n",
            "https://www.smogon.com/dex/ss/pokemon/natu/\n",
            "https://www.smogon.com/dex/ss/pokemon/necrozma/\n",
            "https://www.smogon.com/dex/ss/pokemon/necrozma-dawn-wings/\n",
            "https://www.smogon.com/dex/ss/pokemon/necrozma-dusk-mane/\n",
            "https://www.smogon.com/dex/ss/pokemon/nickit/\n",
            "https://www.smogon.com/dex/ss/pokemon/nincada/\n",
            "https://www.smogon.com/dex/ss/pokemon/ninetales/\n",
            "https://www.smogon.com/dex/ss/pokemon/ninetales-alola/\n",
            "https://www.smogon.com/dex/ss/pokemon/ninjask/\n",
            "https://www.smogon.com/dex/ss/pokemon/noctowl/\n",
            "https://www.smogon.com/dex/ss/pokemon/noibat/\n",
            "https://www.smogon.com/dex/ss/pokemon/noivern/\n",
            "https://www.smogon.com/dex/ss/pokemon/nuzleaf/\n",
            "https://www.smogon.com/dex/ss/pokemon/obstagoon/\n",
            "https://www.smogon.com/dex/ss/pokemon/octillery/\n",
            "https://www.smogon.com/dex/ss/pokemon/oddish/\n",
            "https://www.smogon.com/dex/ss/pokemon/onix/\n",
            "https://www.smogon.com/dex/ss/pokemon/oranguru/\n",
            "https://www.smogon.com/dex/ss/pokemon/orbeetle/\n",
            "https://www.smogon.com/dex/ss/pokemon/orbeetle-gmax/\n",
            "https://www.smogon.com/dex/ss/pokemon/palpitoad/\n",
            "https://www.smogon.com/dex/ss/pokemon/passimian/\n",
            "https://www.smogon.com/dex/ss/pokemon/pawniard/\n",
            "https://www.smogon.com/dex/ss/pokemon/pelipper/\n",
            "https://www.smogon.com/dex/ss/pokemon/perrserker/\n",
            "https://www.smogon.com/dex/ss/pokemon/persian/\n",
            "https://www.smogon.com/dex/ss/pokemon/persian-alola/\n",
            "https://www.smogon.com/dex/ss/pokemon/phantump/\n",
            "https://www.smogon.com/dex/ss/pokemon/pichu/\n",
            "https://www.smogon.com/dex/ss/pokemon/pidove/\n",
            "https://www.smogon.com/dex/ss/pokemon/pikachu/\n",
            "https://www.smogon.com/dex/ss/pokemon/pikachu-alola/\n",
            "https://www.smogon.com/dex/ss/pokemon/pikachu-gmax/\n",
            "https://www.smogon.com/dex/ss/pokemon/pikachu-hoenn/\n",
            "https://www.smogon.com/dex/ss/pokemon/pikachu-kalos/\n",
            "https://www.smogon.com/dex/ss/pokemon/pikachu-original/\n",
            "https://www.smogon.com/dex/ss/pokemon/pikachu-partner/\n",
            "https://www.smogon.com/dex/ss/pokemon/pikachu-sinnoh/\n",
            "https://www.smogon.com/dex/ss/pokemon/pikachu-unova/\n",
            "https://www.smogon.com/dex/ss/pokemon/piloswine/\n",
            "https://www.smogon.com/dex/ss/pokemon/pincurchin/\n",
            "https://www.smogon.com/dex/ss/pokemon/polteageist/\n",
            "https://www.smogon.com/dex/ss/pokemon/polteageist-antique/\n",
            "https://www.smogon.com/dex/ss/pokemon/ponyta/\n",
            "https://www.smogon.com/dex/ss/pokemon/ponyta-galar/\n",
            "https://www.smogon.com/dex/ss/pokemon/popplio/\n",
            "https://www.smogon.com/dex/ss/pokemon/primarina/\n",
            "https://www.smogon.com/dex/ss/pokemon/pumpkaboo/\n",
            "https://www.smogon.com/dex/ss/pokemon/pumpkaboo-large/\n",
            "https://www.smogon.com/dex/ss/pokemon/pumpkaboo-small/\n",
            "https://www.smogon.com/dex/ss/pokemon/pumpkaboo-super/\n",
            "https://www.smogon.com/dex/ss/pokemon/pupitar/\n",
            "https://www.smogon.com/dex/ss/pokemon/purrloin/\n",
            "https://www.smogon.com/dex/ss/pokemon/pyukumuku/\n",
            "https://www.smogon.com/dex/ss/pokemon/quagsire/\n",
            "https://www.smogon.com/dex/ss/pokemon/qwilfish/\n",
            "https://www.smogon.com/dex/ss/pokemon/raboot/\n",
            "https://www.smogon.com/dex/ss/pokemon/raichu/\n",
            "https://www.smogon.com/dex/ss/pokemon/raichu-alola/\n",
            "https://www.smogon.com/dex/ss/pokemon/ralts/\n",
            "https://www.smogon.com/dex/ss/pokemon/rapidash/\n",
            "https://www.smogon.com/dex/ss/pokemon/rapidash-galar/\n",
            "https://www.smogon.com/dex/ss/pokemon/remoraid/\n",
            "https://www.smogon.com/dex/ss/pokemon/reshiram/\n",
            "https://www.smogon.com/dex/ss/pokemon/reuniclus/\n",
            "https://www.smogon.com/dex/ss/pokemon/rhydon/\n",
            "https://www.smogon.com/dex/ss/pokemon/rhyhorn/\n",
            "https://www.smogon.com/dex/ss/pokemon/rhyperior/\n",
            "https://www.smogon.com/dex/ss/pokemon/riolu/\n",
            "https://www.smogon.com/dex/ss/pokemon/roggenrola/\n",
            "https://www.smogon.com/dex/ss/pokemon/rolycoly/\n",
            "https://www.smogon.com/dex/ss/pokemon/rookidee/\n",
            "https://www.smogon.com/dex/ss/pokemon/roselia/\n",
            "https://www.smogon.com/dex/ss/pokemon/roserade/\n",
            "https://www.smogon.com/dex/ss/pokemon/rotom/\n",
            "https://www.smogon.com/dex/ss/pokemon/rotom-fan/\n",
            "https://www.smogon.com/dex/ss/pokemon/rotom-frost/\n",
            "https://www.smogon.com/dex/ss/pokemon/rotom-heat/\n",
            "https://www.smogon.com/dex/ss/pokemon/rotom-mow/\n",
            "https://www.smogon.com/dex/ss/pokemon/rotom-wash/\n",
            "https://www.smogon.com/dex/ss/pokemon/rowlet/\n",
            "https://www.smogon.com/dex/ss/pokemon/rufflet/\n",
            "https://www.smogon.com/dex/ss/pokemon/runerigus/\n",
            "https://www.smogon.com/dex/ss/pokemon/sableye/\n",
            "https://www.smogon.com/dex/ss/pokemon/salandit/\n",
            "https://www.smogon.com/dex/ss/pokemon/sandaconda-gmax/\n",
            "https://www.smogon.com/dex/ss/pokemon/sawk/\n",
            "https://www.smogon.com/dex/ss/pokemon/scorbunny/\n",
            "https://www.smogon.com/dex/ss/pokemon/scrafty/\n",
            "https://www.smogon.com/dex/ss/pokemon/scraggy/\n",
            "https://www.smogon.com/dex/ss/pokemon/seaking/\n",
            "https://www.smogon.com/dex/ss/pokemon/seedot/\n",
            "https://www.smogon.com/dex/ss/pokemon/seismitoad/\n",
            "https://www.smogon.com/dex/ss/pokemon/shedinja/\n",
            "https://www.smogon.com/dex/ss/pokemon/shellder/\n",
            "https://www.smogon.com/dex/ss/pokemon/shellos/\n",
            "https://www.smogon.com/dex/ss/pokemon/shelmet/\n",
            "https://www.smogon.com/dex/ss/pokemon/shiftry/\n",
            "https://www.smogon.com/dex/ss/pokemon/shiinotic/\n",
            "https://www.smogon.com/dex/ss/pokemon/shuckle/\n",
            "https://www.smogon.com/dex/ss/pokemon/sigilyph/\n",
            "https://www.smogon.com/dex/ss/pokemon/silicobra/\n",
            "https://www.smogon.com/dex/ss/pokemon/silvally/\n",
            "https://www.smogon.com/dex/ss/pokemon/silvally-bug/\n",
            "https://www.smogon.com/dex/ss/pokemon/silvally-dark/\n",
            "https://www.smogon.com/dex/ss/pokemon/silvally-dragon/\n",
            "https://www.smogon.com/dex/ss/pokemon/silvally-electric/\n",
            "https://www.smogon.com/dex/ss/pokemon/silvally-fairy/\n",
            "https://www.smogon.com/dex/ss/pokemon/silvally-fighting/\n",
            "https://www.smogon.com/dex/ss/pokemon/silvally-fire/\n",
            "https://www.smogon.com/dex/ss/pokemon/silvally-flying/\n",
            "https://www.smogon.com/dex/ss/pokemon/silvally-ghost/\n",
            "https://www.smogon.com/dex/ss/pokemon/silvally-grass/\n",
            "https://www.smogon.com/dex/ss/pokemon/silvally-ground/\n",
            "https://www.smogon.com/dex/ss/pokemon/silvally-psychic/\n",
            "https://www.smogon.com/dex/ss/pokemon/silvally-rock/\n",
            "https://www.smogon.com/dex/ss/pokemon/silvally-steel/\n",
            "https://www.smogon.com/dex/ss/pokemon/silvally-water/\n",
            "https://www.smogon.com/dex/ss/pokemon/sinistea/\n",
            "https://www.smogon.com/dex/ss/pokemon/sinistea-antique/\n",
            "https://www.smogon.com/dex/ss/pokemon/sirfetchd/\n",
            "https://www.smogon.com/dex/ss/pokemon/sizzlipede/\n",
            "https://www.smogon.com/dex/ss/pokemon/skorupi/\n",
            "https://www.smogon.com/dex/ss/pokemon/skuntank/\n",
            "https://www.smogon.com/dex/ss/pokemon/skwovet/\n",
            "https://www.smogon.com/dex/ss/pokemon/sliggoo/\n",
            "https://www.smogon.com/dex/ss/pokemon/slowpoke/\n",
            "https://www.smogon.com/dex/ss/pokemon/slowpoke-galar/\n",
            "https://www.smogon.com/dex/ss/pokemon/slurpuff/\n",
            "https://www.smogon.com/dex/ss/pokemon/snom/\n",
            "https://www.smogon.com/dex/ss/pokemon/snorlax/\n",
            "https://www.smogon.com/dex/ss/pokemon/snorlax-gmax/\n",
            "https://www.smogon.com/dex/ss/pokemon/snorunt/\n",
            "https://www.smogon.com/dex/ss/pokemon/snover/\n",
            "https://www.smogon.com/dex/ss/pokemon/sobble/\n",
            "https://www.smogon.com/dex/ss/pokemon/solgaleo/\n",
            "https://www.smogon.com/dex/ss/pokemon/solosis/\n",
            "https://www.smogon.com/dex/ss/pokemon/solrock/\n",
            "https://www.smogon.com/dex/ss/pokemon/spritzee/\n",
            "https://www.smogon.com/dex/ss/pokemon/squirtle/\n",
            "https://www.smogon.com/dex/ss/pokemon/steelix/\n",
            "https://www.smogon.com/dex/ss/pokemon/steenee/\n",
            "https://www.smogon.com/dex/ss/pokemon/stonjourner/\n",
            "https://www.smogon.com/dex/ss/pokemon/stufful/\n",
            "https://www.smogon.com/dex/ss/pokemon/stunfisk/\n",
            "https://www.smogon.com/dex/ss/pokemon/stunfisk-galar/\n",
            "https://www.smogon.com/dex/ss/pokemon/stunky/\n",
            "https://www.smogon.com/dex/ss/pokemon/sudowoodo/\n",
            "https://www.smogon.com/dex/ss/pokemon/swinub/\n",
            "https://www.smogon.com/dex/ss/pokemon/swirlix/\n",
            "https://www.smogon.com/dex/ss/pokemon/swoobat/\n",
            "https://www.smogon.com/dex/ss/pokemon/sylveon/\n",
            "https://www.smogon.com/dex/ss/pokemon/terrakion/\n",
            "https://www.smogon.com/dex/ss/pokemon/thievul/\n",
            "https://www.smogon.com/dex/ss/pokemon/throh/\n",
            "https://www.smogon.com/dex/ss/pokemon/thwackey/\n",
            "https://www.smogon.com/dex/ss/pokemon/timburr/\n",
            "https://www.smogon.com/dex/ss/pokemon/togedemaru/\n",
            "https://www.smogon.com/dex/ss/pokemon/togekiss/\n",
            "https://www.smogon.com/dex/ss/pokemon/togepi/\n",
            "https://www.smogon.com/dex/ss/pokemon/togetic/\n",
            "https://www.smogon.com/dex/ss/pokemon/toxel/\n",
            "https://www.smogon.com/dex/ss/pokemon/toxicroak/\n",
            "https://www.smogon.com/dex/ss/pokemon/toxtricity/\n",
            "https://www.smogon.com/dex/ss/pokemon/toxtricity-gmax/\n",
            "https://www.smogon.com/dex/ss/pokemon/toxtricity-low-key/\n",
            "https://www.smogon.com/dex/ss/pokemon/toxtricity-low-key-gmax/\n",
            "https://www.smogon.com/dex/ss/pokemon/tranquill/\n",
            "https://www.smogon.com/dex/ss/pokemon/trapinch/\n",
            "https://www.smogon.com/dex/ss/pokemon/trevenant/\n",
            "https://www.smogon.com/dex/ss/pokemon/trubbish/\n",
            "https://www.smogon.com/dex/ss/pokemon/tsareena/\n",
            "https://www.smogon.com/dex/ss/pokemon/turtonator/\n",
            "https://www.smogon.com/dex/ss/pokemon/tympole/\n",
            "https://www.smogon.com/dex/ss/pokemon/type-null/\n",
            "https://www.smogon.com/dex/ss/pokemon/tyranitar/\n",
            "https://www.smogon.com/dex/ss/pokemon/tyrogue/\n",
            "https://www.smogon.com/dex/ss/pokemon/umbreon/\n",
            "https://www.smogon.com/dex/ss/pokemon/unfezant/\n",
            "https://www.smogon.com/dex/ss/pokemon/vanillish/\n",
            "https://www.smogon.com/dex/ss/pokemon/vanillite/\n",
            "https://www.smogon.com/dex/ss/pokemon/vanilluxe/\n",
            "https://www.smogon.com/dex/ss/pokemon/vaporeon/\n",
            "https://www.smogon.com/dex/ss/pokemon/venusaur/\n",
            "https://www.smogon.com/dex/ss/pokemon/vespiquen/\n",
            "https://www.smogon.com/dex/ss/pokemon/vibrava/\n",
            "https://www.smogon.com/dex/ss/pokemon/vikavolt/\n",
            "https://www.smogon.com/dex/ss/pokemon/vileplume/\n",
            "https://www.smogon.com/dex/ss/pokemon/virizion/\n",
            "https://www.smogon.com/dex/ss/pokemon/vullaby/\n",
            "https://www.smogon.com/dex/ss/pokemon/vulpix/\n",
            "https://www.smogon.com/dex/ss/pokemon/vulpix-alola/\n",
            "https://www.smogon.com/dex/ss/pokemon/wailord/\n",
            "https://www.smogon.com/dex/ss/pokemon/wartortle/\n",
            "https://www.smogon.com/dex/ss/pokemon/weavile/\n",
            "https://www.smogon.com/dex/ss/pokemon/whimsicott/\n",
            "https://www.smogon.com/dex/ss/pokemon/whiscash/\n",
            "https://www.smogon.com/dex/ss/pokemon/wimpod/\n",
            "https://www.smogon.com/dex/ss/pokemon/wingull/\n",
            "https://www.smogon.com/dex/ss/pokemon/wishiwashi/\n",
            "https://www.smogon.com/dex/ss/pokemon/wishiwashi-school/\n",
            "https://www.smogon.com/dex/ss/pokemon/wobbuffet/\n",
            "https://www.smogon.com/dex/ss/pokemon/woobat/\n",
            "https://www.smogon.com/dex/ss/pokemon/wooloo/\n",
            "https://www.smogon.com/dex/ss/pokemon/wooper/\n",
            "https://www.smogon.com/dex/ss/pokemon/wynaut/\n",
            "https://www.smogon.com/dex/ss/pokemon/xatu/\n",
            "https://www.smogon.com/dex/ss/pokemon/yamask/\n",
            "https://www.smogon.com/dex/ss/pokemon/yamask-galar/\n",
            "https://www.smogon.com/dex/ss/pokemon/yamper/\n",
            "https://www.smogon.com/dex/ss/pokemon/zacian/\n",
            "https://www.smogon.com/dex/ss/pokemon/zacian-crowned/\n",
            "https://www.smogon.com/dex/ss/pokemon/zamazenta/\n",
            "https://www.smogon.com/dex/ss/pokemon/zamazenta-crowned/\n",
            "https://www.smogon.com/dex/ss/pokemon/zekrom/\n",
            "https://www.smogon.com/dex/ss/pokemon/zeraora/\n",
            "https://www.smogon.com/dex/ss/pokemon/zigzagoon/\n",
            "https://www.smogon.com/dex/ss/pokemon/zigzagoon-galar/\n",
            "https://www.smogon.com/dex/ss/pokemon/zweilous/\n",
            "https://www.smogon.com/dex/ss/pokemon/abomasnow-mega/\n",
            "https://www.smogon.com/dex/ss/pokemon/abra/\n",
            "https://www.smogon.com/dex/ss/pokemon/absol/\n",
            "https://www.smogon.com/dex/ss/pokemon/aerodactyl/\n",
            "https://www.smogon.com/dex/ss/pokemon/aerodactyl-mega/\n",
            "https://www.smogon.com/dex/ss/pokemon/aggron/\n",
            "https://www.smogon.com/dex/ss/pokemon/aggron-mega/\n",
            "https://www.smogon.com/dex/ss/pokemon/aipom/\n",
            "https://www.smogon.com/dex/ss/pokemon/alakazam-mega/\n",
            "https://www.smogon.com/dex/ss/pokemon/alomomola/\n",
            "https://www.smogon.com/dex/ss/pokemon/altaria/\n",
            "https://www.smogon.com/dex/ss/pokemon/altaria-mega/\n",
            "https://www.smogon.com/dex/ss/pokemon/amaura/\n",
            "https://www.smogon.com/dex/ss/pokemon/ambipom/\n",
            "https://www.smogon.com/dex/ss/pokemon/amoonguss/\n",
            "https://www.smogon.com/dex/ss/pokemon/ampharos/\n",
            "https://www.smogon.com/dex/ss/pokemon/ampharos-mega/\n",
            "https://www.smogon.com/dex/ss/pokemon/anorith/\n",
            "https://www.smogon.com/dex/ss/pokemon/araquanid-totem/\n",
            "https://www.smogon.com/dex/ss/pokemon/arbok/\n",
            "https://www.smogon.com/dex/ss/pokemon/arceus/\n",
            "https://www.smogon.com/dex/ss/pokemon/arceus-dark/\n",
            "https://www.smogon.com/dex/ss/pokemon/arceus-dragon/\n",
            "https://www.smogon.com/dex/ss/pokemon/arceus-electric/\n",
            "https://www.smogon.com/dex/ss/pokemon/arceus-fairy/\n",
            "https://www.smogon.com/dex/ss/pokemon/arceus-fighting/\n",
            "https://www.smogon.com/dex/ss/pokemon/arceus-fire/\n",
            "https://www.smogon.com/dex/ss/pokemon/arceus-flying/\n",
            "https://www.smogon.com/dex/ss/pokemon/arceus-ghost/\n",
            "https://www.smogon.com/dex/ss/pokemon/arceus-grass/\n",
            "https://www.smogon.com/dex/ss/pokemon/arceus-ground/\n",
            "https://www.smogon.com/dex/ss/pokemon/arceus-ice/\n",
            "https://www.smogon.com/dex/ss/pokemon/arceus-poison/\n",
            "https://www.smogon.com/dex/ss/pokemon/arceus-psychic/\n",
            "https://www.smogon.com/dex/ss/pokemon/arceus-rock/\n",
            "https://www.smogon.com/dex/ss/pokemon/archen/\n",
            "https://www.smogon.com/dex/ss/pokemon/archeops/\n",
            "https://www.smogon.com/dex/ss/pokemon/argalis/\n",
            "https://www.smogon.com/dex/ss/pokemon/arghonaut/\n",
            "https://www.smogon.com/dex/ss/pokemon/ariados/\n",
            "https://www.smogon.com/dex/ss/pokemon/armaldo/\n",
            "https://www.smogon.com/dex/ss/pokemon/aron/\n",
            "https://www.smogon.com/dex/ss/pokemon/articuno/\n",
            "https://www.smogon.com/dex/ss/pokemon/audino/\n",
            "https://www.smogon.com/dex/ss/pokemon/audino-mega/\n",
            "https://www.smogon.com/dex/ss/pokemon/aurorus/\n",
            "https://www.smogon.com/dex/ss/pokemon/aurumoth/\n",
            "https://www.smogon.com/dex/ss/pokemon/azelf/\n",
            "https://www.smogon.com/dex/ss/pokemon/azumarill/\n",
            "https://www.smogon.com/dex/ss/pokemon/azurill/\n",
            "https://www.smogon.com/dex/ss/pokemon/bagon/\n",
            "https://www.smogon.com/dex/ss/pokemon/banette/\n",
            "https://www.smogon.com/dex/ss/pokemon/banette-mega/\n",
            "https://www.smogon.com/dex/ss/pokemon/bastiodon/\n",
            "https://www.smogon.com/dex/ss/pokemon/bayleef/\n",
            "https://www.smogon.com/dex/ss/pokemon/beautifly/\n",
            "https://www.smogon.com/dex/ss/pokemon/beedrill/\n",
            "https://www.smogon.com/dex/ss/pokemon/beedrill-mega/\n",
            "https://www.smogon.com/dex/ss/pokemon/beldum/\n",
            "https://www.smogon.com/dex/ss/pokemon/bellsprout/\n",
            "https://www.smogon.com/dex/ss/pokemon/bibarel/\n",
            "https://www.smogon.com/dex/ss/pokemon/bidoof/\n",
            "https://www.smogon.com/dex/ss/pokemon/blacephalon/\n",
            "https://www.smogon.com/dex/ss/pokemon/blastoise-mega/\n",
            "https://www.smogon.com/dex/ss/pokemon/blaziken/\n",
            "https://www.smogon.com/dex/ss/pokemon/blaziken-mega/\n",
            "https://www.smogon.com/dex/ss/pokemon/blitzle/\n",
            "https://www.smogon.com/dex/ss/pokemon/brattler/\n",
            "https://www.smogon.com/dex/ss/pokemon/breezi/\n",
            "https://www.smogon.com/dex/ss/pokemon/breloom/\n",
            "https://www.smogon.com/dex/ss/pokemon/bruxish/\n",
            "https://www.smogon.com/dex/ss/pokemon/buizel/\n",
            "https://www.smogon.com/dex/ss/pokemon/buneary/\n",
            "https://www.smogon.com/dex/ss/pokemon/burmy/\n",
            "https://www.smogon.com/dex/ss/pokemon/buzzwole/\n",
            "https://www.smogon.com/dex/ss/pokemon/cacnea/\n",
            "https://www.smogon.com/dex/ss/pokemon/cacturne/\n",
            "https://www.smogon.com/dex/ss/pokemon/caimanoe/\n",
            "https://www.smogon.com/dex/ss/pokemon/camerupt/\n",
            "https://www.smogon.com/dex/ss/pokemon/camerupt-mega/\n",
            "https://www.smogon.com/dex/ss/pokemon/carbink/\n",
            "https://www.smogon.com/dex/ss/pokemon/caribolt/\n",
            "https://www.smogon.com/dex/ss/pokemon/carnivine/\n",
            "https://www.smogon.com/dex/ss/pokemon/carracosta/\n",
            "https://www.smogon.com/dex/ss/pokemon/carvanha/\n",
            "https://www.smogon.com/dex/ss/pokemon/cascoon/\n",
            "https://www.smogon.com/dex/ss/pokemon/castform/\n",
            "https://www.smogon.com/dex/ss/pokemon/castform-rainy/\n",
            "https://www.smogon.com/dex/ss/pokemon/castform-snowy/\n",
            "https://www.smogon.com/dex/ss/pokemon/castform-sunny/\n",
            "https://www.smogon.com/dex/ss/pokemon/cawdet/\n",
            "https://www.smogon.com/dex/ss/pokemon/cawmodore/\n",
            "https://www.smogon.com/dex/ss/pokemon/celesteela/\n",
            "https://www.smogon.com/dex/ss/pokemon/chansey/\n",
            "https://www.smogon.com/dex/ss/pokemon/charizard-mega-x/\n",
            "https://www.smogon.com/dex/ss/pokemon/charizard-mega-y/\n",
            "https://www.smogon.com/dex/ss/pokemon/chespin/\n",
            "https://www.smogon.com/dex/ss/pokemon/chikorita/\n",
            "https://www.smogon.com/dex/ss/pokemon/chimchar/\n",
            "https://www.smogon.com/dex/ss/pokemon/chimecho/\n",
            "https://www.smogon.com/dex/ss/pokemon/chingling/\n",
            "https://www.smogon.com/dex/ss/pokemon/clamperl/\n",
            "https://www.smogon.com/dex/ss/pokemon/clauncher/\n",
            "https://www.smogon.com/dex/ss/pokemon/clawitzer/\n",
            "https://www.smogon.com/dex/ss/pokemon/colossoil/\n",
            "https://www.smogon.com/dex/ss/pokemon/combusken/\n",
            "https://www.smogon.com/dex/ss/pokemon/comfey/\n",
            "https://www.smogon.com/dex/ss/pokemon/coribalis/\n",
            "https://www.smogon.com/dex/ss/pokemon/crabominable/\n",
            "https://www.smogon.com/dex/ss/pokemon/crabrawler/\n",
            "https://www.smogon.com/dex/ss/pokemon/cradily/\n",
            "https://www.smogon.com/dex/ss/pokemon/cranidos/\n",
            "https://www.smogon.com/dex/ss/pokemon/cresselia/\n",
            "https://www.smogon.com/dex/ss/pokemon/crobat/\n",
            "https://www.smogon.com/dex/ss/pokemon/croconaw/\n",
            "https://www.smogon.com/dex/ss/pokemon/crucibelle/\n",
            "https://www.smogon.com/dex/ss/pokemon/crucibelle-mega/\n",
            "https://www.smogon.com/dex/ss/pokemon/cryogonal/\n",
            "https://www.smogon.com/dex/ss/pokemon/cubone/\n",
            "https://www.smogon.com/dex/ss/pokemon/cupra/\n",
            "https://www.smogon.com/dex/ss/pokemon/cyclohm/\n",
            "https://www.smogon.com/dex/ss/pokemon/cyndaquil/\n",
            "https://www.smogon.com/dex/ss/pokemon/darkrai/\n",
            "https://www.smogon.com/dex/ss/pokemon/dedenne/\n",
            "https://www.smogon.com/dex/ss/pokemon/deerling/\n",
            "https://www.smogon.com/dex/ss/pokemon/delphox/\n",
            "https://www.smogon.com/dex/ss/pokemon/deoxys/\n",
            "https://www.smogon.com/dex/ss/pokemon/deoxys-attack/\n",
            "https://www.smogon.com/dex/ss/pokemon/deoxys-defense/\n",
            "https://www.smogon.com/dex/ss/pokemon/deoxys-speed/\n",
            "https://www.smogon.com/dex/ss/pokemon/dewgong/\n",
            "https://www.smogon.com/dex/ss/pokemon/dewott/\n",
            "https://www.smogon.com/dex/ss/pokemon/dialga/\n",
            "https://www.smogon.com/dex/ss/pokemon/diancie/\n",
            "https://www.smogon.com/dex/ss/pokemon/diancie-mega/\n",
            "https://www.smogon.com/dex/ss/pokemon/dodrio/\n",
            "https://www.smogon.com/dex/ss/pokemon/doduo/\n",
            "https://www.smogon.com/dex/ss/pokemon/dragonair/\n",
            "https://www.smogon.com/dex/ss/pokemon/dragonite/\n",
            "https://www.smogon.com/dex/ss/pokemon/dratini/\n",
            "https://www.smogon.com/dex/ss/pokemon/drowzee/\n",
            "https://www.smogon.com/dex/ss/pokemon/druddigon/\n",
            "https://www.smogon.com/dex/ss/pokemon/ducklett/\n",
            "https://www.smogon.com/dex/ss/pokemon/dunsparce/\n",
            "https://www.smogon.com/dex/ss/pokemon/dustox/\n",
            "https://www.smogon.com/dex/ss/pokemon/eelektrik/\n",
            "https://www.smogon.com/dex/ss/pokemon/eelektross/\n",
            "https://www.smogon.com/dex/ss/pokemon/eevee-starter/\n",
            "https://www.smogon.com/dex/ss/pokemon/ekans/\n",
            "https://www.smogon.com/dex/ss/pokemon/electabuzz/\n",
            "https://www.smogon.com/dex/ss/pokemon/electivire/\n",
            "https://www.smogon.com/dex/ss/pokemon/electrelk/\n",
            "https://www.smogon.com/dex/ss/pokemon/electrode/\n",
            "https://www.smogon.com/dex/ss/pokemon/elekid/\n",
            "https://www.smogon.com/dex/ss/pokemon/embirch/\n",
            "https://www.smogon.com/dex/ss/pokemon/emboar/\n",
            "https://www.smogon.com/dex/ss/pokemon/emolga/\n",
            "https://www.smogon.com/dex/ss/pokemon/empoleon/\n",
            "https://www.smogon.com/dex/ss/pokemon/entei/\n",
            "https://www.smogon.com/dex/ss/pokemon/exeggutor/\n",
            "https://www.smogon.com/dex/ss/pokemon/exeggutor-alola/\n",
            "https://www.smogon.com/dex/ss/pokemon/exploud/\n",
            "https://www.smogon.com/dex/ss/pokemon/fawnifer/\n",
            "https://www.smogon.com/dex/ss/pokemon/fearow/\n",
            "https://www.smogon.com/dex/ss/pokemon/fennekin/\n",
            "https://www.smogon.com/dex/ss/pokemon/feraligatr/\n",
            "https://www.smogon.com/dex/ss/pokemon/fidgit/\n",
            "https://www.smogon.com/dex/ss/pokemon/finneon/\n",
            "https://www.smogon.com/dex/ss/pokemon/flaaffy/\n",
            "https://www.smogon.com/dex/ss/pokemon/flabebe/\n",
            "https://www.smogon.com/dex/ss/pokemon/flarelm/\n",
            "https://www.smogon.com/dex/ss/pokemon/fletchinder/\n",
            "https://www.smogon.com/dex/ss/pokemon/fletchling/\n",
            "https://www.smogon.com/dex/ss/pokemon/floatoy/\n",
            "https://www.smogon.com/dex/ss/pokemon/floatzel/\n",
            "https://www.smogon.com/dex/ss/pokemon/floette/\n",
            "https://www.smogon.com/dex/ss/pokemon/florges/\n",
            "https://www.smogon.com/dex/ss/pokemon/fomantis/\n",
            "https://www.smogon.com/dex/ss/pokemon/foongus/\n",
            "https://www.smogon.com/dex/ss/pokemon/forretress/\n",
            "https://www.smogon.com/dex/ss/pokemon/froakie/\n",
            "https://www.smogon.com/dex/ss/pokemon/frogadier/\n",
            "https://www.smogon.com/dex/ss/pokemon/furfrou/\n",
            "https://www.smogon.com/dex/ss/pokemon/furret/\n",
            "https://www.smogon.com/dex/ss/pokemon/garchomp/\n",
            "https://www.smogon.com/dex/ss/pokemon/garchomp-mega/\n",
            "https://www.smogon.com/dex/ss/pokemon/gardevoir-mega/\n",
            "https://www.smogon.com/dex/ss/pokemon/genesect/\n",
            "https://www.smogon.com/dex/ss/pokemon/genesect-burn/\n",
            "https://www.smogon.com/dex/ss/pokemon/genesect-chill/\n",
            "https://www.smogon.com/dex/ss/pokemon/genesect-douse/\n",
            "https://www.smogon.com/dex/ss/pokemon/genesect-shock/\n",
            "https://www.smogon.com/dex/ss/pokemon/gengar-mega/\n",
            "https://www.smogon.com/dex/ss/pokemon/geodude/\n",
            "https://www.smogon.com/dex/ss/pokemon/geodude-alola/\n",
            "https://www.smogon.com/dex/ss/pokemon/gible/\n",
            "https://www.smogon.com/dex/ss/pokemon/girafarig/\n",
            "https://www.smogon.com/dex/ss/pokemon/giratina/\n",
            "https://www.smogon.com/dex/ss/pokemon/giratina-origin/\n",
            "https://www.smogon.com/dex/ss/pokemon/glalie-mega/\n",
            "https://www.smogon.com/dex/ss/pokemon/glameow/\n",
            "https://www.smogon.com/dex/ss/pokemon/gligar/\n",
            "https://www.smogon.com/dex/ss/pokemon/gliscor/\n",
            "https://www.smogon.com/dex/ss/pokemon/gogoat/\n",
            "https://www.smogon.com/dex/ss/pokemon/golbat/\n",
            "https://www.smogon.com/dex/ss/pokemon/golduck/\n",
            "https://www.smogon.com/dex/ss/pokemon/golem/\n",
            "https://www.smogon.com/dex/ss/pokemon/golem-alola/\n",
            "https://www.smogon.com/dex/ss/pokemon/gorebyss/\n",
            "https://www.smogon.com/dex/ss/pokemon/granbull/\n",
            "https://www.smogon.com/dex/ss/pokemon/graveler/\n",
            "https://www.smogon.com/dex/ss/pokemon/graveler-alola/\n",
            "https://www.smogon.com/dex/ss/pokemon/greninja/\n",
            "https://www.smogon.com/dex/ss/pokemon/greninja-ash/\n",
            "https://www.smogon.com/dex/ss/pokemon/grimer/\n",
            "https://www.smogon.com/dex/ss/pokemon/grotle/\n",
            "https://www.smogon.com/dex/ss/pokemon/grovyle/\n",
            "https://www.smogon.com/dex/ss/pokemon/grumpig/\n",
            "https://www.smogon.com/dex/ss/pokemon/gulpin/\n",
            "https://www.smogon.com/dex/ss/pokemon/gumshoos/\n",
            "https://www.smogon.com/dex/ss/pokemon/gumshoos-totem/\n",
            "https://www.smogon.com/dex/ss/pokemon/guzzlord/\n",
            "https://www.smogon.com/dex/ss/pokemon/gyarados-mega/\n",
            "https://www.smogon.com/dex/ss/pokemon/happiny/\n",
            "https://www.smogon.com/dex/ss/pokemon/hariyama/\n",
            "https://www.smogon.com/dex/ss/pokemon/heatran/\n",
            "https://www.smogon.com/dex/ss/pokemon/heracross/\n",
            "https://www.smogon.com/dex/ss/pokemon/heracross-mega/\n",
            "https://www.smogon.com/dex/ss/pokemon/herdier/\n",
            "https://www.smogon.com/dex/ss/pokemon/ho-oh/\n",
            "https://www.smogon.com/dex/ss/pokemon/honchkrow/\n",
            "https://www.smogon.com/dex/ss/pokemon/hoopa/\n",
            "https://www.smogon.com/dex/ss/pokemon/hoopa-unbound/\n",
            "https://www.smogon.com/dex/ss/pokemon/hoppip/\n",
            "https://www.smogon.com/dex/ss/pokemon/horsea/\n",
            "https://www.smogon.com/dex/ss/pokemon/houndoom/\n",
            "https://www.smogon.com/dex/ss/pokemon/houndoom-mega/\n",
            "https://www.smogon.com/dex/ss/pokemon/houndour/\n",
            "https://www.smogon.com/dex/ss/pokemon/huntail/\n",
            "https://www.smogon.com/dex/ss/pokemon/hypno/\n",
            "https://www.smogon.com/dex/ss/pokemon/igglybuff/\n",
            "https://www.smogon.com/dex/ss/pokemon/illumise/\n",
            "https://www.smogon.com/dex/ss/pokemon/infernape/\n",
            "https://www.smogon.com/dex/ss/pokemon/jigglypuff/\n",
            "https://www.smogon.com/dex/ss/pokemon/jumbao/\n",
            "https://www.smogon.com/dex/ss/pokemon/kabuto/\n",
            "https://www.smogon.com/dex/ss/pokemon/kabutops/\n",
            "https://www.smogon.com/dex/ss/pokemon/kadabra/\n",
            "https://www.smogon.com/dex/ss/pokemon/kakuna/\n",
            "https://www.smogon.com/dex/ss/pokemon/kangaskhan/\n",
            "https://www.smogon.com/dex/ss/pokemon/kangaskhan-mega/\n",
            "https://www.smogon.com/dex/ss/pokemon/kartana/\n",
            "https://www.smogon.com/dex/ss/pokemon/kecleon/\n",
            "https://www.smogon.com/dex/ss/pokemon/kerfluffle/\n",
            "https://www.smogon.com/dex/ss/pokemon/kingdra/\n",
            "https://www.smogon.com/dex/ss/pokemon/kitsunoh/\n",
            "https://www.smogon.com/dex/ss/pokemon/klefki/\n",
            "https://www.smogon.com/dex/ss/pokemon/komala/\n",
            "https://www.smogon.com/dex/ss/pokemon/kommo-o-totem/\n",
            "https://www.smogon.com/dex/ss/pokemon/kricketot/\n",
            "https://www.smogon.com/dex/ss/pokemon/kricketune/\n",
            "https://www.smogon.com/dex/ss/pokemon/krilowatt/\n",
            "https://www.smogon.com/dex/ss/pokemon/krokorok/\n",
            "https://www.smogon.com/dex/ss/pokemon/krookodile/\n",
            "https://www.smogon.com/dex/ss/pokemon/kyogre/\n",
            "https://www.smogon.com/dex/ss/pokemon/kyogre-primal/\n",
            "https://www.smogon.com/dex/ss/pokemon/lairon/\n",
            "https://www.smogon.com/dex/ss/pokemon/landorus/\n",
            "https://www.smogon.com/dex/ss/pokemon/landorus-therian/\n",
            "https://www.smogon.com/dex/ss/pokemon/larvesta/\n",
            "https://www.smogon.com/dex/ss/pokemon/latias/\n",
            "https://www.smogon.com/dex/ss/pokemon/latias-mega/\n",
            "https://www.smogon.com/dex/ss/pokemon/latios/\n",
            "https://www.smogon.com/dex/ss/pokemon/latios-mega/\n",
            "https://www.smogon.com/dex/ss/pokemon/leavanny/\n",
            "https://www.smogon.com/dex/ss/pokemon/ledian/\n",
            "https://www.smogon.com/dex/ss/pokemon/ledyba/\n",
            "https://www.smogon.com/dex/ss/pokemon/lickilicky/\n",
            "https://www.smogon.com/dex/ss/pokemon/lickitung/\n",
            "https://www.smogon.com/dex/ss/pokemon/lileep/\n",
            "https://www.smogon.com/dex/ss/pokemon/lilligant/\n",
            "https://www.smogon.com/dex/ss/pokemon/lillipup/\n",
            "https://www.smogon.com/dex/ss/pokemon/litleo/\n",
            "https://www.smogon.com/dex/ss/pokemon/lopunny/\n",
            "https://www.smogon.com/dex/ss/pokemon/lopunny-mega/\n",
            "https://www.smogon.com/dex/ss/pokemon/loudred/\n",
            "https://www.smogon.com/dex/ss/pokemon/lucario-mega/\n",
            "https://www.smogon.com/dex/ss/pokemon/lumineon/\n",
            "https://www.smogon.com/dex/ss/pokemon/lurantis/\n",
            "https://www.smogon.com/dex/ss/pokemon/lurantis-totem/\n",
            "https://www.smogon.com/dex/ss/pokemon/luvdisc/\n",
            "https://www.smogon.com/dex/ss/pokemon/luxio/\n",
            "https://www.smogon.com/dex/ss/pokemon/luxray/\n",
            "https://www.smogon.com/dex/ss/pokemon/lycanroc/\n",
            "https://www.smogon.com/dex/ss/pokemon/lycanroc-dusk/\n",
            "https://www.smogon.com/dex/ss/pokemon/lycanroc-midnight/\n",
            "https://www.smogon.com/dex/ss/pokemon/magby/\n",
            "https://www.smogon.com/dex/ss/pokemon/magcargo/\n",
            "https://www.smogon.com/dex/ss/pokemon/magearna/\n",
            "https://www.smogon.com/dex/ss/pokemon/magmar/\n",
            "https://www.smogon.com/dex/ss/pokemon/magnemite/\n",
            "https://www.smogon.com/dex/ss/pokemon/magneton/\n",
            "https://www.smogon.com/dex/ss/pokemon/magnezone/\n",
            "https://www.smogon.com/dex/ss/pokemon/makuhita/\n",
            "https://www.smogon.com/dex/ss/pokemon/malaconda/\n",
            "https://www.smogon.com/dex/ss/pokemon/manaphy/\n",
            "https://www.smogon.com/dex/ss/pokemon/manectric-mega/\n",
            "https://www.smogon.com/dex/ss/pokemon/mankey/\n",
            "https://www.smogon.com/dex/ss/pokemon/mareep/\n",
            "https://www.smogon.com/dex/ss/pokemon/marowak-alola/\n",
            "https://www.smogon.com/dex/ss/pokemon/marowak-alola-totem/\n",
            "https://www.smogon.com/dex/ss/pokemon/marshtomp/\n",
            "https://www.smogon.com/dex/ss/pokemon/masquerain/\n",
            "https://www.smogon.com/dex/ss/pokemon/mawile-mega/\n",
            "https://www.smogon.com/dex/ss/pokemon/medicham/\n",
            "https://www.smogon.com/dex/ss/pokemon/medicham-mega/\n",
            "https://www.smogon.com/dex/ss/pokemon/meditite/\n",
            "https://www.smogon.com/dex/ss/pokemon/meganium/\n",
            "https://www.smogon.com/dex/ss/pokemon/meloetta/\n",
            "https://www.smogon.com/dex/ss/pokemon/meloetta-pirouette/\n",
            "https://www.smogon.com/dex/ss/pokemon/mesprit/\n",
            "https://www.smogon.com/dex/ss/pokemon/metagross/\n",
            "https://www.smogon.com/dex/ss/pokemon/metagross-mega/\n",
            "https://www.smogon.com/dex/ss/pokemon/metang/\n",
            "https://www.smogon.com/dex/ss/pokemon/mewtwo-mega-x/\n",
            "https://www.smogon.com/dex/ss/pokemon/mewtwo-mega-y/\n",
            "https://www.smogon.com/dex/ss/pokemon/mienfoo/\n",
            "https://www.smogon.com/dex/ss/pokemon/mienshao/\n",
            "https://www.smogon.com/dex/ss/pokemon/mightyena/\n",
            "https://www.smogon.com/dex/ss/pokemon/miltank/\n",
            "https://www.smogon.com/dex/ss/pokemon/mimikyu-busted-totem/\n",
            "https://www.smogon.com/dex/ss/pokemon/mimikyu-totem/\n",
            "https://www.smogon.com/dex/ss/pokemon/minior/\n",
            "https://www.smogon.com/dex/ss/pokemon/minun/\n",
            "https://www.smogon.com/dex/ss/pokemon/misdreavus/\n",
            "https://www.smogon.com/dex/ss/pokemon/mismagius/\n",
            "https://www.smogon.com/dex/ss/pokemon/mollux/\n",
            "https://www.smogon.com/dex/ss/pokemon/mothim/\n",
            "https://www.smogon.com/dex/ss/pokemon/mudkip/\n",
            "https://www.smogon.com/dex/ss/pokemon/muk/\n",
            "https://www.smogon.com/dex/ss/pokemon/muk-alola/\n",
            "https://www.smogon.com/dex/ss/pokemon/mumbao/\n",
            "https://www.smogon.com/dex/ss/pokemon/murkrow/\n",
            "https://www.smogon.com/dex/ss/pokemon/naganadel/\n",
            "https://www.smogon.com/dex/ss/pokemon/naviathan/\n",
            "https://www.smogon.com/dex/ss/pokemon/necrozma-ultra/\n",
            "https://www.smogon.com/dex/ss/pokemon/necturine/\n",
            "https://www.smogon.com/dex/ss/pokemon/necturna/\n",
            "https://www.smogon.com/dex/ss/pokemon/nidoking/\n",
            "https://www.smogon.com/dex/ss/pokemon/nidoqueen/\n",
            "https://www.smogon.com/dex/ss/pokemon/nidoran-f/\n",
            "https://www.smogon.com/dex/ss/pokemon/nidoran-m/\n",
            "https://www.smogon.com/dex/ss/pokemon/nidorina/\n",
            "https://www.smogon.com/dex/ss/pokemon/nidorino/\n",
            "https://www.smogon.com/dex/ss/pokemon/nihilego/\n",
            "https://www.smogon.com/dex/ss/pokemon/nosepass/\n",
            "https://www.smogon.com/dex/ss/pokemon/numel/\n",
            "https://www.smogon.com/dex/ss/pokemon/omanyte/\n",
            "https://www.smogon.com/dex/ss/pokemon/omastar/\n",
            "https://www.smogon.com/dex/ss/pokemon/oricorio/\n",
            "https://www.smogon.com/dex/ss/pokemon/oricorio-pau/\n",
            "https://www.smogon.com/dex/ss/pokemon/oricorio-pom-pom/\n",
            "https://www.smogon.com/dex/ss/pokemon/oricorio-sensu/\n",
            "https://www.smogon.com/dex/ss/pokemon/oshawott/\n",
            "https://www.smogon.com/dex/ss/pokemon/pachirisu/\n",
            "https://www.smogon.com/dex/ss/pokemon/pajantom/\n",
            "https://www.smogon.com/dex/ss/pokemon/palkia/\n",
            "https://www.smogon.com/dex/ss/pokemon/pansage/\n",
            "https://www.smogon.com/dex/ss/pokemon/pansear/\n",
            "https://www.smogon.com/dex/ss/pokemon/paras/\n",
            "https://www.smogon.com/dex/ss/pokemon/parasect/\n",
            "https://www.smogon.com/dex/ss/pokemon/patrat/\n",
            "https://www.smogon.com/dex/ss/pokemon/petilil/\n",
            "https://www.smogon.com/dex/ss/pokemon/phanpy/\n",
            "https://www.smogon.com/dex/ss/pokemon/pheromosa/\n",
            "https://www.smogon.com/dex/ss/pokemon/phione/\n",
            "https://www.smogon.com/dex/ss/pokemon/pidgeot/\n",
            "https://www.smogon.com/dex/ss/pokemon/pidgeot-mega/\n",
            "https://www.smogon.com/dex/ss/pokemon/pidgeotto/\n",
            "https://www.smogon.com/dex/ss/pokemon/pidgey/\n",
            "https://www.smogon.com/dex/ss/pokemon/pignite/\n",
            "https://www.smogon.com/dex/ss/pokemon/pikachu-starter/\n",
            "https://www.smogon.com/dex/ss/pokemon/pikipek/\n",
            "https://www.smogon.com/dex/ss/pokemon/pineco/\n",
            "https://www.smogon.com/dex/ss/pokemon/pinsir/\n",
            "https://www.smogon.com/dex/ss/pokemon/pinsir-mega/\n",
            "https://www.smogon.com/dex/ss/pokemon/piplup/\n",
            "https://www.smogon.com/dex/ss/pokemon/plasmanta/\n",
            "https://www.smogon.com/dex/ss/pokemon/plusle/\n",
            "https://www.smogon.com/dex/ss/pokemon/poipole/\n",
            "https://www.smogon.com/dex/ss/pokemon/politoed/\n",
            "https://www.smogon.com/dex/ss/pokemon/poliwag/\n",
            "https://www.smogon.com/dex/ss/pokemon/poliwhirl/\n",
            "https://www.smogon.com/dex/ss/pokemon/poliwrath/\n",
            "https://www.smogon.com/dex/ss/pokemon/poochyena/\n",
            "https://www.smogon.com/dex/ss/pokemon/porygon/\n",
            "https://www.smogon.com/dex/ss/pokemon/porygon-z/\n",
            "https://www.smogon.com/dex/ss/pokemon/porygon2/\n",
            "https://www.smogon.com/dex/ss/pokemon/primeape/\n",
            "https://www.smogon.com/dex/ss/pokemon/prinplup/\n",
            "https://www.smogon.com/dex/ss/pokemon/privatyke/\n",
            "https://www.smogon.com/dex/ss/pokemon/probopass/\n",
            "https://www.smogon.com/dex/ss/pokemon/psyduck/\n",
            "https://www.smogon.com/dex/ss/pokemon/purugly/\n",
            "https://www.smogon.com/dex/ss/pokemon/pyroak/\n",
            "https://www.smogon.com/dex/ss/pokemon/pyroar/\n",
            "https://www.smogon.com/dex/ss/pokemon/quilava/\n",
            "https://www.smogon.com/dex/ss/pokemon/quilladin/\n",
            "https://www.smogon.com/dex/ss/pokemon/raikou/\n",
            "https://www.smogon.com/dex/ss/pokemon/rampardos/\n",
            "https://www.smogon.com/dex/ss/pokemon/raticate/\n",
            "https://www.smogon.com/dex/ss/pokemon/rattata/\n",
            "https://www.smogon.com/dex/ss/pokemon/rattata-alola/\n",
            "https://www.smogon.com/dex/ss/pokemon/rayquaza/\n",
            "https://www.smogon.com/dex/ss/pokemon/rayquaza-mega/\n",
            "https://www.smogon.com/dex/ss/pokemon/rebble/\n",
            "https://www.smogon.com/dex/ss/pokemon/regice/\n",
            "https://www.smogon.com/dex/ss/pokemon/regigigas/\n",
            "https://www.smogon.com/dex/ss/pokemon/regirock/\n",
            "https://www.smogon.com/dex/ss/pokemon/registeel/\n",
            "https://www.smogon.com/dex/ss/pokemon/relicanth/\n",
            "https://www.smogon.com/dex/ss/pokemon/revenankh/\n",
            "https://www.smogon.com/dex/ss/pokemon/ribombee-totem/\n",
            "https://www.smogon.com/dex/ss/pokemon/rockruff/\n",
            "https://www.smogon.com/dex/ss/pokemon/sableye-mega/\n",
            "https://www.smogon.com/dex/ss/pokemon/salamence/\n",
            "https://www.smogon.com/dex/ss/pokemon/salamence-mega/\n",
            "https://www.smogon.com/dex/ss/pokemon/salazzle-totem/\n",
            "https://www.smogon.com/dex/ss/pokemon/samurott/\n",
            "https://www.smogon.com/dex/ss/pokemon/sandile/\n",
            "https://www.smogon.com/dex/ss/pokemon/sandshrew/\n",
            "https://www.smogon.com/dex/ss/pokemon/sandshrew-alola/\n",
            "https://www.smogon.com/dex/ss/pokemon/sandslash/\n",
            "https://www.smogon.com/dex/ss/pokemon/sandslash-alola/\n",
            "https://www.smogon.com/dex/ss/pokemon/sandygast/\n",
            "https://www.smogon.com/dex/ss/pokemon/sawsbuck/\n",
            "https://www.smogon.com/dex/ss/pokemon/scatterbug/\n",
            "https://www.smogon.com/dex/ss/pokemon/sceptile/\n",
            "https://www.smogon.com/dex/ss/pokemon/sceptile-mega/\n",
            "https://www.smogon.com/dex/ss/pokemon/scizor/\n",
            "https://www.smogon.com/dex/ss/pokemon/scizor-mega/\n",
            "https://www.smogon.com/dex/ss/pokemon/scyther/\n",
            "https://www.smogon.com/dex/ss/pokemon/seadra/\n",
            "https://www.smogon.com/dex/ss/pokemon/sealeo/\n",
            "https://www.smogon.com/dex/ss/pokemon/seel/\n",
            "https://www.smogon.com/dex/ss/pokemon/sentret/\n",
            "https://www.smogon.com/dex/ss/pokemon/serperior/\n",
            "https://www.smogon.com/dex/ss/pokemon/servine/\n",
            "https://www.smogon.com/dex/ss/pokemon/seviper/\n",
            "https://www.smogon.com/dex/ss/pokemon/sewaddle/\n",
            "https://www.smogon.com/dex/ss/pokemon/sharpedo/\n",
            "https://www.smogon.com/dex/ss/pokemon/sharpedo-mega/\n",
            "https://www.smogon.com/dex/ss/pokemon/shaymin/\n",
            "https://www.smogon.com/dex/ss/pokemon/shaymin-sky/\n",
            "https://www.smogon.com/dex/ss/pokemon/shelgon/\n",
            "https://www.smogon.com/dex/ss/pokemon/shieldon/\n",
            "https://www.smogon.com/dex/ss/pokemon/shinx/\n",
            "https://www.smogon.com/dex/ss/pokemon/shroomish/\n",
            "https://www.smogon.com/dex/ss/pokemon/shuppet/\n",
            "https://www.smogon.com/dex/ss/pokemon/silcoon/\n",
            "https://www.smogon.com/dex/ss/pokemon/simipour/\n",
            "https://www.smogon.com/dex/ss/pokemon/simisage/\n",
            "https://www.smogon.com/dex/ss/pokemon/simisear/\n",
            "https://www.smogon.com/dex/ss/pokemon/skarmory/\n",
            "https://www.smogon.com/dex/ss/pokemon/skiddo/\n",
            "https://www.smogon.com/dex/ss/pokemon/skiploom/\n",
            "https://www.smogon.com/dex/ss/pokemon/skitty/\n",
            "https://www.smogon.com/dex/ss/pokemon/skrelp/\n",
            "https://www.smogon.com/dex/ss/pokemon/slaking/\n",
            "https://www.smogon.com/dex/ss/pokemon/slakoth/\n",
            "https://www.smogon.com/dex/ss/pokemon/slowbro/\n",
            "https://www.smogon.com/dex/ss/pokemon/slowbro-mega/\n",
            "https://www.smogon.com/dex/ss/pokemon/slowking/\n",
            "https://www.smogon.com/dex/ss/pokemon/slugma/\n",
            "https://www.smogon.com/dex/ss/pokemon/smokomodo/\n",
            "https://www.smogon.com/dex/ss/pokemon/smoochum/\n",
            "https://www.smogon.com/dex/ss/pokemon/snaelstrom/\n",
            "https://www.smogon.com/dex/ss/pokemon/snivy/\n",
            "https://www.smogon.com/dex/ss/pokemon/snubbull/\n",
            "https://www.smogon.com/dex/ss/pokemon/snugglow/\n",
            "https://www.smogon.com/dex/ss/pokemon/spearow/\n",
            "https://www.smogon.com/dex/ss/pokemon/spewpa/\n",
            "https://www.smogon.com/dex/ss/pokemon/spheal/\n",
            "https://www.smogon.com/dex/ss/pokemon/spinarak/\n",
            "https://www.smogon.com/dex/ss/pokemon/spinda/\n",
            "https://www.smogon.com/dex/ss/pokemon/spiritomb/\n",
            "https://www.smogon.com/dex/ss/pokemon/spoink/\n",
            "https://www.smogon.com/dex/ss/pokemon/stakataka/\n",
            "https://www.smogon.com/dex/ss/pokemon/stantler/\n",
            "https://www.smogon.com/dex/ss/pokemon/staraptor/\n",
            "https://www.smogon.com/dex/ss/pokemon/staravia/\n",
            "https://www.smogon.com/dex/ss/pokemon/starly/\n",
            "https://www.smogon.com/dex/ss/pokemon/starmie/\n",
            "https://www.smogon.com/dex/ss/pokemon/staryu/\n",
            "https://www.smogon.com/dex/ss/pokemon/steelix-mega/\n",
            "https://www.smogon.com/dex/ss/pokemon/stoutland/\n",
            "https://www.smogon.com/dex/ss/pokemon/stratagem/\n",
            "https://www.smogon.com/dex/ss/pokemon/suicune/\n",
            "https://www.smogon.com/dex/ss/pokemon/sunflora/\n",
            "https://www.smogon.com/dex/ss/pokemon/sunkern/\n",
            "https://www.smogon.com/dex/ss/pokemon/surskit/\n",
            "https://www.smogon.com/dex/ss/pokemon/swablu/\n",
            "https://www.smogon.com/dex/ss/pokemon/swadloon/\n",
            "https://www.smogon.com/dex/ss/pokemon/swalot/\n",
            "https://www.smogon.com/dex/ss/pokemon/swampert-mega/\n",
            "https://www.smogon.com/dex/ss/pokemon/swanna/\n",
            "https://www.smogon.com/dex/ss/pokemon/swellow/\n",
            "https://www.smogon.com/dex/ss/pokemon/swirlpool/\n",
            "https://www.smogon.com/dex/ss/pokemon/tactite/\n",
            "https://www.smogon.com/dex/ss/pokemon/taillow/\n",
            "https://www.smogon.com/dex/ss/pokemon/talonflame/\n",
            "https://www.smogon.com/dex/ss/pokemon/tangela/\n",
            "https://www.smogon.com/dex/ss/pokemon/tangrowth/\n",
            "https://www.smogon.com/dex/ss/pokemon/tapu-bulu/\n",
            "https://www.smogon.com/dex/ss/pokemon/tapu-fini/\n",
            "https://www.smogon.com/dex/ss/pokemon/tapu-koko/\n",
            "https://www.smogon.com/dex/ss/pokemon/tapu-lele/\n",
            "https://www.smogon.com/dex/ss/pokemon/tauros/\n",
            "https://www.smogon.com/dex/ss/pokemon/teddiursa/\n",
            "https://www.smogon.com/dex/ss/pokemon/tentacool/\n",
            "https://www.smogon.com/dex/ss/pokemon/tentacruel/\n",
            "https://www.smogon.com/dex/ss/pokemon/tepig/\n",
            "https://www.smogon.com/dex/ss/pokemon/thundurus/\n",
            "https://www.smogon.com/dex/ss/pokemon/thundurus-therian/\n",
            "https://www.smogon.com/dex/ss/pokemon/tirtouga/\n",
            "https://www.smogon.com/dex/ss/pokemon/togedemaru-totem/\n",
            "https://www.smogon.com/dex/ss/pokemon/tomohawk/\n",
            "https://www.smogon.com/dex/ss/pokemon/torchic/\n",
            "https://www.smogon.com/dex/ss/pokemon/tornadus/\n",
            "https://www.smogon.com/dex/ss/pokemon/tornadus-therian/\n",
            "https://www.smogon.com/dex/ss/pokemon/torterra/\n",
            "https://www.smogon.com/dex/ss/pokemon/totodile/\n",
            "https://www.smogon.com/dex/ss/pokemon/toucannon/\n",
            "https://www.smogon.com/dex/ss/pokemon/treecko/\n",
            "https://www.smogon.com/dex/ss/pokemon/turtwig/\n",
            "https://www.smogon.com/dex/ss/pokemon/tynamo/\n",
            "https://www.smogon.com/dex/ss/pokemon/typhlosion/\n",
            "https://www.smogon.com/dex/ss/pokemon/tyranitar-mega/\n",
            "https://www.smogon.com/dex/ss/pokemon/tyrantrum/\n",
            "https://www.smogon.com/dex/ss/pokemon/tyrunt/\n",
            "https://www.smogon.com/dex/ss/pokemon/unown/\n",
            "https://www.smogon.com/dex/ss/pokemon/ursaring/\n",
            "https://www.smogon.com/dex/ss/pokemon/uxie/\n",
            "https://www.smogon.com/dex/ss/pokemon/venipede/\n",
            "https://www.smogon.com/dex/ss/pokemon/venomoth/\n",
            "https://www.smogon.com/dex/ss/pokemon/venonat/\n",
            "https://www.smogon.com/dex/ss/pokemon/venusaur-mega/\n",
            "https://www.smogon.com/dex/ss/pokemon/victini/\n",
            "https://www.smogon.com/dex/ss/pokemon/victreebel/\n",
            "https://www.smogon.com/dex/ss/pokemon/vigoroth/\n",
            "https://www.smogon.com/dex/ss/pokemon/vikavolt-totem/\n",
            "https://www.smogon.com/dex/ss/pokemon/vivillon/\n",
            "https://www.smogon.com/dex/ss/pokemon/vivillon-fancy/\n",
            "https://www.smogon.com/dex/ss/pokemon/vivillon-pokeball/\n",
            "https://www.smogon.com/dex/ss/pokemon/volbeat/\n",
            "https://www.smogon.com/dex/ss/pokemon/volcanion/\n",
            "https://www.smogon.com/dex/ss/pokemon/volcarona/\n",
            "https://www.smogon.com/dex/ss/pokemon/volkraken/\n",
            "https://www.smogon.com/dex/ss/pokemon/volkritter/\n",
            "https://www.smogon.com/dex/ss/pokemon/voltorb/\n",
            "https://www.smogon.com/dex/ss/pokemon/voodoll/\n",
            "https://www.smogon.com/dex/ss/pokemon/voodoom/\n",
            "https://www.smogon.com/dex/ss/pokemon/walrein/\n",
            "https://www.smogon.com/dex/ss/pokemon/watchog/\n",
            "https://www.smogon.com/dex/ss/pokemon/weedle/\n",
            "https://www.smogon.com/dex/ss/pokemon/whirlipede/\n",
            "https://www.smogon.com/dex/ss/pokemon/wigglytuff/\n",
            "https://www.smogon.com/dex/ss/pokemon/wormadam/\n",
            "https://www.smogon.com/dex/ss/pokemon/wormadam-sandy/\n",
            "https://www.smogon.com/dex/ss/pokemon/wormadam-trash/\n",
            "https://www.smogon.com/dex/ss/pokemon/wurmple/\n",
            "https://www.smogon.com/dex/ss/pokemon/xerneas/\n",
            "https://www.smogon.com/dex/ss/pokemon/xurkitree/\n",
            "https://www.smogon.com/dex/ss/pokemon/yanma/\n",
            "https://www.smogon.com/dex/ss/pokemon/yanmega/\n",
            "https://www.smogon.com/dex/ss/pokemon/yungoos/\n",
            "https://www.smogon.com/dex/ss/pokemon/yveltal/\n",
            "https://www.smogon.com/dex/ss/pokemon/zangoose/\n",
            "https://www.smogon.com/dex/ss/pokemon/zapdos/\n",
            "https://www.smogon.com/dex/ss/pokemon/zebstrika/\n",
            "https://www.smogon.com/dex/ss/pokemon/zoroark/\n",
            "https://www.smogon.com/dex/ss/pokemon/zorua/\n",
            "https://www.smogon.com/dex/ss/pokemon/zubat/\n",
            "https://www.smogon.com/dex/ss/pokemon/zygarde/\n",
            "https://www.smogon.com/dex/ss/pokemon/zygarde-10/\n",
            "https://www.smogon.com/dex/ss/pokemon/zygarde-complete/\n"
          ],
          "name": "stdout"
        },
        {
          "output_type": "execute_result",
          "data": {
            "text/plain": [
              "1116"
            ]
          },
          "metadata": {
            "tags": []
          },
          "execution_count": 46
        }
      ]
    },
    {
      "cell_type": "code",
      "metadata": {
        "id": "U5c8SYN0fXgA",
        "colab_type": "code",
        "outputId": "4285323d-bb1a-472b-e97a-d99d8542f2b5",
        "colab": {
          "base_uri": "https://localhost:8080/",
          "height": 1000
        }
      },
      "source": [
        "browser = webdriver.Chrome('chromedriver',chrome_options=chrome_options)\n",
        "browser.get(\"https://www.smogon.com/dex/ss/moves/\")\n",
        "move_links = set(())\n",
        "flag = True\n",
        "while(flag):\n",
        "  flag = False\n",
        "  x = browser.find_elements_by_xpath(\"/html/body/div/div/main/div/div/div/div/a\")\n",
        "  for y in x:\n",
        "    try:\n",
        "      if y.get_attribute(\"href\") not in move_links:\n",
        "        move_links.add(y.get_attribute(\"href\"))\n",
        "        flag = True\n",
        "        print(y.get_attribute(\"href\"))\n",
        "      browser.find_element_by_xpath(\"/html/body\").send_keys(Keys.DOWN)\n",
        "    except:\n",
        "      browser.find_element_by_xpath(\"/html/body\").send_keys(Keys.UP)\n",
        "len(move_links)"
      ],
      "execution_count": 0,
      "outputs": [
        {
          "output_type": "stream",
          "text": [
            "/usr/local/lib/python3.6/dist-packages/ipykernel_launcher.py:1: DeprecationWarning: use options instead of chrome_options\n",
            "  \"\"\"Entry point for launching an IPython kernel.\n"
          ],
          "name": "stderr"
        },
        {
          "output_type": "stream",
          "text": [
            "https://www.smogon.com/dex/ss/moves/absorb/\n",
            "https://www.smogon.com/dex/ss/types/grass/\n",
            "https://www.smogon.com/dex/ss/moves/accelerock/\n",
            "https://www.smogon.com/dex/ss/types/rock/\n",
            "https://www.smogon.com/dex/ss/moves/acid/\n",
            "https://www.smogon.com/dex/ss/types/poison/\n",
            "https://www.smogon.com/dex/ss/moves/acid-armor/\n",
            "https://www.smogon.com/dex/ss/moves/acid-spray/\n",
            "https://www.smogon.com/dex/ss/moves/acrobatics/\n",
            "https://www.smogon.com/dex/ss/types/flying/\n",
            "https://www.smogon.com/dex/ss/moves/acupressure/\n",
            "https://www.smogon.com/dex/ss/types/normal/\n",
            "https://www.smogon.com/dex/ss/moves/aerial-ace/\n",
            "https://www.smogon.com/dex/ss/moves/after-you/\n",
            "https://www.smogon.com/dex/ss/moves/agility/\n",
            "https://www.smogon.com/dex/ss/types/psychic/\n",
            "https://www.smogon.com/dex/ss/moves/air-cutter/\n",
            "https://www.smogon.com/dex/ss/moves/air-slash/\n",
            "https://www.smogon.com/dex/ss/moves/anchor-shot/\n",
            "https://www.smogon.com/dex/ss/types/steel/\n",
            "https://www.smogon.com/dex/ss/moves/ancient-power/\n",
            "https://www.smogon.com/dex/ss/moves/apple-acid/\n",
            "https://www.smogon.com/dex/ss/moves/aqua-jet/\n",
            "https://www.smogon.com/dex/ss/types/water/\n",
            "https://www.smogon.com/dex/ss/moves/aqua-ring/\n",
            "https://www.smogon.com/dex/ss/moves/aqua-tail/\n",
            "https://www.smogon.com/dex/ss/moves/arm-thrust/\n",
            "https://www.smogon.com/dex/ss/moves/assurance/\n",
            "https://www.smogon.com/dex/ss/types/dark/\n",
            "https://www.smogon.com/dex/ss/moves/astonish/\n",
            "https://www.smogon.com/dex/ss/types/ghost/\n",
            "https://www.smogon.com/dex/ss/moves/attack-order/\n",
            "https://www.smogon.com/dex/ss/moves/aura-sphere/\n",
            "https://www.smogon.com/dex/ss/types/fighting/\n",
            "https://www.smogon.com/dex/ss/moves/aura-wheel/\n",
            "https://www.smogon.com/dex/ss/types/electric/\n",
            "https://www.smogon.com/dex/ss/moves/aurora-beam/\n",
            "https://www.smogon.com/dex/ss/types/ice/\n",
            "https://www.smogon.com/dex/ss/moves/aurora-veil/\n",
            "https://www.smogon.com/dex/ss/moves/baby-doll-eyes/\n",
            "https://www.smogon.com/dex/ss/types/fairy/\n",
            "https://www.smogon.com/dex/ss/moves/baneful-bunker/\n",
            "https://www.smogon.com/dex/ss/moves/baton-pass/\n",
            "https://www.smogon.com/dex/ss/moves/beat-up/\n",
            "https://www.smogon.com/dex/ss/moves/behemoth-bash/\n",
            "https://www.smogon.com/dex/ss/moves/behemoth-blade/\n",
            "https://www.smogon.com/dex/ss/moves/bind/\n",
            "https://www.smogon.com/dex/ss/moves/bite/\n",
            "https://www.smogon.com/dex/ss/moves/blast-burn/\n",
            "https://www.smogon.com/dex/ss/types/fire/\n",
            "https://www.smogon.com/dex/ss/moves/blaze-kick/\n",
            "https://www.smogon.com/dex/ss/moves/blizzard/\n",
            "https://www.smogon.com/dex/ss/moves/block/\n",
            "https://www.smogon.com/dex/ss/moves/body-slam/\n",
            "https://www.smogon.com/dex/ss/moves/bolt-beak/\n",
            "https://www.smogon.com/dex/ss/moves/bolt-strike/\n",
            "https://www.smogon.com/dex/ss/moves/bone-rush/\n",
            "https://www.smogon.com/dex/ss/types/ground/\n",
            "https://www.smogon.com/dex/ss/moves/boomburst/\n",
            "https://www.smogon.com/dex/ss/moves/bounce/\n",
            "https://www.smogon.com/dex/ss/moves/branch-poke/\n",
            "https://www.smogon.com/dex/ss/moves/brave-bird/\n",
            "https://www.smogon.com/dex/ss/moves/breaking-swipe/\n",
            "https://www.smogon.com/dex/ss/moves/brutal-swing/\n",
            "https://www.smogon.com/dex/ss/moves/bubble-beam/\n",
            "https://www.smogon.com/dex/ss/moves/bug-bite/\n",
            "https://www.smogon.com/dex/ss/types/bug/\n",
            "https://www.smogon.com/dex/ss/moves/bug-buzz/\n",
            "https://www.smogon.com/dex/ss/moves/bulk-up/\n",
            "https://www.smogon.com/dex/ss/moves/bulldoze/\n",
            "https://www.smogon.com/dex/ss/moves/bullet-punch/\n",
            "https://www.smogon.com/dex/ss/moves/bullet-seed/\n",
            "https://www.smogon.com/dex/ss/moves/burn-up/\n",
            "https://www.smogon.com/dex/ss/moves/charge/\n",
            "https://www.smogon.com/dex/ss/moves/charge-beam/\n",
            "https://www.smogon.com/dex/ss/moves/charm/\n",
            "https://www.smogon.com/dex/ss/moves/circle-throw/\n",
            "https://www.smogon.com/dex/ss/moves/clanging-scales/\n",
            "https://www.smogon.com/dex/ss/types/dragon/\n",
            "https://www.smogon.com/dex/ss/moves/clangorous-soul/\n",
            "https://www.smogon.com/dex/ss/moves/clear-smog/\n",
            "https://www.smogon.com/dex/ss/moves/close-combat/\n",
            "https://www.smogon.com/dex/ss/moves/coil/\n",
            "https://www.smogon.com/dex/ss/moves/confusion/\n",
            "https://www.smogon.com/dex/ss/moves/copycat/\n",
            "https://www.smogon.com/dex/ss/moves/cosmic-power/\n",
            "https://www.smogon.com/dex/ss/moves/cotton-guard/\n",
            "https://www.smogon.com/dex/ss/moves/cotton-spore/\n",
            "https://www.smogon.com/dex/ss/moves/counter/\n",
            "https://www.smogon.com/dex/ss/moves/court-change/\n",
            "https://www.smogon.com/dex/ss/moves/crafty-shield/\n",
            "https://www.smogon.com/dex/ss/moves/cross-chop/\n",
            "https://www.smogon.com/dex/ss/moves/cross-poison/\n",
            "https://www.smogon.com/dex/ss/moves/crunch/\n",
            "https://www.smogon.com/dex/ss/moves/crush-claw/\n",
            "https://www.smogon.com/dex/ss/moves/cut/\n",
            "https://www.smogon.com/dex/ss/moves/dark-pulse/\n",
            "https://www.smogon.com/dex/ss/moves/darkest-lariat/\n",
            "https://www.smogon.com/dex/ss/moves/dazzling-gleam/\n",
            "https://www.smogon.com/dex/ss/moves/decorate/\n",
            "https://www.smogon.com/dex/ss/moves/defog/\n",
            "https://www.smogon.com/dex/ss/moves/destiny-bond/\n",
            "https://www.smogon.com/dex/ss/moves/detect/\n",
            "https://www.smogon.com/dex/ss/moves/dig/\n",
            "https://www.smogon.com/dex/ss/moves/disable/\n",
            "https://www.smogon.com/dex/ss/moves/disarming-voice/\n",
            "https://www.smogon.com/dex/ss/moves/discharge/\n",
            "https://www.smogon.com/dex/ss/moves/doom-desire/\n",
            "https://www.smogon.com/dex/ss/moves/dive/\n",
            "https://www.smogon.com/dex/ss/moves/double-hit/\n",
            "https://www.smogon.com/dex/ss/moves/double-iron-bash/\n",
            "https://www.smogon.com/dex/ss/moves/double-team/\n",
            "https://www.smogon.com/dex/ss/moves/double-edge/\n",
            "https://www.smogon.com/dex/ss/moves/draco-meteor/\n",
            "https://www.smogon.com/dex/ss/moves/dragon-breath/\n",
            "https://www.smogon.com/dex/ss/moves/dragon-claw/\n",
            "https://www.smogon.com/dex/ss/moves/dragon-pulse/\n",
            "https://www.smogon.com/dex/ss/moves/dragon-rush/\n",
            "https://www.smogon.com/dex/ss/moves/dragon-tail/\n",
            "https://www.smogon.com/dex/ss/moves/drain-punch/\n",
            "https://www.smogon.com/dex/ss/moves/draining-kiss/\n",
            "https://www.smogon.com/dex/ss/moves/dream-eater/\n",
            "https://www.smogon.com/dex/ss/moves/drill-peck/\n",
            "https://www.smogon.com/dex/ss/moves/dual-chop/\n",
            "https://www.smogon.com/dex/ss/moves/dynamax-cannon/\n",
            "https://www.smogon.com/dex/ss/moves/dynamic-punch/\n",
            "https://www.smogon.com/dex/ss/moves/earth-power/\n",
            "https://www.smogon.com/dex/ss/moves/earthquake/\n",
            "https://www.smogon.com/dex/ss/moves/echoed-voice/\n",
            "https://www.smogon.com/dex/ss/moves/eerie-impulse/\n",
            "https://www.smogon.com/dex/ss/moves/electro-ball/\n",
            "https://www.smogon.com/dex/ss/moves/electroweb/\n",
            "https://www.smogon.com/dex/ss/moves/electrify/\n",
            "https://www.smogon.com/dex/ss/moves/ember/\n",
            "https://www.smogon.com/dex/ss/moves/encore/\n",
            "https://www.smogon.com/dex/ss/moves/endeavor/\n",
            "https://www.smogon.com/dex/ss/moves/endure/\n",
            "https://www.smogon.com/dex/ss/moves/energy-ball/\n",
            "https://www.smogon.com/dex/ss/moves/entrainment/\n",
            "https://www.smogon.com/dex/ss/moves/eruption/\n",
            "https://www.smogon.com/dex/ss/moves/explosion/\n",
            "https://www.smogon.com/dex/ss/moves/extrasensory/\n",
            "https://www.smogon.com/dex/ss/moves/extreme-speed/\n",
            "https://www.smogon.com/dex/ss/moves/facade/\n",
            "https://www.smogon.com/dex/ss/moves/fairy-wind/\n",
            "https://www.smogon.com/dex/ss/moves/fake-out/\n",
            "https://www.smogon.com/dex/ss/moves/fake-tears/\n",
            "https://www.smogon.com/dex/ss/moves/false-surrender/\n",
            "https://www.smogon.com/dex/ss/moves/false-swipe/\n",
            "https://www.smogon.com/dex/ss/moves/fell-stinger/\n",
            "https://www.smogon.com/dex/ss/moves/final-gambit/\n",
            "https://www.smogon.com/dex/ss/moves/fire-blast/\n",
            "https://www.smogon.com/dex/ss/moves/fire-fang/\n",
            "https://www.smogon.com/dex/ss/moves/fire-lash/\n",
            "https://www.smogon.com/dex/ss/moves/fire-pledge/\n",
            "https://www.smogon.com/dex/ss/moves/feint/\n",
            "https://www.smogon.com/dex/ss/moves/fire-punch/\n",
            "https://www.smogon.com/dex/ss/moves/fire-spin/\n",
            "https://www.smogon.com/dex/ss/moves/first-impression/\n",
            "https://www.smogon.com/dex/ss/moves/fissure/\n",
            "https://www.smogon.com/dex/ss/moves/flail/\n",
            "https://www.smogon.com/dex/ss/moves/flame-charge/\n",
            "https://www.smogon.com/dex/ss/moves/flame-wheel/\n",
            "https://www.smogon.com/dex/ss/moves/flare-blitz/\n",
            "https://www.smogon.com/dex/ss/moves/flash-cannon/\n",
            "https://www.smogon.com/dex/ss/moves/flatter/\n",
            "https://www.smogon.com/dex/ss/moves/fling/\n",
            "https://www.smogon.com/dex/ss/moves/flower-shield/\n",
            "https://www.smogon.com/dex/ss/moves/focus-blast/\n",
            "https://www.smogon.com/dex/ss/moves/focus-energy/\n",
            "https://www.smogon.com/dex/ss/moves/focus-punch/\n",
            "https://www.smogon.com/dex/ss/moves/follow-me/\n",
            "https://www.smogon.com/dex/ss/moves/force-palm/\n",
            "https://www.smogon.com/dex/ss/moves/forests-curse/\n",
            "https://www.smogon.com/dex/ss/moves/foul-play/\n",
            "https://www.smogon.com/dex/ss/moves/freeze-shock/\n",
            "https://www.smogon.com/dex/ss/moves/freeze-dry/\n",
            "https://www.smogon.com/dex/ss/moves/frenzy-plant/\n",
            "https://www.smogon.com/dex/ss/moves/frost-breath/\n",
            "https://www.smogon.com/dex/ss/moves/fury-attack/\n",
            "https://www.smogon.com/dex/ss/moves/fury-cutter/\n",
            "https://www.smogon.com/dex/ss/moves/fusion-flare/\n",
            "https://www.smogon.com/dex/ss/moves/future-sight/\n",
            "https://www.smogon.com/dex/ss/moves/g-max-befuddle/\n",
            "https://www.smogon.com/dex/ss/moves/g-max-centiferno/\n",
            "https://www.smogon.com/dex/ss/moves/g-max-chi-strike/\n",
            "https://www.smogon.com/dex/ss/moves/g-max-cuddle/\n",
            "https://www.smogon.com/dex/ss/moves/g-max-foam-burst/\n",
            "https://www.smogon.com/dex/ss/moves/g-max-gold-rush/\n",
            "https://www.smogon.com/dex/ss/moves/g-max-gravitas/\n",
            "https://www.smogon.com/dex/ss/moves/g-max-malodor/\n",
            "https://www.smogon.com/dex/ss/moves/g-max-replenish/\n",
            "https://www.smogon.com/dex/ss/moves/g-max-resonance/\n",
            "https://www.smogon.com/dex/ss/moves/g-max-sandblast/\n",
            "https://www.smogon.com/dex/ss/moves/g-max-smite/\n",
            "https://www.smogon.com/dex/ss/moves/g-max-snooze/\n",
            "https://www.smogon.com/dex/ss/moves/g-max-steelsurge/\n",
            "https://www.smogon.com/dex/ss/moves/g-max-sweetness/\n",
            "https://www.smogon.com/dex/ss/moves/g-max-tartness/\n",
            "https://www.smogon.com/dex/ss/moves/g-max-terror/\n",
            "https://www.smogon.com/dex/ss/moves/g-max-volcalith/\n",
            "https://www.smogon.com/dex/ss/moves/g-max-volt-crash/\n",
            "https://www.smogon.com/dex/ss/moves/g-max-wildfire/\n",
            "https://www.smogon.com/dex/ss/moves/gear-grind/\n",
            "https://www.smogon.com/dex/ss/moves/gastro-acid/\n",
            "https://www.smogon.com/dex/ss/moves/gear-up/\n",
            "https://www.smogon.com/dex/ss/moves/giga-drain/\n",
            "https://www.smogon.com/dex/ss/moves/giga-impact/\n",
            "https://www.smogon.com/dex/ss/moves/grass-knot/\n",
            "https://www.smogon.com/dex/ss/moves/grass-pledge/\n",
            "https://www.smogon.com/dex/ss/moves/glaciate/\n",
            "https://www.smogon.com/dex/ss/moves/glare/\n",
            "https://www.smogon.com/dex/ss/moves/grassy-terrain/\n",
            "https://www.smogon.com/dex/ss/moves/gravity/\n",
            "https://www.smogon.com/dex/ss/moves/growl/\n",
            "https://www.smogon.com/dex/ss/moves/growth/\n",
            "https://www.smogon.com/dex/ss/moves/grudge/\n",
            "https://www.smogon.com/dex/ss/moves/guard-split/\n",
            "https://www.smogon.com/dex/ss/moves/guillotine/\n",
            "https://www.smogon.com/dex/ss/moves/gunk-shot/\n",
            "https://www.smogon.com/dex/ss/moves/gust/\n",
            "https://www.smogon.com/dex/ss/moves/gyro-ball/\n",
            "https://www.smogon.com/dex/ss/moves/hail/\n",
            "https://www.smogon.com/dex/ss/moves/hammer-arm/\n",
            "https://www.smogon.com/dex/ss/moves/happy-hour/\n",
            "https://www.smogon.com/dex/ss/moves/harden/\n",
            "https://www.smogon.com/dex/ss/moves/headbutt/\n",
            "https://www.smogon.com/dex/ss/moves/heal-bell/\n",
            "https://www.smogon.com/dex/ss/moves/heal-pulse/\n",
            "https://www.smogon.com/dex/ss/moves/healing-wish/\n",
            "https://www.smogon.com/dex/ss/moves/heat-crash/\n",
            "https://www.smogon.com/dex/ss/moves/heat-wave/\n",
            "https://www.smogon.com/dex/ss/moves/heavy-slam/\n",
            "https://www.smogon.com/dex/ss/moves/helping-hand/\n",
            "https://www.smogon.com/dex/ss/moves/hex/\n",
            "https://www.smogon.com/dex/ss/moves/high-jump-kick/\n",
            "https://www.smogon.com/dex/ss/moves/hold-back/\n",
            "https://www.smogon.com/dex/ss/moves/hold-hands/\n",
            "https://www.smogon.com/dex/ss/moves/hone-claws/\n",
            "https://www.smogon.com/dex/ss/moves/horn-attack/\n",
            "https://www.smogon.com/dex/ss/moves/howl/\n",
            "https://www.smogon.com/dex/ss/moves/hurricane/\n",
            "https://www.smogon.com/dex/ss/moves/horn-leech/\n",
            "https://www.smogon.com/dex/ss/moves/hydro-cannon/\n",
            "https://www.smogon.com/dex/ss/moves/hydro-pump/\n",
            "https://www.smogon.com/dex/ss/moves/hypnosis/\n",
            "https://www.smogon.com/dex/ss/moves/ice-beam/\n",
            "https://www.smogon.com/dex/ss/moves/ice-burn/\n",
            "https://www.smogon.com/dex/ss/moves/ice-fang/\n",
            "https://www.smogon.com/dex/ss/moves/ice-punch/\n",
            "https://www.smogon.com/dex/ss/moves/ice-shard/\n",
            "https://www.smogon.com/dex/ss/moves/icicle-crash/\n",
            "https://www.smogon.com/dex/ss/moves/icicle-spear/\n",
            "https://www.smogon.com/dex/ss/moves/icy-wind/\n",
            "https://www.smogon.com/dex/ss/moves/incinerate/\n",
            "https://www.smogon.com/dex/ss/moves/inferno/\n",
            "https://www.smogon.com/dex/ss/moves/infestation/\n",
            "https://www.smogon.com/dex/ss/moves/ingrain/\n",
            "https://www.smogon.com/dex/ss/moves/instruct/\n",
            "https://www.smogon.com/dex/ss/moves/iron-tail/\n",
            "https://www.smogon.com/dex/ss/moves/iron-head/\n",
            "https://www.smogon.com/dex/ss/moves/jaw-lock/\n",
            "https://www.smogon.com/dex/ss/moves/kings-shield/\n",
            "https://www.smogon.com/dex/ss/moves/knock-off/\n",
            "https://www.smogon.com/dex/ss/moves/lava-plume/\n",
            "https://www.smogon.com/dex/ss/moves/leaf-blade/\n",
            "https://www.smogon.com/dex/ss/moves/leaf-storm/\n",
            "https://www.smogon.com/dex/ss/moves/leaf-tornado/\n",
            "https://www.smogon.com/dex/ss/moves/leafage/\n",
            "https://www.smogon.com/dex/ss/moves/leech-life/\n",
            "https://www.smogon.com/dex/ss/moves/lick/\n",
            "https://www.smogon.com/dex/ss/moves/life-dew/\n",
            "https://www.smogon.com/dex/ss/moves/light-screen/\n",
            "https://www.smogon.com/dex/ss/moves/liquidation/\n",
            "https://www.smogon.com/dex/ss/moves/lock-on/\n",
            "https://www.smogon.com/dex/ss/moves/low-kick/\n",
            "https://www.smogon.com/dex/ss/moves/mach-punch/\n",
            "https://www.smogon.com/dex/ss/moves/magic-coat/\n",
            "https://www.smogon.com/dex/ss/moves/low-sweep/\n",
            "https://www.smogon.com/dex/ss/moves/lunge/\n",
            "https://www.smogon.com/dex/ss/moves/magical-leaf/\n",
            "https://www.smogon.com/dex/ss/moves/magnet-rise/\n",
            "https://www.smogon.com/dex/ss/moves/magnetic-flux/\n",
            "https://www.smogon.com/dex/ss/moves/mat-block/\n",
            "https://www.smogon.com/dex/ss/moves/max-airstream/\n",
            "https://www.smogon.com/dex/ss/moves/max-darkness/\n",
            "https://www.smogon.com/dex/ss/moves/max-flare/\n",
            "https://www.smogon.com/dex/ss/moves/max-guard/\n",
            "https://www.smogon.com/dex/ss/moves/max-flutterby/\n",
            "https://www.smogon.com/dex/ss/moves/max-geyser/\n",
            "https://www.smogon.com/dex/ss/moves/max-knuckle/\n",
            "https://www.smogon.com/dex/ss/moves/max-lightning/\n",
            "https://www.smogon.com/dex/ss/moves/max-mindstorm/\n",
            "https://www.smogon.com/dex/ss/moves/max-ooze/\n",
            "https://www.smogon.com/dex/ss/moves/max-overgrowth/\n",
            "https://www.smogon.com/dex/ss/moves/max-phantasm/\n",
            "https://www.smogon.com/dex/ss/moves/max-quake/\n",
            "https://www.smogon.com/dex/ss/moves/max-steelspike/\n",
            "https://www.smogon.com/dex/ss/moves/max-strike/\n",
            "https://www.smogon.com/dex/ss/moves/max-starfall/\n",
            "https://www.smogon.com/dex/ss/moves/max-wyrmwind/\n",
            "https://www.smogon.com/dex/ss/moves/mega-drain/\n",
            "https://www.smogon.com/dex/ss/moves/mega-kick/\n",
            "https://www.smogon.com/dex/ss/moves/mega-punch/\n",
            "https://www.smogon.com/dex/ss/moves/megahorn/\n",
            "https://www.smogon.com/dex/ss/moves/memento/\n",
            "https://www.smogon.com/dex/ss/moves/metal-sound/\n",
            "https://www.smogon.com/dex/ss/moves/meteor-assault/\n",
            "https://www.smogon.com/dex/ss/moves/meteor-mash/\n",
            "https://www.smogon.com/dex/ss/moves/metal-claw/\n",
            "https://www.smogon.com/dex/ss/moves/metronome/\n",
            "https://www.smogon.com/dex/ss/moves/mimic/\n",
            "https://www.smogon.com/dex/ss/moves/mind-reader/\n",
            "https://www.smogon.com/dex/ss/moves/mist/\n",
            "https://www.smogon.com/dex/ss/moves/misty-terrain/\n",
            "https://www.smogon.com/dex/ss/moves/moonblast/\n",
            "https://www.smogon.com/dex/ss/moves/moongeist-beam/\n",
            "https://www.smogon.com/dex/ss/moves/moonlight/\n",
            "https://www.smogon.com/dex/ss/moves/morning-sun/\n",
            "https://www.smogon.com/dex/ss/moves/mud-shot/\n",
            "https://www.smogon.com/dex/ss/moves/multi-attack/\n",
            "https://www.smogon.com/dex/ss/moves/mystical-fire/\n",
            "https://www.smogon.com/dex/ss/moves/nasty-plot/\n",
            "https://www.smogon.com/dex/ss/moves/nature-power/\n",
            "https://www.smogon.com/dex/ss/moves/night-daze/\n",
            "https://www.smogon.com/dex/ss/moves/night-slash/\n",
            "https://www.smogon.com/dex/ss/moves/no-retreat/\n",
            "https://www.smogon.com/dex/ss/moves/noble-roar/\n",
            "https://www.smogon.com/dex/ss/moves/nuzzle/\n",
            "https://www.smogon.com/dex/ss/moves/obstruct/\n",
            "https://www.smogon.com/dex/ss/moves/octolock/\n",
            "https://www.smogon.com/dex/ss/moves/outrage/\n",
            "https://www.smogon.com/dex/ss/moves/overdrive/\n",
            "https://www.smogon.com/dex/ss/moves/overheat/\n",
            "https://www.smogon.com/dex/ss/moves/pain-split/\n",
            "https://www.smogon.com/dex/ss/moves/parabolic-charge/\n",
            "https://www.smogon.com/dex/ss/moves/parting-shot/\n",
            "https://www.smogon.com/dex/ss/moves/pay-day/\n",
            "https://www.smogon.com/dex/ss/moves/perish-song/\n",
            "https://www.smogon.com/dex/ss/moves/petal-blizzard/\n",
            "https://www.smogon.com/dex/ss/moves/petal-dance/\n",
            "https://www.smogon.com/dex/ss/moves/phantom-force/\n",
            "https://www.smogon.com/dex/ss/moves/photon-geyser/\n",
            "https://www.smogon.com/dex/ss/moves/pin-missile/\n",
            "https://www.smogon.com/dex/ss/moves/plasma-fists/\n",
            "https://www.smogon.com/dex/ss/moves/play-nice/\n",
            "https://www.smogon.com/dex/ss/moves/play-rough/\n",
            "https://www.smogon.com/dex/ss/moves/pluck/\n",
            "https://www.smogon.com/dex/ss/moves/poison-fang/\n",
            "https://www.smogon.com/dex/ss/moves/poison-powder/\n",
            "https://www.smogon.com/dex/ss/moves/poison-sting/\n",
            "https://www.smogon.com/dex/ss/moves/poison-tail/\n",
            "https://www.smogon.com/dex/ss/moves/pollen-puff/\n",
            "https://www.smogon.com/dex/ss/moves/pound/\n",
            "https://www.smogon.com/dex/ss/moves/powder-snow/\n",
            "https://www.smogon.com/dex/ss/moves/power-gem/\n",
            "https://www.smogon.com/dex/ss/moves/power-split/\n",
            "https://www.smogon.com/dex/ss/moves/power-swap/\n",
            "https://www.smogon.com/dex/ss/moves/power-trick/\n",
            "https://www.smogon.com/dex/ss/moves/power-trip/\n",
            "https://www.smogon.com/dex/ss/moves/present/\n",
            "https://www.smogon.com/dex/ss/moves/prismatic-laser/\n",
            "https://www.smogon.com/dex/ss/moves/protect/\n",
            "https://www.smogon.com/dex/ss/moves/psybeam/\n",
            "https://www.smogon.com/dex/ss/moves/psych-up/\n",
            "https://www.smogon.com/dex/ss/moves/psychic/\n",
            "https://www.smogon.com/dex/ss/moves/psychic-fangs/\n",
            "https://www.smogon.com/dex/ss/moves/psychic-terrain/\n",
            "https://www.smogon.com/dex/ss/moves/psycho-cut/\n",
            "https://www.smogon.com/dex/ss/moves/psycho-shift/\n",
            "https://www.smogon.com/dex/ss/moves/psyshock/\n",
            "https://www.smogon.com/dex/ss/moves/purify/\n",
            "https://www.smogon.com/dex/ss/moves/pyro-ball/\n",
            "https://www.smogon.com/dex/ss/moves/quash/\n",
            "https://www.smogon.com/dex/ss/moves/quick-attack/\n",
            "https://www.smogon.com/dex/ss/moves/quiver-dance/\n",
            "https://www.smogon.com/dex/ss/moves/rage-powder/\n",
            "https://www.smogon.com/dex/ss/moves/rain-dance/\n",
            "https://www.smogon.com/dex/ss/moves/rapid-spin/\n",
            "https://www.smogon.com/dex/ss/moves/razor-leaf/\n",
            "https://www.smogon.com/dex/ss/moves/razor-shell/\n",
            "https://www.smogon.com/dex/ss/moves/recover/\n",
            "https://www.smogon.com/dex/ss/moves/recycle/\n",
            "https://www.smogon.com/dex/ss/moves/reflect/\n",
            "https://www.smogon.com/dex/ss/moves/rest/\n",
            "https://www.smogon.com/dex/ss/moves/retaliate/\n",
            "https://www.smogon.com/dex/ss/moves/revenge/\n",
            "https://www.smogon.com/dex/ss/moves/rock-blast/\n",
            "https://www.smogon.com/dex/ss/moves/rock-polish/\n",
            "https://www.smogon.com/dex/ss/moves/rock-slide/\n",
            "https://www.smogon.com/dex/ss/moves/rock-smash/\n",
            "https://www.smogon.com/dex/ss/moves/rock-throw/\n",
            "https://www.smogon.com/dex/ss/moves/rock-tomb/\n",
            "https://www.smogon.com/dex/ss/moves/rock-wrecker/\n",
            "https://www.smogon.com/dex/ss/moves/role-play/\n",
            "https://www.smogon.com/dex/ss/moves/rollout/\n",
            "https://www.smogon.com/dex/ss/moves/roost/\n",
            "https://www.smogon.com/dex/ss/moves/round/\n",
            "https://www.smogon.com/dex/ss/moves/sacred-sword/\n",
            "https://www.smogon.com/dex/ss/moves/safeguard/\n",
            "https://www.smogon.com/dex/ss/moves/sand-tomb/\n",
            "https://www.smogon.com/dex/ss/moves/sandstorm/\n",
            "https://www.smogon.com/dex/ss/moves/scald/\n",
            "https://www.smogon.com/dex/ss/moves/scary-face/\n",
            "https://www.smogon.com/dex/ss/moves/scratch/\n",
            "https://www.smogon.com/dex/ss/moves/screech/\n",
            "https://www.smogon.com/dex/ss/moves/secret-sword/\n",
            "https://www.smogon.com/dex/ss/moves/seed-bomb/\n",
            "https://www.smogon.com/dex/ss/moves/seismic-toss/\n",
            "https://www.smogon.com/dex/ss/moves/self-destruct/\n",
            "https://www.smogon.com/dex/ss/moves/shadow-ball/\n",
            "https://www.smogon.com/dex/ss/moves/shadow-sneak/\n",
            "https://www.smogon.com/dex/ss/moves/sheer-cold/\n",
            "https://www.smogon.com/dex/ss/moves/shell-smash/\n",
            "https://www.smogon.com/dex/ss/moves/shell-trap/\n",
            "https://www.smogon.com/dex/ss/moves/shift-gear/\n",
            "https://www.smogon.com/dex/ss/moves/sing/\n",
            "https://www.smogon.com/dex/ss/moves/skill-swap/\n",
            "https://www.smogon.com/dex/ss/moves/skull-bash/\n",
            "https://www.smogon.com/dex/ss/moves/sky-attack/\n",
            "https://www.smogon.com/dex/ss/moves/slack-off/\n",
            "https://www.smogon.com/dex/ss/moves/slam/\n",
            "https://www.smogon.com/dex/ss/moves/slash/\n",
            "https://www.smogon.com/dex/ss/moves/sleep-powder/\n",
            "https://www.smogon.com/dex/ss/moves/sleep-talk/\n",
            "https://www.smogon.com/dex/ss/moves/sludge-wave/\n",
            "https://www.smogon.com/dex/ss/moves/smack-down/\n",
            "https://www.smogon.com/dex/ss/moves/smart-strike/\n",
            "https://www.smogon.com/dex/ss/moves/smog/\n",
            "https://www.smogon.com/dex/ss/moves/smokescreen/\n",
            "https://www.smogon.com/dex/ss/moves/snap-trap/\n",
            "https://www.smogon.com/dex/ss/moves/snarl/\n",
            "https://www.smogon.com/dex/ss/moves/snipe-shot/\n",
            "https://www.smogon.com/dex/ss/moves/snore/\n",
            "https://www.smogon.com/dex/ss/moves/solar-beam/\n",
            "https://www.smogon.com/dex/ss/moves/solar-blade/\n",
            "https://www.smogon.com/dex/ss/moves/spark/\n",
            "https://www.smogon.com/dex/ss/moves/sparkling-aria/\n",
            "https://www.smogon.com/dex/ss/moves/spectral-thief/\n",
            "https://www.smogon.com/dex/ss/moves/speed-swap/\n",
            "https://www.smogon.com/dex/ss/moves/spikes/\n",
            "https://www.smogon.com/dex/ss/moves/spirit-break/\n",
            "https://www.smogon.com/dex/ss/moves/spirit-shackle/\n",
            "https://www.smogon.com/dex/ss/moves/spit-up/\n",
            "https://www.smogon.com/dex/ss/moves/spite/\n",
            "https://www.smogon.com/dex/ss/moves/splash/\n",
            "https://www.smogon.com/dex/ss/moves/stealth-rock/\n",
            "https://www.smogon.com/dex/ss/moves/steel-beam/\n",
            "https://www.smogon.com/dex/ss/moves/steel-wing/\n",
            "https://www.smogon.com/dex/ss/moves/sticky-web/\n",
            "https://www.smogon.com/dex/ss/moves/stockpile/\n",
            "https://www.smogon.com/dex/ss/moves/stomp/\n",
            "https://www.smogon.com/dex/ss/moves/stomping-tantrum/\n",
            "https://www.smogon.com/dex/ss/moves/stored-power/\n",
            "https://www.smogon.com/dex/ss/moves/storm-throw/\n",
            "https://www.smogon.com/dex/ss/moves/strange-steam/\n",
            "https://www.smogon.com/dex/ss/moves/strength/\n",
            "https://www.smogon.com/dex/ss/moves/struggle/\n",
            "https://www.smogon.com/dex/ss/moves/struggle-bug/\n",
            "https://www.smogon.com/dex/ss/moves/stuff-cheeks/\n",
            "https://www.smogon.com/dex/ss/moves/stun-spore/\n",
            "https://www.smogon.com/dex/ss/moves/submission/\n",
            "https://www.smogon.com/dex/ss/moves/substitute/\n",
            "https://www.smogon.com/dex/ss/moves/sucker-punch/\n",
            "https://www.smogon.com/dex/ss/moves/sunny-day/\n",
            "https://www.smogon.com/dex/ss/moves/super-fang/\n",
            "https://www.smogon.com/dex/ss/moves/superpower/\n",
            "https://www.smogon.com/dex/ss/moves/supersonic/\n",
            "https://www.smogon.com/dex/ss/moves/surf/\n",
            "https://www.smogon.com/dex/ss/moves/swallow/\n",
            "https://www.smogon.com/dex/ss/moves/sweet-kiss/\n",
            "https://www.smogon.com/dex/ss/moves/sweet-scent/\n",
            "https://www.smogon.com/dex/ss/moves/swift/\n",
            "https://www.smogon.com/dex/ss/moves/switcheroo/\n",
            "https://www.smogon.com/dex/ss/moves/swords-dance/\n",
            "https://www.smogon.com/dex/ss/moves/synthesis/\n",
            "https://www.smogon.com/dex/ss/moves/tackle/\n",
            "https://www.smogon.com/dex/ss/moves/tail-slap/\n",
            "https://www.smogon.com/dex/ss/moves/tail-whip/\n",
            "https://www.smogon.com/dex/ss/moves/tailwind/\n",
            "https://www.smogon.com/dex/ss/moves/taunt/\n",
            "https://www.smogon.com/dex/ss/moves/tearful-look/\n",
            "https://www.smogon.com/dex/ss/moves/teatime/\n",
            "https://www.smogon.com/dex/ss/moves/teeter-dance/\n",
            "https://www.smogon.com/dex/ss/moves/teleport/\n",
            "https://www.smogon.com/dex/ss/moves/thief/\n",
            "https://www.smogon.com/dex/ss/moves/thrash/\n",
            "https://www.smogon.com/dex/ss/moves/throat-chop/\n",
            "https://www.smogon.com/dex/ss/moves/thunder/\n",
            "https://www.smogon.com/dex/ss/moves/thunder-fang/\n",
            "https://www.smogon.com/dex/ss/moves/thunder-wave/\n",
            "https://www.smogon.com/dex/ss/moves/thunderbolt/\n",
            "https://www.smogon.com/dex/ss/moves/tickle/\n",
            "https://www.smogon.com/dex/ss/moves/topsy-turvy/\n",
            "https://www.smogon.com/dex/ss/moves/torment/\n",
            "https://www.smogon.com/dex/ss/moves/toxic/\n",
            "https://www.smogon.com/dex/ss/moves/tri-attack/\n",
            "https://www.smogon.com/dex/ss/moves/trick/\n",
            "https://www.smogon.com/dex/ss/moves/trick-room/\n",
            "https://www.smogon.com/dex/ss/moves/trick-or-treat/\n",
            "https://www.smogon.com/dex/ss/moves/triple-kick/\n",
            "https://www.smogon.com/dex/ss/moves/trop-kick/\n",
            "https://www.smogon.com/dex/ss/moves/twister/\n",
            "https://www.smogon.com/dex/ss/moves/u-turn/\n",
            "https://www.smogon.com/dex/ss/moves/uproar/\n",
            "https://www.smogon.com/dex/ss/moves/venom-drench/\n",
            "https://www.smogon.com/dex/ss/moves/venoshock/\n",
            "https://www.smogon.com/dex/ss/moves/vice-grip/\n",
            "https://www.smogon.com/dex/ss/moves/vine-whip/\n",
            "https://www.smogon.com/dex/ss/moves/vital-throw/\n",
            "https://www.smogon.com/dex/ss/moves/volt-switch/\n",
            "https://www.smogon.com/dex/ss/moves/volt-tackle/\n",
            "https://www.smogon.com/dex/ss/moves/water-gun/\n",
            "https://www.smogon.com/dex/ss/moves/water-pledge/\n",
            "https://www.smogon.com/dex/ss/moves/water-shuriken/\n",
            "https://www.smogon.com/dex/ss/moves/water-spout/\n",
            "https://www.smogon.com/dex/ss/moves/waterfall/\n",
            "https://www.smogon.com/dex/ss/moves/weather-ball/\n",
            "https://www.smogon.com/dex/ss/moves/whirlpool/\n",
            "https://www.smogon.com/dex/ss/moves/wide-guard/\n",
            "https://www.smogon.com/dex/ss/moves/wild-charge/\n",
            "https://www.smogon.com/dex/ss/moves/will-o-wisp/\n",
            "https://www.smogon.com/dex/ss/moves/wing-attack/\n",
            "https://www.smogon.com/dex/ss/moves/withdraw/\n",
            "https://www.smogon.com/dex/ss/moves/wonder-room/\n",
            "https://www.smogon.com/dex/ss/moves/wood-hammer/\n",
            "https://www.smogon.com/dex/ss/moves/work-up/\n",
            "https://www.smogon.com/dex/ss/moves/worry-seed/\n",
            "https://www.smogon.com/dex/ss/moves/x-scissor/\n",
            "https://www.smogon.com/dex/ss/moves/yawn/\n",
            "https://www.smogon.com/dex/ss/moves/zap-cannon/\n",
            "https://www.smogon.com/dex/ss/moves/zen-headbutt/\n",
            "https://www.smogon.com/dex/ss/moves/acid-downpour/\n",
            "https://www.smogon.com/dex/ss/moves/aeroblast/\n",
            "https://www.smogon.com/dex/ss/moves/all-out-pummeling/\n",
            "https://www.smogon.com/dex/ss/moves/10000000-volt-thunderbolt/\n",
            "https://www.smogon.com/dex/ss/moves/assist/\n",
            "https://www.smogon.com/dex/ss/moves/barrier/\n",
            "https://www.smogon.com/dex/ss/moves/beak-blast/\n",
            "https://www.smogon.com/dex/ss/moves/bestow/\n",
            "https://www.smogon.com/dex/ss/moves/bide/\n",
            "https://www.smogon.com/dex/ss/moves/black-hole-eclipse/\n",
            "https://www.smogon.com/dex/ss/moves/bloom-doom/\n",
            "https://www.smogon.com/dex/ss/moves/bone-club/\n",
            "https://www.smogon.com/dex/ss/moves/bonemerang/\n",
            "https://www.smogon.com/dex/ss/moves/bouncy-bubble/\n",
            "https://www.smogon.com/dex/ss/moves/buzzy-buzz/\n",
            "https://www.smogon.com/dex/ss/moves/camouflage/\n",
            "https://www.smogon.com/dex/ss/moves/captivate/\n",
            "https://www.smogon.com/dex/ss/moves/catastropika/\n",
            "https://www.smogon.com/dex/ss/moves/chatter/\n",
            "https://www.smogon.com/dex/ss/moves/chip-away/\n",
            "https://www.smogon.com/dex/ss/moves/clamp/\n",
            "https://www.smogon.com/dex/ss/moves/constrict/\n",
            "https://www.smogon.com/dex/ss/moves/continental-crush/\n",
            "https://www.smogon.com/dex/ss/moves/conversion/\n",
            "https://www.smogon.com/dex/ss/moves/conversion-2/\n",
            "https://www.smogon.com/dex/ss/moves/core-enforcer/\n",
            "https://www.smogon.com/dex/ss/moves/corkscrew-crash/\n",
            "https://www.smogon.com/dex/ss/moves/devastating-drake/\n",
            "https://www.smogon.com/dex/ss/moves/diamond-storm/\n",
            "https://www.smogon.com/dex/ss/moves/crush-grip/\n",
            "https://www.smogon.com/dex/ss/moves/dark-void/\n",
            "https://www.smogon.com/dex/ss/moves/dizzy-punch/\n",
            "https://www.smogon.com/dex/ss/moves/dragon-ascent/\n",
            "https://www.smogon.com/dex/ss/moves/dragon-hammer/\n",
            "https://www.smogon.com/dex/ss/moves/dragon-rage/\n",
            "https://www.smogon.com/dex/ss/moves/egg-bomb/\n",
            "https://www.smogon.com/dex/ss/moves/embargo/\n",
            "https://www.smogon.com/dex/ss/moves/feint-attack/\n",
            "https://www.smogon.com/dex/ss/moves/fiery-dance/\n",
            "https://www.smogon.com/dex/ss/moves/flame-burst/\n",
            "https://www.smogon.com/dex/ss/moves/flash/\n",
            "https://www.smogon.com/dex/ss/moves/fleur-cannon/\n",
            "https://www.smogon.com/dex/ss/moves/floaty-fall/\n",
            "https://www.smogon.com/dex/ss/moves/floral-healing/\n",
            "https://www.smogon.com/dex/ss/moves/foresight/\n",
            "https://www.smogon.com/dex/ss/moves/genesis-supernova/\n",
            "https://www.smogon.com/dex/ss/moves/geomancy/\n",
            "https://www.smogon.com/dex/ss/moves/gigavolt-havoc/\n",
            "https://www.smogon.com/dex/ss/moves/glitzy-glow/\n",
            "https://www.smogon.com/dex/ss/moves/grass-whistle/\n",
            "https://www.smogon.com/dex/ss/moves/guardian-of-alola/\n",
            "https://www.smogon.com/dex/ss/moves/head-charge/\n",
            "https://www.smogon.com/dex/ss/moves/heal-order/\n",
            "https://www.smogon.com/dex/ss/moves/heal-block/\n",
            "https://www.smogon.com/dex/ss/moves/heart-stamp/\n",
            "https://www.smogon.com/dex/ss/moves/heart-swap/\n",
            "https://www.smogon.com/dex/ss/moves/hyper-fang/\n",
            "https://www.smogon.com/dex/ss/moves/hyperspace-fury/\n",
            "https://www.smogon.com/dex/ss/moves/hyperspace-hole/\n",
            "https://www.smogon.com/dex/ss/moves/ice-ball/\n",
            "https://www.smogon.com/dex/ss/moves/ice-hammer/\n",
            "https://www.smogon.com/dex/ss/moves/inferno-overdrive/\n",
            "https://www.smogon.com/dex/ss/moves/ion-deluge/\n",
            "https://www.smogon.com/dex/ss/moves/jump-kick/\n",
            "https://www.smogon.com/dex/ss/moves/karate-chop/\n",
            "https://www.smogon.com/dex/ss/moves/kinesis/\n",
            "https://www.smogon.com/dex/ss/moves/light-that-burns-the-sky/\n",
            "https://www.smogon.com/dex/ss/moves/light-of-ruin/\n",
            "https://www.smogon.com/dex/ss/moves/lovely-kiss/\n",
            "https://www.smogon.com/dex/ss/moves/lucky-chant/\n",
            "https://www.smogon.com/dex/ss/moves/lunar-dance/\n",
            "https://www.smogon.com/dex/ss/moves/luster-purge/\n",
            "https://www.smogon.com/dex/ss/moves/magma-storm/\n",
            "https://www.smogon.com/dex/ss/moves/magnitude/\n",
            "https://www.smogon.com/dex/ss/moves/malicious-moonsault/\n",
            "https://www.smogon.com/dex/ss/moves/me-first/\n",
            "https://www.smogon.com/dex/ss/moves/meditate/\n",
            "https://www.smogon.com/dex/ss/moves/menacing-moonraze-maelstrom/\n",
            "https://www.smogon.com/dex/ss/moves/miracle-eye/\n",
            "https://www.smogon.com/dex/ss/moves/mirror-move/\n",
            "https://www.smogon.com/dex/ss/moves/mirror-shot/\n",
            "https://www.smogon.com/dex/ss/moves/mist-ball/\n",
            "https://www.smogon.com/dex/ss/moves/mud-bomb/\n",
            "https://www.smogon.com/dex/ss/moves/mud-sport/\n",
            "https://www.smogon.com/dex/ss/moves/natural-gift/\n",
            "https://www.smogon.com/dex/ss/moves/natures-madness/\n",
            "https://www.smogon.com/dex/ss/moves/never-ending-nightmare/\n",
            "https://www.smogon.com/dex/ss/moves/nightmare/\n",
            "https://www.smogon.com/dex/ss/moves/oblivion-wing/\n",
            "https://www.smogon.com/dex/ss/moves/oceanic-operetta/\n",
            "https://www.smogon.com/dex/ss/moves/origin-pulse/\n",
            "https://www.smogon.com/dex/ss/moves/odor-sleuth/\n",
            "https://www.smogon.com/dex/ss/moves/ominous-wind/\n",
            "https://www.smogon.com/dex/ss/moves/pika-papow/\n",
            "https://www.smogon.com/dex/ss/moves/powder/\n",
            "https://www.smogon.com/dex/ss/moves/precipice-blades/\n",
            "https://www.smogon.com/dex/ss/moves/psycho-boost/\n",
            "https://www.smogon.com/dex/ss/moves/psywave/\n",
            "https://www.smogon.com/dex/ss/moves/pulverizing-pancake/\n",
            "https://www.smogon.com/dex/ss/moves/rage/\n",
            "https://www.smogon.com/dex/ss/moves/razor-wind/\n",
            "https://www.smogon.com/dex/ss/moves/refresh/\n",
            "https://www.smogon.com/dex/ss/moves/relic-song/\n",
            "https://www.smogon.com/dex/ss/moves/return/\n",
            "https://www.smogon.com/dex/ss/moves/revelation-dance/\n",
            "https://www.smogon.com/dex/ss/moves/roar-of-time/\n",
            "https://www.smogon.com/dex/ss/moves/rock-climb/\n",
            "https://www.smogon.com/dex/ss/moves/rolling-kick/\n",
            "https://www.smogon.com/dex/ss/moves/rototiller/\n",
            "https://www.smogon.com/dex/ss/moves/savage-spin-out/\n",
            "https://www.smogon.com/dex/ss/moves/searing-shot/\n",
            "https://www.smogon.com/dex/ss/moves/searing-sunraze-smash/\n",
            "https://www.smogon.com/dex/ss/moves/secret-power/\n",
            "https://www.smogon.com/dex/ss/moves/seed-flare/\n",
            "https://www.smogon.com/dex/ss/moves/shadow-force/\n",
            "https://www.smogon.com/dex/ss/moves/shadow-strike/\n",
            "https://www.smogon.com/dex/ss/moves/sharpen/\n",
            "https://www.smogon.com/dex/ss/moves/shattered-psyche/\n",
            "https://www.smogon.com/dex/ss/moves/shore-up/\n",
            "https://www.smogon.com/dex/ss/moves/signal-beam/\n",
            "https://www.smogon.com/dex/ss/moves/sizzly-slide/\n",
            "https://www.smogon.com/dex/ss/moves/sketch/\n",
            "https://www.smogon.com/dex/ss/moves/sky-drop/\n",
            "https://www.smogon.com/dex/ss/moves/sky-uppercut/\n",
            "https://www.smogon.com/dex/ss/moves/smelling-salts/\n",
            "https://www.smogon.com/dex/ss/moves/snatch/\n",
            "https://www.smogon.com/dex/ss/moves/sonic-boom/\n",
            "https://www.smogon.com/dex/ss/moves/soul-stealing-7-star-strike/\n",
            "https://www.smogon.com/dex/ss/moves/spacial-rend/\n",
            "https://www.smogon.com/dex/ss/moves/spike-cannon/\n",
            "https://www.smogon.com/dex/ss/moves/splintered-stormshards/\n",
            "https://www.smogon.com/dex/ss/moves/splishy-splash/\n",
            "https://www.smogon.com/dex/ss/moves/steam-eruption/\n",
            "https://www.smogon.com/dex/ss/moves/steamroller/\n",
            "https://www.smogon.com/dex/ss/moves/stoked-sparksurfer/\n",
            "https://www.smogon.com/dex/ss/moves/subzero-slammer/\n",
            "https://www.smogon.com/dex/ss/moves/supersonic-skystrike/\n",
            "https://www.smogon.com/dex/ss/moves/synchronoise/\n",
            "https://www.smogon.com/dex/ss/moves/tail-glow/\n",
            "https://www.smogon.com/dex/ss/moves/techno-blast/\n",
            "https://www.smogon.com/dex/ss/moves/tectonic-rage/\n",
            "https://www.smogon.com/dex/ss/moves/telekinesis/\n",
            "https://www.smogon.com/dex/ss/moves/thousand-arrows/\n",
            "https://www.smogon.com/dex/ss/moves/thousand-waves/\n",
            "https://www.smogon.com/dex/ss/moves/toxic-thread/\n",
            "https://www.smogon.com/dex/ss/moves/trump-card/\n",
            "https://www.smogon.com/dex/ss/moves/twineedle/\n",
            "https://www.smogon.com/dex/ss/moves/twinkle-tackle/\n",
            "https://www.smogon.com/dex/ss/moves/veevee-volley/\n",
            "https://www.smogon.com/dex/ss/moves/wake-up-slap/\n"
          ],
          "name": "stdout"
        },
        {
          "output_type": "execute_result",
          "data": {
            "text/plain": [
              "693"
            ]
          },
          "metadata": {
            "tags": []
          },
          "execution_count": 59
        }
      ]
    },
    {
      "cell_type": "code",
      "metadata": {
        "id": "t7lOhc5xgqF-",
        "colab_type": "code",
        "outputId": "54853d7a-ec21-438b-fb24-b5a78cdda26f",
        "colab": {
          "base_uri": "https://localhost:8080/",
          "height": 1000
        }
      },
      "source": [
        "browser = webdriver.Chrome('chromedriver',chrome_options=chrome_options)\n",
        "browser.get(\"https://www.smogon.com/dex/ss/abilities/\")\n",
        "ability_links = set(())\n",
        "flag = True\n",
        "while(flag):\n",
        "  flag = False\n",
        "  x = browser.find_elements_by_xpath(\"/html/body/div/div/main/div/div/div/div/a\")\n",
        "  for y in x:\n",
        "    try:\n",
        "      if y.get_attribute(\"href\") not in ability_links:\n",
        "        ability_links.add(y.get_attribute(\"href\"))\n",
        "        flag = True\n",
        "        print(y.get_attribute(\"href\"))\n",
        "        browser.find_element_by_xpath(\"/html/body\").send_keys(Keys.DOWN)\n",
        "    except:\n",
        "      browser.find_element_by_xpath(\"/html/body\").send_keys(Keys.UP)\n",
        "len(ability_links)"
      ],
      "execution_count": 0,
      "outputs": [
        {
          "output_type": "stream",
          "text": [
            "/usr/local/lib/python3.6/dist-packages/ipykernel_launcher.py:1: DeprecationWarning: use options instead of chrome_options\n",
            "  \"\"\"Entry point for launching an IPython kernel.\n"
          ],
          "name": "stderr"
        },
        {
          "output_type": "stream",
          "text": [
            "https://www.smogon.com/dex/ss/abilities/adaptability/\n",
            "https://www.smogon.com/dex/ss/abilities/aerilate/\n",
            "https://www.smogon.com/dex/ss/abilities/aftermath/\n",
            "https://www.smogon.com/dex/ss/abilities/air-lock/\n",
            "https://www.smogon.com/dex/ss/abilities/analytic/\n",
            "https://www.smogon.com/dex/ss/abilities/anger-point/\n",
            "https://www.smogon.com/dex/ss/abilities/anticipation/\n",
            "https://www.smogon.com/dex/ss/abilities/arena-trap/\n",
            "https://www.smogon.com/dex/ss/abilities/aroma-veil/\n",
            "https://www.smogon.com/dex/ss/abilities/aura-break/\n",
            "https://www.smogon.com/dex/ss/abilities/bad-dreams/\n",
            "https://www.smogon.com/dex/ss/abilities/ball-fetch/\n",
            "https://www.smogon.com/dex/ss/abilities/battery/\n",
            "https://www.smogon.com/dex/ss/abilities/battle-armor/\n",
            "https://www.smogon.com/dex/ss/abilities/battle-bond/\n",
            "https://www.smogon.com/dex/ss/abilities/beast-boost/\n",
            "https://www.smogon.com/dex/ss/abilities/berserk/\n",
            "https://www.smogon.com/dex/ss/abilities/big-pecks/\n",
            "https://www.smogon.com/dex/ss/abilities/blaze/\n",
            "https://www.smogon.com/dex/ss/abilities/bulletproof/\n",
            "https://www.smogon.com/dex/ss/abilities/cheek-pouch/\n",
            "https://www.smogon.com/dex/ss/abilities/chlorophyll/\n",
            "https://www.smogon.com/dex/ss/abilities/clear-body/\n",
            "https://www.smogon.com/dex/ss/abilities/cloud-nine/\n",
            "https://www.smogon.com/dex/ss/abilities/color-change/\n",
            "https://www.smogon.com/dex/ss/abilities/comatose/\n",
            "https://www.smogon.com/dex/ss/abilities/competitive/\n",
            "https://www.smogon.com/dex/ss/abilities/compound-eyes/\n",
            "https://www.smogon.com/dex/ss/abilities/contrary/\n",
            "https://www.smogon.com/dex/ss/abilities/corrosion/\n",
            "https://www.smogon.com/dex/ss/abilities/cotton-down/\n",
            "https://www.smogon.com/dex/ss/abilities/cursed-body/\n",
            "https://www.smogon.com/dex/ss/abilities/cute-charm/\n",
            "https://www.smogon.com/dex/ss/abilities/damp/\n",
            "https://www.smogon.com/dex/ss/abilities/dancer/\n",
            "https://www.smogon.com/dex/ss/abilities/dark-aura/\n",
            "https://www.smogon.com/dex/ss/abilities/dauntless-shield/\n",
            "https://www.smogon.com/dex/ss/abilities/dazzling/\n",
            "https://www.smogon.com/dex/ss/abilities/defeatist/\n",
            "https://www.smogon.com/dex/ss/abilities/defiant/\n",
            "https://www.smogon.com/dex/ss/abilities/delta-stream/\n",
            "https://www.smogon.com/dex/ss/abilities/desolate-land/\n",
            "https://www.smogon.com/dex/ss/abilities/disguise/\n",
            "https://www.smogon.com/dex/ss/abilities/download/\n",
            "https://www.smogon.com/dex/ss/abilities/drizzle/\n",
            "https://www.smogon.com/dex/ss/abilities/drought/\n",
            "https://www.smogon.com/dex/ss/abilities/dry-skin/\n",
            "https://www.smogon.com/dex/ss/abilities/early-bird/\n",
            "https://www.smogon.com/dex/ss/abilities/effect-spore/\n",
            "https://www.smogon.com/dex/ss/abilities/electric-surge/\n",
            "https://www.smogon.com/dex/ss/abilities/emergency-exit/\n",
            "https://www.smogon.com/dex/ss/abilities/fairy-aura/\n",
            "https://www.smogon.com/dex/ss/abilities/filter/\n",
            "https://www.smogon.com/dex/ss/abilities/flame-body/\n",
            "https://www.smogon.com/dex/ss/abilities/flare-boost/\n",
            "https://www.smogon.com/dex/ss/abilities/flash-fire/\n",
            "https://www.smogon.com/dex/ss/abilities/flower-gift/\n",
            "https://www.smogon.com/dex/ss/abilities/flower-veil/\n",
            "https://www.smogon.com/dex/ss/abilities/fluffy/\n",
            "https://www.smogon.com/dex/ss/abilities/forecast/\n",
            "https://www.smogon.com/dex/ss/abilities/forewarn/\n",
            "https://www.smogon.com/dex/ss/abilities/friend-guard/\n",
            "https://www.smogon.com/dex/ss/abilities/frisk/\n",
            "https://www.smogon.com/dex/ss/abilities/full-metal-body/\n",
            "https://www.smogon.com/dex/ss/abilities/fur-coat/\n",
            "https://www.smogon.com/dex/ss/abilities/gale-wings/\n",
            "https://www.smogon.com/dex/ss/abilities/galvanize/\n",
            "https://www.smogon.com/dex/ss/abilities/gluttony/\n",
            "https://www.smogon.com/dex/ss/abilities/gooey/\n",
            "https://www.smogon.com/dex/ss/abilities/gorilla-tactics/\n",
            "https://www.smogon.com/dex/ss/abilities/grass-pelt/\n",
            "https://www.smogon.com/dex/ss/abilities/grassy-surge/\n",
            "https://www.smogon.com/dex/ss/abilities/gulp-missile/\n",
            "https://www.smogon.com/dex/ss/abilities/guts/\n",
            "https://www.smogon.com/dex/ss/abilities/harvest/\n",
            "https://www.smogon.com/dex/ss/abilities/healer/\n",
            "https://www.smogon.com/dex/ss/abilities/heatproof/\n",
            "https://www.smogon.com/dex/ss/abilities/heavy-metal/\n",
            "https://www.smogon.com/dex/ss/abilities/honey-gather/\n",
            "https://www.smogon.com/dex/ss/abilities/huge-power/\n",
            "https://www.smogon.com/dex/ss/abilities/hunger-switch/\n",
            "https://www.smogon.com/dex/ss/abilities/hustle/\n",
            "https://www.smogon.com/dex/ss/abilities/hydration/\n",
            "https://www.smogon.com/dex/ss/abilities/hyper-cutter/\n",
            "https://www.smogon.com/dex/ss/abilities/ice-body/\n",
            "https://www.smogon.com/dex/ss/abilities/ice-face/\n",
            "https://www.smogon.com/dex/ss/abilities/ice-scales/\n",
            "https://www.smogon.com/dex/ss/abilities/illuminate/\n",
            "https://www.smogon.com/dex/ss/abilities/illusion/\n",
            "https://www.smogon.com/dex/ss/abilities/immunity/\n",
            "https://www.smogon.com/dex/ss/abilities/imposter/\n",
            "https://www.smogon.com/dex/ss/abilities/infiltrator/\n",
            "https://www.smogon.com/dex/ss/abilities/innards-out/\n",
            "https://www.smogon.com/dex/ss/abilities/inner-focus/\n",
            "https://www.smogon.com/dex/ss/abilities/insomnia/\n",
            "https://www.smogon.com/dex/ss/abilities/intimidate/\n",
            "https://www.smogon.com/dex/ss/abilities/intrepid-sword/\n",
            "https://www.smogon.com/dex/ss/abilities/iron-barbs/\n",
            "https://www.smogon.com/dex/ss/abilities/iron-fist/\n",
            "https://www.smogon.com/dex/ss/abilities/justified/\n",
            "https://www.smogon.com/dex/ss/abilities/keen-eye/\n",
            "https://www.smogon.com/dex/ss/abilities/klutz/\n",
            "https://www.smogon.com/dex/ss/abilities/leaf-guard/\n",
            "https://www.smogon.com/dex/ss/abilities/levitate/\n",
            "https://www.smogon.com/dex/ss/abilities/libero/\n",
            "https://www.smogon.com/dex/ss/abilities/light-metal/\n",
            "https://www.smogon.com/dex/ss/abilities/lightning-rod/\n",
            "https://www.smogon.com/dex/ss/abilities/limber/\n",
            "https://www.smogon.com/dex/ss/abilities/liquid-ooze/\n",
            "https://www.smogon.com/dex/ss/abilities/liquid-voice/\n",
            "https://www.smogon.com/dex/ss/abilities/long-reach/\n",
            "https://www.smogon.com/dex/ss/abilities/magic-bounce/\n",
            "https://www.smogon.com/dex/ss/abilities/magic-guard/\n",
            "https://www.smogon.com/dex/ss/abilities/magician/\n",
            "https://www.smogon.com/dex/ss/abilities/magma-armor/\n",
            "https://www.smogon.com/dex/ss/abilities/magnet-pull/\n",
            "https://www.smogon.com/dex/ss/abilities/marvel-scale/\n",
            "https://www.smogon.com/dex/ss/abilities/mega-launcher/\n",
            "https://www.smogon.com/dex/ss/abilities/merciless/\n",
            "https://www.smogon.com/dex/ss/abilities/mimicry/\n",
            "https://www.smogon.com/dex/ss/abilities/minus/\n",
            "https://www.smogon.com/dex/ss/abilities/mirror-armor/\n",
            "https://www.smogon.com/dex/ss/abilities/misty-surge/\n",
            "https://www.smogon.com/dex/ss/abilities/mold-breaker/\n",
            "https://www.smogon.com/dex/ss/abilities/moody/\n",
            "https://www.smogon.com/dex/ss/abilities/motor-drive/\n",
            "https://www.smogon.com/dex/ss/abilities/moxie/\n",
            "https://www.smogon.com/dex/ss/abilities/multiscale/\n",
            "https://www.smogon.com/dex/ss/abilities/multitype/\n",
            "https://www.smogon.com/dex/ss/abilities/mummy/\n",
            "https://www.smogon.com/dex/ss/abilities/natural-cure/\n",
            "https://www.smogon.com/dex/ss/abilities/neuroforce/\n",
            "https://www.smogon.com/dex/ss/abilities/neutralizing-gas/\n",
            "https://www.smogon.com/dex/ss/abilities/no-guard/\n",
            "https://www.smogon.com/dex/ss/abilities/normalize/\n",
            "https://www.smogon.com/dex/ss/abilities/oblivious/\n",
            "https://www.smogon.com/dex/ss/abilities/overcoat/\n",
            "https://www.smogon.com/dex/ss/abilities/overgrow/\n",
            "https://www.smogon.com/dex/ss/abilities/own-tempo/\n",
            "https://www.smogon.com/dex/ss/abilities/parental-bond/\n",
            "https://www.smogon.com/dex/ss/abilities/pastel-veil/\n",
            "https://www.smogon.com/dex/ss/abilities/perish-body/\n",
            "https://www.smogon.com/dex/ss/abilities/pickpocket/\n",
            "https://www.smogon.com/dex/ss/abilities/pickup/\n",
            "https://www.smogon.com/dex/ss/abilities/pixilate/\n",
            "https://www.smogon.com/dex/ss/abilities/plus/\n",
            "https://www.smogon.com/dex/ss/abilities/poison-heal/\n",
            "https://www.smogon.com/dex/ss/abilities/poison-point/\n",
            "https://www.smogon.com/dex/ss/abilities/poison-touch/\n",
            "https://www.smogon.com/dex/ss/abilities/power-construct/\n",
            "https://www.smogon.com/dex/ss/abilities/power-spot/\n",
            "https://www.smogon.com/dex/ss/abilities/power-of-alchemy/\n",
            "https://www.smogon.com/dex/ss/abilities/prankster/\n",
            "https://www.smogon.com/dex/ss/abilities/pressure/\n",
            "https://www.smogon.com/dex/ss/abilities/primordial-sea/\n",
            "https://www.smogon.com/dex/ss/abilities/prism-armor/\n",
            "https://www.smogon.com/dex/ss/abilities/propeller-tail/\n",
            "https://www.smogon.com/dex/ss/abilities/protean/\n",
            "https://www.smogon.com/dex/ss/abilities/psychic-surge/\n",
            "https://www.smogon.com/dex/ss/abilities/punk-rock/\n",
            "https://www.smogon.com/dex/ss/abilities/pure-power/\n",
            "https://www.smogon.com/dex/ss/abilities/queenly-majesty/\n",
            "https://www.smogon.com/dex/ss/abilities/quick-feet/\n",
            "https://www.smogon.com/dex/ss/abilities/rks-system/\n",
            "https://www.smogon.com/dex/ss/abilities/rain-dish/\n",
            "https://www.smogon.com/dex/ss/abilities/rattled/\n",
            "https://www.smogon.com/dex/ss/abilities/receiver/\n",
            "https://www.smogon.com/dex/ss/abilities/reckless/\n",
            "https://www.smogon.com/dex/ss/abilities/refrigerate/\n",
            "https://www.smogon.com/dex/ss/abilities/regenerator/\n",
            "https://www.smogon.com/dex/ss/abilities/ripen/\n",
            "https://www.smogon.com/dex/ss/abilities/rivalry/\n",
            "https://www.smogon.com/dex/ss/abilities/rock-head/\n",
            "https://www.smogon.com/dex/ss/abilities/rough-skin/\n",
            "https://www.smogon.com/dex/ss/abilities/run-away/\n",
            "https://www.smogon.com/dex/ss/abilities/sand-force/\n",
            "https://www.smogon.com/dex/ss/abilities/sand-rush/\n",
            "https://www.smogon.com/dex/ss/abilities/sand-spit/\n",
            "https://www.smogon.com/dex/ss/abilities/sand-stream/\n",
            "https://www.smogon.com/dex/ss/abilities/sand-veil/\n",
            "https://www.smogon.com/dex/ss/abilities/sap-sipper/\n",
            "https://www.smogon.com/dex/ss/abilities/schooling/\n",
            "https://www.smogon.com/dex/ss/abilities/scrappy/\n",
            "https://www.smogon.com/dex/ss/abilities/screen-cleaner/\n",
            "https://www.smogon.com/dex/ss/abilities/serene-grace/\n",
            "https://www.smogon.com/dex/ss/abilities/shadow-shield/\n",
            "https://www.smogon.com/dex/ss/abilities/shadow-tag/\n",
            "https://www.smogon.com/dex/ss/abilities/shed-skin/\n",
            "https://www.smogon.com/dex/ss/abilities/sheer-force/\n",
            "https://www.smogon.com/dex/ss/abilities/shell-armor/\n",
            "https://www.smogon.com/dex/ss/abilities/shield-dust/\n",
            "https://www.smogon.com/dex/ss/abilities/shields-down/\n",
            "https://www.smogon.com/dex/ss/abilities/simple/\n",
            "https://www.smogon.com/dex/ss/abilities/skill-link/\n",
            "https://www.smogon.com/dex/ss/abilities/slow-start/\n",
            "https://www.smogon.com/dex/ss/abilities/slush-rush/\n",
            "https://www.smogon.com/dex/ss/abilities/sniper/\n",
            "https://www.smogon.com/dex/ss/abilities/snow-cloak/\n",
            "https://www.smogon.com/dex/ss/abilities/snow-warning/\n",
            "https://www.smogon.com/dex/ss/abilities/solar-power/\n",
            "https://www.smogon.com/dex/ss/abilities/solid-rock/\n",
            "https://www.smogon.com/dex/ss/abilities/soul-heart/\n",
            "https://www.smogon.com/dex/ss/abilities/soundproof/\n",
            "https://www.smogon.com/dex/ss/abilities/speed-boost/\n",
            "https://www.smogon.com/dex/ss/abilities/stakeout/\n",
            "https://www.smogon.com/dex/ss/abilities/stall/\n",
            "https://www.smogon.com/dex/ss/abilities/stalwart/\n",
            "https://www.smogon.com/dex/ss/abilities/stamina/\n",
            "https://www.smogon.com/dex/ss/abilities/stance-change/\n",
            "https://www.smogon.com/dex/ss/abilities/static/\n",
            "https://www.smogon.com/dex/ss/abilities/steadfast/\n",
            "https://www.smogon.com/dex/ss/abilities/steam-engine/\n",
            "https://www.smogon.com/dex/ss/abilities/steelworker/\n",
            "https://www.smogon.com/dex/ss/abilities/steely-spirit/\n",
            "https://www.smogon.com/dex/ss/abilities/stench/\n",
            "https://www.smogon.com/dex/ss/abilities/sticky-hold/\n",
            "https://www.smogon.com/dex/ss/abilities/storm-drain/\n",
            "https://www.smogon.com/dex/ss/abilities/strong-jaw/\n",
            "https://www.smogon.com/dex/ss/abilities/sturdy/\n",
            "https://www.smogon.com/dex/ss/abilities/suction-cups/\n",
            "https://www.smogon.com/dex/ss/abilities/super-luck/\n",
            "https://www.smogon.com/dex/ss/abilities/surge-surfer/\n",
            "https://www.smogon.com/dex/ss/abilities/swarm/\n",
            "https://www.smogon.com/dex/ss/abilities/sweet-veil/\n",
            "https://www.smogon.com/dex/ss/abilities/swift-swim/\n",
            "https://www.smogon.com/dex/ss/abilities/symbiosis/\n",
            "https://www.smogon.com/dex/ss/abilities/synchronize/\n",
            "https://www.smogon.com/dex/ss/abilities/tangled-feet/\n",
            "https://www.smogon.com/dex/ss/abilities/tangling-hair/\n",
            "https://www.smogon.com/dex/ss/abilities/technician/\n",
            "https://www.smogon.com/dex/ss/abilities/telepathy/\n",
            "https://www.smogon.com/dex/ss/abilities/teravolt/\n",
            "https://www.smogon.com/dex/ss/abilities/thick-fat/\n",
            "https://www.smogon.com/dex/ss/abilities/tinted-lens/\n",
            "https://www.smogon.com/dex/ss/abilities/torrent/\n",
            "https://www.smogon.com/dex/ss/abilities/tough-claws/\n",
            "https://www.smogon.com/dex/ss/abilities/toxic-boost/\n",
            "https://www.smogon.com/dex/ss/abilities/trace/\n",
            "https://www.smogon.com/dex/ss/abilities/triage/\n",
            "https://www.smogon.com/dex/ss/abilities/truant/\n",
            "https://www.smogon.com/dex/ss/abilities/turboblaze/\n",
            "https://www.smogon.com/dex/ss/abilities/unaware/\n",
            "https://www.smogon.com/dex/ss/abilities/unburden/\n",
            "https://www.smogon.com/dex/ss/abilities/unnerve/\n",
            "https://www.smogon.com/dex/ss/abilities/victory-star/\n",
            "https://www.smogon.com/dex/ss/abilities/vital-spirit/\n",
            "https://www.smogon.com/dex/ss/abilities/volt-absorb/\n",
            "https://www.smogon.com/dex/ss/abilities/wandering-spirit/\n",
            "https://www.smogon.com/dex/ss/abilities/water-absorb/\n",
            "https://www.smogon.com/dex/ss/abilities/water-bubble/\n",
            "https://www.smogon.com/dex/ss/abilities/water-compaction/\n",
            "https://www.smogon.com/dex/ss/abilities/water-veil/\n",
            "https://www.smogon.com/dex/ss/abilities/weak-armor/\n",
            "https://www.smogon.com/dex/ss/abilities/white-smoke/\n",
            "https://www.smogon.com/dex/ss/abilities/wimp-out/\n",
            "https://www.smogon.com/dex/ss/abilities/wonder-guard/\n",
            "https://www.smogon.com/dex/ss/abilities/wonder-skin/\n",
            "https://www.smogon.com/dex/ss/abilities/zen-mode/\n",
            "https://www.smogon.com/dex/ss/abilities/mountaineer/\n",
            "https://www.smogon.com/dex/ss/abilities/persistent/\n",
            "https://www.smogon.com/dex/ss/abilities/rebound/\n"
          ],
          "name": "stdout"
        },
        {
          "output_type": "execute_result",
          "data": {
            "text/plain": [
              "261"
            ]
          },
          "metadata": {
            "tags": []
          },
          "execution_count": 48
        }
      ]
    },
    {
      "cell_type": "code",
      "metadata": {
        "id": "246O0-Y-ioOV",
        "colab_type": "code",
        "colab": {}
      },
      "source": [
        "pokemon_links = [x for x in pokemon_links]"
      ],
      "execution_count": 0,
      "outputs": []
    },
    {
      "cell_type": "code",
      "metadata": {
        "id": "h8SorvpvXOHh",
        "colab_type": "code",
        "colab": {}
      },
      "source": [
        "ability_links = [x for x in ability_links]"
      ],
      "execution_count": 0,
      "outputs": []
    },
    {
      "cell_type": "code",
      "metadata": {
        "id": "srVCb24nircj",
        "colab_type": "code",
        "colab": {}
      },
      "source": [
        "type_links = []\n",
        "import re\n",
        "regex = re.compile(\"/types/\")\n",
        "for x in move_links:\n",
        "  mo = regex.search(x)\n",
        "  if mo != None:\n",
        "    type_links.append(x)\n",
        "for x in type_links:\n",
        "  move_links.remove(x)\n",
        "move_links = [x for x in move_links]"
      ],
      "execution_count": 0,
      "outputs": []
    },
    {
      "cell_type": "code",
      "metadata": {
        "id": "nb1srLgKxflA",
        "colab_type": "code",
        "outputId": "cfbb48de-7f3c-427f-dd8f-82f941baf0e5",
        "colab": {
          "base_uri": "https://localhost:8080/",
          "height": 330
        }
      },
      "source": [
        "for url in type_links:\n",
        "  browser.get(url)\n",
        "  head = browser.find_elements_by_xpath(\"/html/body/div/div/main/div/div/div/dl/dt\")\n",
        "  print(len(head))"
      ],
      "execution_count": 0,
      "outputs": [
        {
          "output_type": "stream",
          "text": [
            "5\n",
            "4\n",
            "5\n",
            "4\n",
            "4\n",
            "6\n",
            "6\n",
            "5\n",
            "5\n",
            "4\n",
            "5\n",
            "5\n",
            "4\n",
            "5\n",
            "5\n",
            "5\n",
            "4\n",
            "4\n"
          ],
          "name": "stdout"
        }
      ]
    },
    {
      "cell_type": "code",
      "metadata": {
        "id": "ZQjgBh_pxqdb",
        "colab_type": "code",
        "outputId": "99be0b35-8524-4de6-e439-bdf31647b6f2",
        "colab": {
          "base_uri": "https://localhost:8080/",
          "height": 34
        }
      },
      "source": [
        "categories = []\n",
        "for x in head:\n",
        "  categories.append(x.text)\n",
        "categories"
      ],
      "execution_count": 0,
      "outputs": [
        {
          "output_type": "execute_result",
          "data": {
            "text/plain": [
              "['Weak against:', 'Strong against:', 'Resists:', 'Weak to:']"
            ]
          },
          "metadata": {
            "tags": []
          },
          "execution_count": 62
        }
      ]
    },
    {
      "cell_type": "code",
      "metadata": {
        "id": "oQumMHZyaIkw",
        "colab_type": "code",
        "colab": {}
      },
      "source": [
        "import pandas as pd"
      ],
      "execution_count": 0,
      "outputs": []
    },
    {
      "cell_type": "code",
      "metadata": {
        "id": "hi7I6ypLKH8-",
        "colab_type": "code",
        "outputId": "ac9575b4-c329-4897-e525-490f45583c9e",
        "colab": {
          "base_uri": "https://localhost:8080/",
          "height": 770
        }
      },
      "source": [
        "browser = webdriver.Chrome('chromedriver',chrome_options=chrome_options)\n",
        "types = []\n",
        "for url in type_links:\n",
        "  browser.get(url)\n",
        "  head = browser.find_elements_by_xpath(\"/html/body/div[1]/div/main/div/div/div/dl/dt\")\n",
        "  x = browser.find_elements_by_xpath(\"/html/body/div[1]/div/main/div/div/div/dl/dd/ul\")\n",
        "  context = {\"type\" : url[36:-1]}\n",
        "  for l,h in zip(x,head):\n",
        "    context[h.text] = \" \".join(l.text.lower().split())\n",
        "  types.append(context) \n",
        "types = pd.DataFrame(types)\n",
        "types"
      ],
      "execution_count": 0,
      "outputs": [
        {
          "output_type": "stream",
          "text": [
            "/usr/local/lib/python3.6/dist-packages/ipykernel_launcher.py:1: DeprecationWarning: use options instead of chrome_options\n",
            "  \"\"\"Entry point for launching an IPython kernel.\n"
          ],
          "name": "stderr"
        },
        {
          "output_type": "execute_result",
          "data": {
            "text/html": [
              "<div>\n",
              "<style scoped>\n",
              "    .dataframe tbody tr th:only-of-type {\n",
              "        vertical-align: middle;\n",
              "    }\n",
              "\n",
              "    .dataframe tbody tr th {\n",
              "        vertical-align: top;\n",
              "    }\n",
              "\n",
              "    .dataframe thead th {\n",
              "        text-align: right;\n",
              "    }\n",
              "</style>\n",
              "<table border=\"1\" class=\"dataframe\">\n",
              "  <thead>\n",
              "    <tr style=\"text-align: right;\">\n",
              "      <th></th>\n",
              "      <th>type</th>\n",
              "      <th>Weak against:</th>\n",
              "      <th>Strong against:</th>\n",
              "      <th>Immune to:</th>\n",
              "      <th>Resists:</th>\n",
              "      <th>Weak to:</th>\n",
              "      <th>No effect against:</th>\n",
              "    </tr>\n",
              "  </thead>\n",
              "  <tbody>\n",
              "    <tr>\n",
              "      <th>0</th>\n",
              "      <td>flying</td>\n",
              "      <td>electric rock steel</td>\n",
              "      <td>bug fighting grass</td>\n",
              "      <td>ground</td>\n",
              "      <td>bug fighting grass</td>\n",
              "      <td>electric ice rock</td>\n",
              "      <td>NaN</td>\n",
              "    </tr>\n",
              "    <tr>\n",
              "      <th>1</th>\n",
              "      <td>bug</td>\n",
              "      <td>fairy fighting fire flying ghost poison steel</td>\n",
              "      <td>dark grass psychic</td>\n",
              "      <td>NaN</td>\n",
              "      <td>fighting grass ground</td>\n",
              "      <td>fire flying rock</td>\n",
              "      <td>NaN</td>\n",
              "    </tr>\n",
              "    <tr>\n",
              "      <th>2</th>\n",
              "      <td>dragon</td>\n",
              "      <td>steel</td>\n",
              "      <td>dragon</td>\n",
              "      <td>NaN</td>\n",
              "      <td>electric fire grass water</td>\n",
              "      <td>dragon fairy ice</td>\n",
              "      <td>fairy</td>\n",
              "    </tr>\n",
              "    <tr>\n",
              "      <th>3</th>\n",
              "      <td>normal</td>\n",
              "      <td>rock steel</td>\n",
              "      <td>NaN</td>\n",
              "      <td>ghost</td>\n",
              "      <td>NaN</td>\n",
              "      <td>fighting</td>\n",
              "      <td>ghost</td>\n",
              "    </tr>\n",
              "    <tr>\n",
              "      <th>4</th>\n",
              "      <td>ice</td>\n",
              "      <td>fire ice steel water</td>\n",
              "      <td>dragon flying grass ground</td>\n",
              "      <td>NaN</td>\n",
              "      <td>ice</td>\n",
              "      <td>fighting fire rock steel</td>\n",
              "      <td>NaN</td>\n",
              "    </tr>\n",
              "    <tr>\n",
              "      <th>5</th>\n",
              "      <td>ground</td>\n",
              "      <td>bug grass</td>\n",
              "      <td>electric fire poison rock steel</td>\n",
              "      <td>electric</td>\n",
              "      <td>poison rock</td>\n",
              "      <td>grass ice water</td>\n",
              "      <td>flying</td>\n",
              "    </tr>\n",
              "    <tr>\n",
              "      <th>6</th>\n",
              "      <td>ghost</td>\n",
              "      <td>dark</td>\n",
              "      <td>ghost psychic</td>\n",
              "      <td>fighting normal</td>\n",
              "      <td>bug poison</td>\n",
              "      <td>dark ghost</td>\n",
              "      <td>normal</td>\n",
              "    </tr>\n",
              "    <tr>\n",
              "      <th>7</th>\n",
              "      <td>psychic</td>\n",
              "      <td>psychic steel</td>\n",
              "      <td>fighting poison</td>\n",
              "      <td>NaN</td>\n",
              "      <td>fighting psychic</td>\n",
              "      <td>bug dark ghost</td>\n",
              "      <td>dark</td>\n",
              "    </tr>\n",
              "    <tr>\n",
              "      <th>8</th>\n",
              "      <td>poison</td>\n",
              "      <td>ghost ground poison rock</td>\n",
              "      <td>fairy grass</td>\n",
              "      <td>NaN</td>\n",
              "      <td>bug fairy fighting grass poison</td>\n",
              "      <td>ground psychic</td>\n",
              "      <td>steel</td>\n",
              "    </tr>\n",
              "    <tr>\n",
              "      <th>9</th>\n",
              "      <td>grass</td>\n",
              "      <td>bug dragon fire flying grass poison steel</td>\n",
              "      <td>ground rock water</td>\n",
              "      <td>NaN</td>\n",
              "      <td>electric grass ground water</td>\n",
              "      <td>bug fire flying ice poison</td>\n",
              "      <td>NaN</td>\n",
              "    </tr>\n",
              "    <tr>\n",
              "      <th>10</th>\n",
              "      <td>fairy</td>\n",
              "      <td>fire poison steel</td>\n",
              "      <td>dark dragon fighting</td>\n",
              "      <td>dragon</td>\n",
              "      <td>bug dark fighting</td>\n",
              "      <td>poison steel</td>\n",
              "      <td>NaN</td>\n",
              "    </tr>\n",
              "    <tr>\n",
              "      <th>11</th>\n",
              "      <td>fighting</td>\n",
              "      <td>bug fairy flying poison psychic</td>\n",
              "      <td>dark ice normal rock steel</td>\n",
              "      <td>NaN</td>\n",
              "      <td>bug dark rock</td>\n",
              "      <td>fairy flying psychic</td>\n",
              "      <td>ghost</td>\n",
              "    </tr>\n",
              "    <tr>\n",
              "      <th>12</th>\n",
              "      <td>water</td>\n",
              "      <td>dragon grass water</td>\n",
              "      <td>fire ground rock</td>\n",
              "      <td>NaN</td>\n",
              "      <td>fire ice steel water</td>\n",
              "      <td>electric grass</td>\n",
              "      <td>NaN</td>\n",
              "    </tr>\n",
              "    <tr>\n",
              "      <th>13</th>\n",
              "      <td>dark</td>\n",
              "      <td>dark fairy fighting</td>\n",
              "      <td>ghost psychic</td>\n",
              "      <td>psychic</td>\n",
              "      <td>dark ghost</td>\n",
              "      <td>bug fairy fighting</td>\n",
              "      <td>NaN</td>\n",
              "    </tr>\n",
              "    <tr>\n",
              "      <th>14</th>\n",
              "      <td>electric</td>\n",
              "      <td>dragon electric grass</td>\n",
              "      <td>flying water</td>\n",
              "      <td>NaN</td>\n",
              "      <td>electric flying steel</td>\n",
              "      <td>ground</td>\n",
              "      <td>ground</td>\n",
              "    </tr>\n",
              "    <tr>\n",
              "      <th>15</th>\n",
              "      <td>steel</td>\n",
              "      <td>electric fire steel water</td>\n",
              "      <td>fairy ice rock</td>\n",
              "      <td>poison</td>\n",
              "      <td>bug dragon fairy flying grass ice normal psych...</td>\n",
              "      <td>fighting fire ground</td>\n",
              "      <td>NaN</td>\n",
              "    </tr>\n",
              "    <tr>\n",
              "      <th>16</th>\n",
              "      <td>rock</td>\n",
              "      <td>fighting ground steel</td>\n",
              "      <td>bug fire flying ice</td>\n",
              "      <td>NaN</td>\n",
              "      <td>fire flying normal poison</td>\n",
              "      <td>fighting grass ground steel water</td>\n",
              "      <td>NaN</td>\n",
              "    </tr>\n",
              "    <tr>\n",
              "      <th>17</th>\n",
              "      <td>fire</td>\n",
              "      <td>dragon fire rock water</td>\n",
              "      <td>bug grass ice steel</td>\n",
              "      <td>NaN</td>\n",
              "      <td>bug fairy fire grass ice steel</td>\n",
              "      <td>ground rock water</td>\n",
              "      <td>NaN</td>\n",
              "    </tr>\n",
              "  </tbody>\n",
              "</table>\n",
              "</div>"
            ],
            "text/plain": [
              "        type  ... No effect against:\n",
              "0     flying  ...                NaN\n",
              "1        bug  ...                NaN\n",
              "2     dragon  ...              fairy\n",
              "3     normal  ...              ghost\n",
              "4        ice  ...                NaN\n",
              "5     ground  ...             flying\n",
              "6      ghost  ...             normal\n",
              "7    psychic  ...               dark\n",
              "8     poison  ...              steel\n",
              "9      grass  ...                NaN\n",
              "10     fairy  ...                NaN\n",
              "11  fighting  ...              ghost\n",
              "12     water  ...                NaN\n",
              "13      dark  ...                NaN\n",
              "14  electric  ...             ground\n",
              "15     steel  ...                NaN\n",
              "16      rock  ...                NaN\n",
              "17      fire  ...                NaN\n",
              "\n",
              "[18 rows x 7 columns]"
            ]
          },
          "metadata": {
            "tags": []
          },
          "execution_count": 64
        }
      ]
    },
    {
      "cell_type": "code",
      "metadata": {
        "id": "6PTII0UeQAAC",
        "colab_type": "code",
        "colab": {}
      },
      "source": [
        "types.to_csv(\"types.csv\")"
      ],
      "execution_count": 0,
      "outputs": []
    },
    {
      "cell_type": "code",
      "metadata": {
        "id": "cNu6HWaHSSMu",
        "colab_type": "code",
        "outputId": "a0ec9275-46e4-4f88-9508-3530c3d33314",
        "colab": {
          "base_uri": "https://localhost:8080/",
          "height": 52
        }
      },
      "source": [
        "browser = webdriver.Chrome('chromedriver',chrome_options=chrome_options)\n",
        "moves = []\n",
        "for url in move_links:\n",
        "  browser.get(url)\n",
        "  move_type = browser.find_element_by_xpath(\"/html/body/div/div/main/div/div/table/tbody/tr[1]/td\").text\n",
        "  category = browser.find_element_by_xpath(\"/html/body/div/div/main/div/div/table/tbody/tr[2]/td\").text\n",
        "  power = browser.find_element_by_xpath(\"/html/body/div/div/main/div/div/table/tbody/tr[3]/td\").text\n",
        "  accuracy = browser.find_element_by_xpath(\"/html/body/div/div/main/div/div/table/tbody/tr[4]/td\").text\n",
        "  priority = browser.find_element_by_xpath(\"/html/body/div/div/main/div/div/table/tbody/tr[5]/td\").text\n",
        "  PP = browser.find_element_by_xpath(\"/html/body/div/div/main/div/div/table/tbody/tr[6]/td\").text\n",
        "  description = browser.find_element_by_xpath(\"/html/body/div/div/main/div/p\").text\n",
        "  moves.append({\n",
        "      \"name\" : url[36:-1] ,\n",
        "      \"move_type\" : move_type ,\n",
        "      \"category\" : category ,\n",
        "      \"power\" : power ,\n",
        "      \"accuracy\" : accuracy ,\n",
        "      \"priority\" : priority ,\n",
        "      \"PP\" : PP ,\n",
        "      \"description\" : description\n",
        "  })\n",
        "moves = pd.DataFrame(moves)\n",
        "moves.to_csv(\"moves.csv\")"
      ],
      "execution_count": 0,
      "outputs": [
        {
          "output_type": "stream",
          "text": [
            "/usr/local/lib/python3.6/dist-packages/ipykernel_launcher.py:1: DeprecationWarning: use options instead of chrome_options\n",
            "  \"\"\"Entry point for launching an IPython kernel.\n"
          ],
          "name": "stderr"
        }
      ]
    },
    {
      "cell_type": "code",
      "metadata": {
        "id": "0JUWDg-MSzWF",
        "colab_type": "code",
        "outputId": "de9ffec6-9377-473e-93cd-58c966f334a3",
        "colab": {
          "base_uri": "https://localhost:8080/",
          "height": 424
        }
      },
      "source": [
        "moves"
      ],
      "execution_count": 0,
      "outputs": [
        {
          "output_type": "execute_result",
          "data": {
            "text/html": [
              "<div>\n",
              "<style scoped>\n",
              "    .dataframe tbody tr th:only-of-type {\n",
              "        vertical-align: middle;\n",
              "    }\n",
              "\n",
              "    .dataframe tbody tr th {\n",
              "        vertical-align: top;\n",
              "    }\n",
              "\n",
              "    .dataframe thead th {\n",
              "        text-align: right;\n",
              "    }\n",
              "</style>\n",
              "<table border=\"1\" class=\"dataframe\">\n",
              "  <thead>\n",
              "    <tr style=\"text-align: right;\">\n",
              "      <th></th>\n",
              "      <th>name</th>\n",
              "      <th>move_type</th>\n",
              "      <th>category</th>\n",
              "      <th>power</th>\n",
              "      <th>accuracy</th>\n",
              "      <th>priority</th>\n",
              "      <th>PP</th>\n",
              "      <th>description</th>\n",
              "    </tr>\n",
              "  </thead>\n",
              "  <tbody>\n",
              "    <tr>\n",
              "      <th>0</th>\n",
              "      <td>g-max-cuddle</td>\n",
              "      <td>Normal</td>\n",
              "      <td>Physical</td>\n",
              "      <td>10 BP</td>\n",
              "      <td>—</td>\n",
              "      <td>0</td>\n",
              "      <td>5</td>\n",
              "      <td>Power is equal to the base move's Max Move pow...</td>\n",
              "    </tr>\n",
              "    <tr>\n",
              "      <th>1</th>\n",
              "      <td>dizzy-punch</td>\n",
              "      <td>Normal</td>\n",
              "      <td>Physical</td>\n",
              "      <td>70 BP</td>\n",
              "      <td>100%</td>\n",
              "      <td>0</td>\n",
              "      <td>10</td>\n",
              "      <td>Has a 20% chance to confuse the target. Z-Move...</td>\n",
              "    </tr>\n",
              "    <tr>\n",
              "      <th>2</th>\n",
              "      <td>acid-armor</td>\n",
              "      <td>Poison</td>\n",
              "      <td>Non-Damaging</td>\n",
              "      <td>—</td>\n",
              "      <td>—</td>\n",
              "      <td>0</td>\n",
              "      <td>20</td>\n",
              "      <td>Raises the user's Defense by 2 stages.</td>\n",
              "    </tr>\n",
              "    <tr>\n",
              "      <th>3</th>\n",
              "      <td>max-phantasm</td>\n",
              "      <td>Ghost</td>\n",
              "      <td>Physical</td>\n",
              "      <td>10 BP</td>\n",
              "      <td>—</td>\n",
              "      <td>0</td>\n",
              "      <td>5</td>\n",
              "      <td>Power is equal to the base move's Max Move pow...</td>\n",
              "    </tr>\n",
              "    <tr>\n",
              "      <th>4</th>\n",
              "      <td>energy-ball</td>\n",
              "      <td>Grass</td>\n",
              "      <td>Special</td>\n",
              "      <td>90 BP</td>\n",
              "      <td>100%</td>\n",
              "      <td>0</td>\n",
              "      <td>10</td>\n",
              "      <td>Has a 10% chance to lower the target's Special...</td>\n",
              "    </tr>\n",
              "    <tr>\n",
              "      <th>...</th>\n",
              "      <td>...</td>\n",
              "      <td>...</td>\n",
              "      <td>...</td>\n",
              "      <td>...</td>\n",
              "      <td>...</td>\n",
              "      <td>...</td>\n",
              "      <td>...</td>\n",
              "      <td>...</td>\n",
              "    </tr>\n",
              "    <tr>\n",
              "      <th>670</th>\n",
              "      <td>petal-dance</td>\n",
              "      <td>Grass</td>\n",
              "      <td>Special</td>\n",
              "      <td>120 BP</td>\n",
              "      <td>100%</td>\n",
              "      <td>0</td>\n",
              "      <td>10</td>\n",
              "      <td>The user spends two or three turns locked into...</td>\n",
              "    </tr>\n",
              "    <tr>\n",
              "      <th>671</th>\n",
              "      <td>ice-fang</td>\n",
              "      <td>Ice</td>\n",
              "      <td>Physical</td>\n",
              "      <td>65 BP</td>\n",
              "      <td>95%</td>\n",
              "      <td>0</td>\n",
              "      <td>15</td>\n",
              "      <td>Has a 10% chance to freeze the target and a 10...</td>\n",
              "    </tr>\n",
              "    <tr>\n",
              "      <th>672</th>\n",
              "      <td>g-max-chi-strike</td>\n",
              "      <td>Fighting</td>\n",
              "      <td>Physical</td>\n",
              "      <td>10 BP</td>\n",
              "      <td>—</td>\n",
              "      <td>0</td>\n",
              "      <td>5</td>\n",
              "      <td>Power is equal to the base move's Max Move pow...</td>\n",
              "    </tr>\n",
              "    <tr>\n",
              "      <th>673</th>\n",
              "      <td>steamroller</td>\n",
              "      <td>Bug</td>\n",
              "      <td>Physical</td>\n",
              "      <td>65 BP</td>\n",
              "      <td>100%</td>\n",
              "      <td>0</td>\n",
              "      <td>20</td>\n",
              "      <td>Has a 30% chance to flinch the target. Damage ...</td>\n",
              "    </tr>\n",
              "    <tr>\n",
              "      <th>674</th>\n",
              "      <td>whirlpool</td>\n",
              "      <td>Water</td>\n",
              "      <td>Special</td>\n",
              "      <td>35 BP</td>\n",
              "      <td>85%</td>\n",
              "      <td>0</td>\n",
              "      <td>15</td>\n",
              "      <td>Prevents the target from switching for four or...</td>\n",
              "    </tr>\n",
              "  </tbody>\n",
              "</table>\n",
              "<p>675 rows × 8 columns</p>\n",
              "</div>"
            ],
            "text/plain": [
              "                 name  ...                                        description\n",
              "0        g-max-cuddle  ...  Power is equal to the base move's Max Move pow...\n",
              "1         dizzy-punch  ...  Has a 20% chance to confuse the target. Z-Move...\n",
              "2          acid-armor  ...             Raises the user's Defense by 2 stages.\n",
              "3        max-phantasm  ...  Power is equal to the base move's Max Move pow...\n",
              "4         energy-ball  ...  Has a 10% chance to lower the target's Special...\n",
              "..                ...  ...                                                ...\n",
              "670       petal-dance  ...  The user spends two or three turns locked into...\n",
              "671          ice-fang  ...  Has a 10% chance to freeze the target and a 10...\n",
              "672  g-max-chi-strike  ...  Power is equal to the base move's Max Move pow...\n",
              "673       steamroller  ...  Has a 30% chance to flinch the target. Damage ...\n",
              "674         whirlpool  ...  Prevents the target from switching for four or...\n",
              "\n",
              "[675 rows x 8 columns]"
            ]
          },
          "metadata": {
            "tags": []
          },
          "execution_count": 67
        }
      ]
    },
    {
      "cell_type": "code",
      "metadata": {
        "id": "8WGsUcT_iGgX",
        "colab_type": "code",
        "outputId": "0543d8a1-3130-45cb-d3be-bd07b28828bb",
        "colab": {
          "base_uri": "https://localhost:8080/",
          "height": 472
        }
      },
      "source": [
        "from tqdm import tqdm\n",
        "browser = webdriver.Chrome('chromedriver',chrome_options=chrome_options)\n",
        "pokemons = []\n",
        "for url in tqdm(pokemon_links):\n",
        "  browser.get(url)\n",
        "  types = \",\".join([ x.text for x in bowser.find_elements_by_xpath(\"/html/body/div[1]/div/main/div/section/section[1]/div/div[2]/table/tbody/tr[1]/td/div[1]/ul/li\")])\n",
        "  abilities = \",\".join([ x.text for x in bowser.find_elements_by_xpath(\"/html/body/div[1]/div/main/div/section/section[1]/div/div[2]/table/tbody/tr[2]/td/ul/li\")])\n",
        "  stats = \",\".join([ x.text for x in bowser.find_elements_by_xpath(\"/html/body/div[1]/div/main/div/section/section[1]/div/div[3]/table/tbody/tr/td[1]\")])\n",
        "  sprite = \",\".join([ x.get_attribute(\"style\") for x in bowser.find_elements_by_xpath(\"/html/body/div[1]/div/main/div/section/section[1]/div/div[1]/div\")])\n",
        "  regex = re.compile(\"/dex/media/sprites/\")\n",
        "  sprite = \"https://www.smogon.com\"+sprite[re.search(regex,sprite).span()[0]:-3]\n",
        "  pokemons.append({\n",
        "      \"name\" : url[38:-1] ,\n",
        "      \"types\" : types,\n",
        "      \"abilities\" : abilities,\n",
        "      \"stats\" : stats ,\n",
        "      \"sprite\" : sprite ,\n",
        "  })\n",
        "pokemons = pd.DataFrame(pokemons)\n",
        "pokemons.to_csv(\"pokemon.csv\")"
      ],
      "execution_count": 0,
      "outputs": [
        {
          "output_type": "stream",
          "text": [
            "/usr/local/lib/python3.6/dist-packages/ipykernel_launcher.py:2: DeprecationWarning: use options instead of chrome_options\n",
            "  \n",
            "  0%|          | 0/1 [00:02<?, ?it/s]\n"
          ],
          "name": "stderr"
        },
        {
          "output_type": "error",
          "ename": "StaleElementReferenceException",
          "evalue": "ignored",
          "traceback": [
            "\u001b[0;31m---------------------------------------------------------------------------\u001b[0m",
            "\u001b[0;31mStaleElementReferenceException\u001b[0m            Traceback (most recent call last)",
            "\u001b[0;32m<ipython-input-102-603f77d77809>\u001b[0m in \u001b[0;36m<module>\u001b[0;34m()\u001b[0m\n\u001b[1;32m      4\u001b[0m \u001b[0;32mfor\u001b[0m \u001b[0murl\u001b[0m \u001b[0;32min\u001b[0m \u001b[0mtqdm\u001b[0m\u001b[0;34m(\u001b[0m\u001b[0mpokemons_links\u001b[0m\u001b[0;34m)\u001b[0m\u001b[0;34m:\u001b[0m\u001b[0;34m\u001b[0m\u001b[0;34m\u001b[0m\u001b[0m\n\u001b[1;32m      5\u001b[0m   \u001b[0mbrowser\u001b[0m\u001b[0;34m.\u001b[0m\u001b[0mget\u001b[0m\u001b[0;34m(\u001b[0m\u001b[0murl\u001b[0m\u001b[0;34m)\u001b[0m\u001b[0;34m\u001b[0m\u001b[0;34m\u001b[0m\u001b[0m\n\u001b[0;32m----> 6\u001b[0;31m   \u001b[0mtypes\u001b[0m \u001b[0;34m=\u001b[0m \u001b[0;34m\",\"\u001b[0m\u001b[0;34m.\u001b[0m\u001b[0mjoin\u001b[0m\u001b[0;34m(\u001b[0m\u001b[0;34m[\u001b[0m \u001b[0mx\u001b[0m\u001b[0;34m.\u001b[0m\u001b[0mtext\u001b[0m \u001b[0;32mfor\u001b[0m \u001b[0mx\u001b[0m \u001b[0;32min\u001b[0m \u001b[0mbowser\u001b[0m\u001b[0;34m.\u001b[0m\u001b[0mfind_elements_by_xpath\u001b[0m\u001b[0;34m(\u001b[0m\u001b[0;34m\"/html/body/div[1]/div/main/div/section/section[1]/div/div[2]/table/tbody/tr[1]/td/div[1]/ul/li\"\u001b[0m\u001b[0;34m)\u001b[0m\u001b[0;34m]\u001b[0m\u001b[0;34m)\u001b[0m\u001b[0;34m\u001b[0m\u001b[0;34m\u001b[0m\u001b[0m\n\u001b[0m\u001b[1;32m      7\u001b[0m   \u001b[0mabilities\u001b[0m \u001b[0;34m=\u001b[0m \u001b[0;34m\",\"\u001b[0m\u001b[0;34m.\u001b[0m\u001b[0mjoin\u001b[0m\u001b[0;34m(\u001b[0m\u001b[0;34m[\u001b[0m \u001b[0mx\u001b[0m\u001b[0;34m.\u001b[0m\u001b[0mtext\u001b[0m \u001b[0;32mfor\u001b[0m \u001b[0mx\u001b[0m \u001b[0;32min\u001b[0m \u001b[0mbowser\u001b[0m\u001b[0;34m.\u001b[0m\u001b[0mfind_elements_by_xpath\u001b[0m\u001b[0;34m(\u001b[0m\u001b[0;34m\"/html/body/div[1]/div/main/div/section/section[1]/div/div[2]/table/tbody/tr[2]/td/ul/li\"\u001b[0m\u001b[0;34m)\u001b[0m\u001b[0;34m]\u001b[0m\u001b[0;34m)\u001b[0m\u001b[0;34m\u001b[0m\u001b[0;34m\u001b[0m\u001b[0m\n\u001b[1;32m      8\u001b[0m   \u001b[0mstats\u001b[0m \u001b[0;34m=\u001b[0m \u001b[0;34m\",\"\u001b[0m\u001b[0;34m.\u001b[0m\u001b[0mjoin\u001b[0m\u001b[0;34m(\u001b[0m\u001b[0;34m[\u001b[0m \u001b[0mx\u001b[0m\u001b[0;34m.\u001b[0m\u001b[0mtext\u001b[0m \u001b[0;32mfor\u001b[0m \u001b[0mx\u001b[0m \u001b[0;32min\u001b[0m \u001b[0mbowser\u001b[0m\u001b[0;34m.\u001b[0m\u001b[0mfind_elements_by_xpath\u001b[0m\u001b[0;34m(\u001b[0m\u001b[0;34m\"/html/body/div[1]/div/main/div/section/section[1]/div/div[3]/table/tbody/tr/td[1]\"\u001b[0m\u001b[0;34m)\u001b[0m\u001b[0;34m]\u001b[0m\u001b[0;34m)\u001b[0m\u001b[0;34m\u001b[0m\u001b[0;34m\u001b[0m\u001b[0m\n",
            "\u001b[0;32m/usr/local/lib/python3.6/dist-packages/selenium/webdriver/remote/webelement.py\u001b[0m in \u001b[0;36mfind_elements_by_xpath\u001b[0;34m(self, xpath)\u001b[0m\n\u001b[1;32m    379\u001b[0m \u001b[0;34m\u001b[0m\u001b[0m\n\u001b[1;32m    380\u001b[0m         \"\"\"\n\u001b[0;32m--> 381\u001b[0;31m         \u001b[0;32mreturn\u001b[0m \u001b[0mself\u001b[0m\u001b[0;34m.\u001b[0m\u001b[0mfind_elements\u001b[0m\u001b[0;34m(\u001b[0m\u001b[0mby\u001b[0m\u001b[0;34m=\u001b[0m\u001b[0mBy\u001b[0m\u001b[0;34m.\u001b[0m\u001b[0mXPATH\u001b[0m\u001b[0;34m,\u001b[0m \u001b[0mvalue\u001b[0m\u001b[0;34m=\u001b[0m\u001b[0mxpath\u001b[0m\u001b[0;34m)\u001b[0m\u001b[0;34m\u001b[0m\u001b[0;34m\u001b[0m\u001b[0m\n\u001b[0m\u001b[1;32m    382\u001b[0m \u001b[0;34m\u001b[0m\u001b[0m\n\u001b[1;32m    383\u001b[0m     \u001b[0;32mdef\u001b[0m \u001b[0mfind_element_by_class_name\u001b[0m\u001b[0;34m(\u001b[0m\u001b[0mself\u001b[0m\u001b[0;34m,\u001b[0m \u001b[0mname\u001b[0m\u001b[0;34m)\u001b[0m\u001b[0;34m:\u001b[0m\u001b[0;34m\u001b[0m\u001b[0;34m\u001b[0m\u001b[0m\n",
            "\u001b[0;32m/usr/local/lib/python3.6/dist-packages/selenium/webdriver/remote/webelement.py\u001b[0m in \u001b[0;36mfind_elements\u001b[0;34m(self, by, value)\u001b[0m\n\u001b[1;32m    683\u001b[0m \u001b[0;34m\u001b[0m\u001b[0m\n\u001b[1;32m    684\u001b[0m         return self._execute(Command.FIND_CHILD_ELEMENTS,\n\u001b[0;32m--> 685\u001b[0;31m                              {\"using\": by, \"value\": value})['value']\n\u001b[0m\u001b[1;32m    686\u001b[0m \u001b[0;34m\u001b[0m\u001b[0m\n\u001b[1;32m    687\u001b[0m     \u001b[0;32mdef\u001b[0m \u001b[0m__hash__\u001b[0m\u001b[0;34m(\u001b[0m\u001b[0mself\u001b[0m\u001b[0;34m)\u001b[0m\u001b[0;34m:\u001b[0m\u001b[0;34m\u001b[0m\u001b[0;34m\u001b[0m\u001b[0m\n",
            "\u001b[0;32m/usr/local/lib/python3.6/dist-packages/selenium/webdriver/remote/webelement.py\u001b[0m in \u001b[0;36m_execute\u001b[0;34m(self, command, params)\u001b[0m\n\u001b[1;32m    631\u001b[0m             \u001b[0mparams\u001b[0m \u001b[0;34m=\u001b[0m \u001b[0;34m{\u001b[0m\u001b[0;34m}\u001b[0m\u001b[0;34m\u001b[0m\u001b[0;34m\u001b[0m\u001b[0m\n\u001b[1;32m    632\u001b[0m         \u001b[0mparams\u001b[0m\u001b[0;34m[\u001b[0m\u001b[0;34m'id'\u001b[0m\u001b[0;34m]\u001b[0m \u001b[0;34m=\u001b[0m \u001b[0mself\u001b[0m\u001b[0;34m.\u001b[0m\u001b[0m_id\u001b[0m\u001b[0;34m\u001b[0m\u001b[0;34m\u001b[0m\u001b[0m\n\u001b[0;32m--> 633\u001b[0;31m         \u001b[0;32mreturn\u001b[0m \u001b[0mself\u001b[0m\u001b[0;34m.\u001b[0m\u001b[0m_parent\u001b[0m\u001b[0;34m.\u001b[0m\u001b[0mexecute\u001b[0m\u001b[0;34m(\u001b[0m\u001b[0mcommand\u001b[0m\u001b[0;34m,\u001b[0m \u001b[0mparams\u001b[0m\u001b[0;34m)\u001b[0m\u001b[0;34m\u001b[0m\u001b[0;34m\u001b[0m\u001b[0m\n\u001b[0m\u001b[1;32m    634\u001b[0m \u001b[0;34m\u001b[0m\u001b[0m\n\u001b[1;32m    635\u001b[0m     \u001b[0;32mdef\u001b[0m \u001b[0mfind_element\u001b[0m\u001b[0;34m(\u001b[0m\u001b[0mself\u001b[0m\u001b[0;34m,\u001b[0m \u001b[0mby\u001b[0m\u001b[0;34m=\u001b[0m\u001b[0mBy\u001b[0m\u001b[0;34m.\u001b[0m\u001b[0mID\u001b[0m\u001b[0;34m,\u001b[0m \u001b[0mvalue\u001b[0m\u001b[0;34m=\u001b[0m\u001b[0;32mNone\u001b[0m\u001b[0;34m)\u001b[0m\u001b[0;34m:\u001b[0m\u001b[0;34m\u001b[0m\u001b[0;34m\u001b[0m\u001b[0m\n",
            "\u001b[0;32m/usr/local/lib/python3.6/dist-packages/selenium/webdriver/remote/webdriver.py\u001b[0m in \u001b[0;36mexecute\u001b[0;34m(self, driver_command, params)\u001b[0m\n\u001b[1;32m    319\u001b[0m         \u001b[0mresponse\u001b[0m \u001b[0;34m=\u001b[0m \u001b[0mself\u001b[0m\u001b[0;34m.\u001b[0m\u001b[0mcommand_executor\u001b[0m\u001b[0;34m.\u001b[0m\u001b[0mexecute\u001b[0m\u001b[0;34m(\u001b[0m\u001b[0mdriver_command\u001b[0m\u001b[0;34m,\u001b[0m \u001b[0mparams\u001b[0m\u001b[0;34m)\u001b[0m\u001b[0;34m\u001b[0m\u001b[0;34m\u001b[0m\u001b[0m\n\u001b[1;32m    320\u001b[0m         \u001b[0;32mif\u001b[0m \u001b[0mresponse\u001b[0m\u001b[0;34m:\u001b[0m\u001b[0;34m\u001b[0m\u001b[0;34m\u001b[0m\u001b[0m\n\u001b[0;32m--> 321\u001b[0;31m             \u001b[0mself\u001b[0m\u001b[0;34m.\u001b[0m\u001b[0merror_handler\u001b[0m\u001b[0;34m.\u001b[0m\u001b[0mcheck_response\u001b[0m\u001b[0;34m(\u001b[0m\u001b[0mresponse\u001b[0m\u001b[0;34m)\u001b[0m\u001b[0;34m\u001b[0m\u001b[0;34m\u001b[0m\u001b[0m\n\u001b[0m\u001b[1;32m    322\u001b[0m             response['value'] = self._unwrap_value(\n\u001b[1;32m    323\u001b[0m                 response.get('value', None))\n",
            "\u001b[0;32m/usr/local/lib/python3.6/dist-packages/selenium/webdriver/remote/errorhandler.py\u001b[0m in \u001b[0;36mcheck_response\u001b[0;34m(self, response)\u001b[0m\n\u001b[1;32m    240\u001b[0m                 \u001b[0malert_text\u001b[0m \u001b[0;34m=\u001b[0m \u001b[0mvalue\u001b[0m\u001b[0;34m[\u001b[0m\u001b[0;34m'alert'\u001b[0m\u001b[0;34m]\u001b[0m\u001b[0;34m.\u001b[0m\u001b[0mget\u001b[0m\u001b[0;34m(\u001b[0m\u001b[0;34m'text'\u001b[0m\u001b[0;34m)\u001b[0m\u001b[0;34m\u001b[0m\u001b[0;34m\u001b[0m\u001b[0m\n\u001b[1;32m    241\u001b[0m             \u001b[0;32mraise\u001b[0m \u001b[0mexception_class\u001b[0m\u001b[0;34m(\u001b[0m\u001b[0mmessage\u001b[0m\u001b[0;34m,\u001b[0m \u001b[0mscreen\u001b[0m\u001b[0;34m,\u001b[0m \u001b[0mstacktrace\u001b[0m\u001b[0;34m,\u001b[0m \u001b[0malert_text\u001b[0m\u001b[0;34m)\u001b[0m\u001b[0;34m\u001b[0m\u001b[0;34m\u001b[0m\u001b[0m\n\u001b[0;32m--> 242\u001b[0;31m         \u001b[0;32mraise\u001b[0m \u001b[0mexception_class\u001b[0m\u001b[0;34m(\u001b[0m\u001b[0mmessage\u001b[0m\u001b[0;34m,\u001b[0m \u001b[0mscreen\u001b[0m\u001b[0;34m,\u001b[0m \u001b[0mstacktrace\u001b[0m\u001b[0;34m)\u001b[0m\u001b[0;34m\u001b[0m\u001b[0;34m\u001b[0m\u001b[0m\n\u001b[0m\u001b[1;32m    243\u001b[0m \u001b[0;34m\u001b[0m\u001b[0m\n\u001b[1;32m    244\u001b[0m     \u001b[0;32mdef\u001b[0m \u001b[0m_value_or_default\u001b[0m\u001b[0;34m(\u001b[0m\u001b[0mself\u001b[0m\u001b[0;34m,\u001b[0m \u001b[0mobj\u001b[0m\u001b[0;34m,\u001b[0m \u001b[0mkey\u001b[0m\u001b[0;34m,\u001b[0m \u001b[0mdefault\u001b[0m\u001b[0;34m)\u001b[0m\u001b[0;34m:\u001b[0m\u001b[0;34m\u001b[0m\u001b[0;34m\u001b[0m\u001b[0m\n",
            "\u001b[0;31mStaleElementReferenceException\u001b[0m: Message: stale element reference: element is not attached to the page document\n  (Session info: headless chrome=80.0.3987.149)\n"
          ]
        }
      ]
    },
    {
      "cell_type": "code",
      "metadata": {
        "id": "g7QLsYkR5ORp",
        "colab_type": "code",
        "outputId": "a8ab2e38-e3cf-48b8-e082-3f2859940d77",
        "colab": {
          "base_uri": "https://localhost:8080/",
          "height": 112
        }
      },
      "source": [
        "pokemons"
      ],
      "execution_count": 0,
      "outputs": [
        {
          "output_type": "execute_result",
          "data": {
            "text/html": [
              "<div>\n",
              "<style scoped>\n",
              "    .dataframe tbody tr th:only-of-type {\n",
              "        vertical-align: middle;\n",
              "    }\n",
              "\n",
              "    .dataframe tbody tr th {\n",
              "        vertical-align: top;\n",
              "    }\n",
              "\n",
              "    .dataframe thead th {\n",
              "        text-align: right;\n",
              "    }\n",
              "</style>\n",
              "<table border=\"1\" class=\"dataframe\">\n",
              "  <thead>\n",
              "    <tr style=\"text-align: right;\">\n",
              "      <th></th>\n",
              "      <th>name</th>\n",
              "      <th>types</th>\n",
              "      <th>abilities</th>\n",
              "      <th>stats</th>\n",
              "      <th>sprite</th>\n",
              "    </tr>\n",
              "  </thead>\n",
              "  <tbody>\n",
              "    <tr>\n",
              "      <th>0</th>\n",
              "      <td>charizard</td>\n",
              "      <td>Fire,Flying,Fire,Flying</td>\n",
              "      <td>Blaze,Solar Power,Blaze,Solar Power</td>\n",
              "      <td>78,84,78,109,85,100,78,84,78,109,85,100</td>\n",
              "      <td>https://www.smogon.com/dex/media/sprites/xy/ch...</td>\n",
              "    </tr>\n",
              "    <tr>\n",
              "      <th>1</th>\n",
              "      <td>charizard</td>\n",
              "      <td>Fire,Flying,Fire,Flying</td>\n",
              "      <td>Blaze,Solar Power,Blaze,Solar Power</td>\n",
              "      <td>78,84,78,109,85,100,78,84,78,109,85,100</td>\n",
              "      <td>https://www.smogon.com/dex/media/sprites/xy/ch...</td>\n",
              "    </tr>\n",
              "  </tbody>\n",
              "</table>\n",
              "</div>"
            ],
            "text/plain": [
              "        name  ...                                             sprite\n",
              "0  charizard  ...  https://www.smogon.com/dex/media/sprites/xy/ch...\n",
              "1  charizard  ...  https://www.smogon.com/dex/media/sprites/xy/ch...\n",
              "\n",
              "[2 rows x 5 columns]"
            ]
          },
          "metadata": {
            "tags": []
          },
          "execution_count": 99
        }
      ]
    },
    {
      "cell_type": "code",
      "metadata": {
        "colab_type": "code",
        "id": "OlxjU9FJ08-q",
        "colab": {}
      },
      "source": [
        "for x in pokemons[\"types\"]:\n",
        "  print(len(x))"
      ],
      "execution_count": 0,
      "outputs": []
    },
    {
      "cell_type": "code",
      "metadata": {
        "colab_type": "code",
        "id": "tb_HJGXJ0-1y",
        "colab": {}
      },
      "source": [
        "def filename(x):\n",
        "  return x[re.search(r\"\\w+(\\-?\\w+)*\\.gif\",x).span()[0]:]\n",
        "gif_list = [x+\" \"+filename(x) for x in pokemons[\"sprite\"]]"
      ],
      "execution_count": 0,
      "outputs": []
    },
    {
      "cell_type": "code",
      "metadata": {
        "id": "dzyMuLiVCUJL",
        "colab_type": "code",
        "outputId": "a7d5edff-b53d-4b15-c02a-d00bd2bb6674",
        "colab": {
          "base_uri": "https://localhost:8080/",
          "height": 34
        }
      },
      "source": [
        "gif_list[33]"
      ],
      "execution_count": 0,
      "outputs": [
        {
          "output_type": "execute_result",
          "data": {
            "text/plain": [
              "'https://www.smogon.com/dex/media/sprites/xy/drednaw.gif drednaw.gif'"
            ]
          },
          "metadata": {
            "tags": []
          },
          "execution_count": 72
        }
      ]
    },
    {
      "cell_type": "code",
      "metadata": {
        "id": "ngpo_B_0CDfl",
        "colab_type": "code",
        "colab": {}
      },
      "source": [
        "with open(\"imagelist.txt\",\"w+\") as img:\n",
        "  img.write(\"\\n\".join(gif_list))"
      ],
      "execution_count": 0,
      "outputs": []
    },
    {
      "cell_type": "code",
      "metadata": {
        "id": "boQilY2mAPeb",
        "colab_type": "code",
        "outputId": "20fb1a46-afaa-4429-9608-283cb90a1144",
        "colab": {
          "base_uri": "https://localhost:8080/",
          "height": 34
        }
      },
      "source": [
        "!mkdir images && cd images && awk '{system(\"curl \"$1\" --output \"$2)}' ../imagelist.txt\n"
      ],
      "execution_count": 0,
      "outputs": [
        {
          "output_type": "stream",
          "text": [
            "mkdir: cannot create directory ‘images’: File exists\n"
          ],
          "name": "stdout"
        }
      ]
    },
    {
      "cell_type": "code",
      "metadata": {
        "id": "ZSgrZe_7BNGt",
        "colab_type": "code",
        "outputId": "bb2c60e0-220a-4f8f-b840-229ad62ad6dd",
        "colab": {
          "base_uri": "https://localhost:8080/",
          "height": 34
        }
      },
      "source": [
        "!pwd"
      ],
      "execution_count": 0,
      "outputs": [
        {
          "output_type": "stream",
          "text": [
            "/content\n"
          ],
          "name": "stdout"
        }
      ]
    },
    {
      "cell_type": "code",
      "metadata": {
        "id": "fpWEtBqTLBjv",
        "colab_type": "code",
        "outputId": "c1c49523-f96e-4684-e958-1e20a115b1ff",
        "colab": {
          "base_uri": "https://localhost:8080/",
          "height": 1000
        }
      },
      "source": [
        "!zip -r images.zip images imagelist.txt pokemon.csv moves.csv types.csv"
      ],
      "execution_count": 0,
      "outputs": [
        {
          "output_type": "stream",
          "text": [
            "updating: pokemon.csv (deflated 78%)\n",
            "updating: moves.csv (deflated 78%)\n",
            "updating: types.csv (deflated 70%)\n",
            "updating: images/ (stored 0%)\n",
            "updating: images/tentacruel.gif (deflated 2%)\n",
            "updating: images/arceus-grass.gif (deflated 3%)\n",
            "updating: images/toucannon.gif (deflated 4%)\n",
            "updating: images/jynx.gif (deflated 2%)\n",
            "updating: images/vileplume.gif (deflated 4%)\n",
            "updating: images/genesect-chill.gif (deflated 2%)\n",
            "updating: images/tropius.gif (deflated 2%)\n",
            "updating: images/geodude.gif (deflated 6%)\n",
            "updating: images/tapu-koko.gif (deflated 2%)\n",
            "updating: images/primarina.gif (deflated 2%)\n",
            "updating: images/zapdos.gif (deflated 1%)\n",
            "updating: images/gumshoos-totem.gif (deflated 35%)\n",
            "updating: images/applin.gif (deflated 5%)\n",
            "updating: images/skarmory.gif (deflated 4%)\n",
            "updating: images/roggenrola.gif (deflated 6%)\n",
            "updating: images/pansear.gif (deflated 4%)\n",
            "updating: images/cryogonal.gif (deflated 2%)\n",
            "updating: images/lugia.gif (deflated 1%)\n",
            "updating: images/poipole.gif (deflated 7%)\n",
            "updating: images/krilowatt.gif (deflated 5%)\n",
            "updating: images/pyroar.gif (deflated 2%)\n",
            "updating: images/eldegoss.gif (deflated 4%)\n",
            "updating: images/squirtle.gif (deflated 5%)\n",
            "updating: images/rapidash.gif (deflated 2%)\n",
            "updating: images/hippopotas.gif (deflated 4%)\n",
            "updating: images/azelf.gif (deflated 4%)\n",
            "updating: images/pinsir.gif (deflated 2%)\n",
            "updating: images/sliggoo.gif (deflated 3%)\n",
            "updating: images/rillaboom.gif (deflated 1%)\n",
            "updating: images/shaymin-sky.gif (deflated 3%)\n",
            "updating: images/blissey.gif (deflated 2%)\n",
            "updating: images/bewear.gif (deflated 4%)\n",
            "updating: images/entei.gif (deflated 2%)\n",
            "updating: images/flabebe.gif (deflated 4%)\n",
            "updating: images/pheromosa.gif (deflated 3%)\n",
            "updating: images/glalie.gif (deflated 3%)\n",
            "updating: images/doublade.gif (deflated 2%)\n",
            "updating: images/pupitar.gif (deflated 5%)\n",
            "updating: images/emolga.gif (deflated 5%)\n",
            "updating: images/buneary.gif (deflated 4%)\n",
            "updating: images/simipour.gif (deflated 3%)\n",
            "updating: images/yamask.gif (deflated 6%)\n",
            "updating: images/drifblim.gif (deflated 4%)\n",
            "updating: images/golduck.gif (deflated 4%)\n",
            "updating: images/zubat.gif (deflated 3%)\n",
            "updating: images/silvally-fire.gif (deflated 4%)\n",
            "updating: images/rapidash-galar.gif (deflated 4%)\n",
            "updating: images/clefable.gif (deflated 3%)\n",
            "updating: images/quilladin.gif (deflated 2%)\n",
            "updating: images/lampent.gif (deflated 4%)\n",
            "updating: images/type-null.gif (deflated 2%)\n",
            "updating: images/skitty.gif (deflated 4%)\n",
            "updating: images/scrafty.gif (deflated 3%)\n",
            "updating: images/whismur.gif (deflated 4%)\n",
            "updating: images/zangoose.gif (deflated 3%)\n",
            "updating: images/yamask-galar.gif (deflated 8%)\n",
            "updating: images/sylveon.gif (deflated 3%)\n",
            "updating: images/boltund.gif (deflated 4%)\n",
            "updating: images/cottonee.gif (deflated 8%)\n",
            "updating: images/machamp.gif (deflated 1%)\n",
            "updating: images/delibird.gif (deflated 4%)\n",
            "updating: images/swellow.gif (deflated 4%)\n",
            "updating: images/gigalith.gif (deflated 2%)\n",
            "updating: images/rotom-heat.gif (deflated 3%)\n",
            "updating: images/buzzwole.gif (deflated 2%)\n",
            "updating: images/granbull.gif (deflated 2%)\n",
            "updating: images/dottler.gif (deflated 3%)\n",
            "updating: images/gible.gif (deflated 4%)\n",
            "updating: images/whimsicott.gif (deflated 15%)\n",
            "updating: images/anorith.gif (deflated 7%)\n",
            "updating: images/flareon.gif (deflated 3%)\n",
            "updating: images/wobbuffet.gif (deflated 3%)\n",
            "updating: images/unown.gif (deflated 7%)\n",
            "updating: images/drizzile.gif (deflated 4%)\n",
            "updating: images/kecleon.gif (deflated 4%)\n",
            "updating: images/butterfree.gif (deflated 2%)\n",
            "updating: images/smokomodo.gif (deflated 2%)\n",
            "updating: images/goldeen.gif (deflated 4%)\n",
            "updating: images/sentret.gif (deflated 5%)\n",
            "updating: images/finneon.gif (deflated 6%)\n",
            "updating: images/weezing-galar.gif (deflated 2%)\n",
            "updating: images/groudon.gif (deflated 2%)\n",
            "updating: images/toxel.gif (deflated 6%)\n",
            "updating: images/rolycoly.gif (deflated 4%)\n",
            "updating: images/beartic.gif (deflated 2%)\n",
            "updating: images/kangaskhan.gif (deflated 3%)\n",
            "updating: images/araquanid-totem.gif (deflated 13%)\n",
            "updating: images/infernape.gif (deflated 2%)\n",
            "updating: images/muk.gif (deflated 2%)\n",
            "updating: images/silvally-grass.gif (deflated 4%)\n",
            "updating: images/meloetta.gif (deflated 7%)\n",
            "updating: images/quilava.gif (deflated 7%)\n",
            "updating: images/grimer-alola.gif (deflated 4%)\n",
            "updating: images/wormadam.gif (deflated 5%)\n",
            "updating: images/alcremie.gif (deflated 4%)\n",
            "updating: images/regigigas.gif (deflated 1%)\n",
            "updating: images/gliscor.gif (deflated 2%)\n",
            "updating: images/buizel.gif (deflated 5%)\n",
            "updating: images/larvesta.gif (deflated 8%)\n",
            "updating: images/garchomp.gif (deflated 1%)\n",
            "updating: images/silvally-ice.gif (deflated 4%)\n",
            "updating: images/servine.gif (deflated 6%)\n",
            "updating: images/quagsire.gif (deflated 3%)\n",
            "updating: images/golett.gif (deflated 5%)\n",
            "updating: images/mr-mime-galar.gif (deflated 3%)\n",
            "updating: images/mothim.gif (deflated 2%)\n",
            "updating: images/herdier.gif (deflated 3%)\n",
            "updating: images/silvally-psychic.gif (deflated 4%)\n",
            "updating: images/dracozolt.gif (deflated 2%)\n",
            "updating: images/charmander.gif (deflated 6%)\n",
            "updating: images/hoppip.gif (deflated 4%)\n",
            "updating: images/kyogre.gif (deflated 4%)\n",
            "updating: images/impidimp.gif (deflated 5%)\n",
            "updating: images/igglybuff.gif (deflated 7%)\n",
            "updating: images/gloom.gif (deflated 4%)\n",
            "updating: images/incineroar.gif (deflated 1%)\n",
            "updating: images/crabrawler.gif (deflated 3%)\n",
            "updating: images/chatot.gif (deflated 7%)\n",
            "updating: images/uxie.gif (deflated 4%)\n",
            "updating: images/arceus-psychic.gif (deflated 3%)\n",
            "updating: images/weepinbell.gif (deflated 6%)\n",
            "updating: images/wynaut.gif (deflated 4%)\n",
            "updating: images/wigglytuff.gif (deflated 3%)\n",
            "updating: images/litwick.gif (deflated 5%)\n",
            "updating: images/mewtwo.gif (deflated 3%)\n",
            "updating: images/lurantis.gif (deflated 5%)\n",
            "updating: images/houndour.gif (deflated 6%)\n",
            "updating: images/smeargle.gif (deflated 4%)\n",
            "updating: images/togedemaru.gif (deflated 3%)\n",
            "updating: images/haxorus.gif (deflated 2%)\n",
            "updating: images/burmy.gif (deflated 8%)\n",
            "updating: images/dodrio.gif (deflated 2%)\n",
            "updating: images/delphox.gif (deflated 2%)\n",
            "updating: images/escavalier.gif (deflated 2%)\n",
            "updating: images/marshadow.gif (deflated 4%)\n",
            "updating: images/heracross.gif (deflated 3%)\n",
            "updating: images/arceus-steel.gif (deflated 3%)\n",
            "updating: images/pidgeotto.gif (deflated 2%)\n",
            "updating: images/reshiram.gif (deflated 1%)\n",
            "updating: images/spritzee.gif (deflated 5%)\n",
            "updating: images/mantine.gif (deflated 4%)\n",
            "updating: images/araquanid.gif (deflated 2%)\n",
            "updating: images/crucibelle.gif (deflated 4%)\n",
            "updating: images/ariados.gif (deflated 5%)\n",
            "updating: images/manaphy.gif (deflated 4%)\n",
            "updating: images/mesprit.gif (deflated 3%)\n",
            "updating: images/aerodactyl.gif (deflated 2%)\n",
            "updating: images/rattata.gif (deflated 5%)\n",
            "updating: images/shiftry.gif (deflated 1%)\n",
            "updating: images/kirlia.gif (deflated 8%)\n",
            "updating: images/simisage.gif (deflated 2%)\n",
            "updating: images/cacturne.gif (deflated 3%)\n",
            "updating: images/shelgon.gif (deflated 4%)\n",
            "updating: images/honchkrow.gif (deflated 2%)\n",
            "updating: images/xurkitree.gif (deflated 4%)\n",
            "updating: images/shinx.gif (deflated 4%)\n",
            "updating: images/drampa.gif (deflated 3%)\n",
            "updating: images/grimmsnarl.gif (deflated 2%)\n",
            "updating: images/metagross.gif (deflated 2%)\n",
            "updating: images/silcoon.gif (deflated 9%)\n",
            "updating: images/venipede.gif (deflated 4%)\n",
            "updating: images/morgrem.gif (deflated 4%)\n",
            "updating: images/grookey.gif (deflated 4%)\n",
            "updating: images/druddigon.gif (deflated 2%)\n",
            "updating: images/poochyena.gif (deflated 14%)\n",
            "updating: images/snorunt.gif (deflated 8%)\n",
            "updating: images/magnezone.gif (deflated 4%)\n",
            "updating: images/marowak.gif (deflated 5%)\n",
            "updating: images/starly.gif (deflated 8%)\n",
            "updating: images/coribalis.gif (deflated 35%)\n",
            "updating: images/hitmontop.gif (deflated 3%)\n",
            "updating: images/beheeyem.gif (deflated 3%)\n",
            "updating: images/nuzleaf.gif (deflated 4%)\n",
            "updating: images/hoopa.gif (deflated 3%)\n",
            "updating: images/lickilicky.gif (deflated 3%)\n",
            "updating: images/bidoof.gif (deflated 6%)\n",
            "updating: images/swampert.gif (deflated 2%)\n",
            "updating: images/lapras.gif (deflated 3%)\n",
            "updating: images/nincada.gif (deflated 8%)\n",
            "updating: images/probopass.gif (deflated 2%)\n",
            "updating: images/hariyama.gif (deflated 2%)\n",
            "updating: images/poliwhirl.gif (deflated 12%)\n",
            "updating: images/frillish.gif (deflated 11%)\n",
            "updating: images/cosmoem.gif (deflated 4%)\n",
            "updating: images/lycanroc-dusk.gif (deflated 5%)\n",
            "updating: images/aron.gif (deflated 6%)\n",
            "updating: images/kommo-o-totem.gif (deflated 4%)\n",
            "updating: images/vigoroth.gif (deflated 2%)\n",
            "updating: images/brattler.gif (stored 0%)\n",
            "updating: images/perrserker.gif (deflated 3%)\n",
            "updating: images/forretress.gif (deflated 2%)\n",
            "updating: images/goomy.gif (deflated 5%)\n",
            "updating: images/pumpkaboo-large.gif (deflated 5%)\n",
            "updating: images/palossand.gif (deflated 2%)\n",
            "updating: images/grubbin.gif (deflated 7%)\n",
            "updating: images/yanmega.gif (deflated 3%)\n",
            "updating: images/suicune.gif (deflated 2%)\n",
            "updating: images/golbat.gif (deflated 2%)\n",
            "updating: images/vanillish.gif (deflated 4%)\n",
            "updating: images/doduo.gif (deflated 5%)\n",
            "updating: images/hawlucha.gif (deflated 2%)\n",
            "updating: images/deino.gif (deflated 6%)\n",
            "updating: images/petilil.gif (deflated 4%)\n",
            "updating: images/slugma.gif (deflated 3%)\n",
            "updating: images/spiritomb.gif (deflated 2%)\n",
            "updating: images/larvitar.gif (deflated 6%)\n",
            "updating: images/inkay.gif (deflated 5%)\n",
            "updating: images/lotad.gif (deflated 12%)\n",
            "updating: images/vanilluxe.gif (deflated 2%)\n",
            "updating: images/cyclohm.gif (stored 0%)\n",
            "updating: images/eelektross.gif (deflated 3%)\n",
            "updating: images/sandslash-alola.gif (deflated 2%)\n",
            "updating: images/oricorio-pom-pom.gif (deflated 3%)\n",
            "updating: images/mismagius.gif (deflated 3%)\n",
            "updating: images/drednaw.gif (deflated 2%)\n",
            "updating: images/necturine.gif (deflated 35%)\n",
            "updating: images/shellos.gif (deflated 5%)\n",
            "updating: images/wingull.gif (deflated 8%)\n",
            "updating: images/totodile.gif (deflated 4%)\n",
            "updating: images/chimchar.gif (deflated 4%)\n",
            "updating: images/pumpkaboo.gif (deflated 5%)\n",
            "updating: images/gourgeist-super.gif (deflated 3%)\n",
            "updating: images/swalot.gif (deflated 2%)\n",
            "updating: images/glaceon.gif (deflated 3%)\n",
            "updating: images/charjabug.gif (deflated 3%)\n",
            "updating: images/kyurem-white.gif (deflated 3%)\n",
            "updating: images/linoone.gif (deflated 5%)\n",
            "updating: images/unfezant.gif (deflated 2%)\n",
            "updating: images/zygarde-10.gif (deflated 4%)\n",
            "updating: images/diglett.gif (deflated 10%)\n",
            "updating: images/blipbug.gif (deflated 5%)\n",
            "updating: images/dewgong.gif (deflated 3%)\n",
            "updating: images/shiinotic.gif (deflated 4%)\n",
            "updating: images/lanturn.gif (deflated 3%)\n",
            "updating: images/tyrunt.gif (deflated 3%)\n",
            "updating: images/necturna.gif (deflated 54%)\n",
            "updating: images/eelektrik.gif (deflated 4%)\n",
            "updating: images/vulpix.gif (deflated 5%)\n",
            "updating: images/crabominable.gif (deflated 2%)\n",
            "updating: images/spoink.gif (deflated 5%)\n",
            "updating: images/snom.gif (deflated 10%)\n",
            "updating: images/koffing.gif (deflated 4%)\n",
            "updating: images/rotom.gif (deflated 8%)\n",
            "updating: images/prinplup.gif (deflated 6%)\n",
            "updating: images/inteleon.gif (deflated 5%)\n",
            "updating: images/shedinja.gif (deflated 5%)\n",
            "updating: images/samurott.gif (deflated 2%)\n",
            "updating: images/dugtrio-alola.gif (deflated 3%)\n",
            "updating: images/magearna.gif (deflated 4%)\n",
            "updating: images/beautifly.gif (deflated 2%)\n",
            "updating: images/meowth-galar.gif (deflated 5%)\n",
            "updating: images/rotom-fan.gif (deflated 4%)\n",
            "updating: images/slowbro.gif (deflated 2%)\n",
            "updating: images/rookidee.gif (deflated 5%)\n",
            "updating: images/ponyta-galar.gif (deflated 4%)\n",
            "updating: images/zoroark.gif (deflated 2%)\n",
            "updating: images/electabuzz.gif (deflated 3%)\n",
            "updating: images/silvally-dark.gif (deflated 4%)\n",
            "updating: images/tranquill.gif (deflated 3%)\n",
            "updating: images/phione.gif (deflated 5%)\n",
            "updating: images/dragonite.gif (deflated 2%)\n",
            "updating: images/raboot.gif (deflated 4%)\n",
            "updating: images/cherrim.gif (deflated 6%)\n",
            "updating: images/wormadam-sandy.gif (deflated 5%)\n",
            "updating: images/hypno.gif (deflated 3%)\n",
            "updating: images/drowzee.gif (deflated 4%)\n",
            "updating: images/scraggy.gif (deflated 7%)\n",
            "updating: images/yamper.gif (deflated 4%)\n",
            "updating: images/steenee.gif (deflated 3%)\n",
            "updating: images/espeon.gif (deflated 3%)\n",
            "updating: images/torracat.gif (deflated 2%)\n",
            "updating: images/kyurem.gif (deflated 2%)\n",
            "updating: images/kabuto.gif (deflated 11%)\n",
            "updating: images/durant.gif (deflated 5%)\n",
            "updating: images/tornadus.gif (deflated 2%)\n",
            "updating: images/krookodile.gif (deflated 2%)\n",
            "updating: images/typhlosion.gif (deflated 2%)\n",
            "updating: images/sandile.gif (deflated 5%)\n",
            "updating: images/psyduck.gif (deflated 11%)\n",
            "updating: images/seaking.gif (deflated 3%)\n",
            "updating: images/tyranitar.gif (deflated 2%)\n",
            "updating: images/krokorok.gif (deflated 4%)\n",
            "updating: images/latios.gif (deflated 3%)\n",
            "updating: images/silvally-fairy.gif (deflated 5%)\n",
            "updating: images/necrozma-dawn-wings.gif (deflated 3%)\n",
            "updating: images/moltres.gif (deflated 1%)\n",
            "updating: images/duskull.gif (deflated 5%)\n",
            "updating: images/thwackey.gif (deflated 3%)\n",
            "updating: images/registeel.gif (deflated 3%)\n",
            "updating: images/kricketot.gif (deflated 4%)\n",
            "updating: images/tsareena.gif (deflated 4%)\n",
            "updating: images/dwebble.gif (deflated 6%)\n",
            "updating: images/braixen.gif (deflated 2%)\n",
            "updating: images/shroomish.gif (deflated 8%)\n",
            "updating: images/pidove.gif (deflated 8%)\n",
            "updating: images/minccino.gif (deflated 3%)\n",
            "updating: images/mew.gif (deflated 7%)\n",
            "updating: images/corphish.gif (deflated 5%)\n",
            "updating: images/galvantula.gif (deflated 4%)\n",
            "updating: images/purugly.gif (deflated 2%)\n",
            "updating: images/mr-rime.gif (deflated 3%)\n",
            "updating: images/basculin.gif (deflated 5%)\n",
            "updating: images/meditite.gif (deflated 7%)\n",
            "updating: images/melmetal.gif (deflated 2%)\n",
            "updating: images/orbeetle.gif (deflated 3%)\n",
            "updating: images/piloswine.gif (deflated 6%)\n",
            "updating: images/chikorita.gif (deflated 6%)\n",
            "updating: images/stantler.gif (deflated 4%)\n",
            "updating: images/articuno.gif (deflated 1%)\n",
            "updating: images/pignite.gif (deflated 4%)\n",
            "updating: images/grumpig.gif (deflated 3%)\n",
            "updating: images/cherubi.gif (deflated 7%)\n",
            "updating: images/mamoswine.gif (deflated 3%)\n",
            "updating: images/natu.gif (deflated 7%)\n",
            "updating: images/charmeleon.gif (deflated 4%)\n",
            "updating: images/gardevoir.gif (deflated 4%)\n",
            "updating: images/audino.gif (deflated 3%)\n",
            "updating: images/noibat.gif (deflated 3%)\n",
            "updating: images/munchlax.gif (deflated 10%)\n",
            "updating: images/venusaur.gif (deflated 2%)\n",
            "updating: images/eiscue.gif (deflated 4%)\n",
            "updating: images/lumineon.gif (deflated 3%)\n",
            "updating: images/carkol.gif (deflated 3%)\n",
            "updating: images/skrelp.gif (deflated 5%)\n",
            "updating: images/oshawott.gif (deflated 7%)\n",
            "updating: images/starmie.gif (deflated 4%)\n",
            "updating: images/roselia.gif (deflated 4%)\n",
            "updating: images/remoraid.gif (deflated 6%)\n",
            "updating: images/marshtomp.gif (deflated 4%)\n",
            "updating: images/roserade.gif (deflated 5%)\n",
            "updating: images/dugtrio.gif (deflated 5%)\n",
            "updating: images/vikavolt.gif (deflated 3%)\n",
            "updating: images/arctovish.gif (deflated 3%)\n",
            "updating: images/litleo.gif (deflated 3%)\n",
            "updating: images/necrozma-dusk-mane.gif (deflated 6%)\n",
            "updating: images/torchic.gif (deflated 6%)\n",
            "updating: images/abra.gif (deflated 5%)\n",
            "updating: images/arbok.gif (deflated 2%)\n",
            "updating: images/castform.gif (deflated 7%)\n",
            "updating: images/arceus-ice.gif (deflated 3%)\n",
            "updating: images/raticate-alola-totem.gif (deflated 6%)\n",
            "updating: images/monferno.gif (deflated 4%)\n",
            "updating: images/solgaleo.gif (deflated 2%)\n",
            "updating: images/klefki.gif (deflated 3%)\n",
            "updating: images/sandaconda.gif (deflated 3%)\n",
            "updating: images/kyurem-black.gif (deflated 4%)\n",
            "updating: images/rhyhorn.gif (deflated 4%)\n",
            "updating: images/patrat.gif (deflated 6%)\n",
            "updating: images/hattrem.gif (deflated 4%)\n",
            "updating: images/heliolisk.gif (deflated 3%)\n",
            "updating: images/nidorino.gif (deflated 4%)\n",
            "updating: images/wooloo.gif (deflated 4%)\n",
            "updating: images/cresselia.gif (deflated 4%)\n",
            "updating: images/qwilfish.gif (deflated 4%)\n",
            "updating: images/zacian.gif (deflated 3%)\n",
            "updating: images/phanpy.gif (deflated 5%)\n",
            "updating: images/eevee.gif (deflated 4%)\n",
            "updating: images/linoone-galar.gif (deflated 4%)\n",
            "updating: images/amaura.gif (deflated 4%)\n",
            "updating: images/tyrantrum.gif (deflated 2%)\n",
            "updating: images/barraskewda.gif (deflated 4%)\n",
            "updating: images/centiskorch.gif (deflated 3%)\n",
            "updating: images/porygon-z.gif (deflated 5%)\n",
            "updating: images/dracovish.gif (deflated 2%)\n",
            "updating: images/liepard.gif (deflated 3%)\n",
            "updating: images/greedent.gif (deflated 2%)\n",
            "updating: images/polteageist.gif (deflated 4%)\n",
            "updating: images/lunala.gif (deflated 2%)\n",
            "updating: images/darumaka.gif (deflated 4%)\n",
            "updating: images/cradily.gif (deflated 2%)\n",
            "updating: images/gurdurr.gif (deflated 3%)\n",
            "updating: images/trevenant.gif (deflated 2%)\n",
            "updating: images/scolipede.gif (deflated 2%)\n",
            "updating: images/watchog.gif (deflated 5%)\n",
            "updating: images/sunkern.gif (deflated 6%)\n",
            "updating: images/volbeat.gif (deflated 3%)\n",
            "updating: images/zigzagoon.gif (deflated 4%)\n",
            "updating: images/bruxish.gif (deflated 3%)\n",
            "updating: images/mawile.gif (deflated 4%)\n",
            "updating: images/lickitung.gif (deflated 4%)\n",
            "updating: images/vivillon-fancy.gif (deflated 2%)\n",
            "updating: images/primeape.gif (deflated 3%)\n",
            "updating: images/nidoran-m.gif (deflated 4%)\n",
            "updating: images/caribolt.gif (deflated 3%)\n",
            "updating: images/pajantom.gif (deflated 3%)\n",
            "updating: images/numel.gif (deflated 5%)\n",
            "updating: images/carbink.gif (deflated 5%)\n",
            "updating: images/sceptile.gif (deflated 2%)\n",
            "updating: images/crobat.gif (deflated 2%)\n",
            "updating: images/pidgeot.gif (deflated 1%)\n",
            "updating: images/landorus-therian.gif (deflated 2%)\n",
            "updating: images/wartortle.gif (deflated 3%)\n",
            "updating: images/magby.gif (deflated 4%)\n",
            "updating: images/garbodor.gif (deflated 2%)\n",
            "updating: images/heatmor.gif (deflated 3%)\n",
            "updating: images/pikachu-starter.gif (deflated 26%)\n",
            "updating: images/sawk.gif (deflated 3%)\n",
            "updating: images/deoxys-speed.gif (deflated 3%)\n",
            "updating: images/smoguana.gif (deflated 35%)\n",
            "updating: images/lucario.gif (deflated 4%)\n",
            "updating: images/exeggutor-alola.gif (deflated 1%)\n",
            "updating: images/pawniard.gif (deflated 6%)\n",
            "updating: images/jumbao.gif (deflated 2%)\n",
            "updating: images/tapu-bulu.gif (deflated 3%)\n",
            "updating: images/oricorio-pau.gif (deflated 3%)\n",
            "updating: images/serperior.gif (deflated 2%)\n",
            "updating: images/glameow.gif (deflated 3%)\n",
            "updating: images/torkoal.gif (deflated 3%)\n",
            "updating: images/chingling.gif (deflated 4%)\n",
            "updating: images/sirfetchd.gif (deflated 3%)\n",
            "updating: images/arcanine.gif (deflated 3%)\n",
            "updating: images/beldum.gif (deflated 8%)\n",
            "updating: images/dreepy.gif (deflated 7%)\n",
            "updating: images/golurk.gif (deflated 2%)\n",
            "updating: images/rotom-frost.gif (deflated 4%)\n",
            "updating: images/electrelk.gif (deflated 35%)\n",
            "updating: images/vikavolt-totem.gif (deflated 17%)\n",
            "updating: images/arceus-dark.gif (deflated 3%)\n",
            "updating: images/mienshao.gif (deflated 2%)\n",
            "updating: images/cosmog.gif (deflated 4%)\n",
            "updating: images/pachirisu.gif (deflated 4%)\n",
            "updating: images/budew.gif (deflated 7%)\n",
            "updating: images/fletchinder.gif (deflated 2%)\n",
            "updating: images/sigilyph.gif (deflated 2%)\n",
            "updating: images/diggersby.gif (deflated 1%)\n",
            "updating: images/shelmet.gif (deflated 5%)\n",
            "updating: images/copperajah.gif (deflated 2%)\n",
            "updating: images/smogecko.gif (deflated 35%)\n",
            "updating: images/ferrothorn.gif (deflated 2%)\n",
            "updating: images/emboar.gif (deflated 1%)\n",
            "updating: images/milcery.gif (deflated 9%)\n",
            "updating: images/volkritter.gif (stored 0%)\n",
            "updating: images/silvally.gif (deflated 4%)\n",
            "updating: images/arceus-bug.gif (deflated 3%)\n",
            "updating: images/politoed.gif (deflated 4%)\n",
            "updating: images/elekid.gif (deflated 4%)\n",
            "updating: images/dunsparce.gif (deflated 4%)\n",
            "updating: images/phantump.gif (deflated 4%)\n",
            "updating: images/corviknight.gif (deflated 5%)\n",
            "updating: images/xerneas.gif (deflated 3%)\n",
            "updating: images/cranidos.gif (deflated 6%)\n",
            "updating: images/chesnaught.gif (deflated 2%)\n",
            "updating: images/tornadus-therian.gif (deflated 1%)\n",
            "updating: images/barbaracle.gif (deflated 1%)\n",
            "updating: images/caterpie.gif (deflated 6%)\n",
            "updating: images/sawsbuck.gif (deflated 3%)\n",
            "updating: images/thundurus-therian.gif (deflated 2%)\n",
            "updating: images/zigzagoon-galar.gif (deflated 6%)\n",
            "updating: images/happiny.gif (deflated 7%)\n",
            "updating: images/banette.gif (deflated 5%)\n",
            "updating: images/fawnifer.gif (deflated 35%)\n",
            "updating: images/sandslash.gif (deflated 3%)\n",
            "updating: images/wormadam-trash.gif (deflated 5%)\n",
            "updating: images/guzzlord.gif (deflated 1%)\n",
            "updating: images/drapion.gif (deflated 1%)\n",
            "updating: images/mantyke.gif (deflated 5%)\n",
            "updating: images/corvisquire.gif (deflated 6%)\n",
            "updating: images/dragalge.gif (deflated 2%)\n",
            "updating: images/duosion.gif (deflated 4%)\n",
            "updating: images/cobalion.gif (deflated 3%)\n",
            "updating: images/reuniclus.gif (deflated 1%)\n",
            "updating: images/purrloin.gif (deflated 7%)\n",
            "updating: images/hydreigon.gif (deflated 1%)\n",
            "updating: images/dhelmise.gif (deflated 2%)\n",
            "updating: images/gyarados.gif (deflated 2%)\n",
            "updating: images/grotle.gif (deflated 3%)\n",
            "updating: images/fletchling.gif (deflated 10%)\n",
            "updating: images/electrode.gif (deflated 6%)\n",
            "updating: images/octillery.gif (deflated 4%)\n",
            "updating: images/ledian.gif (deflated 4%)\n",
            "updating: images/carvanha.gif (deflated 5%)\n",
            "updating: images/talonflame.gif (deflated 1%)\n",
            "updating: images/volcanion.gif (deflated 3%)\n",
            "updating: images/machoke.gif (deflated 3%)\n",
            "updating: images/alakazam.gif (deflated 3%)\n",
            "updating: images/hippowdon.gif (deflated 2%)\n",
            "updating: images/rayquaza.gif (deflated 2%)\n",
            "updating: images/stonjourner.gif (deflated 2%)\n",
            "updating: images/toxicroak.gif (deflated 2%)\n",
            "updating: images/sewaddle.gif (deflated 7%)\n",
            "updating: images/fennekin.gif (deflated 6%)\n",
            "updating: images/dustox.gif (deflated 2%)\n",
            "updating: images/staryu.gif (deflated 10%)\n",
            "updating: images/froakie.gif (deflated 5%)\n",
            "updating: images/raikou.gif (deflated 2%)\n",
            "updating: images/metapod.gif (deflated 7%)\n",
            "updating: images/axew.gif (deflated 6%)\n",
            "updating: images/furfrou.gif (deflated 3%)\n",
            "updating: images/privatyke.gif (stored 0%)\n",
            "updating: images/regirock.gif (deflated 2%)\n",
            "updating: images/leafeon.gif (deflated 3%)\n",
            "updating: images/hoopa-unbound.gif (deflated 2%)\n",
            "updating: images/malamar.gif (deflated 2%)\n",
            "updating: images/whirlipede.gif (deflated 3%)\n",
            "updating: images/wailmer.gif (deflated 3%)\n",
            "updating: images/swirlix.gif (deflated 5%)\n",
            "updating: images/marill.gif (deflated 6%)\n",
            "updating: images/bouffalant.gif (deflated 1%)\n",
            "updating: images/weedle.gif (deflated 7%)\n",
            "updating: images/persian.gif (deflated 3%)\n",
            "updating: images/chewtle.gif (deflated 6%)\n",
            "updating: images/mareanie.gif (deflated 6%)\n",
            "updating: images/pumpkaboo-super.gif (deflated 5%)\n",
            "updating: images/hitmonlee.gif (deflated 4%)\n",
            "updating: images/gabite.gif (deflated 3%)\n",
            "updating: images/clauncher.gif (deflated 6%)\n",
            "updating: images/corsola.gif (deflated 4%)\n",
            "updating: images/cinderace.gif (deflated 5%)\n",
            "updating: images/decidueye.gif (deflated 2%)\n",
            "updating: images/nidoqueen.gif (deflated 2%)\n",
            "updating: images/rhydon.gif (deflated 2%)\n",
            "updating: images/meltan.gif (deflated 8%)\n",
            "updating: images/altaria.gif (deflated 1%)\n",
            "updating: images/lairon.gif (deflated 4%)\n",
            "updating: images/mudsdale.gif (deflated 2%)\n",
            "updating: images/barboach.gif (deflated 7%)\n",
            "updating: images/swablu.gif (deflated 3%)\n",
            "updating: images/gallade.gif (deflated 11%)\n",
            "updating: images/spheal.gif (deflated 5%)\n",
            "updating: images/farfetchd-galar.gif (deflated 4%)\n",
            "updating: images/kakuna.gif (deflated 6%)\n",
            "updating: images/ditto.gif (deflated 6%)\n",
            "updating: images/croconaw.gif (deflated 5%)\n",
            "updating: images/magikarp.gif (deflated 5%)\n",
            "updating: images/surskit.gif (deflated 10%)\n",
            "updating: images/pichu.gif (deflated 6%)\n",
            "updating: images/fidgit.gif (deflated 3%)\n",
            "updating: images/cloyster.gif (deflated 3%)\n",
            "updating: images/walrein.gif (deflated 2%)\n",
            "updating: images/tynamo.gif (deflated 10%)\n",
            "updating: images/florges.gif (deflated 2%)\n",
            "updating: images/goodra.gif (deflated 3%)\n",
            "updating: images/kerfluffle.gif (deflated 2%)\n",
            "updating: images/golem-alola.gif (deflated 2%)\n",
            "updating: images/minior.gif (deflated 3%)\n",
            "updating: images/necrozma.gif (deflated 2%)\n",
            "updating: images/palkia.gif (deflated 1%)\n",
            "updating: images/floatzel.gif (deflated 3%)\n",
            "updating: images/rebble.gif (stored 0%)\n",
            "updating: images/crustle.gif (deflated 2%)\n",
            "updating: images/skuntank.gif (deflated 3%)\n",
            "updating: images/spewpa.gif (deflated 6%)\n",
            "updating: images/darmanitan.gif (deflated 2%)\n",
            "updating: images/gothorita.gif (deflated 4%)\n",
            "updating: images/abomasnow.gif (deflated 3%)\n",
            "updating: images/joltik.gif (deflated 10%)\n",
            "updating: images/panpour.gif (deflated 4%)\n",
            "updating: images/muk-alola.gif (deflated 2%)\n",
            "updating: images/zamazenta.gif (deflated 3%)\n",
            "updating: images/sobble.gif (deflated 4%)\n",
            "updating: images/swanna.gif (deflated 1%)\n",
            "updating: images/boldore.gif (deflated 4%)\n",
            "updating: images/latias.gif (deflated 3%)\n",
            "updating: images/huntail.gif (deflated 3%)\n",
            "updating: images/stunfisk-galar.gif (deflated 5%)\n",
            "updating: images/grapploct.gif (deflated 3%)\n",
            "updating: images/paras.gif (deflated 6%)\n",
            "updating: images/girafarig.gif (deflated 3%)\n",
            "updating: images/empoleon.gif (deflated 5%)\n",
            "updating: images/palpitoad.gif (deflated 4%)\n",
            "updating: images/sandshrew-alola.gif (deflated 5%)\n",
            "updating: images/kingdra.gif (deflated 4%)\n",
            "updating: images/bulbasaur.gif (deflated 5%)\n",
            "updating: images/brionne.gif (deflated 3%)\n",
            "updating: images/chandelure.gif (deflated 2%)\n",
            "updating: images/ninjask.gif (deflated 5%)\n",
            "updating: images/jellicent.gif (deflated 2%)\n",
            "updating: images/silvally-rock.gif (deflated 4%)\n",
            "updating: images/eternatus.gif (deflated 3%)\n",
            "updating: images/manectric.gif (deflated 2%)\n",
            "updating: images/scratchet.gif (deflated 4%)\n",
            "updating: images/breezi.gif (stored 0%)\n",
            "updating: images/coalossal.gif (deflated 3%)\n",
            "updating: images/oddish.gif (deflated 6%)\n",
            "updating: images/togepi.gif (deflated 7%)\n",
            "updating: images/honedge.gif (deflated 3%)\n",
            "updating: images/celebi.gif (deflated 5%)\n",
            "updating: images/toxapex.gif (deflated 2%)\n",
            "updating: images/tangrowth.gif (deflated 1%)\n",
            "updating: images/tauros.gif (deflated 2%)\n",
            "updating: images/solosis.gif (deflated 5%)\n",
            "updating: images/grimer.gif (deflated 4%)\n",
            "updating: images/nidorina.gif (deflated 5%)\n",
            "updating: images/trubbish.gif (deflated 7%)\n",
            "updating: images/pelipper.gif (deflated 3%)\n",
            "updating: images/gastly.gif (deflated 4%)\n",
            "updating: images/spearow.gif (deflated 5%)\n",
            "updating: images/arceus-rock.gif (deflated 3%)\n",
            "updating: images/espurr.gif (deflated 6%)\n",
            "updating: images/genesect-shock.gif (deflated 3%)\n",
            "updating: images/morpeko.gif (deflated 5%)\n",
            "updating: images/argalis.gif (stored 0%)\n",
            "updating: images/bunnelby.gif (deflated 3%)\n",
            "updating: images/gligar.gif (deflated 2%)\n",
            "updating: images/dartrix.gif (deflated 3%)\n",
            "updating: images/cutiefly.gif (deflated 6%)\n",
            "updating: images/seviper.gif (deflated 3%)\n",
            "updating: images/swadloon.gif (deflated 5%)\n",
            "updating: images/stoutland.gif (deflated 3%)\n",
            "updating: images/popplio.gif (deflated 4%)\n",
            "updating: images/gengar.gif (deflated 2%)\n",
            "updating: images/blitzle.gif (deflated 5%)\n",
            "updating: images/conkeldurr.gif (deflated 2%)\n",
            "updating: images/slakoth.gif (deflated 9%)\n",
            "updating: images/pikachu.gif (deflated 4%)\n",
            "updating: images/persian-alola.gif (deflated 2%)\n",
            "updating: images/xatu.gif (deflated 3%)\n",
            "updating: images/poliwrath.gif (deflated 3%)\n",
            "updating: images/zeraora.gif (deflated 9%)\n",
            "updating: images/clamperl.gif (deflated 4%)\n",
            "updating: images/cawdet.gif (stored 0%)\n",
            "updating: images/comfey.gif (deflated 2%)\n",
            "updating: images/bonsly.gif (deflated 7%)\n",
            "updating: images/arrokuda.gif (deflated 7%)\n",
            "updating: images/foongus.gif (deflated 8%)\n",
            "updating: images/pansage.gif (deflated 4%)\n",
            "updating: images/cramorant.gif (deflated 4%)\n",
            "updating: images/cleffa.gif (deflated 8%)\n",
            "updating: images/vivillon.gif (deflated 2%)\n",
            "updating: images/flaaffy.gif (deflated 4%)\n",
            "updating: images/ekans.gif (deflated 7%)\n",
            "updating: images/graveler-alola.gif (deflated 2%)\n",
            "updating: images/greninja.gif (deflated 3%)\n",
            "updating: images/yungoos.gif (deflated 8%)\n",
            "updating: images/kingler.gif (deflated 5%)\n",
            "updating: images/pangoro.gif (deflated 1%)\n",
            "updating: images/genesect-douse.gif (deflated 3%)\n",
            "updating: images/darmanitan-galar.gif (deflated 3%)\n",
            "updating: images/aurumoth.gif (deflated 3%)\n",
            "updating: images/silvally-poison.gif (deflated 4%)\n",
            "updating: images/poliwag.gif (deflated 6%)\n",
            "updating: images/zygarde.gif (deflated 2%)\n",
            "updating: images/genesect.gif (deflated 2%)\n",
            "updating: images/kommo-o.gif (deflated 2%)\n",
            "updating: images/haunter.gif (deflated 3%)\n",
            "updating: images/loudred.gif (deflated 2%)\n",
            "updating: images/pidgey.gif (deflated 5%)\n",
            "updating: images/pancham.gif (deflated 6%)\n",
            "updating: images/excadrill.gif (deflated 3%)\n",
            "updating: images/golisopod.gif (deflated 3%)\n",
            "updating: images/volkraken.gif (deflated 55%)\n",
            "updating: images/murkrow.gif (deflated 4%)\n",
            "updating: images/sinistea-antique.gif (deflated 35%)\n",
            "updating: images/togedemaru-totem.gif (deflated 35%)\n",
            "updating: images/bronzong.gif (deflated 3%)\n",
            "updating: images/spinda.gif (deflated 3%)\n",
            "updating: images/blaziken.gif (deflated 4%)\n",
            "updating: images/mimikyu.gif (deflated 4%)\n",
            "updating: images/meowstic-m.gif (deflated 4%)\n",
            "updating: images/nidoran-f.gif (deflated 5%)\n",
            "updating: images/stufful.gif (deflated 4%)\n",
            "updating: images/wurmple.gif (deflated 6%)\n",
            "updating: images/bronzor.gif (deflated 8%)\n",
            "updating: images/pikachu-unova.gif (deflated 5%)\n",
            "updating: images/corsola-galar.gif (deflated 4%)\n",
            "updating: images/clobbopus.gif (deflated 4%)\n",
            "updating: images/fearow.gif (deflated 1%)\n",
            "updating: images/lillipup.gif (deflated 6%)\n",
            "updating: images/nidoking.gif (deflated 1%)\n",
            "updating: images/magneton.gif (deflated 3%)\n",
            "updating: images/arctozolt.gif (deflated 3%)\n",
            "updating: images/stratagem.gif (deflated 4%)\n",
            "updating: images/minun.gif (deflated 6%)\n",
            "updating: images/eevee-starter.gif (deflated 9%)\n",
            "updating: images/exploud.gif (deflated 2%)\n",
            "updating: images/jirachi.gif (deflated 4%)\n",
            "updating: images/jigglypuff.gif (deflated 6%)\n",
            "updating: images/vulpix-alola.gif (deflated 7%)\n",
            "updating: images/zacian-crowned.gif (deflated 3%)\n",
            "updating: images/helioptile.gif (deflated 5%)\n",
            "updating: images/wooper.gif (deflated 6%)\n",
            "updating: images/silvally-electric.gif (deflated 4%)\n",
            "updating: images/ducklett.gif (deflated 5%)\n",
            "updating: images/toxtricity-low-key.gif (deflated 4%)\n",
            "updating: images/celesteela.gif (deflated 2%)\n",
            "updating: images/ledyba.gif (deflated 5%)\n",
            "updating: images/furret.gif (deflated 3%)\n",
            "updating: images/magmortar.gif (deflated 2%)\n",
            "updating: images/ponyta.gif (deflated 19%)\n",
            "updating: images/bisharp.gif (deflated 4%)\n",
            "updating: images/cursola.gif (deflated 4%)\n",
            "updating: images/spinarak.gif (deflated 11%)\n",
            "updating: images/ninetales-alola.gif (deflated 3%)\n",
            "updating: images/mandibuzz.gif (deflated 1%)\n",
            "updating: images/marowak-alola.gif (deflated 2%)\n",
            "updating: images/frogadier.gif (deflated 4%)\n",
            "updating: images/scizor.gif (deflated 2%)\n",
            "updating: images/raticate-alola.gif (deflated 3%)\n",
            "updating: images/hoothoot.gif (deflated 4%)\n",
            "updating: images/mumbao.gif (deflated 35%)\n",
            "updating: images/archeops.gif (deflated 5%)\n",
            "updating: images/gothitelle.gif (deflated 3%)\n",
            "updating: images/pikachu-sinnoh.gif (deflated 4%)\n",
            "updating: images/ampharos.gif (deflated 2%)\n",
            "updating: images/cascoon.gif (deflated 8%)\n",
            "updating: images/meowth-alola.gif (deflated 5%)\n",
            "updating: images/deoxys-defense.gif (deflated 2%)\n",
            "updating: images/donphan.gif (deflated 2%)\n",
            "updating: images/houndoom.gif (deflated 3%)\n",
            "updating: images/karrablast.gif (deflated 6%)\n",
            "updating: images/cyndaquil.gif (deflated 8%)\n",
            "updating: images/cufant.gif (deflated 4%)\n",
            "updating: images/vullaby.gif (deflated 4%)\n",
            "updating: images/dragonair.gif (deflated 4%)\n",
            "updating: images/dusknoir.gif (deflated 2%)\n",
            "updating: images/electrike.gif (deflated 5%)\n",
            "updating: images/jangmo-o.gif (deflated 4%)\n",
            "updating: images/sandshrew.gif (deflated 4%)\n",
            "updating: images/plusle.gif (deflated 30%)\n",
            "updating: images/arghonaut.gif (stored 0%)\n",
            "updating: images/swirlpool.gif (deflated 35%)\n",
            "updating: images/gorebyss.gif (deflated 4%)\n",
            "updating: images/bellsprout.gif (deflated 8%)\n",
            "updating: images/omanyte.gif (deflated 8%)\n",
            "updating: images/sneasel.gif (deflated 5%)\n",
            "updating: images/teddiursa.gif (deflated 6%)\n",
            "updating: images/leavanny.gif (deflated 3%)\n",
            "updating: images/naviathan.gif (deflated 4%)\n",
            "updating: images/luvdisc.gif (deflated 10%)\n",
            "updating: images/drifloon.gif (deflated 9%)\n",
            "updating: images/seedot.gif (deflated 7%)\n",
            "updating: images/mollux.gif (deflated 3%)\n",
            "updating: images/golem.gif (deflated 2%)\n",
            "updating: images/mienfoo.gif (deflated 6%)\n",
            "updating: images/geodude-alola.gif (deflated 4%)\n",
            "updating: images/jolteon.gif (deflated 4%)\n",
            "updating: images/ursaring.gif (deflated 2%)\n",
            "updating: images/shuppet.gif (deflated 7%)\n",
            "updating: images/rotom-mow.gif (deflated 5%)\n",
            "updating: images/mareep.gif (deflated 5%)\n",
            "updating: images/pikipek.gif (deflated 6%)\n",
            "updating: images/silicobra.gif (deflated 6%)\n",
            "updating: images/baltoy.gif (deflated 6%)\n",
            "updating: images/basculin-blue-striped.gif (deflated 4%)\n",
            "updating: images/keldeo-resolute.gif (deflated 2%)\n",
            "updating: images/magnemite.gif (deflated 10%)\n",
            "updating: images/timburr.gif (deflated 4%)\n",
            "updating: images/victini.gif (deflated 5%)\n",
            "updating: images/elgyem.gif (deflated 6%)\n",
            "updating: images/medicham.gif (deflated 4%)\n",
            "updating: images/mankey.gif (deflated 5%)\n",
            "updating: images/silvally-water.gif (deflated 4%)\n",
            "updating: images/tapu-fini.gif (deflated 2%)\n",
            "updating: images/arceus-ground.gif (deflated 3%)\n",
            "updating: images/clawitzer.gif (deflated 2%)\n",
            "updating: images/kitsunoh.gif (stored 0%)\n",
            "updating: images/bayleef.gif (deflated 5%)\n",
            "updating: images/chimecho.gif (deflated 7%)\n",
            "updating: images/staraptor.gif (deflated 1%)\n",
            "updating: images/charizard.gif (deflated 1%)\n",
            "updating: images/hatenna.gif (deflated 6%)\n",
            "updating: images/venonat.gif (deflated 4%)\n",
            "updating: images/wishiwashi.gif (deflated 6%)\n",
            "updating: images/diancie.gif (deflated 3%)\n",
            "updating: images/skorupi.gif (deflated 3%)\n",
            "updating: images/pluffle.gif (deflated 9%)\n",
            "updating: images/litten.gif (deflated 3%)\n",
            "updating: images/weezing.gif (deflated 2%)\n",
            "updating: images/tomohawk.gif (deflated 4%)\n",
            "updating: images/pikachu-original.gif (deflated 5%)\n",
            "updating: images/thievul.gif (deflated 4%)\n",
            "updating: images/luxray.gif (deflated 3%)\n",
            "updating: images/togekiss.gif (deflated 8%)\n",
            "updating: images/salazzle.gif (deflated 2%)\n",
            "updating: images/graveler.gif (deflated 4%)\n",
            "updating: images/komala.gif (deflated 4%)\n",
            "updating: images/zebstrika.gif (deflated 3%)\n",
            "updating: images/dedenne.gif (deflated 4%)\n",
            "updating: images/pumpkaboo-small.gif (deflated 7%)\n",
            "updating: images/falinks.gif (deflated 4%)\n",
            "updating: images/landorus.gif (deflated 2%)\n",
            "updating: images/mr-mime.gif (deflated 3%)\n",
            "updating: images/armaldo.gif (deflated 2%)\n",
            "updating: images/metang.gif (deflated 3%)\n",
            "updating: images/shellder.gif (deflated 8%)\n",
            "updating: images/electivire.gif (deflated 2%)\n",
            "updating: images/salazzle-totem.gif (deflated 3%)\n",
            "updating: images/gastrodon.gif (deflated 3%)\n",
            "updating: images/feraligatr.gif (deflated 3%)\n",
            "updating: images/polteageist-antique.gif (deflated 35%)\n",
            "updating: images/piplup.gif (deflated 17%)\n",
            "updating: images/sableye.gif (deflated 5%)\n",
            "updating: images/carracosta.gif (deflated 2%)\n",
            "updating: images/runerigus.gif (deflated 3%)\n",
            "updating: images/pincurchin.gif (deflated 6%)\n",
            "updating: images/toxtricity.gif (deflated 3%)\n",
            "updating: images/cinccino.gif (deflated 4%)\n",
            "updating: images/bagon.gif (deflated 6%)\n",
            "updating: images/passimian.gif (deflated 2%)\n",
            "updating: images/tapu-lele.gif (deflated 3%)\n",
            "updating: images/virizion.gif (deflated 3%)\n",
            "updating: images/ribombee-totem.gif (deflated 35%)\n",
            "updating: images/slurpuff.gif (deflated 4%)\n",
            "updating: images/dusclops.gif (deflated 2%)\n",
            "updating: images/slowpoke-galar.gif (deflated 6%)\n",
            "updating: images/salamence.gif (deflated 2%)\n",
            "updating: images/deerling.gif (deflated 4%)\n",
            "updating: images/magmar.gif (deflated 2%)\n",
            "updating: images/slowpoke.gif (deflated 5%)\n",
            "updating: images/chespin.gif (deflated 5%)\n",
            "updating: images/blastoise.gif (deflated 2%)\n",
            "updating: images/mudkip.gif (deflated 5%)\n",
            "updating: images/swinub.gif (deflated 7%)\n",
            "updating: images/venomoth.gif (deflated 2%)\n",
            "updating: images/drakloak.gif (deflated 4%)\n",
            "updating: images/vanillite.gif (deflated 6%)\n",
            "updating: images/kricketune.gif (deflated 3%)\n",
            "updating: images/ivysaur.gif (deflated 3%)\n",
            "updating: images/torterra.gif (deflated 2%)\n",
            "updating: images/tirtouga.gif (deflated 6%)\n",
            "updating: images/rowlet.gif (deflated 4%)\n",
            "updating: images/fomantis.gif (deflated 4%)\n",
            "updating: images/sandygast.gif (deflated 6%)\n",
            "updating: images/arceus-fire.gif (deflated 3%)\n",
            "updating: images/ambipom.gif (deflated 2%)\n",
            "updating: images/salandit.gif (deflated 4%)\n",
            "updating: images/vivillon-pokeball.gif (deflated 2%)\n",
            "updating: images/snover.gif (deflated 4%)\n",
            "updating: images/steelix.gif (deflated 2%)\n",
            "updating: images/turtwig.gif (deflated 5%)\n",
            "updating: images/magcargo.gif (deflated 2%)\n",
            "updating: images/aurorus.gif (deflated 2%)\n",
            "updating: images/rhyperior.gif (deflated 2%)\n",
            "updating: images/krabby.gif (deflated 5%)\n",
            "updating: images/silvally-fighting.gif (deflated 5%)\n",
            "updating: images/staravia.gif (deflated 2%)\n",
            "updating: images/arceus-flying.gif (deflated 3%)\n",
            "updating: images/hakamo-o.gif (deflated 3%)\n",
            "updating: images/raichu.gif (deflated 2%)\n",
            "updating: images/oricorio-sensu.gif (deflated 6%)\n",
            "updating: images/cacnea.gif (deflated 4%)\n",
            "updating: images/tentacool.gif (deflated 5%)\n",
            "updating: images/taillow.gif (deflated 9%)\n",
            "updating: images/sealeo.gif (deflated 4%)\n",
            "updating: images/bergmite.gif (deflated 5%)\n",
            "updating: images/chansey.gif (deflated 4%)\n",
            "updating: images/shieldon.gif (deflated 4%)\n",
            "updating: images/genesect-burn.gif (deflated 3%)\n",
            "updating: images/rockruff.gif (deflated 4%)\n",
            "updating: images/duraludon.gif (deflated 3%)\n",
            "updating: images/arceus.gif (deflated 3%)\n",
            "updating: images/arceus-ghost.gif (deflated 3%)\n",
            "updating: images/breloom.gif (deflated 2%)\n",
            "updating: images/cofagrigus.gif (deflated 1%)\n",
            "updating: images/masquerain.gif (deflated 5%)\n",
            "updating: images/zekrom.gif (deflated 1%)\n",
            "updating: images/noivern.gif (deflated 1%)\n",
            "updating: images/floette.gif (deflated 4%)\n",
            "updating: images/slowking.gif (deflated 3%)\n",
            "updating: images/stunfisk.gif (deflated 13%)\n",
            "updating: images/slaking.gif (deflated 3%)\n",
            "updating: images/embirch.gif (deflated 35%)\n",
            "updating: images/kartana.gif (deflated 2%)\n",
            "updating: images/volcarona.gif (deflated 1%)\n",
            "updating: images/heatran.gif (deflated 2%)\n",
            "updating: images/snaelstrom.gif (deflated 2%)\n",
            "updating: images/mimikyu-totem.gif (deflated 3%)\n",
            "updating: images/aegislash.gif (deflated 2%)\n",
            "updating: images/flygon.gif (deflated 1%)\n",
            "updating: images/obstagoon.gif (deflated 3%)\n",
            "updating: images/arceus-fairy.gif (deflated 3%)\n",
            "updating: images/mudbray.gif (deflated 4%)\n",
            "updating: images/bounsweet.gif (deflated 6%)\n",
            "updating: images/seadra.gif (deflated 3%)\n",
            "updating: images/delcatty.gif (deflated 3%)\n",
            "updating: images/lycanroc-midnight.gif (deflated 2%)\n",
            "updating: images/chinchou.gif (deflated 5%)\n",
            "updating: images/hatterene.gif (deflated 5%)\n",
            "updating: images/bellossom.gif (deflated 3%)\n",
            "updating: images/ludicolo.gif (deflated 2%)\n",
            "updating: images/exeggutor.gif (deflated 2%)\n",
            "updating: images/nihilego.gif (deflated 2%)\n",
            "updating: images/weavile.gif (deflated 3%)\n",
            "updating: images/syclant.gif (stored 0%)\n",
            "updating: images/rattata-alola.gif (deflated 5%)\n",
            "updating: images/treecko.gif (deflated 7%)\n",
            "updating: images/silvally-steel.gif (deflated 4%)\n",
            "updating: images/darkrai.gif (deflated 2%)\n",
            "updating: images/shaymin.gif (deflated 7%)\n",
            "updating: images/aggron.gif (deflated 1%)\n",
            "updating: images/horsea.gif (deflated 7%)\n",
            "updating: images/maractus.gif (deflated 3%)\n",
            "updating: images/porygon.gif (deflated 7%)\n",
            "updating: images/zamazenta-crowned.gif (deflated 2%)\n",
            "updating: images/ribombee.gif (deflated 3%)\n",
            "updating: images/frosmoth.gif (deflated 5%)\n",
            "updating: images/tangela.gif (deflated 3%)\n",
            "updating: images/trapinch.gif (deflated 6%)\n",
            "updating: images/yveltal.gif (deflated 1%)\n",
            "updating: images/solrock.gif (deflated 4%)\n",
            "updating: images/arceus-fighting.gif (deflated 3%)\n",
            "updating: images/misdreavus.gif (deflated 5%)\n",
            "updating: images/fraxure.gif (deflated 2%)\n",
            "updating: images/morelull.gif (deflated 7%)\n",
            "updating: images/pikachu-alola.gif (deflated 4%)\n",
            "updating: images/scyther.gif (deflated 2%)\n",
            "updating: images/exeggcute.gif (deflated 7%)\n",
            "updating: images/simisear.gif (deflated 3%)\n",
            "updating: images/grovyle.gif (deflated 3%)\n",
            "updating: images/seismitoad.gif (deflated 2%)\n",
            "updating: images/lopunny.gif (deflated 3%)\n",
            "updating: images/giratina-origin.gif (deflated 1%)\n",
            "updating: images/beedrill.gif (deflated 3%)\n",
            "updating: images/marowak-alola-totem.gif (deflated 2%)\n",
            "updating: images/snugglow.gif (stored 0%)\n",
            "updating: images/zweilous.gif (deflated 2%)\n",
            "updating: images/oranguru.gif (deflated 2%)\n",
            "updating: images/indeedee-f.gif (deflated 5%)\n",
            "updating: images/gourgeist-small.gif (deflated 3%)\n",
            "updating: images/bibarel.gif (deflated 4%)\n",
            "updating: images/cawmodore.gif (deflated 4%)\n",
            "updating: images/tactite.gif (stored 0%)\n",
            "updating: images/pyukumuku.gif (deflated 6%)\n",
            "updating: images/snorlax.gif (deflated 4%)\n",
            "updating: images/lunatone.gif (deflated 5%)\n",
            "updating: images/sharpedo.gif (deflated 5%)\n",
            "updating: images/meowth.gif (deflated 7%)\n",
            "updating: images/combee.gif (deflated 4%)\n",
            "updating: images/meowstic-f.gif (deflated 35%)\n",
            "updating: images/sunflora.gif (deflated 4%)\n",
            "updating: images/indeedee.gif (deflated 5%)\n",
            "updating: images/amoonguss.gif (deflated 2%)\n",
            "updating: images/syclar.gif (stored 0%)\n",
            "updating: images/diglett-alola.gif (deflated 7%)\n",
            "updating: images/vaporeon.gif (deflated 3%)\n",
            "updating: images/cubchoo.gif (deflated 5%)\n",
            "updating: images/yanma.gif (deflated 4%)\n",
            "updating: images/jumpluff.gif (deflated 2%)\n",
            "updating: images/ninetales.gif (deflated 2%)\n",
            "updating: images/tyrogue.gif (deflated 4%)\n",
            "updating: images/gourgeist.gif (deflated 4%)\n",
            "updating: images/braviary.gif (deflated 1%)\n",
            "updating: images/lycanroc.gif (deflated 3%)\n",
            "updating: images/sinistea.gif (deflated 8%)\n",
            "updating: images/skwovet.gif (deflated 4%)\n",
            "updating: images/illumise.gif (deflated 4%)\n",
            "updating: images/silvally-flying.gif (deflated 4%)\n",
            "updating: images/sudowoodo.gif (deflated 6%)\n",
            "updating: images/absol.gif (deflated 7%)\n",
            "updating: images/deoxys-attack.gif (deflated 3%)\n",
            "updating: images/riolu.gif (deflated 6%)\n",
            "updating: images/pyroak.gif (deflated 2%)\n",
            "updating: images/dratini.gif (deflated 6%)\n",
            "updating: images/caimanoe.gif (stored 0%)\n",
            "updating: images/flarelm.gif (deflated 35%)\n",
            "updating: images/growlithe.gif (deflated 6%)\n",
            "updating: images/swoobat.gif (deflated 2%)\n",
            "updating: images/plasmanta.gif (deflated 8%)\n",
            "updating: images/equilibra.gif (deflated 3%)\n",
            "updating: images/nickit.gif (deflated 5%)\n",
            "updating: images/camerupt.gif (deflated 3%)\n",
            "updating: images/throh.gif (deflated 3%)\n",
            "updating: images/stunky.gif (deflated 3%)\n",
            "updating: images/kadabra.gif (deflated 3%)\n",
            "updating: images/silvally-ghost.gif (deflated 4%)\n",
            "updating: images/dragapult.gif (deflated 2%)\n",
            "updating: images/pikachu-partner.gif (deflated 7%)\n",
            "updating: images/croagunk.gif (deflated 5%)\n",
            "updating: images/seel.gif (deflated 7%)\n",
            "updating: images/meganium.gif (deflated 3%)\n",
            "updating: images/aromatisse.gif (deflated 4%)\n",
            "updating: images/appletun.gif (deflated 3%)\n",
            "updating: images/silvally-dragon.gif (deflated 4%)\n",
            "updating: images/stakataka.gif (deflated 5%)\n",
            "updating: images/smoochum.gif (deflated 4%)\n",
            "updating: images/vespiquen.gif (deflated 2%)\n",
            "updating: images/rufflet.gif (deflated 4%)\n",
            "updating: images/gogoat.gif (deflated 3%)\n",
            "updating: images/keldeo.gif (deflated 3%)\n",
            "updating: images/onix.gif (deflated 2%)\n",
            "updating: images/lurantis-totem.gif (deflated 4%)\n",
            "updating: images/silvally-bug.gif (deflated 4%)\n",
            "updating: images/regice.gif (deflated 3%)\n",
            "updating: images/kabutops.gif (deflated 3%)\n",
            "updating: images/voltorb.gif (deflated 14%)\n",
            "updating: images/drilbur.gif (deflated 5%)\n",
            "updating: images/lombre.gif (deflated 4%)\n",
            "updating: images/silvally-ground.gif (deflated 4%)\n",
            "updating: images/floatoy.gif (stored 0%)\n",
            "updating: images/naganadel.gif (deflated 5%)\n",
            "updating: images/woobat.gif (deflated 4%)\n",
            "updating: images/hitmonchan.gif (deflated 3%)\n",
            "updating: images/pikachu-hoenn.gif (deflated 4%)\n",
            "updating: images/deoxys.gif (deflated 3%)\n",
            "updating: images/darumaka-galar.gif (deflated 7%)\n",
            "updating: images/noctowl.gif (deflated 2%)\n",
            "updating: images/flapple.gif (deflated 4%)\n",
            "updating: images/claydol.gif (deflated 5%)\n",
            "updating: images/klang.gif (deflated 2%)\n",
            "updating: images/sizzlipede.gif (deflated 6%)\n",
            "updating: images/farfetchd.gif (deflated 5%)\n",
            "updating: images/scatterbug.gif (deflated 5%)\n",
            "updating: images/accelgor.gif (deflated 2%)\n",
            "updating: images/nosepass.gif (deflated 13%)\n",
            "updating: images/gothita.gif (deflated 7%)\n",
            "updating: images/pikachu-kalos.gif (deflated 4%)\n",
            "updating: images/terrakion.gif (deflated 3%)\n",
            "updating: images/gourgeist-large.gif (deflated 3%)\n",
            "updating: images/wailord.gif (deflated 2%)\n",
            "updating: images/zorua.gif (deflated 5%)\n",
            "updating: images/arceus-poison.gif (deflated 3%)\n",
            "updating: images/bastiodon.gif (deflated 3%)\n",
            "updating: images/aipom.gif (deflated 4%)\n",
            "updating: images/froslass.gif (deflated 3%)\n",
            "updating: images/umbreon.gif (deflated 5%)\n",
            "updating: imagelist.txt (deflated 87%)\n"
          ],
          "name": "stdout"
        }
      ]
    },
    {
      "cell_type": "code",
      "metadata": {
        "id": "pxe2ZlUsLGu2",
        "colab_type": "code",
        "outputId": "9e10bee2-67a6-4e7b-d1e9-2fdfbbbdbbf4",
        "colab": {
          "base_uri": "https://localhost:8080/",
          "height": 34
        }
      },
      "source": [
        "len(gif_list)"
      ],
      "execution_count": 0,
      "outputs": [
        {
          "output_type": "execute_result",
          "data": {
            "text/plain": [
              "1116"
            ]
          },
          "metadata": {
            "tags": []
          },
          "execution_count": 78
        }
      ]
    },
    {
      "cell_type": "markdown",
      "metadata": {
        "id": "aBs-v9vqKi92",
        "colab_type": "text"
      },
      "source": [
        "#Play PokemonShowdown"
      ]
    },
    {
      "cell_type": "code",
      "metadata": {
        "id": "MsJh_c3OfpcF",
        "colab_type": "code",
        "colab": {}
      },
      "source": [
        "drive.flush_and_unmount()"
      ],
      "execution_count": 0,
      "outputs": []
    },
    {
      "cell_type": "code",
      "metadata": {
        "id": "DqwKuKEac11R",
        "colab_type": "code",
        "outputId": "96496339-2fa2-4f15-8e09-67e165133ffb",
        "colab": {
          "base_uri": "https://localhost:8080/",
          "height": 124
        }
      },
      "source": [
        "from google.colab import drive\n",
        "drive.mount(\"/content/gdrive\")"
      ],
      "execution_count": 0,
      "outputs": [
        {
          "output_type": "stream",
          "text": [
            "Go to this URL in a browser: https://accounts.google.com/o/oauth2/auth?client_id=947318989803-6bn6qk8qdgf4n4g3pfee6491hc0brc4i.apps.googleusercontent.com&redirect_uri=urn%3aietf%3awg%3aoauth%3a2.0%3aoob&response_type=code&scope=email%20https%3a%2f%2fwww.googleapis.com%2fauth%2fdocs.test%20https%3a%2f%2fwww.googleapis.com%2fauth%2fdrive%20https%3a%2f%2fwww.googleapis.com%2fauth%2fdrive.photos.readonly%20https%3a%2f%2fwww.googleapis.com%2fauth%2fpeopleapi.readonly\n",
            "\n",
            "Enter your authorization code:\n",
            "··········\n",
            "Mounted at /content/gdrive\n"
          ],
          "name": "stdout"
        }
      ]
    },
    {
      "cell_type": "code",
      "metadata": {
        "id": "nRzoH7CvekTl",
        "colab_type": "code",
        "outputId": "b83c67d2-9b4d-4c04-9bcd-bab5d16ae48d",
        "colab": {
          "base_uri": "https://localhost:8080/",
          "height": 1000
        }
      },
      "source": [
        "!pip install selenium\n",
        "!apt-get update # to update ubuntu to correctly run apt install\n",
        "!apt install chromium-chromedriver\n",
        "!cp /usr/lib/chromium-browser/chromedriver /usr/bin\n",
        "import sys\n",
        "sys.path.insert(0,'/usr/lib/chromium-browser/chromedriver')\n",
        "from selenium import webdriver\n",
        "chrome_options = webdriver.ChromeOptions()\n",
        "chrome_options.add_argument('--headless')\n",
        "chrome_options.add_argument('--no-sandbox')\n",
        "chrome_options.add_argument('--disable-dev-shm-usage')\n",
        "\n",
        "from selenium.webdriver.common.keys import Keys\n",
        "from time import sleep\n",
        "\n"
      ],
      "execution_count": 0,
      "outputs": [
        {
          "output_type": "stream",
          "text": [
            "Collecting selenium\n",
            "\u001b[?25l  Downloading https://files.pythonhosted.org/packages/80/d6/4294f0b4bce4de0abf13e17190289f9d0613b0a44e5dd6a7f5ca98459853/selenium-3.141.0-py2.py3-none-any.whl (904kB)\n",
            "\r\u001b[K     |▍                               | 10kB 15.3MB/s eta 0:00:01\r\u001b[K     |▊                               | 20kB 847kB/s eta 0:00:02\r\u001b[K     |█                               | 30kB 1.1MB/s eta 0:00:01\r\u001b[K     |█▌                              | 40kB 1.3MB/s eta 0:00:01\r\u001b[K     |█▉                              | 51kB 998kB/s eta 0:00:01\r\u001b[K     |██▏                             | 61kB 1.1MB/s eta 0:00:01\r\u001b[K     |██▌                             | 71kB 1.3MB/s eta 0:00:01\r\u001b[K     |███                             | 81kB 1.4MB/s eta 0:00:01\r\u001b[K     |███▎                            | 92kB 1.5MB/s eta 0:00:01\r\u001b[K     |███▋                            | 102kB 1.4MB/s eta 0:00:01\r\u001b[K     |████                            | 112kB 1.4MB/s eta 0:00:01\r\u001b[K     |████▍                           | 122kB 1.4MB/s eta 0:00:01\r\u001b[K     |████▊                           | 133kB 1.4MB/s eta 0:00:01\r\u001b[K     |█████                           | 143kB 1.4MB/s eta 0:00:01\r\u001b[K     |█████▍                          | 153kB 1.4MB/s eta 0:00:01\r\u001b[K     |█████▉                          | 163kB 1.4MB/s eta 0:00:01\r\u001b[K     |██████▏                         | 174kB 1.4MB/s eta 0:00:01\r\u001b[K     |██████▌                         | 184kB 1.4MB/s eta 0:00:01\r\u001b[K     |██████▉                         | 194kB 1.4MB/s eta 0:00:01\r\u001b[K     |███████▎                        | 204kB 1.4MB/s eta 0:00:01\r\u001b[K     |███████▋                        | 215kB 1.4MB/s eta 0:00:01\r\u001b[K     |████████                        | 225kB 1.4MB/s eta 0:00:01\r\u001b[K     |████████▎                       | 235kB 1.4MB/s eta 0:00:01\r\u001b[K     |████████▊                       | 245kB 1.4MB/s eta 0:00:01\r\u001b[K     |█████████                       | 256kB 1.4MB/s eta 0:00:01\r\u001b[K     |█████████▍                      | 266kB 1.4MB/s eta 0:00:01\r\u001b[K     |█████████▉                      | 276kB 1.4MB/s eta 0:00:01\r\u001b[K     |██████████▏                     | 286kB 1.4MB/s eta 0:00:01\r\u001b[K     |██████████▌                     | 296kB 1.4MB/s eta 0:00:01\r\u001b[K     |██████████▉                     | 307kB 1.4MB/s eta 0:00:01\r\u001b[K     |███████████▎                    | 317kB 1.4MB/s eta 0:00:01\r\u001b[K     |███████████▋                    | 327kB 1.4MB/s eta 0:00:01\r\u001b[K     |████████████                    | 337kB 1.4MB/s eta 0:00:01\r\u001b[K     |████████████▎                   | 348kB 1.4MB/s eta 0:00:01\r\u001b[K     |████████████▊                   | 358kB 1.4MB/s eta 0:00:01\r\u001b[K     |█████████████                   | 368kB 1.4MB/s eta 0:00:01\r\u001b[K     |█████████████▍                  | 378kB 1.4MB/s eta 0:00:01\r\u001b[K     |█████████████▊                  | 389kB 1.4MB/s eta 0:00:01\r\u001b[K     |██████████████▏                 | 399kB 1.4MB/s eta 0:00:01\r\u001b[K     |██████████████▌                 | 409kB 1.4MB/s eta 0:00:01\r\u001b[K     |██████████████▉                 | 419kB 1.4MB/s eta 0:00:01\r\u001b[K     |███████████████▏                | 430kB 1.4MB/s eta 0:00:01\r\u001b[K     |███████████████▋                | 440kB 1.4MB/s eta 0:00:01\r\u001b[K     |████████████████                | 450kB 1.4MB/s eta 0:00:01\r\u001b[K     |████████████████▎               | 460kB 1.4MB/s eta 0:00:01\r\u001b[K     |████████████████▋               | 471kB 1.4MB/s eta 0:00:01\r\u001b[K     |█████████████████               | 481kB 1.4MB/s eta 0:00:01\r\u001b[K     |█████████████████▍              | 491kB 1.4MB/s eta 0:00:01\r\u001b[K     |█████████████████▊              | 501kB 1.4MB/s eta 0:00:01\r\u001b[K     |██████████████████▏             | 512kB 1.4MB/s eta 0:00:01\r\u001b[K     |██████████████████▌             | 522kB 1.4MB/s eta 0:00:01\r\u001b[K     |██████████████████▉             | 532kB 1.4MB/s eta 0:00:01\r\u001b[K     |███████████████████▏            | 542kB 1.4MB/s eta 0:00:01\r\u001b[K     |███████████████████▋            | 552kB 1.4MB/s eta 0:00:01\r\u001b[K     |████████████████████            | 563kB 1.4MB/s eta 0:00:01\r\u001b[K     |████████████████████▎           | 573kB 1.4MB/s eta 0:00:01\r\u001b[K     |████████████████████▋           | 583kB 1.4MB/s eta 0:00:01\r\u001b[K     |█████████████████████           | 593kB 1.4MB/s eta 0:00:01\r\u001b[K     |█████████████████████▍          | 604kB 1.4MB/s eta 0:00:01\r\u001b[K     |█████████████████████▊          | 614kB 1.4MB/s eta 0:00:01\r\u001b[K     |██████████████████████          | 624kB 1.4MB/s eta 0:00:01\r\u001b[K     |██████████████████████▌         | 634kB 1.4MB/s eta 0:00:01\r\u001b[K     |██████████████████████▉         | 645kB 1.4MB/s eta 0:00:01\r\u001b[K     |███████████████████████▏        | 655kB 1.4MB/s eta 0:00:01\r\u001b[K     |███████████████████████▌        | 665kB 1.4MB/s eta 0:00:01\r\u001b[K     |████████████████████████        | 675kB 1.4MB/s eta 0:00:01\r\u001b[K     |████████████████████████▎       | 686kB 1.4MB/s eta 0:00:01\r\u001b[K     |████████████████████████▋       | 696kB 1.4MB/s eta 0:00:01\r\u001b[K     |█████████████████████████       | 706kB 1.4MB/s eta 0:00:01\r\u001b[K     |█████████████████████████▍      | 716kB 1.4MB/s eta 0:00:01\r\u001b[K     |█████████████████████████▊      | 727kB 1.4MB/s eta 0:00:01\r\u001b[K     |██████████████████████████      | 737kB 1.4MB/s eta 0:00:01\r\u001b[K     |██████████████████████████▍     | 747kB 1.4MB/s eta 0:00:01\r\u001b[K     |██████████████████████████▉     | 757kB 1.4MB/s eta 0:00:01\r\u001b[K     |███████████████████████████▏    | 768kB 1.4MB/s eta 0:00:01\r\u001b[K     |███████████████████████████▌    | 778kB 1.4MB/s eta 0:00:01\r\u001b[K     |████████████████████████████    | 788kB 1.4MB/s eta 0:00:01\r\u001b[K     |████████████████████████████▎   | 798kB 1.4MB/s eta 0:00:01\r\u001b[K     |████████████████████████████▋   | 808kB 1.4MB/s eta 0:00:01\r\u001b[K     |█████████████████████████████   | 819kB 1.4MB/s eta 0:00:01\r\u001b[K     |█████████████████████████████▍  | 829kB 1.4MB/s eta 0:00:01\r\u001b[K     |█████████████████████████████▊  | 839kB 1.4MB/s eta 0:00:01\r\u001b[K     |██████████████████████████████  | 849kB 1.4MB/s eta 0:00:01\r\u001b[K     |██████████████████████████████▍ | 860kB 1.4MB/s eta 0:00:01\r\u001b[K     |██████████████████████████████▉ | 870kB 1.4MB/s eta 0:00:01\r\u001b[K     |███████████████████████████████▏| 880kB 1.4MB/s eta 0:00:01\r\u001b[K     |███████████████████████████████▌| 890kB 1.4MB/s eta 0:00:01\r\u001b[K     |███████████████████████████████▉| 901kB 1.4MB/s eta 0:00:01\r\u001b[K     |████████████████████████████████| 911kB 1.4MB/s \n",
            "\u001b[?25hRequirement already satisfied: urllib3 in /usr/local/lib/python3.6/dist-packages (from selenium) (1.24.3)\n",
            "Installing collected packages: selenium\n",
            "Successfully installed selenium-3.141.0\n",
            "Get:1 https://cloud.r-project.org/bin/linux/ubuntu bionic-cran35/ InRelease [3,626 B]\n",
            "Get:2 http://security.ubuntu.com/ubuntu bionic-security InRelease [88.7 kB]\n",
            "Ign:3 https://developer.download.nvidia.com/compute/cuda/repos/ubuntu1804/x86_64  InRelease\n",
            "Ign:4 https://developer.download.nvidia.com/compute/machine-learning/repos/ubuntu1804/x86_64  InRelease\n",
            "Hit:5 https://developer.download.nvidia.com/compute/cuda/repos/ubuntu1804/x86_64  Release\n",
            "Hit:6 https://developer.download.nvidia.com/compute/machine-learning/repos/ubuntu1804/x86_64  Release\n",
            "Hit:7 http://ppa.launchpad.net/graphics-drivers/ppa/ubuntu bionic InRelease\n",
            "Hit:8 http://archive.ubuntu.com/ubuntu bionic InRelease\n",
            "Get:10 http://archive.ubuntu.com/ubuntu bionic-updates InRelease [88.7 kB]\n",
            "Get:12 http://ppa.launchpad.net/marutter/c2d4u3.5/ubuntu bionic InRelease [15.4 kB]\n",
            "Get:13 http://security.ubuntu.com/ubuntu bionic-security/restricted amd64 Packages [38.5 kB]\n",
            "Get:14 http://archive.ubuntu.com/ubuntu bionic-backports InRelease [74.6 kB]\n",
            "Get:15 http://security.ubuntu.com/ubuntu bionic-security/main amd64 Packages [873 kB]\n",
            "Get:16 http://ppa.launchpad.net/marutter/c2d4u3.5/ubuntu bionic/main Sources [1,810 kB]\n",
            "Get:17 http://archive.ubuntu.com/ubuntu bionic-updates/main amd64 Packages [1,176 kB]\n",
            "Get:18 http://security.ubuntu.com/ubuntu bionic-security/universe amd64 Packages [835 kB]\n",
            "Get:19 http://archive.ubuntu.com/ubuntu bionic-updates/universe amd64 Packages [1,368 kB]\n",
            "Get:20 http://archive.ubuntu.com/ubuntu bionic-updates/restricted amd64 Packages [57.5 kB]\n",
            "Get:21 http://ppa.launchpad.net/marutter/c2d4u3.5/ubuntu bionic/main amd64 Packages [873 kB]\n",
            "Fetched 7,301 kB in 7s (1,121 kB/s)\n",
            "Reading package lists... Done\n",
            "Reading package lists... Done\n",
            "Building dependency tree       \n",
            "Reading state information... Done\n",
            "The following additional packages will be installed:\n",
            "  chromium-browser chromium-browser-l10n chromium-codecs-ffmpeg-extra\n",
            "Suggested packages:\n",
            "  webaccounts-chromium-extension unity-chromium-extension adobe-flashplugin\n",
            "The following NEW packages will be installed:\n",
            "  chromium-browser chromium-browser-l10n chromium-chromedriver\n",
            "  chromium-codecs-ffmpeg-extra\n",
            "0 upgraded, 4 newly installed, 0 to remove and 31 not upgraded.\n",
            "Need to get 74.4 MB of archives.\n",
            "After this operation, 264 MB of additional disk space will be used.\n",
            "Get:1 http://archive.ubuntu.com/ubuntu bionic-updates/universe amd64 chromium-codecs-ffmpeg-extra amd64 80.0.3987.149-0ubuntu0.18.04.1 [1,095 kB]\n",
            "Get:2 http://archive.ubuntu.com/ubuntu bionic-updates/universe amd64 chromium-browser amd64 80.0.3987.149-0ubuntu0.18.04.1 [66.1 MB]\n",
            "Get:3 http://archive.ubuntu.com/ubuntu bionic-updates/universe amd64 chromium-browser-l10n all 80.0.3987.149-0ubuntu0.18.04.1 [3,160 kB]\n",
            "Get:4 http://archive.ubuntu.com/ubuntu bionic-updates/universe amd64 chromium-chromedriver amd64 80.0.3987.149-0ubuntu0.18.04.1 [4,045 kB]\n",
            "Fetched 74.4 MB in 9s (7,948 kB/s)\n",
            "Selecting previously unselected package chromium-codecs-ffmpeg-extra.\n",
            "(Reading database ... 144568 files and directories currently installed.)\n",
            "Preparing to unpack .../chromium-codecs-ffmpeg-extra_80.0.3987.149-0ubuntu0.18.04.1_amd64.deb ...\n",
            "Unpacking chromium-codecs-ffmpeg-extra (80.0.3987.149-0ubuntu0.18.04.1) ...\n",
            "Selecting previously unselected package chromium-browser.\n",
            "Preparing to unpack .../chromium-browser_80.0.3987.149-0ubuntu0.18.04.1_amd64.deb ...\n",
            "Unpacking chromium-browser (80.0.3987.149-0ubuntu0.18.04.1) ...\n",
            "Selecting previously unselected package chromium-browser-l10n.\n",
            "Preparing to unpack .../chromium-browser-l10n_80.0.3987.149-0ubuntu0.18.04.1_all.deb ...\n",
            "Unpacking chromium-browser-l10n (80.0.3987.149-0ubuntu0.18.04.1) ...\n",
            "Selecting previously unselected package chromium-chromedriver.\n",
            "Preparing to unpack .../chromium-chromedriver_80.0.3987.149-0ubuntu0.18.04.1_amd64.deb ...\n",
            "Unpacking chromium-chromedriver (80.0.3987.149-0ubuntu0.18.04.1) ...\n",
            "Setting up chromium-codecs-ffmpeg-extra (80.0.3987.149-0ubuntu0.18.04.1) ...\n",
            "Setting up chromium-browser (80.0.3987.149-0ubuntu0.18.04.1) ...\n",
            "update-alternatives: using /usr/bin/chromium-browser to provide /usr/bin/x-www-browser (x-www-browser) in auto mode\n",
            "update-alternatives: using /usr/bin/chromium-browser to provide /usr/bin/gnome-www-browser (gnome-www-browser) in auto mode\n",
            "Setting up chromium-chromedriver (80.0.3987.149-0ubuntu0.18.04.1) ...\n",
            "Setting up chromium-browser-l10n (80.0.3987.149-0ubuntu0.18.04.1) ...\n",
            "Processing triggers for hicolor-icon-theme (0.17-2) ...\n",
            "Processing triggers for mime-support (3.60ubuntu1) ...\n",
            "Processing triggers for man-db (2.8.3-2ubuntu0.1) ...\n",
            "cp: '/usr/lib/chromium-browser/chromedriver' and '/usr/bin/chromedriver' are the same file\n"
          ],
          "name": "stdout"
        }
      ]
    },
    {
      "cell_type": "code",
      "metadata": {
        "id": "iQv0XsZKVsC7",
        "colab_type": "code",
        "colab": {}
      },
      "source": [
        "from selenium import webdriver\n",
        "from selenium.webdriver import ActionChains\n",
        "import re\n",
        "from time import sleep\n",
        "import json\n",
        "import os "
      ],
      "execution_count": 0,
      "outputs": []
    },
    {
      "cell_type": "code",
      "metadata": {
        "id": "Bjsf5D1tRKQR",
        "colab_type": "code",
        "outputId": "7a281a18-d264-45ac-977e-085eb0678cab",
        "colab": {
          "base_uri": "https://localhost:8080/",
          "height": 52
        }
      },
      "source": [
        "#browser = webdriver.Chrome('/home/alan/Documents/nb/pokemon/chromedriver')\n",
        "browser = webdriver.Chrome('chromedriver',chrome_options=chrome_options)"
      ],
      "execution_count": 0,
      "outputs": [
        {
          "output_type": "stream",
          "text": [
            "/usr/local/lib/python3.6/dist-packages/ipykernel_launcher.py:1: DeprecationWarning: use options instead of chrome_options\n",
            "  \"\"\"Entry point for launching an IPython kernel.\n"
          ],
          "name": "stderr"
        }
      ]
    },
    {
      "cell_type": "code",
      "metadata": {
        "id": "UezFRRebW2eR",
        "colab_type": "code",
        "colab": {}
      },
      "source": [
        "browser.get(\"https://replay.pokemonshowdown.com/\")"
      ],
      "execution_count": 0,
      "outputs": []
    },
    {
      "cell_type": "code",
      "metadata": {
        "id": "rvAre5dpVKU8",
        "colab_type": "code",
        "colab": {}
      },
      "source": [
        "formatbox = browser.find_element_by_xpath(\"/html/body/div[2]/div/form[2]/p/label/input\")"
      ],
      "execution_count": 0,
      "outputs": []
    },
    {
      "cell_type": "code",
      "metadata": {
        "id": "BdTMpFLKZhvZ",
        "colab_type": "code",
        "colab": {}
      },
      "source": [
        "formatbox.send_keys(\"gen8ou\")"
      ],
      "execution_count": 0,
      "outputs": []
    },
    {
      "cell_type": "code",
      "metadata": {
        "id": "LjWIyOzYZodg",
        "colab_type": "code",
        "colab": {}
      },
      "source": [
        "browser.find_element_by_xpath(\"/html/body/div[2]/div/form[2]/p/button\").click()"
      ],
      "execution_count": 0,
      "outputs": []
    },
    {
      "cell_type": "code",
      "metadata": {
        "id": "LO8OLuAfdNQP",
        "colab_type": "code",
        "colab": {}
      },
      "source": [
        "links = []\n",
        "l = 0;\n",
        "newl = len(browser.find_elements_by_xpath(\"/html/body/div[2]/div/ul[2]/li/a\"))\n",
        "while l < newl:\n",
        "  l = newl\n",
        "  try:\n",
        "    browser.find_element_by_xpath(\"/html/body/div[2]/div/p/button\").click()\n",
        "  except:\n",
        "    break\n",
        "  sleep(5)\n",
        "  newl = len(browser.find_elements_by_xpath(\"/html/body/div[2]/div/ul[2]/li/a\"))\n",
        "links = [x.get_attribute(\"href\") for x in browser.find_elements_by_xpath(\"/html/body/div[2]/div/ul[2]/li/a\")]"
      ],
      "execution_count": 0,
      "outputs": []
    },
    {
      "cell_type": "code",
      "metadata": {
        "id": "V86qj2LSdeQJ",
        "colab_type": "code",
        "outputId": "f237f67b-a2e0-4d47-e928-e5de4ed64f9d",
        "colab": {
          "base_uri": "https://localhost:8080/",
          "height": 34
        }
      },
      "source": [
        "len(links)"
      ],
      "execution_count": 0,
      "outputs": [
        {
          "output_type": "execute_result",
          "data": {
            "text/plain": [
              "1250"
            ]
          },
          "metadata": {
            "tags": []
          },
          "execution_count": 10
        }
      ]
    },
    {
      "cell_type": "code",
      "metadata": {
        "id": "pnsZOqUDe4g7",
        "colab_type": "code",
        "colab": {}
      },
      "source": [
        "replay_one = links[32]"
      ],
      "execution_count": 0,
      "outputs": []
    },
    {
      "cell_type": "code",
      "metadata": {
        "id": "Hhkofd5hf19y",
        "colab_type": "code",
        "colab": {}
      },
      "source": [
        "browser.get(replay_one)"
      ],
      "execution_count": 0,
      "outputs": []
    },
    {
      "cell_type": "code",
      "metadata": {
        "id": "dFQNJnL6jScv",
        "colab_type": "code",
        "colab": {}
      },
      "source": [
        "battleAnalyse()"
      ],
      "execution_count": 0,
      "outputs": []
    },
    {
      "cell_type": "code",
      "metadata": {
        "id": "2wAo8nq_PP4G",
        "colab_type": "code",
        "colab": {}
      },
      "source": [
        "def weather():\n",
        "  fweather = []\n",
        "  weather = [x.text for x in browser.find_elements_by_class_name(\"weather\")]\n",
        "  for w in weather:\n",
        "    if w != \"\":\n",
        "      fweather.append(w)\n",
        "  weather = fweather\n",
        "  del fweather\n",
        "  return weather"
      ],
      "execution_count": 0,
      "outputs": []
    },
    {
      "cell_type": "code",
      "metadata": {
        "id": "2tOZO1uvDFb6",
        "colab_type": "code",
        "colab": {}
      },
      "source": [
        "def analyse_state():\n",
        "  try:\n",
        "    status1 = browser.find_element_by_xpath(\"/html/body/div[1]/div[1]/div[1]/div[6]/div[2]/div/div[4]\").text\n",
        "    status2 = browser.find_element_by_xpath(\"/html/body/div[1]/div[1]/div[1]/div[6]/div[1]/div/div[4]\").text\n",
        "  except:\n",
        "    status2 = ''\n",
        "    status1 = ''\n",
        "  pokekeys1 = [i for i in range(6,12)]\n",
        "  pokekeys2 = [i for i in range(0,6)]\n",
        "  team1 = {}\n",
        "  for index in pokekeys1:\n",
        "    action = ActionChains(browser)\n",
        "    poke1 = browser.find_elements_by_class_name(\"has-tooltip\")\n",
        "    action.move_to_element(poke1[index]).perform()\n",
        "    tiptext = browser.find_element_by_class_name(\"tooltip\")\n",
        "    li = tiptext.text.split(\"\\n\")\n",
        "    team1[li[0]] = li[1:]\n",
        "  team2 = {}\n",
        "  for index in pokekeys2:\n",
        "    action = ActionChains(browser)\n",
        "    poke1 = browser.find_elements_by_class_name(\"has-tooltip\")\n",
        "    action.move_to_element(poke1[index]).perform()\n",
        "    tiptext = browser.find_element_by_class_name(\"tooltip\")\n",
        "    li = tiptext.text.split(\"\\n\")\n",
        "    team2[li[0]] = li[1:]\n",
        "  return {\n",
        "      \"weather\": weather(),\n",
        "      \"status1\": status1,\n",
        "      \"status2\": status2,\n",
        "      \"team1\": team1,\n",
        "      \"team2\": team2\n",
        "  }"
      ],
      "execution_count": 0,
      "outputs": []
    },
    {
      "cell_type": "code",
      "metadata": {
        "id": "vo2SpOOkSzAn",
        "colab_type": "code",
        "colab": {}
      },
      "source": [
        "def battleAnalyse():\n",
        "  browser.find_element_by_xpath(\"/html/body/div[2]/div/div[1]/a\").click()\n",
        "  sleep(1)\n",
        "  downloadlink = browser.find_element_by_xpath(\"/html/body/div[2]/div/div[1]/a\").get_attribute(\"download\")\n",
        "  sleep(1)\n",
        "  browser.get(\"file:///content/\"+downloadlink)\n",
        "  sleep(5)\n",
        "  turns = [x.text for x in browser.find_elements_by_class_name(\"battle-history\")]\n",
        "  clean_turns = { 0:[] }\n",
        "  max_turns = 0\n",
        "  for x in turns:\n",
        "    if x != \"\":\n",
        "      se = re.search(r\"^(Turn)\\s(\\d+)$\", x)\n",
        "      if se == None:\n",
        "        clean_turns[max_turns].append(x)\n",
        "      else:\n",
        "        max_turns = int(se.groups()[1])\n",
        "        clean_turns[max_turns] = []\n",
        "  flag = True\n",
        "  while flag:\n",
        "    try:      \n",
        "      browser.find_element_by_xpath(\"/html/body/div[1]/div[4]/div[3]/div/button[2]\").click()\n",
        "      browser.find_element_by_xpath(\"/html/body/div[1]/div[3]/button[1]\").click()\n",
        "      browser.find_element_by_xpath(\"/html/body/div[1]/div[3]/button[1]\").click()\n",
        "      flag = False\n",
        "    except:\n",
        "      browser.get(\"file:///content/\"+downloadlink)\n",
        "      sleep(5)  \n",
        "  analyse_state()\n",
        "  for x in range(max_turns+1):\n",
        "    browser.find_element_by_xpath(\"/html/body/div[1]/div[3]/button[4]\").click()\n",
        "    clean_turns[x].append(analyse_state())\n",
        "  json_object = json.dumps(clean_turns)\n",
        "  with open(\"/content/gdrive/My Drive/project stuff/battledata/\"+downloadlink[:-5]+\".json\", \"w\") as outfile: \n",
        "      outfile.write(json_object) \n",
        "  command = \"rm \"+downloadlink\n",
        "  os.system(command)"
      ],
      "execution_count": 0,
      "outputs": []
    },
    {
      "cell_type": "code",
      "metadata": {
        "id": "b4KmKz2XbQTr",
        "colab_type": "code",
        "outputId": "9461cf0e-a656-4bf3-e037-280e83172c04",
        "colab": {
          "base_uri": "https://localhost:8080/",
          "height": 747
        }
      },
      "source": [
        "browser = webdriver.Chrome('chromedriver',chrome_options=chrome_options)\n",
        "for replay_one in links[:100]:\n",
        "  try:\n",
        "    browser.get(replay_one)\n",
        "    battleAnalyse()\n",
        "  except:\n",
        "    browser = webdriver.Chrome('chromedriver',chrome_options=chrome_options)\n",
        "    print(replay_one)"
      ],
      "execution_count": 0,
      "outputs": [
        {
          "output_type": "stream",
          "text": [
            "/usr/local/lib/python3.6/dist-packages/ipykernel_launcher.py:1: DeprecationWarning: use options instead of chrome_options\n",
            "  \"\"\"Entry point for launching an IPython kernel.\n",
            "/usr/local/lib/python3.6/dist-packages/ipykernel_launcher.py:7: DeprecationWarning: use options instead of chrome_options\n",
            "  import sys\n"
          ],
          "name": "stderr"
        },
        {
          "output_type": "stream",
          "text": [
            "https://replay.pokemonshowdown.com/gen8ou-1092386261\n"
          ],
          "name": "stdout"
        },
        {
          "output_type": "stream",
          "text": [
            "/usr/local/lib/python3.6/dist-packages/ipykernel_launcher.py:7: DeprecationWarning: use options instead of chrome_options\n",
            "  import sys\n"
          ],
          "name": "stderr"
        },
        {
          "output_type": "stream",
          "text": [
            "https://replay.pokemonshowdown.com/gen8ou-1092382318\n"
          ],
          "name": "stdout"
        },
        {
          "output_type": "stream",
          "text": [
            "/usr/local/lib/python3.6/dist-packages/ipykernel_launcher.py:7: DeprecationWarning: use options instead of chrome_options\n",
            "  import sys\n"
          ],
          "name": "stderr"
        },
        {
          "output_type": "stream",
          "text": [
            "https://replay.pokemonshowdown.com/gen8ou-1092381311\n"
          ],
          "name": "stdout"
        },
        {
          "output_type": "stream",
          "text": [
            "/usr/local/lib/python3.6/dist-packages/ipykernel_launcher.py:7: DeprecationWarning: use options instead of chrome_options\n",
            "  import sys\n"
          ],
          "name": "stderr"
        },
        {
          "output_type": "error",
          "ename": "KeyboardInterrupt",
          "evalue": "ignored",
          "traceback": [
            "\u001b[0;31m---------------------------------------------------------------------------\u001b[0m",
            "\u001b[0;31mTypeError\u001b[0m                                 Traceback (most recent call last)",
            "\u001b[0;32m/usr/local/lib/python3.6/dist-packages/urllib3/connectionpool.py\u001b[0m in \u001b[0;36m_make_request\u001b[0;34m(self, conn, method, url, timeout, chunked, **httplib_request_kw)\u001b[0m\n\u001b[1;32m    376\u001b[0m             \u001b[0;32mtry\u001b[0m\u001b[0;34m:\u001b[0m  \u001b[0;31m# Python 2.7, use buffering of HTTP responses\u001b[0m\u001b[0;34m\u001b[0m\u001b[0;34m\u001b[0m\u001b[0m\n\u001b[0;32m--> 377\u001b[0;31m                 \u001b[0mhttplib_response\u001b[0m \u001b[0;34m=\u001b[0m \u001b[0mconn\u001b[0m\u001b[0;34m.\u001b[0m\u001b[0mgetresponse\u001b[0m\u001b[0;34m(\u001b[0m\u001b[0mbuffering\u001b[0m\u001b[0;34m=\u001b[0m\u001b[0;32mTrue\u001b[0m\u001b[0;34m)\u001b[0m\u001b[0;34m\u001b[0m\u001b[0;34m\u001b[0m\u001b[0m\n\u001b[0m\u001b[1;32m    378\u001b[0m             \u001b[0;32mexcept\u001b[0m \u001b[0mTypeError\u001b[0m\u001b[0;34m:\u001b[0m  \u001b[0;31m# Python 3\u001b[0m\u001b[0;34m\u001b[0m\u001b[0;34m\u001b[0m\u001b[0m\n",
            "\u001b[0;31mTypeError\u001b[0m: getresponse() got an unexpected keyword argument 'buffering'",
            "\nDuring handling of the above exception, another exception occurred:\n",
            "\u001b[0;31mKeyboardInterrupt\u001b[0m                         Traceback (most recent call last)",
            "\u001b[0;32m<ipython-input-14-0eb82c1fe3d8>\u001b[0m in \u001b[0;36m<module>\u001b[0;34m()\u001b[0m\n\u001b[1;32m      4\u001b[0m     \u001b[0mbrowser\u001b[0m\u001b[0;34m.\u001b[0m\u001b[0mget\u001b[0m\u001b[0;34m(\u001b[0m\u001b[0mreplay_one\u001b[0m\u001b[0;34m)\u001b[0m\u001b[0;34m\u001b[0m\u001b[0;34m\u001b[0m\u001b[0m\n\u001b[0;32m----> 5\u001b[0;31m     \u001b[0mbattleAnalyse\u001b[0m\u001b[0;34m(\u001b[0m\u001b[0;34m)\u001b[0m\u001b[0;34m\u001b[0m\u001b[0;34m\u001b[0m\u001b[0m\n\u001b[0m\u001b[1;32m      6\u001b[0m   \u001b[0;32mexcept\u001b[0m\u001b[0;34m:\u001b[0m\u001b[0;34m\u001b[0m\u001b[0;34m\u001b[0m\u001b[0m\n",
            "\u001b[0;32m<ipython-input-13-a3b60997e583>\u001b[0m in \u001b[0;36mbattleAnalyse\u001b[0;34m()\u001b[0m\n\u001b[1;32m     31\u001b[0m     \u001b[0mbrowser\u001b[0m\u001b[0;34m.\u001b[0m\u001b[0mfind_element_by_xpath\u001b[0m\u001b[0;34m(\u001b[0m\u001b[0;34m\"/html/body/div[1]/div[3]/button[4]\"\u001b[0m\u001b[0;34m)\u001b[0m\u001b[0;34m.\u001b[0m\u001b[0mclick\u001b[0m\u001b[0;34m(\u001b[0m\u001b[0;34m)\u001b[0m\u001b[0;34m\u001b[0m\u001b[0;34m\u001b[0m\u001b[0m\n\u001b[0;32m---> 32\u001b[0;31m     \u001b[0mclean_turns\u001b[0m\u001b[0;34m[\u001b[0m\u001b[0mx\u001b[0m\u001b[0;34m]\u001b[0m\u001b[0;34m.\u001b[0m\u001b[0mappend\u001b[0m\u001b[0;34m(\u001b[0m\u001b[0manalyse_state\u001b[0m\u001b[0;34m(\u001b[0m\u001b[0;34m)\u001b[0m\u001b[0;34m)\u001b[0m\u001b[0;34m\u001b[0m\u001b[0;34m\u001b[0m\u001b[0m\n\u001b[0m\u001b[1;32m     33\u001b[0m   \u001b[0mjson_object\u001b[0m \u001b[0;34m=\u001b[0m \u001b[0mjson\u001b[0m\u001b[0;34m.\u001b[0m\u001b[0mdumps\u001b[0m\u001b[0;34m(\u001b[0m\u001b[0mclean_turns\u001b[0m\u001b[0;34m)\u001b[0m\u001b[0;34m\u001b[0m\u001b[0;34m\u001b[0m\u001b[0m\n",
            "\u001b[0;32m<ipython-input-12-15be51b769d4>\u001b[0m in \u001b[0;36manalyse_state\u001b[0;34m()\u001b[0m\n\u001b[1;32m     21\u001b[0m     \u001b[0mpoke1\u001b[0m \u001b[0;34m=\u001b[0m \u001b[0mbrowser\u001b[0m\u001b[0;34m.\u001b[0m\u001b[0mfind_elements_by_class_name\u001b[0m\u001b[0;34m(\u001b[0m\u001b[0;34m\"has-tooltip\"\u001b[0m\u001b[0;34m)\u001b[0m\u001b[0;34m\u001b[0m\u001b[0;34m\u001b[0m\u001b[0m\n\u001b[0;32m---> 22\u001b[0;31m     \u001b[0maction\u001b[0m\u001b[0;34m.\u001b[0m\u001b[0mmove_to_element\u001b[0m\u001b[0;34m(\u001b[0m\u001b[0mpoke1\u001b[0m\u001b[0;34m[\u001b[0m\u001b[0mindex\u001b[0m\u001b[0;34m]\u001b[0m\u001b[0;34m)\u001b[0m\u001b[0;34m.\u001b[0m\u001b[0mperform\u001b[0m\u001b[0;34m(\u001b[0m\u001b[0;34m)\u001b[0m\u001b[0;34m\u001b[0m\u001b[0;34m\u001b[0m\u001b[0m\n\u001b[0m\u001b[1;32m     23\u001b[0m     \u001b[0mtiptext\u001b[0m \u001b[0;34m=\u001b[0m \u001b[0mbrowser\u001b[0m\u001b[0;34m.\u001b[0m\u001b[0mfind_element_by_class_name\u001b[0m\u001b[0;34m(\u001b[0m\u001b[0;34m\"tooltip\"\u001b[0m\u001b[0;34m)\u001b[0m\u001b[0;34m\u001b[0m\u001b[0;34m\u001b[0m\u001b[0m\n",
            "\u001b[0;32m/usr/local/lib/python3.6/dist-packages/selenium/webdriver/common/action_chains.py\u001b[0m in \u001b[0;36mperform\u001b[0;34m(self)\u001b[0m\n\u001b[1;32m     79\u001b[0m         \u001b[0;32mif\u001b[0m \u001b[0mself\u001b[0m\u001b[0;34m.\u001b[0m\u001b[0m_driver\u001b[0m\u001b[0;34m.\u001b[0m\u001b[0mw3c\u001b[0m\u001b[0;34m:\u001b[0m\u001b[0;34m\u001b[0m\u001b[0;34m\u001b[0m\u001b[0m\n\u001b[0;32m---> 80\u001b[0;31m             \u001b[0mself\u001b[0m\u001b[0;34m.\u001b[0m\u001b[0mw3c_actions\u001b[0m\u001b[0;34m.\u001b[0m\u001b[0mperform\u001b[0m\u001b[0;34m(\u001b[0m\u001b[0;34m)\u001b[0m\u001b[0;34m\u001b[0m\u001b[0;34m\u001b[0m\u001b[0m\n\u001b[0m\u001b[1;32m     81\u001b[0m         \u001b[0;32melse\u001b[0m\u001b[0;34m:\u001b[0m\u001b[0;34m\u001b[0m\u001b[0;34m\u001b[0m\u001b[0m\n",
            "\u001b[0;32m/usr/local/lib/python3.6/dist-packages/selenium/webdriver/common/actions/action_builder.py\u001b[0m in \u001b[0;36mperform\u001b[0;34m(self)\u001b[0m\n\u001b[1;32m     75\u001b[0m                 \u001b[0menc\u001b[0m\u001b[0;34m[\u001b[0m\u001b[0;34m\"actions\"\u001b[0m\u001b[0;34m]\u001b[0m\u001b[0;34m.\u001b[0m\u001b[0mappend\u001b[0m\u001b[0;34m(\u001b[0m\u001b[0mencoded\u001b[0m\u001b[0;34m)\u001b[0m\u001b[0;34m\u001b[0m\u001b[0;34m\u001b[0m\u001b[0m\n\u001b[0;32m---> 76\u001b[0;31m         \u001b[0mself\u001b[0m\u001b[0;34m.\u001b[0m\u001b[0mdriver\u001b[0m\u001b[0;34m.\u001b[0m\u001b[0mexecute\u001b[0m\u001b[0;34m(\u001b[0m\u001b[0mCommand\u001b[0m\u001b[0;34m.\u001b[0m\u001b[0mW3C_ACTIONS\u001b[0m\u001b[0;34m,\u001b[0m \u001b[0menc\u001b[0m\u001b[0;34m)\u001b[0m\u001b[0;34m\u001b[0m\u001b[0;34m\u001b[0m\u001b[0m\n\u001b[0m\u001b[1;32m     77\u001b[0m \u001b[0;34m\u001b[0m\u001b[0m\n",
            "\u001b[0;32m/usr/local/lib/python3.6/dist-packages/selenium/webdriver/remote/webdriver.py\u001b[0m in \u001b[0;36mexecute\u001b[0;34m(self, driver_command, params)\u001b[0m\n\u001b[1;32m    318\u001b[0m         \u001b[0mparams\u001b[0m \u001b[0;34m=\u001b[0m \u001b[0mself\u001b[0m\u001b[0;34m.\u001b[0m\u001b[0m_wrap_value\u001b[0m\u001b[0;34m(\u001b[0m\u001b[0mparams\u001b[0m\u001b[0;34m)\u001b[0m\u001b[0;34m\u001b[0m\u001b[0;34m\u001b[0m\u001b[0m\n\u001b[0;32m--> 319\u001b[0;31m         \u001b[0mresponse\u001b[0m \u001b[0;34m=\u001b[0m \u001b[0mself\u001b[0m\u001b[0;34m.\u001b[0m\u001b[0mcommand_executor\u001b[0m\u001b[0;34m.\u001b[0m\u001b[0mexecute\u001b[0m\u001b[0;34m(\u001b[0m\u001b[0mdriver_command\u001b[0m\u001b[0;34m,\u001b[0m \u001b[0mparams\u001b[0m\u001b[0;34m)\u001b[0m\u001b[0;34m\u001b[0m\u001b[0;34m\u001b[0m\u001b[0m\n\u001b[0m\u001b[1;32m    320\u001b[0m         \u001b[0;32mif\u001b[0m \u001b[0mresponse\u001b[0m\u001b[0;34m:\u001b[0m\u001b[0;34m\u001b[0m\u001b[0;34m\u001b[0m\u001b[0m\n",
            "\u001b[0;32m/usr/local/lib/python3.6/dist-packages/selenium/webdriver/remote/remote_connection.py\u001b[0m in \u001b[0;36mexecute\u001b[0;34m(self, command, params)\u001b[0m\n\u001b[1;32m    373\u001b[0m         \u001b[0murl\u001b[0m \u001b[0;34m=\u001b[0m \u001b[0;34m'%s%s'\u001b[0m \u001b[0;34m%\u001b[0m \u001b[0;34m(\u001b[0m\u001b[0mself\u001b[0m\u001b[0;34m.\u001b[0m\u001b[0m_url\u001b[0m\u001b[0;34m,\u001b[0m \u001b[0mpath\u001b[0m\u001b[0;34m)\u001b[0m\u001b[0;34m\u001b[0m\u001b[0;34m\u001b[0m\u001b[0m\n\u001b[0;32m--> 374\u001b[0;31m         \u001b[0;32mreturn\u001b[0m \u001b[0mself\u001b[0m\u001b[0;34m.\u001b[0m\u001b[0m_request\u001b[0m\u001b[0;34m(\u001b[0m\u001b[0mcommand_info\u001b[0m\u001b[0;34m[\u001b[0m\u001b[0;36m0\u001b[0m\u001b[0;34m]\u001b[0m\u001b[0;34m,\u001b[0m \u001b[0murl\u001b[0m\u001b[0;34m,\u001b[0m \u001b[0mbody\u001b[0m\u001b[0;34m=\u001b[0m\u001b[0mdata\u001b[0m\u001b[0;34m)\u001b[0m\u001b[0;34m\u001b[0m\u001b[0;34m\u001b[0m\u001b[0m\n\u001b[0m\u001b[1;32m    375\u001b[0m \u001b[0;34m\u001b[0m\u001b[0m\n",
            "\u001b[0;32m/usr/local/lib/python3.6/dist-packages/selenium/webdriver/remote/remote_connection.py\u001b[0m in \u001b[0;36m_request\u001b[0;34m(self, method, url, body)\u001b[0m\n\u001b[1;32m    396\u001b[0m         \u001b[0;32mif\u001b[0m \u001b[0mself\u001b[0m\u001b[0;34m.\u001b[0m\u001b[0mkeep_alive\u001b[0m\u001b[0;34m:\u001b[0m\u001b[0;34m\u001b[0m\u001b[0;34m\u001b[0m\u001b[0m\n\u001b[0;32m--> 397\u001b[0;31m             \u001b[0mresp\u001b[0m \u001b[0;34m=\u001b[0m \u001b[0mself\u001b[0m\u001b[0;34m.\u001b[0m\u001b[0m_conn\u001b[0m\u001b[0;34m.\u001b[0m\u001b[0mrequest\u001b[0m\u001b[0;34m(\u001b[0m\u001b[0mmethod\u001b[0m\u001b[0;34m,\u001b[0m \u001b[0murl\u001b[0m\u001b[0;34m,\u001b[0m \u001b[0mbody\u001b[0m\u001b[0;34m=\u001b[0m\u001b[0mbody\u001b[0m\u001b[0;34m,\u001b[0m \u001b[0mheaders\u001b[0m\u001b[0;34m=\u001b[0m\u001b[0mheaders\u001b[0m\u001b[0;34m)\u001b[0m\u001b[0;34m\u001b[0m\u001b[0;34m\u001b[0m\u001b[0m\n\u001b[0m\u001b[1;32m    398\u001b[0m \u001b[0;34m\u001b[0m\u001b[0m\n",
            "\u001b[0;32m/usr/local/lib/python3.6/dist-packages/urllib3/request.py\u001b[0m in \u001b[0;36mrequest\u001b[0;34m(self, method, url, fields, headers, **urlopen_kw)\u001b[0m\n\u001b[1;32m     71\u001b[0m                                             \u001b[0mheaders\u001b[0m\u001b[0;34m=\u001b[0m\u001b[0mheaders\u001b[0m\u001b[0;34m,\u001b[0m\u001b[0;34m\u001b[0m\u001b[0;34m\u001b[0m\u001b[0m\n\u001b[0;32m---> 72\u001b[0;31m                                             **urlopen_kw)\n\u001b[0m\u001b[1;32m     73\u001b[0m \u001b[0;34m\u001b[0m\u001b[0m\n",
            "\u001b[0;32m/usr/local/lib/python3.6/dist-packages/urllib3/request.py\u001b[0m in \u001b[0;36mrequest_encode_body\u001b[0;34m(self, method, url, fields, headers, encode_multipart, multipart_boundary, **urlopen_kw)\u001b[0m\n\u001b[1;32m    149\u001b[0m \u001b[0;34m\u001b[0m\u001b[0m\n\u001b[0;32m--> 150\u001b[0;31m         \u001b[0;32mreturn\u001b[0m \u001b[0mself\u001b[0m\u001b[0;34m.\u001b[0m\u001b[0murlopen\u001b[0m\u001b[0;34m(\u001b[0m\u001b[0mmethod\u001b[0m\u001b[0;34m,\u001b[0m \u001b[0murl\u001b[0m\u001b[0;34m,\u001b[0m \u001b[0;34m**\u001b[0m\u001b[0mextra_kw\u001b[0m\u001b[0;34m)\u001b[0m\u001b[0;34m\u001b[0m\u001b[0;34m\u001b[0m\u001b[0m\n\u001b[0m",
            "\u001b[0;32m/usr/local/lib/python3.6/dist-packages/urllib3/poolmanager.py\u001b[0m in \u001b[0;36murlopen\u001b[0;34m(self, method, url, redirect, **kw)\u001b[0m\n\u001b[1;32m    323\u001b[0m         \u001b[0;32melse\u001b[0m\u001b[0;34m:\u001b[0m\u001b[0;34m\u001b[0m\u001b[0;34m\u001b[0m\u001b[0m\n\u001b[0;32m--> 324\u001b[0;31m             \u001b[0mresponse\u001b[0m \u001b[0;34m=\u001b[0m \u001b[0mconn\u001b[0m\u001b[0;34m.\u001b[0m\u001b[0murlopen\u001b[0m\u001b[0;34m(\u001b[0m\u001b[0mmethod\u001b[0m\u001b[0;34m,\u001b[0m \u001b[0mu\u001b[0m\u001b[0;34m.\u001b[0m\u001b[0mrequest_uri\u001b[0m\u001b[0;34m,\u001b[0m \u001b[0;34m**\u001b[0m\u001b[0mkw\u001b[0m\u001b[0;34m)\u001b[0m\u001b[0;34m\u001b[0m\u001b[0;34m\u001b[0m\u001b[0m\n\u001b[0m\u001b[1;32m    325\u001b[0m \u001b[0;34m\u001b[0m\u001b[0m\n",
            "\u001b[0;32m/usr/local/lib/python3.6/dist-packages/urllib3/connectionpool.py\u001b[0m in \u001b[0;36murlopen\u001b[0;34m(self, method, url, body, headers, retries, redirect, assert_same_host, timeout, pool_timeout, release_conn, chunked, body_pos, **response_kw)\u001b[0m\n\u001b[1;32m    599\u001b[0m                                                   \u001b[0mbody\u001b[0m\u001b[0;34m=\u001b[0m\u001b[0mbody\u001b[0m\u001b[0;34m,\u001b[0m \u001b[0mheaders\u001b[0m\u001b[0;34m=\u001b[0m\u001b[0mheaders\u001b[0m\u001b[0;34m,\u001b[0m\u001b[0;34m\u001b[0m\u001b[0;34m\u001b[0m\u001b[0m\n\u001b[0;32m--> 600\u001b[0;31m                                                   chunked=chunked)\n\u001b[0m\u001b[1;32m    601\u001b[0m \u001b[0;34m\u001b[0m\u001b[0m\n",
            "\u001b[0;32m/usr/local/lib/python3.6/dist-packages/urllib3/connectionpool.py\u001b[0m in \u001b[0;36m_make_request\u001b[0;34m(self, conn, method, url, timeout, chunked, **httplib_request_kw)\u001b[0m\n\u001b[1;32m    379\u001b[0m                 \u001b[0;32mtry\u001b[0m\u001b[0;34m:\u001b[0m\u001b[0;34m\u001b[0m\u001b[0;34m\u001b[0m\u001b[0m\n\u001b[0;32m--> 380\u001b[0;31m                     \u001b[0mhttplib_response\u001b[0m \u001b[0;34m=\u001b[0m \u001b[0mconn\u001b[0m\u001b[0;34m.\u001b[0m\u001b[0mgetresponse\u001b[0m\u001b[0;34m(\u001b[0m\u001b[0;34m)\u001b[0m\u001b[0;34m\u001b[0m\u001b[0;34m\u001b[0m\u001b[0m\n\u001b[0m\u001b[1;32m    381\u001b[0m                 \u001b[0;32mexcept\u001b[0m \u001b[0mException\u001b[0m \u001b[0;32mas\u001b[0m \u001b[0me\u001b[0m\u001b[0;34m:\u001b[0m\u001b[0;34m\u001b[0m\u001b[0;34m\u001b[0m\u001b[0m\n",
            "\u001b[0;32m/usr/lib/python3.6/http/client.py\u001b[0m in \u001b[0;36mgetresponse\u001b[0;34m(self)\u001b[0m\n\u001b[1;32m   1345\u001b[0m             \u001b[0;32mtry\u001b[0m\u001b[0;34m:\u001b[0m\u001b[0;34m\u001b[0m\u001b[0;34m\u001b[0m\u001b[0m\n\u001b[0;32m-> 1346\u001b[0;31m                 \u001b[0mresponse\u001b[0m\u001b[0;34m.\u001b[0m\u001b[0mbegin\u001b[0m\u001b[0;34m(\u001b[0m\u001b[0;34m)\u001b[0m\u001b[0;34m\u001b[0m\u001b[0;34m\u001b[0m\u001b[0m\n\u001b[0m\u001b[1;32m   1347\u001b[0m             \u001b[0;32mexcept\u001b[0m \u001b[0mConnectionError\u001b[0m\u001b[0;34m:\u001b[0m\u001b[0;34m\u001b[0m\u001b[0;34m\u001b[0m\u001b[0m\n",
            "\u001b[0;32m/usr/lib/python3.6/http/client.py\u001b[0m in \u001b[0;36mbegin\u001b[0;34m(self)\u001b[0m\n\u001b[1;32m    306\u001b[0m         \u001b[0;32mwhile\u001b[0m \u001b[0;32mTrue\u001b[0m\u001b[0;34m:\u001b[0m\u001b[0;34m\u001b[0m\u001b[0;34m\u001b[0m\u001b[0m\n\u001b[0;32m--> 307\u001b[0;31m             \u001b[0mversion\u001b[0m\u001b[0;34m,\u001b[0m \u001b[0mstatus\u001b[0m\u001b[0;34m,\u001b[0m \u001b[0mreason\u001b[0m \u001b[0;34m=\u001b[0m \u001b[0mself\u001b[0m\u001b[0;34m.\u001b[0m\u001b[0m_read_status\u001b[0m\u001b[0;34m(\u001b[0m\u001b[0;34m)\u001b[0m\u001b[0;34m\u001b[0m\u001b[0;34m\u001b[0m\u001b[0m\n\u001b[0m\u001b[1;32m    308\u001b[0m             \u001b[0;32mif\u001b[0m \u001b[0mstatus\u001b[0m \u001b[0;34m!=\u001b[0m \u001b[0mCONTINUE\u001b[0m\u001b[0;34m:\u001b[0m\u001b[0;34m\u001b[0m\u001b[0;34m\u001b[0m\u001b[0m\n",
            "\u001b[0;32m/usr/lib/python3.6/http/client.py\u001b[0m in \u001b[0;36m_read_status\u001b[0;34m(self)\u001b[0m\n\u001b[1;32m    267\u001b[0m     \u001b[0;32mdef\u001b[0m \u001b[0m_read_status\u001b[0m\u001b[0;34m(\u001b[0m\u001b[0mself\u001b[0m\u001b[0;34m)\u001b[0m\u001b[0;34m:\u001b[0m\u001b[0;34m\u001b[0m\u001b[0;34m\u001b[0m\u001b[0m\n\u001b[0;32m--> 268\u001b[0;31m         \u001b[0mline\u001b[0m \u001b[0;34m=\u001b[0m \u001b[0mstr\u001b[0m\u001b[0;34m(\u001b[0m\u001b[0mself\u001b[0m\u001b[0;34m.\u001b[0m\u001b[0mfp\u001b[0m\u001b[0;34m.\u001b[0m\u001b[0mreadline\u001b[0m\u001b[0;34m(\u001b[0m\u001b[0m_MAXLINE\u001b[0m \u001b[0;34m+\u001b[0m \u001b[0;36m1\u001b[0m\u001b[0;34m)\u001b[0m\u001b[0;34m,\u001b[0m \u001b[0;34m\"iso-8859-1\"\u001b[0m\u001b[0;34m)\u001b[0m\u001b[0;34m\u001b[0m\u001b[0;34m\u001b[0m\u001b[0m\n\u001b[0m\u001b[1;32m    269\u001b[0m         \u001b[0;32mif\u001b[0m \u001b[0mlen\u001b[0m\u001b[0;34m(\u001b[0m\u001b[0mline\u001b[0m\u001b[0;34m)\u001b[0m \u001b[0;34m>\u001b[0m \u001b[0m_MAXLINE\u001b[0m\u001b[0;34m:\u001b[0m\u001b[0;34m\u001b[0m\u001b[0;34m\u001b[0m\u001b[0m\n",
            "\u001b[0;32m/usr/lib/python3.6/socket.py\u001b[0m in \u001b[0;36mreadinto\u001b[0;34m(self, b)\u001b[0m\n\u001b[1;32m    585\u001b[0m             \u001b[0;32mtry\u001b[0m\u001b[0;34m:\u001b[0m\u001b[0;34m\u001b[0m\u001b[0;34m\u001b[0m\u001b[0m\n\u001b[0;32m--> 586\u001b[0;31m                 \u001b[0;32mreturn\u001b[0m \u001b[0mself\u001b[0m\u001b[0;34m.\u001b[0m\u001b[0m_sock\u001b[0m\u001b[0;34m.\u001b[0m\u001b[0mrecv_into\u001b[0m\u001b[0;34m(\u001b[0m\u001b[0mb\u001b[0m\u001b[0;34m)\u001b[0m\u001b[0;34m\u001b[0m\u001b[0;34m\u001b[0m\u001b[0m\n\u001b[0m\u001b[1;32m    587\u001b[0m             \u001b[0;32mexcept\u001b[0m \u001b[0mtimeout\u001b[0m\u001b[0;34m:\u001b[0m\u001b[0;34m\u001b[0m\u001b[0;34m\u001b[0m\u001b[0m\n",
            "\u001b[0;31mKeyboardInterrupt\u001b[0m: ",
            "\nDuring handling of the above exception, another exception occurred:\n",
            "\u001b[0;31mKeyboardInterrupt\u001b[0m                         Traceback (most recent call last)",
            "\u001b[0;32m<ipython-input-14-0eb82c1fe3d8>\u001b[0m in \u001b[0;36m<module>\u001b[0;34m()\u001b[0m\n\u001b[1;32m      5\u001b[0m     \u001b[0mbattleAnalyse\u001b[0m\u001b[0;34m(\u001b[0m\u001b[0;34m)\u001b[0m\u001b[0;34m\u001b[0m\u001b[0;34m\u001b[0m\u001b[0m\n\u001b[1;32m      6\u001b[0m   \u001b[0;32mexcept\u001b[0m\u001b[0;34m:\u001b[0m\u001b[0;34m\u001b[0m\u001b[0;34m\u001b[0m\u001b[0m\n\u001b[0;32m----> 7\u001b[0;31m     \u001b[0mbrowser\u001b[0m \u001b[0;34m=\u001b[0m \u001b[0mwebdriver\u001b[0m\u001b[0;34m.\u001b[0m\u001b[0mChrome\u001b[0m\u001b[0;34m(\u001b[0m\u001b[0;34m'chromedriver'\u001b[0m\u001b[0;34m,\u001b[0m\u001b[0mchrome_options\u001b[0m\u001b[0;34m=\u001b[0m\u001b[0mchrome_options\u001b[0m\u001b[0;34m)\u001b[0m\u001b[0;34m\u001b[0m\u001b[0;34m\u001b[0m\u001b[0m\n\u001b[0m\u001b[1;32m      8\u001b[0m     \u001b[0mprint\u001b[0m\u001b[0;34m(\u001b[0m\u001b[0mreplay_one\u001b[0m\u001b[0;34m)\u001b[0m\u001b[0;34m\u001b[0m\u001b[0;34m\u001b[0m\u001b[0m\n",
            "\u001b[0;32m/usr/local/lib/python3.6/dist-packages/selenium/webdriver/chrome/webdriver.py\u001b[0m in \u001b[0;36m__init__\u001b[0;34m(self, executable_path, port, options, service_args, desired_capabilities, service_log_path, chrome_options, keep_alive)\u001b[0m\n\u001b[1;32m     71\u001b[0m             \u001b[0mservice_args\u001b[0m\u001b[0;34m=\u001b[0m\u001b[0mservice_args\u001b[0m\u001b[0;34m,\u001b[0m\u001b[0;34m\u001b[0m\u001b[0;34m\u001b[0m\u001b[0m\n\u001b[1;32m     72\u001b[0m             log_path=service_log_path)\n\u001b[0;32m---> 73\u001b[0;31m         \u001b[0mself\u001b[0m\u001b[0;34m.\u001b[0m\u001b[0mservice\u001b[0m\u001b[0;34m.\u001b[0m\u001b[0mstart\u001b[0m\u001b[0;34m(\u001b[0m\u001b[0;34m)\u001b[0m\u001b[0;34m\u001b[0m\u001b[0;34m\u001b[0m\u001b[0m\n\u001b[0m\u001b[1;32m     74\u001b[0m \u001b[0;34m\u001b[0m\u001b[0m\n\u001b[1;32m     75\u001b[0m         \u001b[0;32mtry\u001b[0m\u001b[0;34m:\u001b[0m\u001b[0;34m\u001b[0m\u001b[0;34m\u001b[0m\u001b[0m\n",
            "\u001b[0;32m/usr/local/lib/python3.6/dist-packages/selenium/webdriver/common/service.py\u001b[0m in \u001b[0;36mstart\u001b[0;34m(self)\u001b[0m\n\u001b[1;32m    100\u001b[0m                 \u001b[0;32mbreak\u001b[0m\u001b[0;34m\u001b[0m\u001b[0;34m\u001b[0m\u001b[0m\n\u001b[1;32m    101\u001b[0m             \u001b[0mcount\u001b[0m \u001b[0;34m+=\u001b[0m \u001b[0;36m1\u001b[0m\u001b[0;34m\u001b[0m\u001b[0;34m\u001b[0m\u001b[0m\n\u001b[0;32m--> 102\u001b[0;31m             \u001b[0mtime\u001b[0m\u001b[0;34m.\u001b[0m\u001b[0msleep\u001b[0m\u001b[0;34m(\u001b[0m\u001b[0;36m1\u001b[0m\u001b[0;34m)\u001b[0m\u001b[0;34m\u001b[0m\u001b[0;34m\u001b[0m\u001b[0m\n\u001b[0m\u001b[1;32m    103\u001b[0m             \u001b[0;32mif\u001b[0m \u001b[0mcount\u001b[0m \u001b[0;34m==\u001b[0m \u001b[0;36m30\u001b[0m\u001b[0;34m:\u001b[0m\u001b[0;34m\u001b[0m\u001b[0;34m\u001b[0m\u001b[0m\n\u001b[1;32m    104\u001b[0m                 \u001b[0;32mraise\u001b[0m \u001b[0mWebDriverException\u001b[0m\u001b[0;34m(\u001b[0m\u001b[0;34m\"Can not connect to the Service %s\"\u001b[0m \u001b[0;34m%\u001b[0m \u001b[0mself\u001b[0m\u001b[0;34m.\u001b[0m\u001b[0mpath\u001b[0m\u001b[0;34m)\u001b[0m\u001b[0;34m\u001b[0m\u001b[0;34m\u001b[0m\u001b[0m\n",
            "\u001b[0;31mKeyboardInterrupt\u001b[0m: "
          ]
        }
      ]
    },
    {
      "cell_type": "code",
      "metadata": {
        "id": "byFpgC9IeQb3",
        "colab_type": "code",
        "colab": {}
      },
      "source": [
        "!rm Gen*"
      ],
      "execution_count": 0,
      "outputs": []
    },
    {
      "cell_type": "markdown",
      "metadata": {
        "id": "sAYf-MYvBn4i",
        "colab_type": "text"
      },
      "source": [
        "# Preparing the data"
      ]
    },
    {
      "cell_type": "code",
      "metadata": {
        "id": "Ymjq7KAj5Lsv",
        "colab_type": "code",
        "colab": {}
      },
      "source": [
        "!ls /content/gdrive/My\\ Drive/project\\ stuff/battledata > battles.txt"
      ],
      "execution_count": 0,
      "outputs": []
    },
    {
      "cell_type": "code",
      "metadata": {
        "id": "nkvrj1a3B6w0",
        "colab_type": "code",
        "colab": {}
      },
      "source": [
        "import json\n",
        "with open(\"battles.txt\" , \"r\") as f:\n",
        "  x = f.read()\n",
        "  battledir = x.split()\n",
        "  battledir = [ \"/content/gdrive/My Drive/project stuff/battledata/\" + item for item in battledir]\n",
        "  battlefiles = []\n",
        "  for item in battledir:\n",
        "    with open(item,\"r\") as js:\n",
        "      battlefiles.append(json.load(js))\n",
        "battlefiles[0]"
      ],
      "execution_count": 0,
      "outputs": []
    },
    {
      "cell_type": "code",
      "metadata": {
        "id": "Vx_ZVHw0iWUY",
        "colab_type": "code",
        "colab": {}
      },
      "source": [
        "import re\n",
        "def extract_poke(key,detail):\n",
        "  poke = {}\n",
        "  poke[\"name\"] = key \n",
        "  move_count = 1\n",
        "  for line in detail:\n",
        "    ability = r\"(Ability:).(\\w+.?\\w*)\"\n",
        "    sa = re.search(ability,line)\n",
        "    item = r\"(Item:).(\\w+.?\\w*)\"\n",
        "    si = re.search(item , line)\n",
        "    move = r\"•.(\\w+.?\\w*)\"\n",
        "    possible = r\"Possible abilities:.(\\w+.?\\w*)(\\,)?\"\n",
        "    sm = re.search(move,line)\n",
        "    sp = re.search(possible,line)\n",
        "    if sa != None:\n",
        "      poke[\"ability\"] = sa.groups()[1]\n",
        "    elif si != None:\n",
        "      poke[\"item\"] = si.groups()[1]\n",
        "    elif sm != None:\n",
        "      poke[\"move\"+str(move_count)] = sm.groups()[0]\n",
        "      move_count = move_count+1\n",
        "    elif sp != None:\n",
        "      if sp.groups()[1] == \"\":\n",
        "        poke[\"ability\"] = sp.groups()[0]\n",
        "  return(poke)\n",
        "def get_team(index):\n",
        "  team1 = battlefiles[index][list(dict.keys(battlefiles[index]))[-1]][-1][\"team1\"]\n",
        "  team2 = battlefiles[index][list(dict.keys(battlefiles[index]))[-1]][-1][\"team2\"]\n",
        "  for key in list(dict.keys(team1)):\n",
        "    yield extract_poke(key,team1[key])\n",
        "  for key in list(dict.keys(team2)):\n",
        "    yield extract_poke(key,team2[key])\n",
        "\n",
        "pokelist = []\n",
        "for index in range(len(battlefiles)):\n",
        "  for x in get_team(index):\n",
        "    pokelist.append(x)\n"
      ],
      "execution_count": 0,
      "outputs": []
    },
    {
      "cell_type": "code",
      "metadata": {
        "id": "Q62j85RGqdcg",
        "colab_type": "code",
        "colab": {}
      },
      "source": [
        "MetaPokemon  = pd.DataFrame(pokelist)"
      ],
      "execution_count": 0,
      "outputs": []
    },
    {
      "cell_type": "code",
      "metadata": {
        "id": "fuCUjxcTrEAT",
        "colab_type": "code",
        "colab": {
          "base_uri": "https://localhost:8080/",
          "height": 424
        },
        "outputId": "0dd6e486-77d9-4089-f6b9-154d7faf71a0"
      },
      "source": [
        "def nameclean(x):\n",
        "  sm = re.search(r\"(\\()(\\w+.?\\w*)(\\))\" , x) \n",
        "  if sm != None:\n",
        "    return sm.groups()[1].lower()\n",
        "  else:\n",
        "    return x.lower()\n",
        "MetaPokemon[\"name\"] = MetaPokemon[\"name\"].apply(nameclean)\n",
        "MetaPokemon"
      ],
      "execution_count": 153,
      "outputs": [
        {
          "output_type": "execute_result",
          "data": {
            "text/html": [
              "<div>\n",
              "<style scoped>\n",
              "    .dataframe tbody tr th:only-of-type {\n",
              "        vertical-align: middle;\n",
              "    }\n",
              "\n",
              "    .dataframe tbody tr th {\n",
              "        vertical-align: top;\n",
              "    }\n",
              "\n",
              "    .dataframe thead th {\n",
              "        text-align: right;\n",
              "    }\n",
              "</style>\n",
              "<table border=\"1\" class=\"dataframe\">\n",
              "  <thead>\n",
              "    <tr style=\"text-align: right;\">\n",
              "      <th></th>\n",
              "      <th>name</th>\n",
              "      <th>ability</th>\n",
              "      <th>move1</th>\n",
              "      <th>item</th>\n",
              "      <th>move2</th>\n",
              "      <th>move3</th>\n",
              "      <th>move4</th>\n",
              "    </tr>\n",
              "  </thead>\n",
              "  <tbody>\n",
              "    <tr>\n",
              "      <th>0</th>\n",
              "      <td>tyranitar</td>\n",
              "      <td>Sand Stream</td>\n",
              "      <td>Stone Edge</td>\n",
              "      <td>NaN</td>\n",
              "      <td>NaN</td>\n",
              "      <td>NaN</td>\n",
              "      <td>NaN</td>\n",
              "    </tr>\n",
              "    <tr>\n",
              "      <th>1</th>\n",
              "      <td>incineroar</td>\n",
              "      <td>Intimidate</td>\n",
              "      <td>Flare Blitz</td>\n",
              "      <td>NaN</td>\n",
              "      <td>NaN</td>\n",
              "      <td>NaN</td>\n",
              "      <td>NaN</td>\n",
              "    </tr>\n",
              "    <tr>\n",
              "      <th>2</th>\n",
              "      <td>rotom-wash</td>\n",
              "      <td>NaN</td>\n",
              "      <td>Thunder Wave</td>\n",
              "      <td>Leftovers</td>\n",
              "      <td>Hydro Pump</td>\n",
              "      <td>NaN</td>\n",
              "      <td>NaN</td>\n",
              "    </tr>\n",
              "    <tr>\n",
              "      <th>3</th>\n",
              "      <td>sylveon</td>\n",
              "      <td>NaN</td>\n",
              "      <td>Wish</td>\n",
              "      <td>Leftovers</td>\n",
              "      <td>NaN</td>\n",
              "      <td>NaN</td>\n",
              "      <td>NaN</td>\n",
              "    </tr>\n",
              "    <tr>\n",
              "      <th>4</th>\n",
              "      <td>dragapult</td>\n",
              "      <td>NaN</td>\n",
              "      <td>Hex</td>\n",
              "      <td>NaN</td>\n",
              "      <td>NaN</td>\n",
              "      <td>NaN</td>\n",
              "      <td>NaN</td>\n",
              "    </tr>\n",
              "    <tr>\n",
              "      <th>...</th>\n",
              "      <td>...</td>\n",
              "      <td>...</td>\n",
              "      <td>...</td>\n",
              "      <td>...</td>\n",
              "      <td>...</td>\n",
              "      <td>...</td>\n",
              "      <td>...</td>\n",
              "    </tr>\n",
              "    <tr>\n",
              "      <th>3007</th>\n",
              "      <td>golisopod</td>\n",
              "      <td>Emergency Exit</td>\n",
              "      <td>First Impression</td>\n",
              "      <td>None</td>\n",
              "      <td>Liquidation</td>\n",
              "      <td>NaN</td>\n",
              "      <td>NaN</td>\n",
              "    </tr>\n",
              "    <tr>\n",
              "      <th>3008</th>\n",
              "      <td>salazzle</td>\n",
              "      <td>NaN</td>\n",
              "      <td>NaN</td>\n",
              "      <td>NaN</td>\n",
              "      <td>NaN</td>\n",
              "      <td>NaN</td>\n",
              "      <td>NaN</td>\n",
              "    </tr>\n",
              "    <tr>\n",
              "      <th>3009</th>\n",
              "      <td>cinccino</td>\n",
              "      <td>NaN</td>\n",
              "      <td>Knock Off</td>\n",
              "      <td>NaN</td>\n",
              "      <td>NaN</td>\n",
              "      <td>NaN</td>\n",
              "      <td>NaN</td>\n",
              "    </tr>\n",
              "    <tr>\n",
              "      <th>3010</th>\n",
              "      <td>malamar</td>\n",
              "      <td>NaN</td>\n",
              "      <td>Superpower</td>\n",
              "      <td>NaN</td>\n",
              "      <td>NaN</td>\n",
              "      <td>NaN</td>\n",
              "      <td>NaN</td>\n",
              "    </tr>\n",
              "    <tr>\n",
              "      <th>3011</th>\n",
              "      <td>wishiwashi</td>\n",
              "      <td>Schooling</td>\n",
              "      <td>Ice Beam</td>\n",
              "      <td>Leftovers</td>\n",
              "      <td>Scald</td>\n",
              "      <td>NaN</td>\n",
              "      <td>NaN</td>\n",
              "    </tr>\n",
              "  </tbody>\n",
              "</table>\n",
              "<p>3012 rows × 7 columns</p>\n",
              "</div>"
            ],
            "text/plain": [
              "            name         ability             move1  ...         move2 move3 move4\n",
              "0      tyranitar     Sand Stream        Stone Edge  ...           NaN   NaN   NaN\n",
              "1     incineroar      Intimidate       Flare Blitz  ...           NaN   NaN   NaN\n",
              "2     rotom-wash             NaN      Thunder Wave  ...    Hydro Pump   NaN   NaN\n",
              "3        sylveon             NaN             Wish   ...           NaN   NaN   NaN\n",
              "4      dragapult             NaN              Hex   ...           NaN   NaN   NaN\n",
              "...          ...             ...               ...  ...           ...   ...   ...\n",
              "3007   golisopod  Emergency Exit  First Impression  ...  Liquidation    NaN   NaN\n",
              "3008    salazzle             NaN               NaN  ...           NaN   NaN   NaN\n",
              "3009    cinccino             NaN         Knock Off  ...           NaN   NaN   NaN\n",
              "3010     malamar             NaN       Superpower   ...           NaN   NaN   NaN\n",
              "3011  wishiwashi       Schooling          Ice Beam  ...        Scald    NaN   NaN\n",
              "\n",
              "[3012 rows x 7 columns]"
            ]
          },
          "metadata": {
            "tags": []
          },
          "execution_count": 153
        }
      ]
    },
    {
      "cell_type": "code",
      "metadata": {
        "id": "jDZT8i6SB-Nk",
        "colab_type": "code",
        "colab": {}
      },
      "source": [
        "df = pd.read_csv(\"dexdata.csv\")"
      ],
      "execution_count": 0,
      "outputs": []
    },
    {
      "cell_type": "code",
      "metadata": {
        "id": "_XmeTXwwRR5q",
        "colab_type": "code",
        "outputId": "0f87e691-e839-4085-902a-fe95d12dcb1b",
        "colab": {
          "base_uri": "https://localhost:8080/",
          "height": 260
        }
      },
      "source": [
        "print(df[\"stat_table\"][0])"
      ],
      "execution_count": 91,
      "outputs": [
        {
          "output_type": "stream",
          "text": [
            "min− min max max+\n",
            "HP: 100\n",
            "341 404\n",
            "Attack: 50\n",
            "94 136 199 218\n",
            "Defense: 80\n",
            "148 196 259 284\n",
            "Sp. Atk: 60\n",
            "112 156 219 240\n",
            "Sp. Def: 80\n",
            "148 196 259 284\n",
            "Speed: 50\n",
            "94 136 199 218\n",
            "Total: 420 at level\n"
          ],
          "name": "stdout"
        }
      ]
    },
    {
      "cell_type": "code",
      "metadata": {
        "id": "Zo0V31WvRS2N",
        "colab_type": "code",
        "colab": {}
      },
      "source": [
        "def flatten_dict(dd, separator ='_', prefix =''): \n",
        "    return { prefix + separator + k if prefix else k : v \n",
        "             for kk, vv in dd.items() \n",
        "             for k, v in flatten_dict(vv, separator, kk).items() \n",
        "             } if isinstance(dd, dict) else { prefix : dd } \n",
        "\n",
        "def split_stat(x):\n",
        "  stat = {}\n",
        "  l = x.split(\"\\n\")[1:]\n",
        "  header =  True\n",
        "  name = \"\"\n",
        "  for i in l[:-1]:\n",
        "    if header:\n",
        "      header = False\n",
        "      name = i.split(\":\")[0]\n",
        "      base = int(i.split(\":\")[1])\n",
        "      stat[name] = {}\n",
        "      stat[name][\"base\"] = base \n",
        "    else:\n",
        "      header = True\n",
        "      if len(i.split()) == 2:\n",
        "        stat[name][\"min\"] = int(i.split()[0])\n",
        "        stat[name][\"max\"] = int(i.split()[1])\n",
        "      else:\n",
        "        stat[name][\"min-\"] = int(i.split()[0])\n",
        "        stat[name][\"min\"] = int(i.split()[1])\n",
        "        stat[name][\"max\"] = int(i.split()[2])\n",
        "        stat[name][\"max+\"] = int(i.split()[3])\n",
        "  stat[\"Total\"] = int(l[-1].split()[1])\n",
        "  return flatten_dict(stat)\n",
        "sample = split_stat(df[\"stat_table\"][0])"
      ],
      "execution_count": 0,
      "outputs": []
    },
    {
      "cell_type": "code",
      "metadata": {
        "id": "yPkqYbsTSTHr",
        "colab_type": "code",
        "colab": {}
      },
      "source": [
        "for key in a:\n",
        "  df[key] = [x[key] for x in df[\"stat_table\"].apply(split_stat)]"
      ],
      "execution_count": 0,
      "outputs": []
    },
    {
      "cell_type": "code",
      "metadata": {
        "id": "0lSB4RQvcf7Y",
        "colab_type": "code",
        "colab": {}
      },
      "source": [
        "del df[\"Unnamed: 0\"]\n",
        "del df[\"stat_table\"]"
      ],
      "execution_count": 0,
      "outputs": []
    },
    {
      "cell_type": "code",
      "metadata": {
        "id": "JEF5HGE6cg_Z",
        "colab_type": "code",
        "colab": {}
      },
      "source": [
        "dexdata = df\n",
        "del df"
      ],
      "execution_count": 0,
      "outputs": []
    },
    {
      "cell_type": "code",
      "metadata": {
        "id": "d0odcC17dqfj",
        "colab_type": "code",
        "colab": {}
      },
      "source": [
        "dexdata.to_csv(\"/content/gdrive/My Drive/project stuff/dexdata.csv\")\n",
        "MetaPokemon.to_csv(\"/content/gdrive/My Drive/project stuff/meta.csv\")"
      ],
      "execution_count": 0,
      "outputs": []
    },
    {
      "cell_type": "code",
      "metadata": {
        "id": "HjmSrQETvA9-",
        "colab_type": "code",
        "colab": {}
      },
      "source": [
        ""
      ],
      "execution_count": 0,
      "outputs": []
    }
  ]
}